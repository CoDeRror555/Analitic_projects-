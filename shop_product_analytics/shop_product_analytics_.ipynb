{
  "cells": [
    {
      "cell_type": "markdown",
      "metadata": {
        "id": "view-in-github",
        "colab_type": "text"
      },
      "source": [
        "<a href=\"https://colab.research.google.com/github/CoDeRror555/Analytic_projects/blob/main/shop_product_analytics/shop_product_analytics_.ipynb\" target=\"_parent\"><img src=\"https://colab.research.google.com/assets/colab-badge.svg\" alt=\"Open In Colab\"/></a>"
      ]
    },
    {
      "cell_type": "markdown",
      "metadata": {
        "cell_style": "center",
        "hide_input": true,
        "id": "lRuSdi5ysBd3"
      },
      "source": [
        "# Анализ результатов А/В тестирования интернет-магазина. Приоритизация гипотез увеличения выручки"
      ]
    },
    {
      "cell_type": "markdown",
      "metadata": {
        "id": "vmLzKf9bt2R0"
      },
      "source": [
        "# Основные цели:\n",
        "* **Провести анализ результатов A/B тестирования**\n",
        "* **Принять решение о дальнейших действиях на основе результатов**\n",
        "* **Провести приоритизацию гипотез увелечения выручки посредствам фреймворков ICE и RICE**\n",
        " ## Решённые задачи:\n",
        " - [x] **Проведена приоритизация гипотез методами ICE и RICE**\n",
        " - [x] **Проверены гипотезы о наличии статистически значимых различий\n",
        "  в показателях конверсии и среднего чека между группами теста при помощи критерия Манна - Уитни**\n",
        " - [x] **Подведен итог и даны рекомендации**\n",
        "### Используемые инструменты:\n",
        "   * *python, numpy, pandas, matplotlib, scipy*\n",
        "* **"
      ]
    },
    {
      "cell_type": "code",
      "execution_count": 1,
      "metadata": {
        "ExecuteTime": {
          "end_time": "2023-06-10T15:21:44.224422Z",
          "start_time": "2023-06-10T15:21:41.939910Z"
        },
        "code_folding": [],
        "id": "2eTINWaLN-ok"
      },
      "outputs": [],
      "source": [
        "# работа с таблицами\n",
        "import numpy as np\n",
        "import pandas as pd\n",
        "import seaborn as sns\n",
        "import matplotlib.pyplot as plt\n",
        "import datetime as dt\n",
        "\n",
        "\n",
        "# статистика\n",
        "from scipy import stats as stats\n",
        "import warnings\n",
        "warnings.filterwarnings('ignore')\n",
        "warnings.simplefilter('ignore')"
      ]
    },
    {
      "cell_type": "code",
      "execution_count": 2,
      "metadata": {
        "ExecuteTime": {
          "end_time": "2023-06-10T15:21:47.726272Z",
          "start_time": "2023-06-10T15:21:44.226423Z"
        },
        "id": "W7DgcLhjOYWd"
      },
      "outputs": [],
      "source": [
        "# загрузим данные\n",
        "# global case\n",
        "hypotises = pd.read_csv('https://getfile.dokpub.com/yandex/get/https://disk.yandex.ru/d/uBKPAZXR0aZuJg',index_col=0)\n",
        "orders = pd.read_csv('https://getfile.dokpub.com/yandex/get/https://disk.yandex.ru/d/tBefuoK6eFnmIQ',index_col=0)\n",
        "visitors = pd.read_csv('https://getfile.dokpub.com/yandex/get/https://disk.yandex.ru/d/ip7ypnSQWaktwA',index_col=0)\n"
      ]
    },
    {
      "cell_type": "code",
      "execution_count": 3,
      "metadata": {
        "ExecuteTime": {
          "end_time": "2023-06-10T15:21:47.742277Z",
          "start_time": "2023-06-10T15:21:47.727282Z"
        },
        "id": "iOing33aKXLB"
      },
      "outputs": [],
      "source": [
        "# функция для получения иныфо о данных\n",
        "def df_info(df:pd.DataFrame) -> None:\n",
        "    '''Распечатывает информацию о датафрейме'''\n",
        "    print(f\"Количество полных дубликатов: {df.duplicated().sum()}\")\n",
        "    print('****************')\n",
        "\n",
        "    # Выводим инфо\n",
        "    df.info()\n",
        "\n",
        "\n",
        "    # Сохраняем пропуски\n",
        "    df_nans = np.trim_zeros(df.isna().mean().sort_values())\n",
        "\n",
        "    if len(df_nans > 0):\n",
        "        print('\\nNA:',end='')\n",
        "        display(df_nans)\n",
        "\n",
        "    # Пример данных\n",
        "    display(df.dropna().sample().T)\n",
        "\n",
        "    for col in df.columns:\n",
        "        if df[col].nunique() < 20:\n",
        "            display(df[col].value_counts())"
      ]
    },
    {
      "cell_type": "markdown",
      "metadata": {
        "id": "nB-g7KIUzi1j"
      },
      "source": [
        "# Приоритизация гипотез"
      ]
    },
    {
      "cell_type": "code",
      "execution_count": 4,
      "metadata": {
        "ExecuteTime": {
          "end_time": "2023-06-10T15:21:47.774286Z",
          "start_time": "2023-06-10T15:21:47.744277Z"
        },
        "colab": {
          "base_uri": "https://localhost:8080/",
          "height": 363
        },
        "id": "ABmev4bLR_gU",
        "outputId": "2437a211-f805-471e-8abe-80bf783b2895"
      },
      "outputs": [
        {
          "output_type": "display_data",
          "data": {
            "text/plain": [
              "                                                    Reach  Impact  Confidence  \\\n",
              "Hypothesis                                                                      \n",
              "Добавить два новых канала привлечения трафика, ...      3      10           8   \n",
              "Запустить собственную службу доставки, что сокр...      2       5           4   \n",
              "Добавить блоки рекомендаций товаров на сайт инт...      8       3           7   \n",
              "Изменить структура категорий, что увеличит конв...      8       3           3   \n",
              "Изменить цвет фона главной страницы, чтобы увел...      3       1           1   \n",
              "Добавить страницу отзывов клиентов о магазине, ...      3       2           2   \n",
              "Показать на главной странице баннеры с актуальн...      5       3           8   \n",
              "Добавить форму подписки на все основные страниц...     10       7           8   \n",
              "Запустить акцию, дающую скидку на товар в день ...      1       9           9   \n",
              "\n",
              "                                                    Efforts  \n",
              "Hypothesis                                                   \n",
              "Добавить два новых канала привлечения трафика, ...        6  \n",
              "Запустить собственную службу доставки, что сокр...       10  \n",
              "Добавить блоки рекомендаций товаров на сайт инт...        3  \n",
              "Изменить структура категорий, что увеличит конв...        8  \n",
              "Изменить цвет фона главной страницы, чтобы увел...        1  \n",
              "Добавить страницу отзывов клиентов о магазине, ...        3  \n",
              "Показать на главной странице баннеры с актуальн...        3  \n",
              "Добавить форму подписки на все основные страниц...        5  \n",
              "Запустить акцию, дающую скидку на товар в день ...        5  "
            ],
            "text/html": [
              "\n",
              "  <div id=\"df-b479e9d1-7b92-4fd5-b1b4-231378edfcc3\">\n",
              "    <div class=\"colab-df-container\">\n",
              "      <div>\n",
              "<style scoped>\n",
              "    .dataframe tbody tr th:only-of-type {\n",
              "        vertical-align: middle;\n",
              "    }\n",
              "\n",
              "    .dataframe tbody tr th {\n",
              "        vertical-align: top;\n",
              "    }\n",
              "\n",
              "    .dataframe thead th {\n",
              "        text-align: right;\n",
              "    }\n",
              "</style>\n",
              "<table border=\"1\" class=\"dataframe\">\n",
              "  <thead>\n",
              "    <tr style=\"text-align: right;\">\n",
              "      <th></th>\n",
              "      <th>Reach</th>\n",
              "      <th>Impact</th>\n",
              "      <th>Confidence</th>\n",
              "      <th>Efforts</th>\n",
              "    </tr>\n",
              "    <tr>\n",
              "      <th>Hypothesis</th>\n",
              "      <th></th>\n",
              "      <th></th>\n",
              "      <th></th>\n",
              "      <th></th>\n",
              "    </tr>\n",
              "  </thead>\n",
              "  <tbody>\n",
              "    <tr>\n",
              "      <th>Добавить два новых канала привлечения трафика, что позволит привлекать на 30% больше пользователей</th>\n",
              "      <td>3</td>\n",
              "      <td>10</td>\n",
              "      <td>8</td>\n",
              "      <td>6</td>\n",
              "    </tr>\n",
              "    <tr>\n",
              "      <th>Запустить собственную службу доставки, что сократит срок доставки заказов</th>\n",
              "      <td>2</td>\n",
              "      <td>5</td>\n",
              "      <td>4</td>\n",
              "      <td>10</td>\n",
              "    </tr>\n",
              "    <tr>\n",
              "      <th>Добавить блоки рекомендаций товаров на сайт интернет магазина, чтобы повысить конверсию и средний чек заказа</th>\n",
              "      <td>8</td>\n",
              "      <td>3</td>\n",
              "      <td>7</td>\n",
              "      <td>3</td>\n",
              "    </tr>\n",
              "    <tr>\n",
              "      <th>Изменить структура категорий, что увеличит конверсию, т.к. пользователи быстрее найдут нужный товар</th>\n",
              "      <td>8</td>\n",
              "      <td>3</td>\n",
              "      <td>3</td>\n",
              "      <td>8</td>\n",
              "    </tr>\n",
              "    <tr>\n",
              "      <th>Изменить цвет фона главной страницы, чтобы увеличить вовлеченность пользователей</th>\n",
              "      <td>3</td>\n",
              "      <td>1</td>\n",
              "      <td>1</td>\n",
              "      <td>1</td>\n",
              "    </tr>\n",
              "    <tr>\n",
              "      <th>Добавить страницу отзывов клиентов о магазине, что позволит увеличить количество заказов</th>\n",
              "      <td>3</td>\n",
              "      <td>2</td>\n",
              "      <td>2</td>\n",
              "      <td>3</td>\n",
              "    </tr>\n",
              "    <tr>\n",
              "      <th>Показать на главной странице баннеры с актуальными акциями и распродажами, чтобы увеличить конверсию</th>\n",
              "      <td>5</td>\n",
              "      <td>3</td>\n",
              "      <td>8</td>\n",
              "      <td>3</td>\n",
              "    </tr>\n",
              "    <tr>\n",
              "      <th>Добавить форму подписки на все основные страницы, чтобы собрать базу клиентов для email-рассылок</th>\n",
              "      <td>10</td>\n",
              "      <td>7</td>\n",
              "      <td>8</td>\n",
              "      <td>5</td>\n",
              "    </tr>\n",
              "    <tr>\n",
              "      <th>Запустить акцию, дающую скидку на товар в день рождения</th>\n",
              "      <td>1</td>\n",
              "      <td>9</td>\n",
              "      <td>9</td>\n",
              "      <td>5</td>\n",
              "    </tr>\n",
              "  </tbody>\n",
              "</table>\n",
              "</div>\n",
              "      <button class=\"colab-df-convert\" onclick=\"convertToInteractive('df-b479e9d1-7b92-4fd5-b1b4-231378edfcc3')\"\n",
              "              title=\"Convert this dataframe to an interactive table.\"\n",
              "              style=\"display:none;\">\n",
              "        \n",
              "  <svg xmlns=\"http://www.w3.org/2000/svg\" height=\"24px\"viewBox=\"0 0 24 24\"\n",
              "       width=\"24px\">\n",
              "    <path d=\"M0 0h24v24H0V0z\" fill=\"none\"/>\n",
              "    <path d=\"M18.56 5.44l.94 2.06.94-2.06 2.06-.94-2.06-.94-.94-2.06-.94 2.06-2.06.94zm-11 1L8.5 8.5l.94-2.06 2.06-.94-2.06-.94L8.5 2.5l-.94 2.06-2.06.94zm10 10l.94 2.06.94-2.06 2.06-.94-2.06-.94-.94-2.06-.94 2.06-2.06.94z\"/><path d=\"M17.41 7.96l-1.37-1.37c-.4-.4-.92-.59-1.43-.59-.52 0-1.04.2-1.43.59L10.3 9.45l-7.72 7.72c-.78.78-.78 2.05 0 2.83L4 21.41c.39.39.9.59 1.41.59.51 0 1.02-.2 1.41-.59l7.78-7.78 2.81-2.81c.8-.78.8-2.07 0-2.86zM5.41 20L4 18.59l7.72-7.72 1.47 1.35L5.41 20z\"/>\n",
              "  </svg>\n",
              "      </button>\n",
              "      \n",
              "  <style>\n",
              "    .colab-df-container {\n",
              "      display:flex;\n",
              "      flex-wrap:wrap;\n",
              "      gap: 12px;\n",
              "    }\n",
              "\n",
              "    .colab-df-convert {\n",
              "      background-color: #E8F0FE;\n",
              "      border: none;\n",
              "      border-radius: 50%;\n",
              "      cursor: pointer;\n",
              "      display: none;\n",
              "      fill: #1967D2;\n",
              "      height: 32px;\n",
              "      padding: 0 0 0 0;\n",
              "      width: 32px;\n",
              "    }\n",
              "\n",
              "    .colab-df-convert:hover {\n",
              "      background-color: #E2EBFA;\n",
              "      box-shadow: 0px 1px 2px rgba(60, 64, 67, 0.3), 0px 1px 3px 1px rgba(60, 64, 67, 0.15);\n",
              "      fill: #174EA6;\n",
              "    }\n",
              "\n",
              "    [theme=dark] .colab-df-convert {\n",
              "      background-color: #3B4455;\n",
              "      fill: #D2E3FC;\n",
              "    }\n",
              "\n",
              "    [theme=dark] .colab-df-convert:hover {\n",
              "      background-color: #434B5C;\n",
              "      box-shadow: 0px 1px 3px 1px rgba(0, 0, 0, 0.15);\n",
              "      filter: drop-shadow(0px 1px 2px rgba(0, 0, 0, 0.3));\n",
              "      fill: #FFFFFF;\n",
              "    }\n",
              "  </style>\n",
              "\n",
              "      <script>\n",
              "        const buttonEl =\n",
              "          document.querySelector('#df-b479e9d1-7b92-4fd5-b1b4-231378edfcc3 button.colab-df-convert');\n",
              "        buttonEl.style.display =\n",
              "          google.colab.kernel.accessAllowed ? 'block' : 'none';\n",
              "\n",
              "        async function convertToInteractive(key) {\n",
              "          const element = document.querySelector('#df-b479e9d1-7b92-4fd5-b1b4-231378edfcc3');\n",
              "          const dataTable =\n",
              "            await google.colab.kernel.invokeFunction('convertToInteractive',\n",
              "                                                     [key], {});\n",
              "          if (!dataTable) return;\n",
              "\n",
              "          const docLinkHtml = 'Like what you see? Visit the ' +\n",
              "            '<a target=\"_blank\" href=https://colab.research.google.com/notebooks/data_table.ipynb>data table notebook</a>'\n",
              "            + ' to learn more about interactive tables.';\n",
              "          element.innerHTML = '';\n",
              "          dataTable['output_type'] = 'display_data';\n",
              "          await google.colab.output.renderOutput(dataTable, element);\n",
              "          const docLink = document.createElement('div');\n",
              "          docLink.innerHTML = docLinkHtml;\n",
              "          element.appendChild(docLink);\n",
              "        }\n",
              "      </script>\n",
              "    </div>\n",
              "  </div>\n",
              "  "
            ]
          },
          "metadata": {}
        }
      ],
      "source": [
        "# посмотрим на данные\n",
        "display(hypotises)"
      ]
    },
    {
      "cell_type": "code",
      "execution_count": 5,
      "metadata": {
        "ExecuteTime": {
          "end_time": "2023-06-10T15:21:47.790294Z",
          "start_time": "2023-06-10T15:21:47.775287Z"
        },
        "cell_style": "center",
        "hide_input": false,
        "id": "34bKDBFCziGH"
      },
      "outputs": [],
      "source": [
        "# рассчитам показатели фреймворков ICE\n",
        "hypotises['ICE'] = round((hypotises.Impact *\n",
        "                    hypotises.Confidence) / hypotises.Efforts,1)"
      ]
    },
    {
      "cell_type": "code",
      "execution_count": 6,
      "metadata": {
        "ExecuteTime": {
          "end_time": "2023-06-10T15:21:47.805493Z",
          "start_time": "2023-06-10T15:21:47.791294Z"
        },
        "colab": {
          "base_uri": "https://localhost:8080/",
          "height": 363
        },
        "id": "VEZAp18HziDP",
        "outputId": "9ffb0c33-7811-41f5-c513-84bf9c05dcac"
      },
      "outputs": [
        {
          "output_type": "execute_result",
          "data": {
            "text/plain": [
              "                                                    Reach  Impact  Confidence  \\\n",
              "Hypothesis                                                                      \n",
              "Запустить акцию, дающую скидку на товар в день ...      1       9           9   \n",
              "Добавить два новых канала привлечения трафика, ...      3      10           8   \n",
              "Добавить форму подписки на все основные страниц...     10       7           8   \n",
              "Показать на главной странице баннеры с актуальн...      5       3           8   \n",
              "Добавить блоки рекомендаций товаров на сайт инт...      8       3           7   \n",
              "Запустить собственную службу доставки, что сокр...      2       5           4   \n",
              "Добавить страницу отзывов клиентов о магазине, ...      3       2           2   \n",
              "Изменить структура категорий, что увеличит конв...      8       3           3   \n",
              "Изменить цвет фона главной страницы, чтобы увел...      3       1           1   \n",
              "\n",
              "                                                    Efforts   ICE  \n",
              "Hypothesis                                                         \n",
              "Запустить акцию, дающую скидку на товар в день ...        5  16.2  \n",
              "Добавить два новых канала привлечения трафика, ...        6  13.3  \n",
              "Добавить форму подписки на все основные страниц...        5  11.2  \n",
              "Показать на главной странице баннеры с актуальн...        3   8.0  \n",
              "Добавить блоки рекомендаций товаров на сайт инт...        3   7.0  \n",
              "Запустить собственную службу доставки, что сокр...       10   2.0  \n",
              "Добавить страницу отзывов клиентов о магазине, ...        3   1.3  \n",
              "Изменить структура категорий, что увеличит конв...        8   1.1  \n",
              "Изменить цвет фона главной страницы, чтобы увел...        1   1.0  "
            ],
            "text/html": [
              "\n",
              "  <div id=\"df-6d60e9fd-1e14-4cd1-a0f5-d8ec85cf6203\">\n",
              "    <div class=\"colab-df-container\">\n",
              "      <div>\n",
              "<style scoped>\n",
              "    .dataframe tbody tr th:only-of-type {\n",
              "        vertical-align: middle;\n",
              "    }\n",
              "\n",
              "    .dataframe tbody tr th {\n",
              "        vertical-align: top;\n",
              "    }\n",
              "\n",
              "    .dataframe thead th {\n",
              "        text-align: right;\n",
              "    }\n",
              "</style>\n",
              "<table border=\"1\" class=\"dataframe\">\n",
              "  <thead>\n",
              "    <tr style=\"text-align: right;\">\n",
              "      <th></th>\n",
              "      <th>Reach</th>\n",
              "      <th>Impact</th>\n",
              "      <th>Confidence</th>\n",
              "      <th>Efforts</th>\n",
              "      <th>ICE</th>\n",
              "    </tr>\n",
              "    <tr>\n",
              "      <th>Hypothesis</th>\n",
              "      <th></th>\n",
              "      <th></th>\n",
              "      <th></th>\n",
              "      <th></th>\n",
              "      <th></th>\n",
              "    </tr>\n",
              "  </thead>\n",
              "  <tbody>\n",
              "    <tr>\n",
              "      <th>Запустить акцию, дающую скидку на товар в день рождения</th>\n",
              "      <td>1</td>\n",
              "      <td>9</td>\n",
              "      <td>9</td>\n",
              "      <td>5</td>\n",
              "      <td>16.2</td>\n",
              "    </tr>\n",
              "    <tr>\n",
              "      <th>Добавить два новых канала привлечения трафика, что позволит привлекать на 30% больше пользователей</th>\n",
              "      <td>3</td>\n",
              "      <td>10</td>\n",
              "      <td>8</td>\n",
              "      <td>6</td>\n",
              "      <td>13.3</td>\n",
              "    </tr>\n",
              "    <tr>\n",
              "      <th>Добавить форму подписки на все основные страницы, чтобы собрать базу клиентов для email-рассылок</th>\n",
              "      <td>10</td>\n",
              "      <td>7</td>\n",
              "      <td>8</td>\n",
              "      <td>5</td>\n",
              "      <td>11.2</td>\n",
              "    </tr>\n",
              "    <tr>\n",
              "      <th>Показать на главной странице баннеры с актуальными акциями и распродажами, чтобы увеличить конверсию</th>\n",
              "      <td>5</td>\n",
              "      <td>3</td>\n",
              "      <td>8</td>\n",
              "      <td>3</td>\n",
              "      <td>8.0</td>\n",
              "    </tr>\n",
              "    <tr>\n",
              "      <th>Добавить блоки рекомендаций товаров на сайт интернет магазина, чтобы повысить конверсию и средний чек заказа</th>\n",
              "      <td>8</td>\n",
              "      <td>3</td>\n",
              "      <td>7</td>\n",
              "      <td>3</td>\n",
              "      <td>7.0</td>\n",
              "    </tr>\n",
              "    <tr>\n",
              "      <th>Запустить собственную службу доставки, что сократит срок доставки заказов</th>\n",
              "      <td>2</td>\n",
              "      <td>5</td>\n",
              "      <td>4</td>\n",
              "      <td>10</td>\n",
              "      <td>2.0</td>\n",
              "    </tr>\n",
              "    <tr>\n",
              "      <th>Добавить страницу отзывов клиентов о магазине, что позволит увеличить количество заказов</th>\n",
              "      <td>3</td>\n",
              "      <td>2</td>\n",
              "      <td>2</td>\n",
              "      <td>3</td>\n",
              "      <td>1.3</td>\n",
              "    </tr>\n",
              "    <tr>\n",
              "      <th>Изменить структура категорий, что увеличит конверсию, т.к. пользователи быстрее найдут нужный товар</th>\n",
              "      <td>8</td>\n",
              "      <td>3</td>\n",
              "      <td>3</td>\n",
              "      <td>8</td>\n",
              "      <td>1.1</td>\n",
              "    </tr>\n",
              "    <tr>\n",
              "      <th>Изменить цвет фона главной страницы, чтобы увеличить вовлеченность пользователей</th>\n",
              "      <td>3</td>\n",
              "      <td>1</td>\n",
              "      <td>1</td>\n",
              "      <td>1</td>\n",
              "      <td>1.0</td>\n",
              "    </tr>\n",
              "  </tbody>\n",
              "</table>\n",
              "</div>\n",
              "      <button class=\"colab-df-convert\" onclick=\"convertToInteractive('df-6d60e9fd-1e14-4cd1-a0f5-d8ec85cf6203')\"\n",
              "              title=\"Convert this dataframe to an interactive table.\"\n",
              "              style=\"display:none;\">\n",
              "        \n",
              "  <svg xmlns=\"http://www.w3.org/2000/svg\" height=\"24px\"viewBox=\"0 0 24 24\"\n",
              "       width=\"24px\">\n",
              "    <path d=\"M0 0h24v24H0V0z\" fill=\"none\"/>\n",
              "    <path d=\"M18.56 5.44l.94 2.06.94-2.06 2.06-.94-2.06-.94-.94-2.06-.94 2.06-2.06.94zm-11 1L8.5 8.5l.94-2.06 2.06-.94-2.06-.94L8.5 2.5l-.94 2.06-2.06.94zm10 10l.94 2.06.94-2.06 2.06-.94-2.06-.94-.94-2.06-.94 2.06-2.06.94z\"/><path d=\"M17.41 7.96l-1.37-1.37c-.4-.4-.92-.59-1.43-.59-.52 0-1.04.2-1.43.59L10.3 9.45l-7.72 7.72c-.78.78-.78 2.05 0 2.83L4 21.41c.39.39.9.59 1.41.59.51 0 1.02-.2 1.41-.59l7.78-7.78 2.81-2.81c.8-.78.8-2.07 0-2.86zM5.41 20L4 18.59l7.72-7.72 1.47 1.35L5.41 20z\"/>\n",
              "  </svg>\n",
              "      </button>\n",
              "      \n",
              "  <style>\n",
              "    .colab-df-container {\n",
              "      display:flex;\n",
              "      flex-wrap:wrap;\n",
              "      gap: 12px;\n",
              "    }\n",
              "\n",
              "    .colab-df-convert {\n",
              "      background-color: #E8F0FE;\n",
              "      border: none;\n",
              "      border-radius: 50%;\n",
              "      cursor: pointer;\n",
              "      display: none;\n",
              "      fill: #1967D2;\n",
              "      height: 32px;\n",
              "      padding: 0 0 0 0;\n",
              "      width: 32px;\n",
              "    }\n",
              "\n",
              "    .colab-df-convert:hover {\n",
              "      background-color: #E2EBFA;\n",
              "      box-shadow: 0px 1px 2px rgba(60, 64, 67, 0.3), 0px 1px 3px 1px rgba(60, 64, 67, 0.15);\n",
              "      fill: #174EA6;\n",
              "    }\n",
              "\n",
              "    [theme=dark] .colab-df-convert {\n",
              "      background-color: #3B4455;\n",
              "      fill: #D2E3FC;\n",
              "    }\n",
              "\n",
              "    [theme=dark] .colab-df-convert:hover {\n",
              "      background-color: #434B5C;\n",
              "      box-shadow: 0px 1px 3px 1px rgba(0, 0, 0, 0.15);\n",
              "      filter: drop-shadow(0px 1px 2px rgba(0, 0, 0, 0.3));\n",
              "      fill: #FFFFFF;\n",
              "    }\n",
              "  </style>\n",
              "\n",
              "      <script>\n",
              "        const buttonEl =\n",
              "          document.querySelector('#df-6d60e9fd-1e14-4cd1-a0f5-d8ec85cf6203 button.colab-df-convert');\n",
              "        buttonEl.style.display =\n",
              "          google.colab.kernel.accessAllowed ? 'block' : 'none';\n",
              "\n",
              "        async function convertToInteractive(key) {\n",
              "          const element = document.querySelector('#df-6d60e9fd-1e14-4cd1-a0f5-d8ec85cf6203');\n",
              "          const dataTable =\n",
              "            await google.colab.kernel.invokeFunction('convertToInteractive',\n",
              "                                                     [key], {});\n",
              "          if (!dataTable) return;\n",
              "\n",
              "          const docLinkHtml = 'Like what you see? Visit the ' +\n",
              "            '<a target=\"_blank\" href=https://colab.research.google.com/notebooks/data_table.ipynb>data table notebook</a>'\n",
              "            + ' to learn more about interactive tables.';\n",
              "          element.innerHTML = '';\n",
              "          dataTable['output_type'] = 'display_data';\n",
              "          await google.colab.output.renderOutput(dataTable, element);\n",
              "          const docLink = document.createElement('div');\n",
              "          docLink.innerHTML = docLinkHtml;\n",
              "          element.appendChild(docLink);\n",
              "        }\n",
              "      </script>\n",
              "    </div>\n",
              "  </div>\n",
              "  "
            ]
          },
          "metadata": {},
          "execution_count": 6
        }
      ],
      "source": [
        "# посмотрим на результаты ICE\n",
        "hypotises.sort_values(by='ICE',ascending = False)"
      ]
    },
    {
      "cell_type": "markdown",
      "metadata": {
        "id": "g1y_wT0ASUDV"
      },
      "source": [
        "* **В лидерах по приоритету попали гипотезы с высокими значениями impact и confidence и средней ценой реализации этих гипотез, однако мы можем заметить что на первой строчке стоит гипотеза с очень низким охватом пользователей, что дает нам основания посчитать приоритеты фреймворком RICE для учета этого фактора.**"
      ]
    },
    {
      "cell_type": "code",
      "execution_count": 7,
      "metadata": {
        "ExecuteTime": {
          "end_time": "2023-06-10T15:21:47.820675Z",
          "start_time": "2023-06-10T15:21:47.806493Z"
        },
        "id": "UT4zM44CRsZR"
      },
      "outputs": [],
      "source": [
        "# рассчитам показатели фреймворков RICE\n",
        "hypotises['RICE'] = round((hypotises.Impact* hypotises.Confidence*hypotises.Reach)/hypotises.Efforts,1)"
      ]
    },
    {
      "cell_type": "code",
      "execution_count": 8,
      "metadata": {
        "ExecuteTime": {
          "end_time": "2023-06-10T15:21:47.836679Z",
          "start_time": "2023-06-10T15:21:47.821675Z"
        },
        "colab": {
          "base_uri": "https://localhost:8080/",
          "height": 363
        },
        "id": "Xkg_8QwfziJH",
        "outputId": "282ea347-31c8-4bfa-c90b-4e930152f3ca"
      },
      "outputs": [
        {
          "output_type": "execute_result",
          "data": {
            "text/plain": [
              "                                                    Reach  Impact  Confidence  \\\n",
              "Hypothesis                                                                      \n",
              "Добавить форму подписки на все основные страниц...     10       7           8   \n",
              "Добавить блоки рекомендаций товаров на сайт инт...      8       3           7   \n",
              "Добавить два новых канала привлечения трафика, ...      3      10           8   \n",
              "Показать на главной странице баннеры с актуальн...      5       3           8   \n",
              "Запустить акцию, дающую скидку на товар в день ...      1       9           9   \n",
              "Изменить структура категорий, что увеличит конв...      8       3           3   \n",
              "Запустить собственную службу доставки, что сокр...      2       5           4   \n",
              "Добавить страницу отзывов клиентов о магазине, ...      3       2           2   \n",
              "Изменить цвет фона главной страницы, чтобы увел...      3       1           1   \n",
              "\n",
              "                                                    Efforts   ICE   RICE  \n",
              "Hypothesis                                                                \n",
              "Добавить форму подписки на все основные страниц...        5  11.2  112.0  \n",
              "Добавить блоки рекомендаций товаров на сайт инт...        3   7.0   56.0  \n",
              "Добавить два новых канала привлечения трафика, ...        6  13.3   40.0  \n",
              "Показать на главной странице баннеры с актуальн...        3   8.0   40.0  \n",
              "Запустить акцию, дающую скидку на товар в день ...        5  16.2   16.2  \n",
              "Изменить структура категорий, что увеличит конв...        8   1.1    9.0  \n",
              "Запустить собственную службу доставки, что сокр...       10   2.0    4.0  \n",
              "Добавить страницу отзывов клиентов о магазине, ...        3   1.3    4.0  \n",
              "Изменить цвет фона главной страницы, чтобы увел...        1   1.0    3.0  "
            ],
            "text/html": [
              "\n",
              "  <div id=\"df-f9ef00b9-f216-4f4e-b601-ea573ee8ca68\">\n",
              "    <div class=\"colab-df-container\">\n",
              "      <div>\n",
              "<style scoped>\n",
              "    .dataframe tbody tr th:only-of-type {\n",
              "        vertical-align: middle;\n",
              "    }\n",
              "\n",
              "    .dataframe tbody tr th {\n",
              "        vertical-align: top;\n",
              "    }\n",
              "\n",
              "    .dataframe thead th {\n",
              "        text-align: right;\n",
              "    }\n",
              "</style>\n",
              "<table border=\"1\" class=\"dataframe\">\n",
              "  <thead>\n",
              "    <tr style=\"text-align: right;\">\n",
              "      <th></th>\n",
              "      <th>Reach</th>\n",
              "      <th>Impact</th>\n",
              "      <th>Confidence</th>\n",
              "      <th>Efforts</th>\n",
              "      <th>ICE</th>\n",
              "      <th>RICE</th>\n",
              "    </tr>\n",
              "    <tr>\n",
              "      <th>Hypothesis</th>\n",
              "      <th></th>\n",
              "      <th></th>\n",
              "      <th></th>\n",
              "      <th></th>\n",
              "      <th></th>\n",
              "      <th></th>\n",
              "    </tr>\n",
              "  </thead>\n",
              "  <tbody>\n",
              "    <tr>\n",
              "      <th>Добавить форму подписки на все основные страницы, чтобы собрать базу клиентов для email-рассылок</th>\n",
              "      <td>10</td>\n",
              "      <td>7</td>\n",
              "      <td>8</td>\n",
              "      <td>5</td>\n",
              "      <td>11.2</td>\n",
              "      <td>112.0</td>\n",
              "    </tr>\n",
              "    <tr>\n",
              "      <th>Добавить блоки рекомендаций товаров на сайт интернет магазина, чтобы повысить конверсию и средний чек заказа</th>\n",
              "      <td>8</td>\n",
              "      <td>3</td>\n",
              "      <td>7</td>\n",
              "      <td>3</td>\n",
              "      <td>7.0</td>\n",
              "      <td>56.0</td>\n",
              "    </tr>\n",
              "    <tr>\n",
              "      <th>Добавить два новых канала привлечения трафика, что позволит привлекать на 30% больше пользователей</th>\n",
              "      <td>3</td>\n",
              "      <td>10</td>\n",
              "      <td>8</td>\n",
              "      <td>6</td>\n",
              "      <td>13.3</td>\n",
              "      <td>40.0</td>\n",
              "    </tr>\n",
              "    <tr>\n",
              "      <th>Показать на главной странице баннеры с актуальными акциями и распродажами, чтобы увеличить конверсию</th>\n",
              "      <td>5</td>\n",
              "      <td>3</td>\n",
              "      <td>8</td>\n",
              "      <td>3</td>\n",
              "      <td>8.0</td>\n",
              "      <td>40.0</td>\n",
              "    </tr>\n",
              "    <tr>\n",
              "      <th>Запустить акцию, дающую скидку на товар в день рождения</th>\n",
              "      <td>1</td>\n",
              "      <td>9</td>\n",
              "      <td>9</td>\n",
              "      <td>5</td>\n",
              "      <td>16.2</td>\n",
              "      <td>16.2</td>\n",
              "    </tr>\n",
              "    <tr>\n",
              "      <th>Изменить структура категорий, что увеличит конверсию, т.к. пользователи быстрее найдут нужный товар</th>\n",
              "      <td>8</td>\n",
              "      <td>3</td>\n",
              "      <td>3</td>\n",
              "      <td>8</td>\n",
              "      <td>1.1</td>\n",
              "      <td>9.0</td>\n",
              "    </tr>\n",
              "    <tr>\n",
              "      <th>Запустить собственную службу доставки, что сократит срок доставки заказов</th>\n",
              "      <td>2</td>\n",
              "      <td>5</td>\n",
              "      <td>4</td>\n",
              "      <td>10</td>\n",
              "      <td>2.0</td>\n",
              "      <td>4.0</td>\n",
              "    </tr>\n",
              "    <tr>\n",
              "      <th>Добавить страницу отзывов клиентов о магазине, что позволит увеличить количество заказов</th>\n",
              "      <td>3</td>\n",
              "      <td>2</td>\n",
              "      <td>2</td>\n",
              "      <td>3</td>\n",
              "      <td>1.3</td>\n",
              "      <td>4.0</td>\n",
              "    </tr>\n",
              "    <tr>\n",
              "      <th>Изменить цвет фона главной страницы, чтобы увеличить вовлеченность пользователей</th>\n",
              "      <td>3</td>\n",
              "      <td>1</td>\n",
              "      <td>1</td>\n",
              "      <td>1</td>\n",
              "      <td>1.0</td>\n",
              "      <td>3.0</td>\n",
              "    </tr>\n",
              "  </tbody>\n",
              "</table>\n",
              "</div>\n",
              "      <button class=\"colab-df-convert\" onclick=\"convertToInteractive('df-f9ef00b9-f216-4f4e-b601-ea573ee8ca68')\"\n",
              "              title=\"Convert this dataframe to an interactive table.\"\n",
              "              style=\"display:none;\">\n",
              "        \n",
              "  <svg xmlns=\"http://www.w3.org/2000/svg\" height=\"24px\"viewBox=\"0 0 24 24\"\n",
              "       width=\"24px\">\n",
              "    <path d=\"M0 0h24v24H0V0z\" fill=\"none\"/>\n",
              "    <path d=\"M18.56 5.44l.94 2.06.94-2.06 2.06-.94-2.06-.94-.94-2.06-.94 2.06-2.06.94zm-11 1L8.5 8.5l.94-2.06 2.06-.94-2.06-.94L8.5 2.5l-.94 2.06-2.06.94zm10 10l.94 2.06.94-2.06 2.06-.94-2.06-.94-.94-2.06-.94 2.06-2.06.94z\"/><path d=\"M17.41 7.96l-1.37-1.37c-.4-.4-.92-.59-1.43-.59-.52 0-1.04.2-1.43.59L10.3 9.45l-7.72 7.72c-.78.78-.78 2.05 0 2.83L4 21.41c.39.39.9.59 1.41.59.51 0 1.02-.2 1.41-.59l7.78-7.78 2.81-2.81c.8-.78.8-2.07 0-2.86zM5.41 20L4 18.59l7.72-7.72 1.47 1.35L5.41 20z\"/>\n",
              "  </svg>\n",
              "      </button>\n",
              "      \n",
              "  <style>\n",
              "    .colab-df-container {\n",
              "      display:flex;\n",
              "      flex-wrap:wrap;\n",
              "      gap: 12px;\n",
              "    }\n",
              "\n",
              "    .colab-df-convert {\n",
              "      background-color: #E8F0FE;\n",
              "      border: none;\n",
              "      border-radius: 50%;\n",
              "      cursor: pointer;\n",
              "      display: none;\n",
              "      fill: #1967D2;\n",
              "      height: 32px;\n",
              "      padding: 0 0 0 0;\n",
              "      width: 32px;\n",
              "    }\n",
              "\n",
              "    .colab-df-convert:hover {\n",
              "      background-color: #E2EBFA;\n",
              "      box-shadow: 0px 1px 2px rgba(60, 64, 67, 0.3), 0px 1px 3px 1px rgba(60, 64, 67, 0.15);\n",
              "      fill: #174EA6;\n",
              "    }\n",
              "\n",
              "    [theme=dark] .colab-df-convert {\n",
              "      background-color: #3B4455;\n",
              "      fill: #D2E3FC;\n",
              "    }\n",
              "\n",
              "    [theme=dark] .colab-df-convert:hover {\n",
              "      background-color: #434B5C;\n",
              "      box-shadow: 0px 1px 3px 1px rgba(0, 0, 0, 0.15);\n",
              "      filter: drop-shadow(0px 1px 2px rgba(0, 0, 0, 0.3));\n",
              "      fill: #FFFFFF;\n",
              "    }\n",
              "  </style>\n",
              "\n",
              "      <script>\n",
              "        const buttonEl =\n",
              "          document.querySelector('#df-f9ef00b9-f216-4f4e-b601-ea573ee8ca68 button.colab-df-convert');\n",
              "        buttonEl.style.display =\n",
              "          google.colab.kernel.accessAllowed ? 'block' : 'none';\n",
              "\n",
              "        async function convertToInteractive(key) {\n",
              "          const element = document.querySelector('#df-f9ef00b9-f216-4f4e-b601-ea573ee8ca68');\n",
              "          const dataTable =\n",
              "            await google.colab.kernel.invokeFunction('convertToInteractive',\n",
              "                                                     [key], {});\n",
              "          if (!dataTable) return;\n",
              "\n",
              "          const docLinkHtml = 'Like what you see? Visit the ' +\n",
              "            '<a target=\"_blank\" href=https://colab.research.google.com/notebooks/data_table.ipynb>data table notebook</a>'\n",
              "            + ' to learn more about interactive tables.';\n",
              "          element.innerHTML = '';\n",
              "          dataTable['output_type'] = 'display_data';\n",
              "          await google.colab.output.renderOutput(dataTable, element);\n",
              "          const docLink = document.createElement('div');\n",
              "          docLink.innerHTML = docLinkHtml;\n",
              "          element.appendChild(docLink);\n",
              "        }\n",
              "      </script>\n",
              "    </div>\n",
              "  </div>\n",
              "  "
            ]
          },
          "metadata": {},
          "execution_count": 8
        }
      ],
      "source": [
        "# посмотрим на результаты RICE\n",
        "hypotises.sort_values(by='RICE',ascending = False)"
      ]
    },
    {
      "cell_type": "markdown",
      "metadata": {
        "id": "ZcUVC74-UBCK"
      },
      "source": [
        "* **После подсчета приоритетов методом RICE гипотеза, затрагивающее максимальное количество пользователей с довольно сильным влиянием и уверенностью в ее успехе которая имеет среднюю цену проверки поднялась на первую строчку относительно 3, которую она занимала по методу ICE. Тогда как гипотезы с низким охватом пользователей сместилась вниз. Это можно объяснить тем что параметр RICE учитывает помимо силы еще один важный параметр - охват пользователей.**"
      ]
    },
    {
      "cell_type": "markdown",
      "metadata": {
        "id": "090e6idYDwt6"
      },
      "source": [
        "# A/B тестирование"
      ]
    },
    {
      "cell_type": "markdown",
      "metadata": {
        "id": "1TfjCO05jxFI"
      },
      "source": [
        "## Предобработка данных"
      ]
    },
    {
      "cell_type": "code",
      "execution_count": 9,
      "metadata": {
        "ExecuteTime": {
          "end_time": "2023-06-10T15:21:47.852681Z",
          "start_time": "2023-06-10T15:21:47.837678Z"
        },
        "colab": {
          "base_uri": "https://localhost:8080/",
          "height": 238
        },
        "id": "Tth2t_3fO-Wx",
        "outputId": "f9a70386-726c-4bac-a071-a41b42b149c5"
      },
      "outputs": [
        {
          "output_type": "execute_result",
          "data": {
            "text/plain": [
              "           group  visitors\n",
              "date                      \n",
              "2019-08-01     A       719\n",
              "2019-08-02     A       619\n",
              "2019-08-03     A       507\n",
              "2019-08-04     A       717\n",
              "2019-08-05     A       756"
            ],
            "text/html": [
              "\n",
              "  <div id=\"df-3c9eea0c-666c-444a-b499-0ef4a12d4947\">\n",
              "    <div class=\"colab-df-container\">\n",
              "      <div>\n",
              "<style scoped>\n",
              "    .dataframe tbody tr th:only-of-type {\n",
              "        vertical-align: middle;\n",
              "    }\n",
              "\n",
              "    .dataframe tbody tr th {\n",
              "        vertical-align: top;\n",
              "    }\n",
              "\n",
              "    .dataframe thead th {\n",
              "        text-align: right;\n",
              "    }\n",
              "</style>\n",
              "<table border=\"1\" class=\"dataframe\">\n",
              "  <thead>\n",
              "    <tr style=\"text-align: right;\">\n",
              "      <th></th>\n",
              "      <th>group</th>\n",
              "      <th>visitors</th>\n",
              "    </tr>\n",
              "    <tr>\n",
              "      <th>date</th>\n",
              "      <th></th>\n",
              "      <th></th>\n",
              "    </tr>\n",
              "  </thead>\n",
              "  <tbody>\n",
              "    <tr>\n",
              "      <th>2019-08-01</th>\n",
              "      <td>A</td>\n",
              "      <td>719</td>\n",
              "    </tr>\n",
              "    <tr>\n",
              "      <th>2019-08-02</th>\n",
              "      <td>A</td>\n",
              "      <td>619</td>\n",
              "    </tr>\n",
              "    <tr>\n",
              "      <th>2019-08-03</th>\n",
              "      <td>A</td>\n",
              "      <td>507</td>\n",
              "    </tr>\n",
              "    <tr>\n",
              "      <th>2019-08-04</th>\n",
              "      <td>A</td>\n",
              "      <td>717</td>\n",
              "    </tr>\n",
              "    <tr>\n",
              "      <th>2019-08-05</th>\n",
              "      <td>A</td>\n",
              "      <td>756</td>\n",
              "    </tr>\n",
              "  </tbody>\n",
              "</table>\n",
              "</div>\n",
              "      <button class=\"colab-df-convert\" onclick=\"convertToInteractive('df-3c9eea0c-666c-444a-b499-0ef4a12d4947')\"\n",
              "              title=\"Convert this dataframe to an interactive table.\"\n",
              "              style=\"display:none;\">\n",
              "        \n",
              "  <svg xmlns=\"http://www.w3.org/2000/svg\" height=\"24px\"viewBox=\"0 0 24 24\"\n",
              "       width=\"24px\">\n",
              "    <path d=\"M0 0h24v24H0V0z\" fill=\"none\"/>\n",
              "    <path d=\"M18.56 5.44l.94 2.06.94-2.06 2.06-.94-2.06-.94-.94-2.06-.94 2.06-2.06.94zm-11 1L8.5 8.5l.94-2.06 2.06-.94-2.06-.94L8.5 2.5l-.94 2.06-2.06.94zm10 10l.94 2.06.94-2.06 2.06-.94-2.06-.94-.94-2.06-.94 2.06-2.06.94z\"/><path d=\"M17.41 7.96l-1.37-1.37c-.4-.4-.92-.59-1.43-.59-.52 0-1.04.2-1.43.59L10.3 9.45l-7.72 7.72c-.78.78-.78 2.05 0 2.83L4 21.41c.39.39.9.59 1.41.59.51 0 1.02-.2 1.41-.59l7.78-7.78 2.81-2.81c.8-.78.8-2.07 0-2.86zM5.41 20L4 18.59l7.72-7.72 1.47 1.35L5.41 20z\"/>\n",
              "  </svg>\n",
              "      </button>\n",
              "      \n",
              "  <style>\n",
              "    .colab-df-container {\n",
              "      display:flex;\n",
              "      flex-wrap:wrap;\n",
              "      gap: 12px;\n",
              "    }\n",
              "\n",
              "    .colab-df-convert {\n",
              "      background-color: #E8F0FE;\n",
              "      border: none;\n",
              "      border-radius: 50%;\n",
              "      cursor: pointer;\n",
              "      display: none;\n",
              "      fill: #1967D2;\n",
              "      height: 32px;\n",
              "      padding: 0 0 0 0;\n",
              "      width: 32px;\n",
              "    }\n",
              "\n",
              "    .colab-df-convert:hover {\n",
              "      background-color: #E2EBFA;\n",
              "      box-shadow: 0px 1px 2px rgba(60, 64, 67, 0.3), 0px 1px 3px 1px rgba(60, 64, 67, 0.15);\n",
              "      fill: #174EA6;\n",
              "    }\n",
              "\n",
              "    [theme=dark] .colab-df-convert {\n",
              "      background-color: #3B4455;\n",
              "      fill: #D2E3FC;\n",
              "    }\n",
              "\n",
              "    [theme=dark] .colab-df-convert:hover {\n",
              "      background-color: #434B5C;\n",
              "      box-shadow: 0px 1px 3px 1px rgba(0, 0, 0, 0.15);\n",
              "      filter: drop-shadow(0px 1px 2px rgba(0, 0, 0, 0.3));\n",
              "      fill: #FFFFFF;\n",
              "    }\n",
              "  </style>\n",
              "\n",
              "      <script>\n",
              "        const buttonEl =\n",
              "          document.querySelector('#df-3c9eea0c-666c-444a-b499-0ef4a12d4947 button.colab-df-convert');\n",
              "        buttonEl.style.display =\n",
              "          google.colab.kernel.accessAllowed ? 'block' : 'none';\n",
              "\n",
              "        async function convertToInteractive(key) {\n",
              "          const element = document.querySelector('#df-3c9eea0c-666c-444a-b499-0ef4a12d4947');\n",
              "          const dataTable =\n",
              "            await google.colab.kernel.invokeFunction('convertToInteractive',\n",
              "                                                     [key], {});\n",
              "          if (!dataTable) return;\n",
              "\n",
              "          const docLinkHtml = 'Like what you see? Visit the ' +\n",
              "            '<a target=\"_blank\" href=https://colab.research.google.com/notebooks/data_table.ipynb>data table notebook</a>'\n",
              "            + ' to learn more about interactive tables.';\n",
              "          element.innerHTML = '';\n",
              "          dataTable['output_type'] = 'display_data';\n",
              "          await google.colab.output.renderOutput(dataTable, element);\n",
              "          const docLink = document.createElement('div');\n",
              "          docLink.innerHTML = docLinkHtml;\n",
              "          element.appendChild(docLink);\n",
              "        }\n",
              "      </script>\n",
              "    </div>\n",
              "  </div>\n",
              "  "
            ]
          },
          "metadata": {},
          "execution_count": 9
        }
      ],
      "source": [
        "# посмотрим на первые 5 строк\n",
        "visitors.head()"
      ]
    },
    {
      "cell_type": "code",
      "execution_count": 10,
      "metadata": {
        "ExecuteTime": {
          "end_time": "2023-06-10T15:21:47.868685Z",
          "start_time": "2023-06-10T15:21:47.855682Z"
        },
        "id": "zs97O1dqmcPg"
      },
      "outputs": [],
      "source": [
        "# вернем дату из индекса\n",
        "visitors = visitors.reset_index()"
      ]
    },
    {
      "cell_type": "code",
      "execution_count": 11,
      "metadata": {
        "ExecuteTime": {
          "end_time": "2023-06-10T15:21:47.900693Z",
          "start_time": "2023-06-10T15:21:47.871686Z"
        },
        "colab": {
          "base_uri": "https://localhost:8080/",
          "height": 404
        },
        "id": "ao2JKYULKa8l",
        "outputId": "2e36e3ba-9b12-4ec8-f159-fe6c1908c922"
      },
      "outputs": [
        {
          "output_type": "stream",
          "name": "stdout",
          "text": [
            "Количество полных дубликатов: 0\n",
            "****************\n",
            "<class 'pandas.core.frame.DataFrame'>\n",
            "RangeIndex: 62 entries, 0 to 61\n",
            "Data columns (total 3 columns):\n",
            " #   Column    Non-Null Count  Dtype \n",
            "---  ------    --------------  ----- \n",
            " 0   date      62 non-null     object\n",
            " 1   group     62 non-null     object\n",
            " 2   visitors  62 non-null     int64 \n",
            "dtypes: int64(1), object(2)\n",
            "memory usage: 1.6+ KB\n"
          ]
        },
        {
          "output_type": "display_data",
          "data": {
            "text/plain": [
              "                  33\n",
              "date      2019-08-03\n",
              "group              B\n",
              "visitors         509"
            ],
            "text/html": [
              "\n",
              "  <div id=\"df-25c14d13-232d-41fe-b3b2-40b0cef297ce\">\n",
              "    <div class=\"colab-df-container\">\n",
              "      <div>\n",
              "<style scoped>\n",
              "    .dataframe tbody tr th:only-of-type {\n",
              "        vertical-align: middle;\n",
              "    }\n",
              "\n",
              "    .dataframe tbody tr th {\n",
              "        vertical-align: top;\n",
              "    }\n",
              "\n",
              "    .dataframe thead th {\n",
              "        text-align: right;\n",
              "    }\n",
              "</style>\n",
              "<table border=\"1\" class=\"dataframe\">\n",
              "  <thead>\n",
              "    <tr style=\"text-align: right;\">\n",
              "      <th></th>\n",
              "      <th>33</th>\n",
              "    </tr>\n",
              "  </thead>\n",
              "  <tbody>\n",
              "    <tr>\n",
              "      <th>date</th>\n",
              "      <td>2019-08-03</td>\n",
              "    </tr>\n",
              "    <tr>\n",
              "      <th>group</th>\n",
              "      <td>B</td>\n",
              "    </tr>\n",
              "    <tr>\n",
              "      <th>visitors</th>\n",
              "      <td>509</td>\n",
              "    </tr>\n",
              "  </tbody>\n",
              "</table>\n",
              "</div>\n",
              "      <button class=\"colab-df-convert\" onclick=\"convertToInteractive('df-25c14d13-232d-41fe-b3b2-40b0cef297ce')\"\n",
              "              title=\"Convert this dataframe to an interactive table.\"\n",
              "              style=\"display:none;\">\n",
              "        \n",
              "  <svg xmlns=\"http://www.w3.org/2000/svg\" height=\"24px\"viewBox=\"0 0 24 24\"\n",
              "       width=\"24px\">\n",
              "    <path d=\"M0 0h24v24H0V0z\" fill=\"none\"/>\n",
              "    <path d=\"M18.56 5.44l.94 2.06.94-2.06 2.06-.94-2.06-.94-.94-2.06-.94 2.06-2.06.94zm-11 1L8.5 8.5l.94-2.06 2.06-.94-2.06-.94L8.5 2.5l-.94 2.06-2.06.94zm10 10l.94 2.06.94-2.06 2.06-.94-2.06-.94-.94-2.06-.94 2.06-2.06.94z\"/><path d=\"M17.41 7.96l-1.37-1.37c-.4-.4-.92-.59-1.43-.59-.52 0-1.04.2-1.43.59L10.3 9.45l-7.72 7.72c-.78.78-.78 2.05 0 2.83L4 21.41c.39.39.9.59 1.41.59.51 0 1.02-.2 1.41-.59l7.78-7.78 2.81-2.81c.8-.78.8-2.07 0-2.86zM5.41 20L4 18.59l7.72-7.72 1.47 1.35L5.41 20z\"/>\n",
              "  </svg>\n",
              "      </button>\n",
              "      \n",
              "  <style>\n",
              "    .colab-df-container {\n",
              "      display:flex;\n",
              "      flex-wrap:wrap;\n",
              "      gap: 12px;\n",
              "    }\n",
              "\n",
              "    .colab-df-convert {\n",
              "      background-color: #E8F0FE;\n",
              "      border: none;\n",
              "      border-radius: 50%;\n",
              "      cursor: pointer;\n",
              "      display: none;\n",
              "      fill: #1967D2;\n",
              "      height: 32px;\n",
              "      padding: 0 0 0 0;\n",
              "      width: 32px;\n",
              "    }\n",
              "\n",
              "    .colab-df-convert:hover {\n",
              "      background-color: #E2EBFA;\n",
              "      box-shadow: 0px 1px 2px rgba(60, 64, 67, 0.3), 0px 1px 3px 1px rgba(60, 64, 67, 0.15);\n",
              "      fill: #174EA6;\n",
              "    }\n",
              "\n",
              "    [theme=dark] .colab-df-convert {\n",
              "      background-color: #3B4455;\n",
              "      fill: #D2E3FC;\n",
              "    }\n",
              "\n",
              "    [theme=dark] .colab-df-convert:hover {\n",
              "      background-color: #434B5C;\n",
              "      box-shadow: 0px 1px 3px 1px rgba(0, 0, 0, 0.15);\n",
              "      filter: drop-shadow(0px 1px 2px rgba(0, 0, 0, 0.3));\n",
              "      fill: #FFFFFF;\n",
              "    }\n",
              "  </style>\n",
              "\n",
              "      <script>\n",
              "        const buttonEl =\n",
              "          document.querySelector('#df-25c14d13-232d-41fe-b3b2-40b0cef297ce button.colab-df-convert');\n",
              "        buttonEl.style.display =\n",
              "          google.colab.kernel.accessAllowed ? 'block' : 'none';\n",
              "\n",
              "        async function convertToInteractive(key) {\n",
              "          const element = document.querySelector('#df-25c14d13-232d-41fe-b3b2-40b0cef297ce');\n",
              "          const dataTable =\n",
              "            await google.colab.kernel.invokeFunction('convertToInteractive',\n",
              "                                                     [key], {});\n",
              "          if (!dataTable) return;\n",
              "\n",
              "          const docLinkHtml = 'Like what you see? Visit the ' +\n",
              "            '<a target=\"_blank\" href=https://colab.research.google.com/notebooks/data_table.ipynb>data table notebook</a>'\n",
              "            + ' to learn more about interactive tables.';\n",
              "          element.innerHTML = '';\n",
              "          dataTable['output_type'] = 'display_data';\n",
              "          await google.colab.output.renderOutput(dataTable, element);\n",
              "          const docLink = document.createElement('div');\n",
              "          docLink.innerHTML = docLinkHtml;\n",
              "          element.appendChild(docLink);\n",
              "        }\n",
              "      </script>\n",
              "    </div>\n",
              "  </div>\n",
              "  "
            ]
          },
          "metadata": {}
        },
        {
          "output_type": "display_data",
          "data": {
            "text/plain": [
              "A    31\n",
              "B    31\n",
              "Name: group, dtype: int64"
            ]
          },
          "metadata": {}
        }
      ],
      "source": [
        "# проверим данные\n",
        "df_info(visitors)"
      ]
    },
    {
      "cell_type": "code",
      "execution_count": 12,
      "metadata": {
        "id": "6L4L56eUjxFJ"
      },
      "outputs": [],
      "source": [
        "# приведем дату к верному формату\n",
        "visitors['date'] = visitors.date.astype('datetime64[D]')"
      ]
    },
    {
      "cell_type": "code",
      "execution_count": 13,
      "metadata": {
        "ExecuteTime": {
          "end_time": "2023-06-10T15:21:48.167742Z",
          "start_time": "2023-06-10T15:21:47.901693Z"
        },
        "colab": {
          "base_uri": "https://localhost:8080/",
          "height": 568
        },
        "id": "X9CKssfPfXy6",
        "outputId": "ee760fb1-f5d5-4553-948a-250007bc1c00"
      },
      "outputs": [
        {
          "output_type": "display_data",
          "data": {
            "text/plain": [
              "<Figure size 1400x600 with 1 Axes>"
            ],
            "image/png": "[encoded data removed]"
          },
          "metadata": {}
        }
      ],
      "source": [
        "# посмотрим на динамику количества поситителей\n",
        "ax = visitors.groupby(by=['group','date'],as_index = False).mean().query(\"group =='A'\").plot(x = 'date',y = 'visitors',figsize=(14,6))\n",
        "visitors.groupby(by=['group','date'],as_index = False).mean().query(\"group =='B'\").plot(x = 'date',y = 'visitors',ax = ax)\n",
        "plt.legend(['A','B'], title='Groups')\n",
        "plt.gcf().autofmt_xdate()\n",
        "plt.title('Динамика количества поситителей')\n",
        "plt.show(ax)"
      ]
    },
    {
      "cell_type": "code",
      "execution_count": 14,
      "metadata": {
        "ExecuteTime": {
          "end_time": "2023-06-10T15:21:48.183745Z",
          "start_time": "2023-06-10T15:21:48.168742Z"
        },
        "colab": {
          "base_uri": "https://localhost:8080/"
        },
        "id": "zIkg5CeUYdeE",
        "outputId": "b0c201f7-07cf-4b8f-9476-7c7070fa7005"
      },
      "outputs": [
        {
          "output_type": "stream",
          "name": "stdout",
          "text": [
            "2019-08-01 00:00:00 - 2019-08-31 00:00:00\n"
          ]
        }
      ],
      "source": [
        "print(visitors.date.min(),'-',visitors.date.max())"
      ]
    },
    {
      "cell_type": "markdown",
      "metadata": {
        "id": "doH2bMYdRDmd"
      },
      "source": [
        "* **Дубликатов и пропусков нет. Количество посетителей циклически менялось в течение месяца подобным образом в обеих группах без явной динамики. Тест проходил на протяжении августа месяца, что может поставить под сомнение его результаты ввиду изменения потребительской активности перед началом учебного сезона**"
      ]
    },
    {
      "cell_type": "code",
      "execution_count": 15,
      "metadata": {
        "ExecuteTime": {
          "end_time": "2023-06-10T15:21:48.199750Z",
          "start_time": "2023-06-10T15:21:48.184745Z"
        },
        "colab": {
          "base_uri": "https://localhost:8080/",
          "height": 238
        },
        "id": "UXis11DGD9V0",
        "outputId": "f1076b47-08d3-4d35-f821-924b661b0eae"
      },
      "outputs": [
        {
          "output_type": "execute_result",
          "data": {
            "text/plain": [
              "                visitorId        date  revenue group\n",
              "transactionId                                       \n",
              "3667963787     3312258926  2019-08-15     1650     B\n",
              "2804400009     3642806036  2019-08-15      730     B\n",
              "2961555356     4069496402  2019-08-15      400     A\n",
              "3797467345     1196621759  2019-08-15     9759     B\n",
              "2282983706     2322279887  2019-08-15     2308     B"
            ],
            "text/html": [
              "\n",
              "  <div id=\"df-ff6ec7ef-a0d2-4d61-927d-f18c7f5440b2\">\n",
              "    <div class=\"colab-df-container\">\n",
              "      <div>\n",
              "<style scoped>\n",
              "    .dataframe tbody tr th:only-of-type {\n",
              "        vertical-align: middle;\n",
              "    }\n",
              "\n",
              "    .dataframe tbody tr th {\n",
              "        vertical-align: top;\n",
              "    }\n",
              "\n",
              "    .dataframe thead th {\n",
              "        text-align: right;\n",
              "    }\n",
              "</style>\n",
              "<table border=\"1\" class=\"dataframe\">\n",
              "  <thead>\n",
              "    <tr style=\"text-align: right;\">\n",
              "      <th></th>\n",
              "      <th>visitorId</th>\n",
              "      <th>date</th>\n",
              "      <th>revenue</th>\n",
              "      <th>group</th>\n",
              "    </tr>\n",
              "    <tr>\n",
              "      <th>transactionId</th>\n",
              "      <th></th>\n",
              "      <th></th>\n",
              "      <th></th>\n",
              "      <th></th>\n",
              "    </tr>\n",
              "  </thead>\n",
              "  <tbody>\n",
              "    <tr>\n",
              "      <th>3667963787</th>\n",
              "      <td>3312258926</td>\n",
              "      <td>2019-08-15</td>\n",
              "      <td>1650</td>\n",
              "      <td>B</td>\n",
              "    </tr>\n",
              "    <tr>\n",
              "      <th>2804400009</th>\n",
              "      <td>3642806036</td>\n",
              "      <td>2019-08-15</td>\n",
              "      <td>730</td>\n",
              "      <td>B</td>\n",
              "    </tr>\n",
              "    <tr>\n",
              "      <th>2961555356</th>\n",
              "      <td>4069496402</td>\n",
              "      <td>2019-08-15</td>\n",
              "      <td>400</td>\n",
              "      <td>A</td>\n",
              "    </tr>\n",
              "    <tr>\n",
              "      <th>3797467345</th>\n",
              "      <td>1196621759</td>\n",
              "      <td>2019-08-15</td>\n",
              "      <td>9759</td>\n",
              "      <td>B</td>\n",
              "    </tr>\n",
              "    <tr>\n",
              "      <th>2282983706</th>\n",
              "      <td>2322279887</td>\n",
              "      <td>2019-08-15</td>\n",
              "      <td>2308</td>\n",
              "      <td>B</td>\n",
              "    </tr>\n",
              "  </tbody>\n",
              "</table>\n",
              "</div>\n",
              "      <button class=\"colab-df-convert\" onclick=\"convertToInteractive('df-ff6ec7ef-a0d2-4d61-927d-f18c7f5440b2')\"\n",
              "              title=\"Convert this dataframe to an interactive table.\"\n",
              "              style=\"display:none;\">\n",
              "        \n",
              "  <svg xmlns=\"http://www.w3.org/2000/svg\" height=\"24px\"viewBox=\"0 0 24 24\"\n",
              "       width=\"24px\">\n",
              "    <path d=\"M0 0h24v24H0V0z\" fill=\"none\"/>\n",
              "    <path d=\"M18.56 5.44l.94 2.06.94-2.06 2.06-.94-2.06-.94-.94-2.06-.94 2.06-2.06.94zm-11 1L8.5 8.5l.94-2.06 2.06-.94-2.06-.94L8.5 2.5l-.94 2.06-2.06.94zm10 10l.94 2.06.94-2.06 2.06-.94-2.06-.94-.94-2.06-.94 2.06-2.06.94z\"/><path d=\"M17.41 7.96l-1.37-1.37c-.4-.4-.92-.59-1.43-.59-.52 0-1.04.2-1.43.59L10.3 9.45l-7.72 7.72c-.78.78-.78 2.05 0 2.83L4 21.41c.39.39.9.59 1.41.59.51 0 1.02-.2 1.41-.59l7.78-7.78 2.81-2.81c.8-.78.8-2.07 0-2.86zM5.41 20L4 18.59l7.72-7.72 1.47 1.35L5.41 20z\"/>\n",
              "  </svg>\n",
              "      </button>\n",
              "      \n",
              "  <style>\n",
              "    .colab-df-container {\n",
              "      display:flex;\n",
              "      flex-wrap:wrap;\n",
              "      gap: 12px;\n",
              "    }\n",
              "\n",
              "    .colab-df-convert {\n",
              "      background-color: #E8F0FE;\n",
              "      border: none;\n",
              "      border-radius: 50%;\n",
              "      cursor: pointer;\n",
              "      display: none;\n",
              "      fill: #1967D2;\n",
              "      height: 32px;\n",
              "      padding: 0 0 0 0;\n",
              "      width: 32px;\n",
              "    }\n",
              "\n",
              "    .colab-df-convert:hover {\n",
              "      background-color: #E2EBFA;\n",
              "      box-shadow: 0px 1px 2px rgba(60, 64, 67, 0.3), 0px 1px 3px 1px rgba(60, 64, 67, 0.15);\n",
              "      fill: #174EA6;\n",
              "    }\n",
              "\n",
              "    [theme=dark] .colab-df-convert {\n",
              "      background-color: #3B4455;\n",
              "      fill: #D2E3FC;\n",
              "    }\n",
              "\n",
              "    [theme=dark] .colab-df-convert:hover {\n",
              "      background-color: #434B5C;\n",
              "      box-shadow: 0px 1px 3px 1px rgba(0, 0, 0, 0.15);\n",
              "      filter: drop-shadow(0px 1px 2px rgba(0, 0, 0, 0.3));\n",
              "      fill: #FFFFFF;\n",
              "    }\n",
              "  </style>\n",
              "\n",
              "      <script>\n",
              "        const buttonEl =\n",
              "          document.querySelector('#df-ff6ec7ef-a0d2-4d61-927d-f18c7f5440b2 button.colab-df-convert');\n",
              "        buttonEl.style.display =\n",
              "          google.colab.kernel.accessAllowed ? 'block' : 'none';\n",
              "\n",
              "        async function convertToInteractive(key) {\n",
              "          const element = document.querySelector('#df-ff6ec7ef-a0d2-4d61-927d-f18c7f5440b2');\n",
              "          const dataTable =\n",
              "            await google.colab.kernel.invokeFunction('convertToInteractive',\n",
              "                                                     [key], {});\n",
              "          if (!dataTable) return;\n",
              "\n",
              "          const docLinkHtml = 'Like what you see? Visit the ' +\n",
              "            '<a target=\"_blank\" href=https://colab.research.google.com/notebooks/data_table.ipynb>data table notebook</a>'\n",
              "            + ' to learn more about interactive tables.';\n",
              "          element.innerHTML = '';\n",
              "          dataTable['output_type'] = 'display_data';\n",
              "          await google.colab.output.renderOutput(dataTable, element);\n",
              "          const docLink = document.createElement('div');\n",
              "          docLink.innerHTML = docLinkHtml;\n",
              "          element.appendChild(docLink);\n",
              "        }\n",
              "      </script>\n",
              "    </div>\n",
              "  </div>\n",
              "  "
            ]
          },
          "metadata": {},
          "execution_count": 15
        }
      ],
      "source": [
        "# проверим таблицу с заказами\n",
        "orders.head()"
      ]
    },
    {
      "cell_type": "code",
      "execution_count": 16,
      "metadata": {
        "ExecuteTime": {
          "end_time": "2023-06-10T15:21:48.215102Z",
          "start_time": "2023-06-10T15:21:48.200750Z"
        },
        "id": "KmJU8sdolZKX"
      },
      "outputs": [],
      "source": [
        "# вернем ключ транзакций из индекса\n",
        "orders =  orders.reset_index()"
      ]
    },
    {
      "cell_type": "code",
      "execution_count": 17,
      "metadata": {
        "ExecuteTime": {
          "end_time": "2023-06-10T15:21:48.231106Z",
          "start_time": "2023-06-10T15:21:48.216103Z"
        },
        "colab": {
          "base_uri": "https://localhost:8080/",
          "height": 501
        },
        "id": "FaJKCYDCgMT5",
        "outputId": "618d9a96-1a5c-475e-f97b-6841eecf443c"
      },
      "outputs": [
        {
          "output_type": "stream",
          "name": "stdout",
          "text": [
            "Количество полных дубликатов: 0\n",
            "****************\n",
            "<class 'pandas.core.frame.DataFrame'>\n",
            "RangeIndex: 1197 entries, 0 to 1196\n",
            "Data columns (total 5 columns):\n",
            " #   Column         Non-Null Count  Dtype \n",
            "---  ------         --------------  ----- \n",
            " 0   transactionId  1197 non-null   int64 \n",
            " 1   visitorId      1197 non-null   int64 \n",
            " 2   date           1197 non-null   object\n",
            " 3   revenue        1197 non-null   int64 \n",
            " 4   group          1197 non-null   object\n",
            "dtypes: int64(3), object(2)\n",
            "memory usage: 46.9+ KB\n"
          ]
        },
        {
          "output_type": "display_data",
          "data": {
            "text/plain": [
              "                      828\n",
              "transactionId  1029192242\n",
              "visitorId       570540961\n",
              "date           2019-08-30\n",
              "revenue              2690\n",
              "group                   B"
            ],
            "text/html": [
              "\n",
              "  <div id=\"df-4bb7490c-c1ad-4046-b3cb-abbb200a43a8\">\n",
              "    <div class=\"colab-df-container\">\n",
              "      <div>\n",
              "<style scoped>\n",
              "    .dataframe tbody tr th:only-of-type {\n",
              "        vertical-align: middle;\n",
              "    }\n",
              "\n",
              "    .dataframe tbody tr th {\n",
              "        vertical-align: top;\n",
              "    }\n",
              "\n",
              "    .dataframe thead th {\n",
              "        text-align: right;\n",
              "    }\n",
              "</style>\n",
              "<table border=\"1\" class=\"dataframe\">\n",
              "  <thead>\n",
              "    <tr style=\"text-align: right;\">\n",
              "      <th></th>\n",
              "      <th>828</th>\n",
              "    </tr>\n",
              "  </thead>\n",
              "  <tbody>\n",
              "    <tr>\n",
              "      <th>transactionId</th>\n",
              "      <td>1029192242</td>\n",
              "    </tr>\n",
              "    <tr>\n",
              "      <th>visitorId</th>\n",
              "      <td>570540961</td>\n",
              "    </tr>\n",
              "    <tr>\n",
              "      <th>date</th>\n",
              "      <td>2019-08-30</td>\n",
              "    </tr>\n",
              "    <tr>\n",
              "      <th>revenue</th>\n",
              "      <td>2690</td>\n",
              "    </tr>\n",
              "    <tr>\n",
              "      <th>group</th>\n",
              "      <td>B</td>\n",
              "    </tr>\n",
              "  </tbody>\n",
              "</table>\n",
              "</div>\n",
              "      <button class=\"colab-df-convert\" onclick=\"convertToInteractive('df-4bb7490c-c1ad-4046-b3cb-abbb200a43a8')\"\n",
              "              title=\"Convert this dataframe to an interactive table.\"\n",
              "              style=\"display:none;\">\n",
              "        \n",
              "  <svg xmlns=\"http://www.w3.org/2000/svg\" height=\"24px\"viewBox=\"0 0 24 24\"\n",
              "       width=\"24px\">\n",
              "    <path d=\"M0 0h24v24H0V0z\" fill=\"none\"/>\n",
              "    <path d=\"M18.56 5.44l.94 2.06.94-2.06 2.06-.94-2.06-.94-.94-2.06-.94 2.06-2.06.94zm-11 1L8.5 8.5l.94-2.06 2.06-.94-2.06-.94L8.5 2.5l-.94 2.06-2.06.94zm10 10l.94 2.06.94-2.06 2.06-.94-2.06-.94-.94-2.06-.94 2.06-2.06.94z\"/><path d=\"M17.41 7.96l-1.37-1.37c-.4-.4-.92-.59-1.43-.59-.52 0-1.04.2-1.43.59L10.3 9.45l-7.72 7.72c-.78.78-.78 2.05 0 2.83L4 21.41c.39.39.9.59 1.41.59.51 0 1.02-.2 1.41-.59l7.78-7.78 2.81-2.81c.8-.78.8-2.07 0-2.86zM5.41 20L4 18.59l7.72-7.72 1.47 1.35L5.41 20z\"/>\n",
              "  </svg>\n",
              "      </button>\n",
              "      \n",
              "  <style>\n",
              "    .colab-df-container {\n",
              "      display:flex;\n",
              "      flex-wrap:wrap;\n",
              "      gap: 12px;\n",
              "    }\n",
              "\n",
              "    .colab-df-convert {\n",
              "      background-color: #E8F0FE;\n",
              "      border: none;\n",
              "      border-radius: 50%;\n",
              "      cursor: pointer;\n",
              "      display: none;\n",
              "      fill: #1967D2;\n",
              "      height: 32px;\n",
              "      padding: 0 0 0 0;\n",
              "      width: 32px;\n",
              "    }\n",
              "\n",
              "    .colab-df-convert:hover {\n",
              "      background-color: #E2EBFA;\n",
              "      box-shadow: 0px 1px 2px rgba(60, 64, 67, 0.3), 0px 1px 3px 1px rgba(60, 64, 67, 0.15);\n",
              "      fill: #174EA6;\n",
              "    }\n",
              "\n",
              "    [theme=dark] .colab-df-convert {\n",
              "      background-color: #3B4455;\n",
              "      fill: #D2E3FC;\n",
              "    }\n",
              "\n",
              "    [theme=dark] .colab-df-convert:hover {\n",
              "      background-color: #434B5C;\n",
              "      box-shadow: 0px 1px 3px 1px rgba(0, 0, 0, 0.15);\n",
              "      filter: drop-shadow(0px 1px 2px rgba(0, 0, 0, 0.3));\n",
              "      fill: #FFFFFF;\n",
              "    }\n",
              "  </style>\n",
              "\n",
              "      <script>\n",
              "        const buttonEl =\n",
              "          document.querySelector('#df-4bb7490c-c1ad-4046-b3cb-abbb200a43a8 button.colab-df-convert');\n",
              "        buttonEl.style.display =\n",
              "          google.colab.kernel.accessAllowed ? 'block' : 'none';\n",
              "\n",
              "        async function convertToInteractive(key) {\n",
              "          const element = document.querySelector('#df-4bb7490c-c1ad-4046-b3cb-abbb200a43a8');\n",
              "          const dataTable =\n",
              "            await google.colab.kernel.invokeFunction('convertToInteractive',\n",
              "                                                     [key], {});\n",
              "          if (!dataTable) return;\n",
              "\n",
              "          const docLinkHtml = 'Like what you see? Visit the ' +\n",
              "            '<a target=\"_blank\" href=https://colab.research.google.com/notebooks/data_table.ipynb>data table notebook</a>'\n",
              "            + ' to learn more about interactive tables.';\n",
              "          element.innerHTML = '';\n",
              "          dataTable['output_type'] = 'display_data';\n",
              "          await google.colab.output.renderOutput(dataTable, element);\n",
              "          const docLink = document.createElement('div');\n",
              "          docLink.innerHTML = docLinkHtml;\n",
              "          element.appendChild(docLink);\n",
              "        }\n",
              "      </script>\n",
              "    </div>\n",
              "  </div>\n",
              "  "
            ]
          },
          "metadata": {}
        },
        {
          "output_type": "display_data",
          "data": {
            "text/plain": [
              "B    640\n",
              "A    557\n",
              "Name: group, dtype: int64"
            ]
          },
          "metadata": {}
        }
      ],
      "source": [
        "# Проверим данные\n",
        "df_info(orders)"
      ]
    },
    {
      "cell_type": "code",
      "execution_count": 18,
      "metadata": {
        "id": "we_38EphjxFK"
      },
      "outputs": [],
      "source": [
        "# приведем дату к верному формату\n",
        "orders['date'] = orders.date.astype('datetime64[D]')"
      ]
    },
    {
      "cell_type": "code",
      "execution_count": 19,
      "metadata": {
        "ExecuteTime": {
          "end_time": "2023-06-10T15:21:48.246109Z",
          "start_time": "2023-06-10T15:21:48.232106Z"
        },
        "colab": {
          "base_uri": "https://localhost:8080/"
        },
        "id": "F12v45v6Y0AX",
        "outputId": "7bdf6765-5fe6-4e84-fe78-3c94a2f88a78"
      },
      "outputs": [
        {
          "output_type": "stream",
          "name": "stdout",
          "text": [
            "2019-08-01 00:00:00 - 2019-08-31 00:00:00\n"
          ]
        }
      ],
      "source": [
        "# проверим период дат\n",
        "print(orders.date.min(),'-',orders.date.max())"
      ]
    },
    {
      "cell_type": "markdown",
      "metadata": {
        "id": "yVii7WLTXUf0"
      },
      "source": [
        "* **Пропусков и дубликатов нет. Количество транзакций группы B на более чем на 15% выше группы A**"
      ]
    },
    {
      "cell_type": "code",
      "execution_count": 20,
      "metadata": {
        "ExecuteTime": {
          "end_time": "2023-06-10T15:21:48.404153Z",
          "start_time": "2023-06-10T15:21:48.248110Z"
        },
        "colab": {
          "base_uri": "https://localhost:8080/",
          "height": 568
        },
        "id": "ES4nXpSGgxK7",
        "outputId": "ed21192c-208f-4dea-9d2f-dde7078f8b9d"
      },
      "outputs": [
        {
          "output_type": "display_data",
          "data": {
            "text/plain": [
              "<Figure size 1400x600 with 1 Axes>"
            ],
            "image/png": "[encoded data removed]"
          },
          "metadata": {}
        }
      ],
      "source": [
        "# посмотрим на изменение среднего чека по группам на протяжении теста\n",
        "ax = orders.groupby(by=['group','date'],as_index = False).mean().query(\"group =='A'\").plot(x = 'date',y = 'revenue',figsize=(14,6))\n",
        "orders.groupby(by=['group','date'],as_index = False).mean().query(\"group =='B'\").plot(x = 'date',y = 'revenue',ax = ax)\n",
        "plt.legend(['A','B'], title='Groups')\n",
        "plt.title(\"Динамика изменения средней выручки\")\n",
        "plt.gcf().autofmt_xdate()\n",
        "plt.show(ax)"
      ]
    },
    {
      "cell_type": "markdown",
      "metadata": {
        "id": "bEOMNmsVe_5E"
      },
      "source": [
        "* **можно заметить аномальный выброс по среднему показателю выручи в группе B что может исказить результаты теста. Необходимо выяснить причину столь высокой выручки в эту дату. Без учета этой аномалии показатели средней выручки колебались около среднего значения без четкой динамики и явного лидера**"
      ]
    },
    {
      "cell_type": "code",
      "execution_count": 21,
      "metadata": {
        "ExecuteTime": {
          "end_time": "2023-06-10T15:21:48.419307Z",
          "start_time": "2023-06-10T15:21:48.405154Z"
        },
        "colab": {
          "base_uri": "https://localhost:8080/"
        },
        "id": "cI9lqL-wCMHi",
        "outputId": "78632100-6709-4ad6-ca12-ff5d268b624a"
      },
      "outputs": [
        {
          "output_type": "execute_result",
          "data": {
            "text/plain": [
              "58"
            ]
          },
          "metadata": {},
          "execution_count": 21
        }
      ],
      "source": [
        "# проверим группы на пересечение уникальных пользователей\n",
        "A = orders.query(\"group == 'A'\" ).visitorId\n",
        "cross_users = orders.query(\"group =='B' and visitorId in @A\").visitorId.unique()\n",
        "len(orders.query(\"group =='B' and visitorId in @A\").visitorId.unique())"
      ]
    },
    {
      "cell_type": "markdown",
      "metadata": {
        "id": "LRCGVxf9hiXO"
      },
      "source": [
        "* **Можно заметить что 58 уникальных пользователей были в обеих группах, что может исказить результаты теста.**"
      ]
    },
    {
      "cell_type": "code",
      "execution_count": 22,
      "metadata": {
        "ExecuteTime": {
          "end_time": "2023-06-10T15:21:48.451172Z",
          "start_time": "2023-06-10T15:21:48.420160Z"
        },
        "colab": {
          "base_uri": "https://localhost:8080/",
          "height": 143
        },
        "id": "M91z7mv3l_S5",
        "outputId": "552fe276-7de3-4c7a-83ea-2abc025ed927"
      },
      "outputs": [
        {
          "output_type": "execute_result",
          "data": {
            "text/plain": [
              "       visitorId\n",
              "group           \n",
              "A       0.130337\n",
              "B       0.109848"
            ],
            "text/html": [
              "\n",
              "  <div id=\"df-23c41839-11bf-4491-9c63-6f0e36907b67\">\n",
              "    <div class=\"colab-df-container\">\n",
              "      <div>\n",
              "<style scoped>\n",
              "    .dataframe tbody tr th:only-of-type {\n",
              "        vertical-align: middle;\n",
              "    }\n",
              "\n",
              "    .dataframe tbody tr th {\n",
              "        vertical-align: top;\n",
              "    }\n",
              "\n",
              "    .dataframe thead th {\n",
              "        text-align: right;\n",
              "    }\n",
              "</style>\n",
              "<table border=\"1\" class=\"dataframe\">\n",
              "  <thead>\n",
              "    <tr style=\"text-align: right;\">\n",
              "      <th></th>\n",
              "      <th>visitorId</th>\n",
              "    </tr>\n",
              "    <tr>\n",
              "      <th>group</th>\n",
              "      <th></th>\n",
              "    </tr>\n",
              "  </thead>\n",
              "  <tbody>\n",
              "    <tr>\n",
              "      <th>A</th>\n",
              "      <td>0.130337</td>\n",
              "    </tr>\n",
              "    <tr>\n",
              "      <th>B</th>\n",
              "      <td>0.109848</td>\n",
              "    </tr>\n",
              "  </tbody>\n",
              "</table>\n",
              "</div>\n",
              "      <button class=\"colab-df-convert\" onclick=\"convertToInteractive('df-23c41839-11bf-4491-9c63-6f0e36907b67')\"\n",
              "              title=\"Convert this dataframe to an interactive table.\"\n",
              "              style=\"display:none;\">\n",
              "        \n",
              "  <svg xmlns=\"http://www.w3.org/2000/svg\" height=\"24px\"viewBox=\"0 0 24 24\"\n",
              "       width=\"24px\">\n",
              "    <path d=\"M0 0h24v24H0V0z\" fill=\"none\"/>\n",
              "    <path d=\"M18.56 5.44l.94 2.06.94-2.06 2.06-.94-2.06-.94-.94-2.06-.94 2.06-2.06.94zm-11 1L8.5 8.5l.94-2.06 2.06-.94-2.06-.94L8.5 2.5l-.94 2.06-2.06.94zm10 10l.94 2.06.94-2.06 2.06-.94-2.06-.94-.94-2.06-.94 2.06-2.06.94z\"/><path d=\"M17.41 7.96l-1.37-1.37c-.4-.4-.92-.59-1.43-.59-.52 0-1.04.2-1.43.59L10.3 9.45l-7.72 7.72c-.78.78-.78 2.05 0 2.83L4 21.41c.39.39.9.59 1.41.59.51 0 1.02-.2 1.41-.59l7.78-7.78 2.81-2.81c.8-.78.8-2.07 0-2.86zM5.41 20L4 18.59l7.72-7.72 1.47 1.35L5.41 20z\"/>\n",
              "  </svg>\n",
              "      </button>\n",
              "      \n",
              "  <style>\n",
              "    .colab-df-container {\n",
              "      display:flex;\n",
              "      flex-wrap:wrap;\n",
              "      gap: 12px;\n",
              "    }\n",
              "\n",
              "    .colab-df-convert {\n",
              "      background-color: #E8F0FE;\n",
              "      border: none;\n",
              "      border-radius: 50%;\n",
              "      cursor: pointer;\n",
              "      display: none;\n",
              "      fill: #1967D2;\n",
              "      height: 32px;\n",
              "      padding: 0 0 0 0;\n",
              "      width: 32px;\n",
              "    }\n",
              "\n",
              "    .colab-df-convert:hover {\n",
              "      background-color: #E2EBFA;\n",
              "      box-shadow: 0px 1px 2px rgba(60, 64, 67, 0.3), 0px 1px 3px 1px rgba(60, 64, 67, 0.15);\n",
              "      fill: #174EA6;\n",
              "    }\n",
              "\n",
              "    [theme=dark] .colab-df-convert {\n",
              "      background-color: #3B4455;\n",
              "      fill: #D2E3FC;\n",
              "    }\n",
              "\n",
              "    [theme=dark] .colab-df-convert:hover {\n",
              "      background-color: #434B5C;\n",
              "      box-shadow: 0px 1px 3px 1px rgba(0, 0, 0, 0.15);\n",
              "      filter: drop-shadow(0px 1px 2px rgba(0, 0, 0, 0.3));\n",
              "      fill: #FFFFFF;\n",
              "    }\n",
              "  </style>\n",
              "\n",
              "      <script>\n",
              "        const buttonEl =\n",
              "          document.querySelector('#df-23c41839-11bf-4491-9c63-6f0e36907b67 button.colab-df-convert');\n",
              "        buttonEl.style.display =\n",
              "          google.colab.kernel.accessAllowed ? 'block' : 'none';\n",
              "\n",
              "        async function convertToInteractive(key) {\n",
              "          const element = document.querySelector('#df-23c41839-11bf-4491-9c63-6f0e36907b67');\n",
              "          const dataTable =\n",
              "            await google.colab.kernel.invokeFunction('convertToInteractive',\n",
              "                                                     [key], {});\n",
              "          if (!dataTable) return;\n",
              "\n",
              "          const docLinkHtml = 'Like what you see? Visit the ' +\n",
              "            '<a target=\"_blank\" href=https://colab.research.google.com/notebooks/data_table.ipynb>data table notebook</a>'\n",
              "            + ' to learn more about interactive tables.';\n",
              "          element.innerHTML = '';\n",
              "          dataTable['output_type'] = 'display_data';\n",
              "          await google.colab.output.renderOutput(dataTable, element);\n",
              "          const docLink = document.createElement('div');\n",
              "          docLink.innerHTML = docLinkHtml;\n",
              "          element.appendChild(docLink);\n",
              "        }\n",
              "      </script>\n",
              "    </div>\n",
              "  </div>\n",
              "  "
            ]
          },
          "metadata": {},
          "execution_count": 22
        }
      ],
      "source": [
        "# проверим долю этих пользователей по группам\n",
        "orders.query(\"visitorId in  @cross_users\").groupby(by ='group').nunique()[['visitorId']]/orders.query(\"visitorId  not in  @cross_users\").groupby(by ='group').nunique()[['visitorId']]"
      ]
    },
    {
      "cell_type": "code",
      "execution_count": 23,
      "metadata": {
        "ExecuteTime": {
          "end_time": "2023-06-10T15:21:48.467175Z",
          "start_time": "2023-06-10T15:21:48.452172Z"
        },
        "colab": {
          "base_uri": "https://localhost:8080/",
          "height": 143
        },
        "id": "myLN6aZGh145",
        "outputId": "2ad75fd3-2814-4f82-be11-1a386d68229e"
      },
      "outputs": [
        {
          "output_type": "execute_result",
          "data": {
            "text/plain": [
              "       transactionId\n",
              "group               \n",
              "A           0.190171\n",
              "B           0.167883"
            ],
            "text/html": [
              "\n",
              "  <div id=\"df-7805ccdb-b591-4b97-9217-8bb8f84e3fbb\">\n",
              "    <div class=\"colab-df-container\">\n",
              "      <div>\n",
              "<style scoped>\n",
              "    .dataframe tbody tr th:only-of-type {\n",
              "        vertical-align: middle;\n",
              "    }\n",
              "\n",
              "    .dataframe tbody tr th {\n",
              "        vertical-align: top;\n",
              "    }\n",
              "\n",
              "    .dataframe thead th {\n",
              "        text-align: right;\n",
              "    }\n",
              "</style>\n",
              "<table border=\"1\" class=\"dataframe\">\n",
              "  <thead>\n",
              "    <tr style=\"text-align: right;\">\n",
              "      <th></th>\n",
              "      <th>transactionId</th>\n",
              "    </tr>\n",
              "    <tr>\n",
              "      <th>group</th>\n",
              "      <th></th>\n",
              "    </tr>\n",
              "  </thead>\n",
              "  <tbody>\n",
              "    <tr>\n",
              "      <th>A</th>\n",
              "      <td>0.190171</td>\n",
              "    </tr>\n",
              "    <tr>\n",
              "      <th>B</th>\n",
              "      <td>0.167883</td>\n",
              "    </tr>\n",
              "  </tbody>\n",
              "</table>\n",
              "</div>\n",
              "      <button class=\"colab-df-convert\" onclick=\"convertToInteractive('df-7805ccdb-b591-4b97-9217-8bb8f84e3fbb')\"\n",
              "              title=\"Convert this dataframe to an interactive table.\"\n",
              "              style=\"display:none;\">\n",
              "        \n",
              "  <svg xmlns=\"http://www.w3.org/2000/svg\" height=\"24px\"viewBox=\"0 0 24 24\"\n",
              "       width=\"24px\">\n",
              "    <path d=\"M0 0h24v24H0V0z\" fill=\"none\"/>\n",
              "    <path d=\"M18.56 5.44l.94 2.06.94-2.06 2.06-.94-2.06-.94-.94-2.06-.94 2.06-2.06.94zm-11 1L8.5 8.5l.94-2.06 2.06-.94-2.06-.94L8.5 2.5l-.94 2.06-2.06.94zm10 10l.94 2.06.94-2.06 2.06-.94-2.06-.94-.94-2.06-.94 2.06-2.06.94z\"/><path d=\"M17.41 7.96l-1.37-1.37c-.4-.4-.92-.59-1.43-.59-.52 0-1.04.2-1.43.59L10.3 9.45l-7.72 7.72c-.78.78-.78 2.05 0 2.83L4 21.41c.39.39.9.59 1.41.59.51 0 1.02-.2 1.41-.59l7.78-7.78 2.81-2.81c.8-.78.8-2.07 0-2.86zM5.41 20L4 18.59l7.72-7.72 1.47 1.35L5.41 20z\"/>\n",
              "  </svg>\n",
              "      </button>\n",
              "      \n",
              "  <style>\n",
              "    .colab-df-container {\n",
              "      display:flex;\n",
              "      flex-wrap:wrap;\n",
              "      gap: 12px;\n",
              "    }\n",
              "\n",
              "    .colab-df-convert {\n",
              "      background-color: #E8F0FE;\n",
              "      border: none;\n",
              "      border-radius: 50%;\n",
              "      cursor: pointer;\n",
              "      display: none;\n",
              "      fill: #1967D2;\n",
              "      height: 32px;\n",
              "      padding: 0 0 0 0;\n",
              "      width: 32px;\n",
              "    }\n",
              "\n",
              "    .colab-df-convert:hover {\n",
              "      background-color: #E2EBFA;\n",
              "      box-shadow: 0px 1px 2px rgba(60, 64, 67, 0.3), 0px 1px 3px 1px rgba(60, 64, 67, 0.15);\n",
              "      fill: #174EA6;\n",
              "    }\n",
              "\n",
              "    [theme=dark] .colab-df-convert {\n",
              "      background-color: #3B4455;\n",
              "      fill: #D2E3FC;\n",
              "    }\n",
              "\n",
              "    [theme=dark] .colab-df-convert:hover {\n",
              "      background-color: #434B5C;\n",
              "      box-shadow: 0px 1px 3px 1px rgba(0, 0, 0, 0.15);\n",
              "      filter: drop-shadow(0px 1px 2px rgba(0, 0, 0, 0.3));\n",
              "      fill: #FFFFFF;\n",
              "    }\n",
              "  </style>\n",
              "\n",
              "      <script>\n",
              "        const buttonEl =\n",
              "          document.querySelector('#df-7805ccdb-b591-4b97-9217-8bb8f84e3fbb button.colab-df-convert');\n",
              "        buttonEl.style.display =\n",
              "          google.colab.kernel.accessAllowed ? 'block' : 'none';\n",
              "\n",
              "        async function convertToInteractive(key) {\n",
              "          const element = document.querySelector('#df-7805ccdb-b591-4b97-9217-8bb8f84e3fbb');\n",
              "          const dataTable =\n",
              "            await google.colab.kernel.invokeFunction('convertToInteractive',\n",
              "                                                     [key], {});\n",
              "          if (!dataTable) return;\n",
              "\n",
              "          const docLinkHtml = 'Like what you see? Visit the ' +\n",
              "            '<a target=\"_blank\" href=https://colab.research.google.com/notebooks/data_table.ipynb>data table notebook</a>'\n",
              "            + ' to learn more about interactive tables.';\n",
              "          element.innerHTML = '';\n",
              "          dataTable['output_type'] = 'display_data';\n",
              "          await google.colab.output.renderOutput(dataTable, element);\n",
              "          const docLink = document.createElement('div');\n",
              "          docLink.innerHTML = docLinkHtml;\n",
              "          element.appendChild(docLink);\n",
              "        }\n",
              "      </script>\n",
              "    </div>\n",
              "  </div>\n",
              "  "
            ]
          },
          "metadata": {},
          "execution_count": 23
        }
      ],
      "source": [
        "# проверим долю транзакций этих пользователей по группам\n",
        "orders.query(\"visitorId in  @cross_users\").groupby(by ='group').count()[['transactionId']]/orders.query(\"visitorId  not in  @cross_users\").groupby(by ='group').count()[['transactionId']]"
      ]
    },
    {
      "cell_type": "markdown",
      "metadata": {
        "id": "gCrlDvdhmcnq"
      },
      "source": [
        "* **Пересекающиеся пользователи составляют 13 и 11 процентов от общего их числа  в группах A и B соответственно, они совершили 19 и 17 процентов транзакций. Это довольно высокие показатели которые ставят под сомнение результаты теста, также у нас нет возможности удалить пересекающихся пользователей из обеих таблиц ввиду отсутствия их id в таблице visitors. Для более привильноги и глубокого анализа целесообразнее использовать не агрегированную таблицу с поситителями где будут сохранены их id**"
      ]
    },
    {
      "cell_type": "markdown",
      "metadata": {
        "id": "FqYHzwJfjxFU"
      },
      "source": [
        "# Вывод по итогам предобработки:\n",
        "* **Дубликатов и пропусков в данных не обнаружено**\n",
        "\n",
        "* **Количество посетителей циклически менялось в течение месяца подобным образом в обеих группах без явной динамики**\n",
        "* **Тест проходил на протяжении августа месяца, что может поставить под сомнение его результаты ввиду изменения потребительской активности перед началом учебного сезона**\n",
        "* **Количество транзакций группы B на более чем на 15% выше группы A, что может подтолкнуть к мысли о более высокой общей конверсии в ней**\n",
        "* **Обнаружен аномальный выброс по среднему показателю выручи в группе B что может исказить результаты теста. Необходимо выяснить причину столь высокой выручки в эту дату. Без учета этой аномалии показатели средней выручки колебались около среднего значения без четкой динамики и явного лидера**\n",
        "* **Можно заметить что 58 уникальных пользователей были в обеих группах, что может исказить результаты теста.**\n",
        "* **Пересекающиеся пользователи составляют 13 и 11 процентов от общего их числа  в группах A и B соответственно, они совершили 19 и 17 процентов транзакций. Это довольно высокие показатели которые ставят под сомнение результаты теста, также у нас нет возможности удалить пересекающихся пользователей из обеих таблиц ввиду отсутствия их id в таблице visitors. Для более плевельного и глубокого анализа целесообразнее использовать не агрегированную таблицу с посетителями где будут сохранены их id**"
      ]
    },
    {
      "cell_type": "markdown",
      "metadata": {
        "id": "mZ4Mh_WZnNj8"
      },
      "source": [
        "## Анализ кумулятивных метрик по результатам теста"
      ]
    },
    {
      "cell_type": "markdown",
      "metadata": {
        "id": "Ke-AwQrOnbKy"
      },
      "source": [
        "### Соберем данные из двух таблиц и посчитаем кумулятивные показатели"
      ]
    },
    {
      "cell_type": "code",
      "execution_count": 24,
      "metadata": {
        "ExecuteTime": {
          "end_time": "2023-06-10T15:21:48.625555Z",
          "start_time": "2023-06-10T15:21:48.468176Z"
        },
        "colab": {
          "base_uri": "https://localhost:8080/"
        },
        "id": "sv_Bje5jkVmo",
        "outputId": "4be44e2d-395e-4560-e88e-ff832ccd7cc3"
      },
      "outputs": [
        {
          "output_type": "stream",
          "name": "stdout",
          "text": [
            "        date group  orders  buyers  revenue  visitors\n",
            "0 2019-08-01     A      24      20   148579       719\n",
            "1 2019-08-01     B      21      20   101217       713\n",
            "2 2019-08-02     A      44      38   242401      1338\n",
            "3 2019-08-02     B      45      43   266748      1294\n",
            "4 2019-08-03     A      68      62   354874      1845\n",
            "5 2019-08-03     B      61      59   380996      1803\n",
            "6 2019-08-04     A      84      77   425699      2562\n",
            "7 2019-08-04     B      78      75   489567      2573\n",
            "8 2019-08-05     A     109     100   549917      3318\n",
            "9 2019-08-05     B     101      98   581995      3280\n"
          ]
        }
      ],
      "source": [
        "# create gata_grop_unique dataset\n",
        "datesGroups = orders[['date','group']].drop_duplicates()\n",
        "\n",
        "# cereate ord_aggregated dataframe\n",
        "ordersAggregated = datesGroups.apply(lambda x: orders[np.logical_and(orders['date'] <= x['date'], orders['group'] == x['group'])]\\\n",
        "                                     .agg({'date' : 'max', 'group' : 'max', 'transactionId' : 'nunique', 'visitorId' : 'nunique', 'revenue' : 'sum'}), axis=1).sort_values(by=['date','group']).sort_values(by=['date','group'])\n",
        "\n",
        "# create visitors aggregated dataframe\n",
        "visitorsAggregated = datesGroups.apply(lambda x: visitors[np.logical_and(visitors['date'] <= x['date'], visitors['group'] == x['group'])].agg({'date' : 'max', 'group' : 'max', 'visitors' : 'sum'}), axis=1).sort_values(by=['date','group']).sort_values(by=['date','group'])\n",
        "\n",
        "\n",
        "# create cululative data table\n",
        "cumulativeData = ordersAggregated.merge(visitorsAggregated, left_on=['date', 'group'], right_on=['date', 'group'])\n",
        "cumulativeData.columns = ['date', 'group', 'orders', 'buyers', 'revenue', 'visitors']\n",
        "\n",
        "print(cumulativeData.head(10))"
      ]
    },
    {
      "cell_type": "markdown",
      "metadata": {
        "id": "SOZ_1xK-oLte"
      },
      "source": [
        "### Построим график кумулятивной выручки по группам теста"
      ]
    },
    {
      "cell_type": "code",
      "execution_count": 25,
      "metadata": {
        "ExecuteTime": {
          "end_time": "2023-06-10T15:21:48.769588Z",
          "start_time": "2023-06-10T15:21:48.626557Z"
        },
        "colab": {
          "base_uri": "https://localhost:8080/",
          "height": 568
        },
        "id": "Vr6by0dlD9cM",
        "outputId": "7653d2e6-0a88-4f8f-df6a-017877a2e658"
      },
      "outputs": [
        {
          "output_type": "display_data",
          "data": {
            "text/plain": [
              "<Figure size 1400x600 with 1 Axes>"
            ],
            "image/png": "[encoded data removed]"
          },
          "metadata": {}
        }
      ],
      "source": [
        "# построим график\n",
        "ax = cumulativeData.query(\"group =='A'\").plot(x = 'date', y = 'revenue', figsize=(14,6))\n",
        "cumulativeData.query(\"group =='B'\").plot(x = 'date', y = 'revenue',ax = ax)\n",
        "plt.legend(['A','B'],title = 'Groups')\n",
        "\n",
        "plt.title('Динамика кумулятивной выручки')\n",
        "plt.xlabel('Дата')\n",
        "plt.yticks(fontsize=10)\n",
        "plt.ylabel('Выручка')\n",
        "plt.yticks(rotation=0)\n",
        "\n",
        "plt.gcf().autofmt_xdate()\n",
        "plt.show(ax)"
      ]
    },
    {
      "cell_type": "markdown",
      "metadata": {
        "id": "7OWA5ZsZoXi0"
      },
      "source": [
        "* **Кумулятивный показатель выручки стабильно растет, с незначительным превышением в группе B. Однако в середине теста можно заметить резкий всплеск показателя, который судя по всему вызван аномально дорогим заказом или заказами**"
      ]
    },
    {
      "cell_type": "markdown",
      "metadata": {
        "id": "sDisQIlgpSK7"
      },
      "source": [
        "### Построим кумулятивный график среднего чека на заказ по группам"
      ]
    },
    {
      "cell_type": "code",
      "execution_count": 26,
      "metadata": {
        "ExecuteTime": {
          "end_time": "2023-06-10T15:21:49.120700Z",
          "start_time": "2023-06-10T15:21:48.770589Z"
        },
        "colab": {
          "base_uri": "https://localhost:8080/",
          "height": 548
        },
        "id": "1BmpUwofD9hV",
        "outputId": "3785ac0d-4ea0-4f7e-f446-5b5d8569b14f"
      },
      "outputs": [
        {
          "output_type": "display_data",
          "data": {
            "text/plain": [
              "<Figure size 1500x600 with 1 Axes>"
            ],
            "image/png": "[encoded data removed]"
          },
          "metadata": {}
        }
      ],
      "source": [
        "# выделим данные и построим график\n",
        "ordersAggregated = datesGroups.apply(\n",
        "    lambda x: orders[\n",
        "        np.logical_and(\n",
        "            orders['date'] <= x['date'], orders['group'] == x['group']\n",
        "        )\n",
        "    ].agg(\n",
        "        {\n",
        "            'date': 'max',\n",
        "            'group': 'max',\n",
        "            'transactionId': 'nunique',\n",
        "            'visitorId': 'nunique',\n",
        "            'revenue': 'sum',\n",
        "        }\n",
        "    ),\n",
        "    axis=1,\n",
        ").sort_values(by=['date', 'group'])\n",
        "\n",
        "visitorsAggregated = datesGroups.apply(\n",
        "    lambda x: visitors[\n",
        "        np.logical_and(\n",
        "            visitors['date'] <= x['date'], visitors['group'] == x['group']\n",
        "        )\n",
        "    ].agg({'date': 'max', 'group': 'max', 'visitors': 'sum'}),\n",
        "    axis=1,\n",
        ").sort_values(by=['date', 'group'])\n",
        "\n",
        "cumulativeData = ordersAggregated.merge(\n",
        "    visitorsAggregated, left_on=['date', 'group'], right_on=['date', 'group']\n",
        ")\n",
        "cumulativeData.columns = [\n",
        "    'date',\n",
        "    'group',\n",
        "    'orders',\n",
        "    'buyers',\n",
        "    'revenue',\n",
        "    'visitors',\n",
        "]\n",
        "\n",
        "cumulativeRevenueA = cumulativeData[cumulativeData['group'] == 'A'][\n",
        "    ['date', 'revenue', 'orders']\n",
        "]\n",
        "cumulativeRevenueB = cumulativeData[cumulativeData['group'] == 'B'][\n",
        "    ['date', 'revenue', 'orders']\n",
        "]\n",
        "\n",
        "plt.figure(figsize=(15,6))\n",
        "ax = plt.plot(cumulativeRevenueA['date'], cumulativeRevenueA['revenue']/cumulativeRevenueA['orders'], label='A')\n",
        "plt.plot(cumulativeRevenueB['date'], cumulativeRevenueB['revenue']/cumulativeRevenueB['orders'], label='B')\n",
        "\n",
        "plt.legend(['A','B'],title = 'Groups')\n",
        "plt.title('Динамика кумулятивного среднего чека на заказ')\n",
        "plt.xlabel('Дата')\n",
        "plt.yticks(fontsize=10)\n",
        "plt.ylabel('Средний чек')\n",
        "plt.yticks(rotation=0)\n",
        "\n",
        "plt.gcf().autofmt_xdate()\n",
        "plt.show(ax)"
      ]
    },
    {
      "cell_type": "markdown",
      "metadata": {
        "id": "DY08mxR9pxH8"
      },
      "source": [
        "* **На графике можно заметить нестабильный показатель среднего чека по всему периоду теста, причем до 19 числа мы видим волнообразные изменения в обеих группах без явного лидера, далее резкий скачок в группе B 19 числа ввиду аномальной покупки с последующим плавным спадом до конца теста. Тогда как в группе A после 18 числа нет явной динамики и аномалий и лишь небольшой плавный рост под конец теста.**"
      ]
    },
    {
      "cell_type": "markdown",
      "metadata": {
        "id": "wHSEt3BbrYZ8"
      },
      "source": [
        "### Построим график относительного изменения кумулятивного среднего чека группы B к группе A."
      ]
    },
    {
      "cell_type": "code",
      "execution_count": 27,
      "metadata": {
        "ExecuteTime": {
          "end_time": "2023-06-10T15:21:49.471200Z",
          "start_time": "2023-06-10T15:21:49.121701Z"
        },
        "colab": {
          "base_uri": "https://localhost:8080/",
          "height": 548
        },
        "id": "Bj8p_O3Xr7-5",
        "outputId": "dcc7d083-2ff6-4b75-9598-f6f888c7fc31"
      },
      "outputs": [
        {
          "output_type": "display_data",
          "data": {
            "text/plain": [
              "<Figure size 1500x600 with 1 Axes>"
            ],
            "image/png": "[encoded data removed]"
          },
          "metadata": {}
        }
      ],
      "source": [
        "ordersAggregated = datesGroups.apply(\n",
        "    lambda x: orders[\n",
        "        np.logical_and(\n",
        "            orders['date'] <= x['date'], orders['group'] == x['group']\n",
        "        )\n",
        "    ].agg(\n",
        "        {\n",
        "            'date': 'max',\n",
        "            'group': 'max',\n",
        "            'transactionId': 'nunique',\n",
        "            'visitorId': 'nunique',\n",
        "            'revenue': 'sum',\n",
        "        }\n",
        "    ),\n",
        "    axis=1,\n",
        ").sort_values(by=['date', 'group'])\n",
        "\n",
        "visitorsAggregated = datesGroups.apply(\n",
        "    lambda x: visitors[\n",
        "        np.logical_and(\n",
        "            visitors['date'] <= x['date'], visitors['group'] == x['group']\n",
        "        )\n",
        "    ].agg({'date': 'max', 'group': 'max', 'visitors': 'sum'}),\n",
        "    axis=1,\n",
        ").sort_values(by=['date', 'group'])\n",
        "\n",
        "cumulativeData = ordersAggregated.merge(\n",
        "    visitorsAggregated, left_on=['date', 'group'], right_on=['date', 'group']\n",
        ")\n",
        "cumulativeData.columns = [\n",
        "    'date',\n",
        "    'group',\n",
        "    'orders',\n",
        "    'buyers',\n",
        "    'revenue',\n",
        "    'visitors',\n",
        "]\n",
        "\n",
        "cumulativeRevenueA = cumulativeData[cumulativeData['group'] == 'A'][\n",
        "    ['date', 'revenue', 'orders']\n",
        "]\n",
        "cumulativeRevenueB = cumulativeData[cumulativeData['group'] == 'B'][\n",
        "    ['date', 'revenue', 'orders']\n",
        "]\n",
        "\n",
        "# собираем данные в одном датафрейме\n",
        "mergedCumulativeRevenue = cumulativeRevenueA.merge(cumulativeRevenueB, left_on='date', right_on='date', how='left', suffixes=['A', 'B'])\n",
        "\n",
        "# cтроим отношение средних чеков\n",
        "plt.figure(figsize=(15,6))\n",
        "plt.plot(mergedCumulativeRevenue['date'], (mergedCumulativeRevenue['revenueB']/mergedCumulativeRevenue['ordersB'])/(mergedCumulativeRevenue['revenueA']/mergedCumulativeRevenue['ordersA'])-1)\n",
        "\n",
        "# добавляем ось X\n",
        "plt.axhline(y=0, color='black', linestyle='--')\n",
        "\n",
        "plt.legend([\"Отношение среднего чека\"])\n",
        "plt.title('Динамика отношения кумулятивного среднего чека группы B к группе A')\n",
        "plt.xlabel('Дата')\n",
        "plt.yticks(fontsize=10)\n",
        "plt.ylabel('Прирост')\n",
        "plt.yticks(rotation=0)\n",
        "plt.gcf().autofmt_xdate()\n",
        "plt.show(ax)"
      ]
    },
    {
      "cell_type": "markdown",
      "metadata": {
        "id": "lD_VP5-ltF2w"
      },
      "source": [
        "* **На графике нет явного лидера, метрики не стабильны, к тому же видна аномальная покупка 19 числа**"
      ]
    },
    {
      "cell_type": "markdown",
      "metadata": {
        "id": "f_dW9OCNtwpV"
      },
      "source": [
        "###  Построим график кумулятивного среднего количества заказов на посетителя по группам"
      ]
    },
    {
      "cell_type": "code",
      "execution_count": 28,
      "metadata": {
        "ExecuteTime": {
          "end_time": "2023-06-10T15:21:49.695250Z",
          "start_time": "2023-06-10T15:21:49.472201Z"
        },
        "colab": {
          "base_uri": "https://localhost:8080/",
          "height": 548
        },
        "id": "YjjgKqfj_2jn",
        "outputId": "649b38f6-f5ba-45b5-8ec8-0d9ef2d4ab96"
      },
      "outputs": [
        {
          "output_type": "display_data",
          "data": {
            "text/plain": [
              "<Figure size 1500x600 with 1 Axes>"
            ],
            "image/png": "[encoded data removed]"
          },
          "metadata": {}
        }
      ],
      "source": [
        "# считаем кумулятивную конверсию\n",
        "cumulativeData['conversion'] = cumulativeData['orders']/cumulativeData['visitors']\n",
        "\n",
        "# отделяем данные по группе A\n",
        "cumulativeDataA = cumulativeData[cumulativeData['group']=='A']\n",
        "\n",
        "# отделяем данные по группе B\n",
        "cumulativeDataB = cumulativeData[cumulativeData['group']=='B']\n",
        "\n",
        "# строим графики\n",
        "plt.figure(figsize=(15,6))\n",
        "plt.plot(cumulativeDataA['date'], cumulativeDataA['conversion'], label='A')\n",
        "plt.plot(cumulativeDataB['date'], cumulativeDataB['conversion'], label='B')\n",
        "plt.legend(['A','B'],title = 'Groups')\n",
        "plt.title('Динамика кумулятивного среднего количества заказов на посетителя по группам')\n",
        "plt.xlabel('Дата')\n",
        "plt.yticks(fontsize=10)\n",
        "plt.ylabel('Среднее количество заказов')\n",
        "plt.yticks(rotation=0)\n",
        "plt.gcf().autofmt_xdate()\n",
        "plt.show(ax)\n",
        "# задаем масштаб осей"
      ]
    },
    {
      "cell_type": "markdown",
      "metadata": {
        "id": "342UIDE2uQkX"
      },
      "source": [
        "* **В первую неделю показатели среднего количества заказов на посетителя очень нестабильны, далее мы наблюдаем относительную их стабилизацию и явное превышение показателя в группе B до конца всего теста**"
      ]
    },
    {
      "cell_type": "markdown",
      "metadata": {
        "id": "V4FPG-no0-aE"
      },
      "source": [
        "### Построим график отношения среднего количества заказов на посетителя группы В к группе А"
      ]
    },
    {
      "cell_type": "code",
      "execution_count": 29,
      "metadata": {
        "ExecuteTime": {
          "end_time": "2023-06-10T15:21:49.919420Z",
          "start_time": "2023-06-10T15:21:49.696250Z"
        },
        "colab": {
          "base_uri": "https://localhost:8080/",
          "height": 548
        },
        "id": "T_BejMIKAwnw",
        "outputId": "45c3a071-96e9-4ca3-9e87-4d2a1b272771"
      },
      "outputs": [
        {
          "output_type": "display_data",
          "data": {
            "text/plain": [
              "<Figure size 1500x600 with 1 Axes>"
            ],
            "image/png": "[encoded data removed]"
          },
          "metadata": {}
        }
      ],
      "source": [
        "# выделим данные и построим график\n",
        "mergedCumulativeConversions = cumulativeDataA[['date','conversion']].merge(cumulativeDataB[['date','conversion']], left_on='date', right_on='date', how='left', suffixes=['A', 'B'])\n",
        "\n",
        "plt.figure(figsize=(15,6))\n",
        "plt.plot(mergedCumulativeConversions['date'], mergedCumulativeConversions['conversionB']/mergedCumulativeConversions['conversionA']-1, label=\"Относительный прирост конверсии группы B относительно группы A\")\n",
        "\n",
        "plt.axhline(y=0, color='black', linestyle='--')\n",
        "plt.axhline(y = 0.1, color='grey', linestyle='--')\n",
        "plt.legend(['Относительный прирост среднего количетва заказов на посетителя группы В к группе А'])\n",
        "plt.title('Динамика отношения среднего количества заказов на посетителя группы В к группе А')\n",
        "plt.xlabel('Дата')\n",
        "plt.yticks(fontsize=10)\n",
        "plt.ylabel('Прирост')\n",
        "plt.yticks(rotation=0)\n",
        "plt.gcf().autofmt_xdate()\n",
        "plt.show(ax)"
      ]
    },
    {
      "cell_type": "markdown",
      "metadata": {
        "id": "HPJpbxmT1v3D"
      },
      "source": [
        "* **На графике отношения среднего количества заказов на посетителя группы В к группе А видно увеличение показателя после первой нестабильной недели теста с последующей стабилизации на уровне 10 процентов.**"
      ]
    },
    {
      "cell_type": "markdown",
      "metadata": {
        "id": "T3U61mb63FDf"
      },
      "source": [
        "### Построим график распределения количества заказов на пользователя по общей выборке"
      ]
    },
    {
      "cell_type": "code",
      "execution_count": 30,
      "metadata": {
        "ExecuteTime": {
          "end_time": "2023-06-10T15:21:50.031098Z",
          "start_time": "2023-06-10T15:21:49.924413Z"
        },
        "colab": {
          "base_uri": "https://localhost:8080/",
          "height": 732
        },
        "id": "7dd_fL5KB3Ru",
        "outputId": "90d4693b-ffbe-4836-b07d-98e9fc30888e"
      },
      "outputs": [
        {
          "output_type": "stream",
          "name": "stdout",
          "text": [
            "          userId  orders\n",
            "1023  4256040402      11\n",
            "591   2458001652      11\n",
            "569   2378935119       9\n",
            "487   2038680547       8\n",
            "44     199603092       5\n",
            "744   3062433592       5\n",
            "55     237748145       5\n",
            "917   3803269165       5\n",
            "299   1230306981       5\n",
            "897   3717692402       5\n"
          ]
        },
        {
          "output_type": "display_data",
          "data": {
            "text/plain": [
              "<Figure size 900x600 with 1 Axes>"
            ],
            "image/png": "[encoded data removed]"
          },
          "metadata": {}
        }
      ],
      "source": [
        "# выделим данные и построим графиг\n",
        "ordersByUsers = (\n",
        "    orders.groupby('visitorId', as_index=False)\n",
        "    .agg({'transactionId': 'nunique'})\n",
        ")\n",
        "ordersByUsers.columns = ['userId', 'orders']\n",
        "\n",
        "print(ordersByUsers.sort_values(by='orders', ascending=False).head(10))\n",
        "\n",
        "# серия из чисел от 0 до количества наблюдений в ordersByUsers\n",
        "x_values = pd.Series(range(0, len(ordersByUsers)))\n",
        "\n",
        "plt.figure(figsize=(9,6))\n",
        "plt.scatter(x_values, ordersByUsers['orders'])\n",
        "plt.title('Распределения количества заказов на пользователя по общей выборке')\n",
        "plt.xlabel('Пользователи')\n",
        "plt.xticks([])\n",
        "plt.yticks(fontsize=10)\n",
        "plt.ylabel('Количество заказов')\n",
        "plt.yticks(rotation=0)\n",
        "\n",
        "plt.show()"
      ]
    },
    {
      "cell_type": "markdown",
      "metadata": {
        "id": "9hl-TgOpjxFZ"
      },
      "source": [
        "* **На графике видно, что основная часть пользователей делает от одного до 3 заказов, количество пользователей которые делают выше 4 заказов встречаются крайне редко**"
      ]
    },
    {
      "cell_type": "code",
      "execution_count": 31,
      "metadata": {
        "ExecuteTime": {
          "end_time": "2023-06-10T15:21:50.045945Z",
          "start_time": "2023-06-10T15:21:50.032099Z"
        },
        "colab": {
          "base_uri": "https://localhost:8080/"
        },
        "id": "eaTs9XIptSx-",
        "outputId": "8e31e9b3-3741-4b9c-e424-948744f20e93"
      },
      "outputs": [
        {
          "output_type": "stream",
          "name": "stdout",
          "text": [
            "[1. 2. 4.]\n"
          ]
        }
      ],
      "source": [
        "# виделим 90, 95 и 99 перцентели\n",
        "print(np.percentile(ordersByUsers['orders'], [90, 95, 99]))"
      ]
    },
    {
      "cell_type": "markdown",
      "metadata": {
        "id": "cl6NVgmK3aDE"
      },
      "source": [
        "* **По результатам анализа количества заказов мы можем заметить, что основная часть покупателей совершает 1 или 2 покупки, значения выше 4 крайне редки и их доля около 1 процента поэтому их можно принять за выбросы**"
      ]
    },
    {
      "cell_type": "markdown",
      "metadata": {
        "id": "wj2DbSpT4Qra"
      },
      "source": [
        "###  Построим график распределения стоимости заказов"
      ]
    },
    {
      "cell_type": "code",
      "execution_count": 32,
      "metadata": {
        "ExecuteTime": {
          "end_time": "2023-06-10T15:21:50.061951Z",
          "start_time": "2023-06-10T15:21:50.046945Z"
        },
        "colab": {
          "base_uri": "https://localhost:8080/"
        },
        "id": "PgZ1qOLd5Srf",
        "outputId": "2e666bec-673b-41a4-c601-521cfbce0be1"
      },
      "outputs": [
        {
          "output_type": "execute_result",
          "data": {
            "text/plain": [
              "count    1.197000e+03\n",
              "mean     8.348006e+03\n",
              "std      3.919113e+04\n",
              "min      5.000000e+01\n",
              "25%      1.220000e+03\n",
              "50%      2.978000e+03\n",
              "75%      8.290000e+03\n",
              "max      1.294500e+06\n",
              "Name: revenue, dtype: float64"
            ]
          },
          "metadata": {},
          "execution_count": 32
        }
      ],
      "source": [
        "orders.revenue.describe()"
      ]
    },
    {
      "cell_type": "code",
      "execution_count": 33,
      "metadata": {
        "ExecuteTime": {
          "end_time": "2023-06-10T15:21:50.173977Z",
          "start_time": "2023-06-10T15:21:50.062951Z"
        },
        "colab": {
          "base_uri": "https://localhost:8080/",
          "height": 540
        },
        "id": "yEU7AtNP1rkE",
        "outputId": "0f99e2aa-7988-4237-f4dd-7a51b325e813"
      },
      "outputs": [
        {
          "output_type": "display_data",
          "data": {
            "text/plain": [
              "<Figure size 900x600 with 1 Axes>"
            ],
            "image/png": "[encoded data removed]"
          },
          "metadata": {}
        }
      ],
      "source": [
        "# строим график\n",
        "x_values = pd.Series(range(0, len(orders['revenue'])))\n",
        "\n",
        "plt.figure(figsize=(9,6))\n",
        "plt.scatter(x_values, orders.revenue)\n",
        "\n",
        "plt.title('Распределения стоимости заказов')\n",
        "plt.xlabel('Пользователи')\n",
        "plt.yticks(fontsize=10)\n",
        "plt.xticks([])\n",
        "plt.ylabel('Стоимость')\n",
        "plt.yticks(rotation=0)\n",
        "\n",
        "plt.show()"
      ]
    },
    {
      "cell_type": "markdown",
      "metadata": {
        "id": "8fKZ2ewcjxFb"
      },
      "source": [
        "* **Мы видим два очень дорогих заказа из-за чего график стал мелоинформативен**"
      ]
    },
    {
      "cell_type": "code",
      "execution_count": 34,
      "metadata": {
        "ExecuteTime": {
          "end_time": "2023-06-10T15:21:50.189185Z",
          "start_time": "2023-06-10T15:21:50.174977Z"
        },
        "colab": {
          "base_uri": "https://localhost:8080/"
        },
        "id": "7syUh4Ir1rql",
        "outputId": "b3060907-9085-4249-c217-00a21a79651f"
      },
      "outputs": [
        {
          "output_type": "stream",
          "name": "stdout",
          "text": [
            "[18168.  28000.  58233.2]\n"
          ]
        }
      ],
      "source": [
        "# виделим 90, 95 и 99 перцентели\n",
        "print(np.percentile(orders['revenue'], [90, 95, 99]))"
      ]
    },
    {
      "cell_type": "code",
      "execution_count": 35,
      "metadata": {
        "colab": {
          "base_uri": "https://localhost:8080/",
          "height": 540
        },
        "id": "6FaJF7ebjxFb",
        "outputId": "d7ee3d2d-f446-4189-bf11-37343ce6893f"
      },
      "outputs": [
        {
          "output_type": "display_data",
          "data": {
            "text/plain": [
              "<Figure size 900x600 with 1 Axes>"
            ],
            "image/png": "[encoded data removed]"
          },
          "metadata": {}
        }
      ],
      "source": [
        "# строим график без выбрасов\n",
        "x_values = pd.Series(range(0, len(orders['revenue'])))\n",
        "\n",
        "plt.figure(figsize=(9,6))\n",
        "plt.scatter(x_values, orders.revenue)\n",
        "\n",
        "plt.title('Распределения стоимости заказов')\n",
        "plt.xlabel('Пользователи')\n",
        "plt.yticks(fontsize=10)\n",
        "plt.xticks([])\n",
        "plt.ylim([0, np.percentile(orders['revenue'], [99])])\n",
        "plt.ylabel('Стоимость')\n",
        "plt.yticks(rotation=0)\n",
        "\n",
        "plt.show()"
      ]
    },
    {
      "cell_type": "code",
      "execution_count": 36,
      "metadata": {
        "colab": {
          "base_uri": "https://localhost:8080/",
          "height": 564
        },
        "id": "cjZItK2vjxFb",
        "outputId": "a4eb541a-6e78-46c7-d77e-a4b18422bd70"
      },
      "outputs": [
        {
          "output_type": "display_data",
          "data": {
            "text/plain": [
              "<Figure size 900x600 with 1 Axes>"
            ],
            "image/png": "[encoded data removed]"
          },
          "metadata": {}
        }
      ],
      "source": [
        "# строим график без выбрасов\n",
        "import seaborn as sns\n",
        "\n",
        "\n",
        "plt.figure(figsize=(9,6))\n",
        "\n",
        "sns.histplot(x = orders['revenue'],kde = True)\n",
        "plt.title('Распределения стоимости заказов')\n",
        "plt.xlabel('Стоимость заказа')\n",
        "plt.yticks(fontsize=10)\n",
        "plt.xlim([0, np.percentile(orders['revenue'], [99])])\n",
        "\n",
        "plt.ylabel('Количество заказов')\n",
        "plt.yticks(rotation=0)\n",
        "\n",
        "plt.show()"
      ]
    },
    {
      "cell_type": "markdown",
      "metadata": {
        "id": "VNhEHi4q483v"
      },
      "source": [
        "* **По итогам анализа распределения стоимоти заказов мы можем заметить, что число заказов снижатеся с увеличением их стоимости, так же присутствует единичный очень большой выброс, который мы уже наблюдали на графиках выше. Необходимо выяснить причину его появления,  так как его природа больше похожа на ошибку в данных. Основная чать заказов не превышает 82900**"
      ]
    },
    {
      "cell_type": "markdown",
      "metadata": {
        "id": "SQJ5e6H4Ui34"
      },
      "source": [
        "## Проверка гипотезы о статистической значимости различий между группами теста при помощи критерия Манна - Уитни\n"
      ]
    },
    {
      "cell_type": "markdown",
      "metadata": {
        "id": "8tQV-K2_YlyX"
      },
      "source": [
        "H0 - различий в выборках нет\n",
        "****\n",
        "H1 - присутствуют статистически значимые различия\n",
        "****\n",
        "alpha = 0.05"
      ]
    },
    {
      "cell_type": "markdown",
      "metadata": {
        "id": "nQqD2skrU6Y2"
      },
      "source": [
        "### Проверка гипотезы о различии количества заказов на посетителя между группами. Сырые данные"
      ]
    },
    {
      "cell_type": "markdown",
      "metadata": {
        "id": "pM9QLxcAjxFd"
      },
      "source": [
        "H0 - различий количества заказов на посетителя между группами нет\n",
        "****\n",
        "H1 - присутствуют статистически значимые различия количества заказов на посетителя между группами\n",
        "****\n",
        "\n",
        "критический уровень значимости alpha = 0.05"
      ]
    },
    {
      "cell_type": "code",
      "execution_count": 37,
      "metadata": {
        "ExecuteTime": {
          "end_time": "2023-06-10T15:21:50.443426Z",
          "start_time": "2023-06-10T15:21:50.190187Z"
        },
        "colab": {
          "base_uri": "https://localhost:8080/",
          "height": 241
        },
        "id": "5Om8Z0Ao1rvo",
        "outputId": "86001888-15ba-464f-dc9b-1d3e77146a95"
      },
      "outputs": [
        {
          "output_type": "display_data",
          "data": {
            "text/plain": [
              "        date  ordersPerDateA  revenuePerDateA  ordersPerDateB  \\\n",
              "0 2019-08-01              24           148579              21   \n",
              "1 2019-08-02              20            93822              24   \n",
              "2 2019-08-03              24           112473              16   \n",
              "3 2019-08-04              16            70825              17   \n",
              "4 2019-08-05              25           124218              23   \n",
              "\n",
              "   revenuePerDateB  ordersCummulativeA  revenueCummulativeA  \\\n",
              "0           101217                  24               148579   \n",
              "1           165531                  44               242401   \n",
              "2           114248                  68               354874   \n",
              "3           108571                  84               425699   \n",
              "4            92428                 109               549917   \n",
              "\n",
              "   ordersCummulativeB  revenueCummulativeB  visitorsPerDateA  \\\n",
              "0                  21               101217               719   \n",
              "1                  45               266748               619   \n",
              "2                  61               380996               507   \n",
              "3                  78               489567               717   \n",
              "4                 101               581995               756   \n",
              "\n",
              "   visitorsPerDateB  visitorsCummulativeA  visitorsCummulativeB  \n",
              "0               713                   719                   713  \n",
              "1               581                  1338                  1294  \n",
              "2               509                  1845                  1803  \n",
              "3               770                  2562                  2573  \n",
              "4               707                  3318                  3280  "
            ],
            "text/html": [
              "\n",
              "  <div id=\"df-e222e1b6-2127-4c24-bb48-59886a06b3e1\">\n",
              "    <div class=\"colab-df-container\">\n",
              "      <div>\n",
              "<style scoped>\n",
              "    .dataframe tbody tr th:only-of-type {\n",
              "        vertical-align: middle;\n",
              "    }\n",
              "\n",
              "    .dataframe tbody tr th {\n",
              "        vertical-align: top;\n",
              "    }\n",
              "\n",
              "    .dataframe thead th {\n",
              "        text-align: right;\n",
              "    }\n",
              "</style>\n",
              "<table border=\"1\" class=\"dataframe\">\n",
              "  <thead>\n",
              "    <tr style=\"text-align: right;\">\n",
              "      <th></th>\n",
              "      <th>date</th>\n",
              "      <th>ordersPerDateA</th>\n",
              "      <th>revenuePerDateA</th>\n",
              "      <th>ordersPerDateB</th>\n",
              "      <th>revenuePerDateB</th>\n",
              "      <th>ordersCummulativeA</th>\n",
              "      <th>revenueCummulativeA</th>\n",
              "      <th>ordersCummulativeB</th>\n",
              "      <th>revenueCummulativeB</th>\n",
              "      <th>visitorsPerDateA</th>\n",
              "      <th>visitorsPerDateB</th>\n",
              "      <th>visitorsCummulativeA</th>\n",
              "      <th>visitorsCummulativeB</th>\n",
              "    </tr>\n",
              "  </thead>\n",
              "  <tbody>\n",
              "    <tr>\n",
              "      <th>0</th>\n",
              "      <td>2019-08-01</td>\n",
              "      <td>24</td>\n",
              "      <td>148579</td>\n",
              "      <td>21</td>\n",
              "      <td>101217</td>\n",
              "      <td>24</td>\n",
              "      <td>148579</td>\n",
              "      <td>21</td>\n",
              "      <td>101217</td>\n",
              "      <td>719</td>\n",
              "      <td>713</td>\n",
              "      <td>719</td>\n",
              "      <td>713</td>\n",
              "    </tr>\n",
              "    <tr>\n",
              "      <th>1</th>\n",
              "      <td>2019-08-02</td>\n",
              "      <td>20</td>\n",
              "      <td>93822</td>\n",
              "      <td>24</td>\n",
              "      <td>165531</td>\n",
              "      <td>44</td>\n",
              "      <td>242401</td>\n",
              "      <td>45</td>\n",
              "      <td>266748</td>\n",
              "      <td>619</td>\n",
              "      <td>581</td>\n",
              "      <td>1338</td>\n",
              "      <td>1294</td>\n",
              "    </tr>\n",
              "    <tr>\n",
              "      <th>2</th>\n",
              "      <td>2019-08-03</td>\n",
              "      <td>24</td>\n",
              "      <td>112473</td>\n",
              "      <td>16</td>\n",
              "      <td>114248</td>\n",
              "      <td>68</td>\n",
              "      <td>354874</td>\n",
              "      <td>61</td>\n",
              "      <td>380996</td>\n",
              "      <td>507</td>\n",
              "      <td>509</td>\n",
              "      <td>1845</td>\n",
              "      <td>1803</td>\n",
              "    </tr>\n",
              "    <tr>\n",
              "      <th>3</th>\n",
              "      <td>2019-08-04</td>\n",
              "      <td>16</td>\n",
              "      <td>70825</td>\n",
              "      <td>17</td>\n",
              "      <td>108571</td>\n",
              "      <td>84</td>\n",
              "      <td>425699</td>\n",
              "      <td>78</td>\n",
              "      <td>489567</td>\n",
              "      <td>717</td>\n",
              "      <td>770</td>\n",
              "      <td>2562</td>\n",
              "      <td>2573</td>\n",
              "    </tr>\n",
              "    <tr>\n",
              "      <th>4</th>\n",
              "      <td>2019-08-05</td>\n",
              "      <td>25</td>\n",
              "      <td>124218</td>\n",
              "      <td>23</td>\n",
              "      <td>92428</td>\n",
              "      <td>109</td>\n",
              "      <td>549917</td>\n",
              "      <td>101</td>\n",
              "      <td>581995</td>\n",
              "      <td>756</td>\n",
              "      <td>707</td>\n",
              "      <td>3318</td>\n",
              "      <td>3280</td>\n",
              "    </tr>\n",
              "  </tbody>\n",
              "</table>\n",
              "</div>\n",
              "      <button class=\"colab-df-convert\" onclick=\"convertToInteractive('df-e222e1b6-2127-4c24-bb48-59886a06b3e1')\"\n",
              "              title=\"Convert this dataframe to an interactive table.\"\n",
              "              style=\"display:none;\">\n",
              "        \n",
              "  <svg xmlns=\"http://www.w3.org/2000/svg\" height=\"24px\"viewBox=\"0 0 24 24\"\n",
              "       width=\"24px\">\n",
              "    <path d=\"M0 0h24v24H0V0z\" fill=\"none\"/>\n",
              "    <path d=\"M18.56 5.44l.94 2.06.94-2.06 2.06-.94-2.06-.94-.94-2.06-.94 2.06-2.06.94zm-11 1L8.5 8.5l.94-2.06 2.06-.94-2.06-.94L8.5 2.5l-.94 2.06-2.06.94zm10 10l.94 2.06.94-2.06 2.06-.94-2.06-.94-.94-2.06-.94 2.06-2.06.94z\"/><path d=\"M17.41 7.96l-1.37-1.37c-.4-.4-.92-.59-1.43-.59-.52 0-1.04.2-1.43.59L10.3 9.45l-7.72 7.72c-.78.78-.78 2.05 0 2.83L4 21.41c.39.39.9.59 1.41.59.51 0 1.02-.2 1.41-.59l7.78-7.78 2.81-2.81c.8-.78.8-2.07 0-2.86zM5.41 20L4 18.59l7.72-7.72 1.47 1.35L5.41 20z\"/>\n",
              "  </svg>\n",
              "      </button>\n",
              "      \n",
              "  <style>\n",
              "    .colab-df-container {\n",
              "      display:flex;\n",
              "      flex-wrap:wrap;\n",
              "      gap: 12px;\n",
              "    }\n",
              "\n",
              "    .colab-df-convert {\n",
              "      background-color: #E8F0FE;\n",
              "      border: none;\n",
              "      border-radius: 50%;\n",
              "      cursor: pointer;\n",
              "      display: none;\n",
              "      fill: #1967D2;\n",
              "      height: 32px;\n",
              "      padding: 0 0 0 0;\n",
              "      width: 32px;\n",
              "    }\n",
              "\n",
              "    .colab-df-convert:hover {\n",
              "      background-color: #E2EBFA;\n",
              "      box-shadow: 0px 1px 2px rgba(60, 64, 67, 0.3), 0px 1px 3px 1px rgba(60, 64, 67, 0.15);\n",
              "      fill: #174EA6;\n",
              "    }\n",
              "\n",
              "    [theme=dark] .colab-df-convert {\n",
              "      background-color: #3B4455;\n",
              "      fill: #D2E3FC;\n",
              "    }\n",
              "\n",
              "    [theme=dark] .colab-df-convert:hover {\n",
              "      background-color: #434B5C;\n",
              "      box-shadow: 0px 1px 3px 1px rgba(0, 0, 0, 0.15);\n",
              "      filter: drop-shadow(0px 1px 2px rgba(0, 0, 0, 0.3));\n",
              "      fill: #FFFFFF;\n",
              "    }\n",
              "  </style>\n",
              "\n",
              "      <script>\n",
              "        const buttonEl =\n",
              "          document.querySelector('#df-e222e1b6-2127-4c24-bb48-59886a06b3e1 button.colab-df-convert');\n",
              "        buttonEl.style.display =\n",
              "          google.colab.kernel.accessAllowed ? 'block' : 'none';\n",
              "\n",
              "        async function convertToInteractive(key) {\n",
              "          const element = document.querySelector('#df-e222e1b6-2127-4c24-bb48-59886a06b3e1');\n",
              "          const dataTable =\n",
              "            await google.colab.kernel.invokeFunction('convertToInteractive',\n",
              "                                                     [key], {});\n",
              "          if (!dataTable) return;\n",
              "\n",
              "          const docLinkHtml = 'Like what you see? Visit the ' +\n",
              "            '<a target=\"_blank\" href=https://colab.research.google.com/notebooks/data_table.ipynb>data table notebook</a>'\n",
              "            + ' to learn more about interactive tables.';\n",
              "          element.innerHTML = '';\n",
              "          dataTable['output_type'] = 'display_data';\n",
              "          await google.colab.output.renderOutput(dataTable, element);\n",
              "          const docLink = document.createElement('div');\n",
              "          docLink.innerHTML = docLinkHtml;\n",
              "          element.appendChild(docLink);\n",
              "        }\n",
              "      </script>\n",
              "    </div>\n",
              "  </div>\n",
              "  "
            ]
          },
          "metadata": {}
        },
        {
          "output_type": "stream",
          "name": "stdout",
          "text": [
            "p уровень значимости равен: 0.017\n",
            "Относительный прирост показателя группы B к группе A равен: 0.138\n"
          ]
        }
      ],
      "source": [
        "# выделим данные\n",
        "visitorsADaily = visitors[visitors['group'] == 'A'][['date', 'visitors']]\n",
        "visitorsADaily.columns = ['date', 'visitorsPerDateA']\n",
        "\n",
        "visitorsACummulative = visitorsADaily.apply(\n",
        "    lambda x: visitorsADaily[visitorsADaily['date'] <= x['date']].agg(\n",
        "        {'date': 'max', 'visitorsPerDateA': 'sum'}\n",
        "    ),\n",
        "    axis=1,\n",
        ")\n",
        "visitorsACummulative.columns = ['date', 'visitorsCummulativeA']\n",
        "\n",
        "visitorsBDaily = visitors[visitors['group'] == 'B'][['date', 'visitors']]\n",
        "visitorsBDaily.columns = ['date', 'visitorsPerDateB']\n",
        "\n",
        "visitorsBCummulative = visitorsBDaily.apply(\n",
        "    lambda x: visitorsBDaily[visitorsBDaily['date'] <= x['date']].agg(\n",
        "        {'date': 'max', 'visitorsPerDateB': 'sum'}\n",
        "    ),\n",
        "    axis=1,\n",
        ")\n",
        "visitorsBCummulative.columns = ['date', 'visitorsCummulativeB']\n",
        "\n",
        "ordersADaily = (\n",
        "    orders[orders['group'] == 'A'][['date', 'transactionId', 'visitorId', 'revenue']]\n",
        "    .groupby('date', as_index=False)\n",
        "    .agg({'transactionId': pd.Series.nunique, 'revenue': 'sum'})\n",
        ")\n",
        "ordersADaily.columns = ['date', 'ordersPerDateA', 'revenuePerDateA']\n",
        "\n",
        "ordersACummulative = ordersADaily.apply(\n",
        "    lambda x: ordersADaily[ordersADaily['date'] <= x['date']].agg(\n",
        "        {'date': 'max', 'ordersPerDateA': 'sum', 'revenuePerDateA': 'sum'}\n",
        "    ),\n",
        "    axis=1,\n",
        ").sort_values(by=['date'])\n",
        "ordersACummulative.columns = [\n",
        "    'date',\n",
        "    'ordersCummulativeA',\n",
        "    'revenueCummulativeA',\n",
        "]\n",
        "\n",
        "ordersBDaily = (\n",
        "    orders[orders['group'] == 'B'][['date', 'transactionId', 'visitorId', 'revenue']]\n",
        "    .groupby('date', as_index=False)\n",
        "    .agg({'transactionId': pd.Series.nunique, 'revenue': 'sum'})\n",
        ")\n",
        "ordersBDaily.columns = ['date', 'ordersPerDateB', 'revenuePerDateB']\n",
        "\n",
        "ordersBCummulative = ordersBDaily.apply(\n",
        "    lambda x: ordersBDaily[ordersBDaily['date'] <= x['date']].agg(\n",
        "        {'date': 'max', 'ordersPerDateB': 'sum', 'revenuePerDateB': 'sum'}\n",
        "    ),\n",
        "    axis=1,\n",
        ").sort_values(by=['date'])\n",
        "ordersBCummulative.columns = [\n",
        "    'date',\n",
        "    'ordersCummulativeB',\n",
        "    'revenueCummulativeB',\n",
        "]\n",
        "# сформируем таблицу с метриками\n",
        "data = (\n",
        "    ordersADaily.merge(\n",
        "        ordersBDaily, left_on='date', right_on='date', how='left'\n",
        "    )\n",
        "    .merge(ordersACummulative, left_on='date', right_on='date', how='left')\n",
        "    .merge(ordersBCummulative, left_on='date', right_on='date', how='left')\n",
        "    .merge(visitorsADaily, left_on='date', right_on='date', how='left')\n",
        "    .merge(visitorsBDaily, left_on='date', right_on='date', how='left')\n",
        "    .merge(visitorsACummulative, left_on='date', right_on='date', how='left')\n",
        "    .merge(visitorsBCummulative, left_on='date', right_on='date', how='left')\n",
        ")\n",
        "\n",
        "# проверим таблицу\n",
        "display(data.head(5))\n",
        "\n",
        "# выделим данные для семплов\n",
        "ordersByUsersA = (\n",
        "    orders[orders['group'] == 'A']\n",
        "    .groupby('visitorId', as_index=False)\n",
        "    .agg({'transactionId': pd.Series.nunique})\n",
        ")\n",
        "ordersByUsersA.columns = ['visitorId', 'orders']\n",
        "\n",
        "ordersByUsersB = (\n",
        "    orders[orders['group'] == 'B']\n",
        "    .groupby('visitorId', as_index=False)\n",
        "    .agg({'transactionId': pd.Series.nunique})\n",
        ")\n",
        "ordersByUsersB.columns = ['visitorId', 'orders']\n",
        "\n",
        "\n",
        "# готовим семплы\n",
        "sampleA = pd.concat([ordersByUsersA['orders'],pd.Series(0, index=np.arange(data['visitorsPerDateA'].sum() - len(ordersByUsersA['orders'])), name='orders')],axis=0)\n",
        "\n",
        "sampleB = pd.concat([ordersByUsersB['orders'],pd.Series(0, index=np.arange(data['visitorsPerDateB'].sum() - len(ordersByUsersB['orders'])), name='orders')],axis=0)\n",
        "\n",
        "\n",
        "# провидем тест\n",
        "print(f\"p уровень значимости равен: {round(stats.mannwhitneyu(sampleA, sampleB)[1],3)}\")\n",
        "print(f\"Относительный прирост показателя группы B к группе A равен: {round(sampleB.mean() / sampleA.mean() - 1,3)}\")"
      ]
    },
    {
      "cell_type": "markdown",
      "metadata": {
        "id": "gjUJ4Cxucnvb"
      },
      "source": [
        "* **По результатам теста мы видим, что уровень статистической значимости меньше выбранного значения alpha, поэтому у нас есть достаточные основания отвергнуть H0 гипотезу. Значит количество заказов на посетителя значительно отличается между группами причем группа B имеет прирост порядка 14%. Данные содержат выбросы и проблемы в формировании групп.**"
      ]
    },
    {
      "cell_type": "code",
      "execution_count": 38,
      "metadata": {
        "ExecuteTime": {
          "end_time": "2023-06-10T15:21:50.459429Z",
          "start_time": "2023-06-10T15:21:50.444426Z"
        },
        "colab": {
          "base_uri": "https://localhost:8080/",
          "height": 206
        },
        "id": "wJjUQny8l-Z1",
        "outputId": "def9bf45-c8da-4534-e683-7aa2c217b5f0"
      },
      "outputs": [
        {
          "output_type": "execute_result",
          "data": {
            "text/plain": [
              "        date  ordersPerDateA  revenuePerDateA  ordersPerDateB  \\\n",
              "0 2019-08-01              24           148579              21   \n",
              "1 2019-08-02              20            93822              24   \n",
              "2 2019-08-03              24           112473              16   \n",
              "3 2019-08-04              16            70825              17   \n",
              "4 2019-08-05              25           124218              23   \n",
              "\n",
              "   revenuePerDateB  ordersCummulativeA  revenueCummulativeA  \\\n",
              "0           101217                  24               148579   \n",
              "1           165531                  44               242401   \n",
              "2           114248                  68               354874   \n",
              "3           108571                  84               425699   \n",
              "4            92428                 109               549917   \n",
              "\n",
              "   ordersCummulativeB  revenueCummulativeB  visitorsPerDateA  \\\n",
              "0                  21               101217               719   \n",
              "1                  45               266748               619   \n",
              "2                  61               380996               507   \n",
              "3                  78               489567               717   \n",
              "4                 101               581995               756   \n",
              "\n",
              "   visitorsPerDateB  visitorsCummulativeA  visitorsCummulativeB  \n",
              "0               713                   719                   713  \n",
              "1               581                  1338                  1294  \n",
              "2               509                  1845                  1803  \n",
              "3               770                  2562                  2573  \n",
              "4               707                  3318                  3280  "
            ],
            "text/html": [
              "\n",
              "  <div id=\"df-4ea9eaf1-e1c8-4547-a59c-ebfecdc18869\">\n",
              "    <div class=\"colab-df-container\">\n",
              "      <div>\n",
              "<style scoped>\n",
              "    .dataframe tbody tr th:only-of-type {\n",
              "        vertical-align: middle;\n",
              "    }\n",
              "\n",
              "    .dataframe tbody tr th {\n",
              "        vertical-align: top;\n",
              "    }\n",
              "\n",
              "    .dataframe thead th {\n",
              "        text-align: right;\n",
              "    }\n",
              "</style>\n",
              "<table border=\"1\" class=\"dataframe\">\n",
              "  <thead>\n",
              "    <tr style=\"text-align: right;\">\n",
              "      <th></th>\n",
              "      <th>date</th>\n",
              "      <th>ordersPerDateA</th>\n",
              "      <th>revenuePerDateA</th>\n",
              "      <th>ordersPerDateB</th>\n",
              "      <th>revenuePerDateB</th>\n",
              "      <th>ordersCummulativeA</th>\n",
              "      <th>revenueCummulativeA</th>\n",
              "      <th>ordersCummulativeB</th>\n",
              "      <th>revenueCummulativeB</th>\n",
              "      <th>visitorsPerDateA</th>\n",
              "      <th>visitorsPerDateB</th>\n",
              "      <th>visitorsCummulativeA</th>\n",
              "      <th>visitorsCummulativeB</th>\n",
              "    </tr>\n",
              "  </thead>\n",
              "  <tbody>\n",
              "    <tr>\n",
              "      <th>0</th>\n",
              "      <td>2019-08-01</td>\n",
              "      <td>24</td>\n",
              "      <td>148579</td>\n",
              "      <td>21</td>\n",
              "      <td>101217</td>\n",
              "      <td>24</td>\n",
              "      <td>148579</td>\n",
              "      <td>21</td>\n",
              "      <td>101217</td>\n",
              "      <td>719</td>\n",
              "      <td>713</td>\n",
              "      <td>719</td>\n",
              "      <td>713</td>\n",
              "    </tr>\n",
              "    <tr>\n",
              "      <th>1</th>\n",
              "      <td>2019-08-02</td>\n",
              "      <td>20</td>\n",
              "      <td>93822</td>\n",
              "      <td>24</td>\n",
              "      <td>165531</td>\n",
              "      <td>44</td>\n",
              "      <td>242401</td>\n",
              "      <td>45</td>\n",
              "      <td>266748</td>\n",
              "      <td>619</td>\n",
              "      <td>581</td>\n",
              "      <td>1338</td>\n",
              "      <td>1294</td>\n",
              "    </tr>\n",
              "    <tr>\n",
              "      <th>2</th>\n",
              "      <td>2019-08-03</td>\n",
              "      <td>24</td>\n",
              "      <td>112473</td>\n",
              "      <td>16</td>\n",
              "      <td>114248</td>\n",
              "      <td>68</td>\n",
              "      <td>354874</td>\n",
              "      <td>61</td>\n",
              "      <td>380996</td>\n",
              "      <td>507</td>\n",
              "      <td>509</td>\n",
              "      <td>1845</td>\n",
              "      <td>1803</td>\n",
              "    </tr>\n",
              "    <tr>\n",
              "      <th>3</th>\n",
              "      <td>2019-08-04</td>\n",
              "      <td>16</td>\n",
              "      <td>70825</td>\n",
              "      <td>17</td>\n",
              "      <td>108571</td>\n",
              "      <td>84</td>\n",
              "      <td>425699</td>\n",
              "      <td>78</td>\n",
              "      <td>489567</td>\n",
              "      <td>717</td>\n",
              "      <td>770</td>\n",
              "      <td>2562</td>\n",
              "      <td>2573</td>\n",
              "    </tr>\n",
              "    <tr>\n",
              "      <th>4</th>\n",
              "      <td>2019-08-05</td>\n",
              "      <td>25</td>\n",
              "      <td>124218</td>\n",
              "      <td>23</td>\n",
              "      <td>92428</td>\n",
              "      <td>109</td>\n",
              "      <td>549917</td>\n",
              "      <td>101</td>\n",
              "      <td>581995</td>\n",
              "      <td>756</td>\n",
              "      <td>707</td>\n",
              "      <td>3318</td>\n",
              "      <td>3280</td>\n",
              "    </tr>\n",
              "  </tbody>\n",
              "</table>\n",
              "</div>\n",
              "      <button class=\"colab-df-convert\" onclick=\"convertToInteractive('df-4ea9eaf1-e1c8-4547-a59c-ebfecdc18869')\"\n",
              "              title=\"Convert this dataframe to an interactive table.\"\n",
              "              style=\"display:none;\">\n",
              "        \n",
              "  <svg xmlns=\"http://www.w3.org/2000/svg\" height=\"24px\"viewBox=\"0 0 24 24\"\n",
              "       width=\"24px\">\n",
              "    <path d=\"M0 0h24v24H0V0z\" fill=\"none\"/>\n",
              "    <path d=\"M18.56 5.44l.94 2.06.94-2.06 2.06-.94-2.06-.94-.94-2.06-.94 2.06-2.06.94zm-11 1L8.5 8.5l.94-2.06 2.06-.94-2.06-.94L8.5 2.5l-.94 2.06-2.06.94zm10 10l.94 2.06.94-2.06 2.06-.94-2.06-.94-.94-2.06-.94 2.06-2.06.94z\"/><path d=\"M17.41 7.96l-1.37-1.37c-.4-.4-.92-.59-1.43-.59-.52 0-1.04.2-1.43.59L10.3 9.45l-7.72 7.72c-.78.78-.78 2.05 0 2.83L4 21.41c.39.39.9.59 1.41.59.51 0 1.02-.2 1.41-.59l7.78-7.78 2.81-2.81c.8-.78.8-2.07 0-2.86zM5.41 20L4 18.59l7.72-7.72 1.47 1.35L5.41 20z\"/>\n",
              "  </svg>\n",
              "      </button>\n",
              "      \n",
              "  <style>\n",
              "    .colab-df-container {\n",
              "      display:flex;\n",
              "      flex-wrap:wrap;\n",
              "      gap: 12px;\n",
              "    }\n",
              "\n",
              "    .colab-df-convert {\n",
              "      background-color: #E8F0FE;\n",
              "      border: none;\n",
              "      border-radius: 50%;\n",
              "      cursor: pointer;\n",
              "      display: none;\n",
              "      fill: #1967D2;\n",
              "      height: 32px;\n",
              "      padding: 0 0 0 0;\n",
              "      width: 32px;\n",
              "    }\n",
              "\n",
              "    .colab-df-convert:hover {\n",
              "      background-color: #E2EBFA;\n",
              "      box-shadow: 0px 1px 2px rgba(60, 64, 67, 0.3), 0px 1px 3px 1px rgba(60, 64, 67, 0.15);\n",
              "      fill: #174EA6;\n",
              "    }\n",
              "\n",
              "    [theme=dark] .colab-df-convert {\n",
              "      background-color: #3B4455;\n",
              "      fill: #D2E3FC;\n",
              "    }\n",
              "\n",
              "    [theme=dark] .colab-df-convert:hover {\n",
              "      background-color: #434B5C;\n",
              "      box-shadow: 0px 1px 3px 1px rgba(0, 0, 0, 0.15);\n",
              "      filter: drop-shadow(0px 1px 2px rgba(0, 0, 0, 0.3));\n",
              "      fill: #FFFFFF;\n",
              "    }\n",
              "  </style>\n",
              "\n",
              "      <script>\n",
              "        const buttonEl =\n",
              "          document.querySelector('#df-4ea9eaf1-e1c8-4547-a59c-ebfecdc18869 button.colab-df-convert');\n",
              "        buttonEl.style.display =\n",
              "          google.colab.kernel.accessAllowed ? 'block' : 'none';\n",
              "\n",
              "        async function convertToInteractive(key) {\n",
              "          const element = document.querySelector('#df-4ea9eaf1-e1c8-4547-a59c-ebfecdc18869');\n",
              "          const dataTable =\n",
              "            await google.colab.kernel.invokeFunction('convertToInteractive',\n",
              "                                                     [key], {});\n",
              "          if (!dataTable) return;\n",
              "\n",
              "          const docLinkHtml = 'Like what you see? Visit the ' +\n",
              "            '<a target=\"_blank\" href=https://colab.research.google.com/notebooks/data_table.ipynb>data table notebook</a>'\n",
              "            + ' to learn more about interactive tables.';\n",
              "          element.innerHTML = '';\n",
              "          dataTable['output_type'] = 'display_data';\n",
              "          await google.colab.output.renderOutput(dataTable, element);\n",
              "          const docLink = document.createElement('div');\n",
              "          docLink.innerHTML = docLinkHtml;\n",
              "          element.appendChild(docLink);\n",
              "        }\n",
              "      </script>\n",
              "    </div>\n",
              "  </div>\n",
              "  "
            ]
          },
          "metadata": {},
          "execution_count": 38
        }
      ],
      "source": [
        "data.head()"
      ]
    },
    {
      "cell_type": "markdown",
      "metadata": {
        "id": "Rth_Swe8doU8"
      },
      "source": [
        "### Проверка гипотезы о различии показателя среднего чека заказа между группами. Сырые данные"
      ]
    },
    {
      "cell_type": "markdown",
      "metadata": {
        "id": "xWDWsdvJjxFe"
      },
      "source": [
        "H0 - различий показателя среднего чека заказа между группами нет\n",
        "****\n",
        "H1 - присутствуют статистически значимые различия показателя среднего чека заказа между группами\n",
        "****\n",
        "\n",
        "критический уровень значимости alpha = 0.05"
      ]
    },
    {
      "cell_type": "code",
      "execution_count": 39,
      "metadata": {
        "ExecuteTime": {
          "end_time": "2023-06-10T15:21:50.475438Z",
          "start_time": "2023-06-10T15:21:50.461430Z"
        },
        "colab": {
          "base_uri": "https://localhost:8080/"
        },
        "id": "6ctymX1Fpexk",
        "outputId": "20b9ca30-ef64-4ebd-c34a-33a5a08bdeeb"
      },
      "outputs": [
        {
          "output_type": "stream",
          "name": "stdout",
          "text": [
            "P уровень значимости равен: 0.729\n",
            "Относительный прирост показателя группы B к группе A равен: 0.259\n"
          ]
        }
      ],
      "source": [
        "\n",
        "# провидем тест\n",
        "print(f\"P уровень значимости равен: {round(stats.mannwhitneyu(orders.loc[orders['group']=='A']['revenue'], orders.loc[orders['group']=='B']['revenue'])[1],3)}\")\n",
        "print(f\"Относительный прирост показателя группы B к группе A равен: {round(orders.loc[orders['group']=='B']['revenue'].mean() / orders.loc[orders['group']=='A']['revenue'].mean() - 1,3)}\")"
      ]
    },
    {
      "cell_type": "markdown",
      "metadata": {
        "id": "Ohl3jEBhf1Of"
      },
      "source": [
        "* **По результатам теста мы не можем отвергнуть нулевою гипотезу и утверждать о наличии статистически значимых различий в показатели среднего чека между группами, несмотря на наличие существенного превышения среднего чека в группе B на 26%. В данных содержатся выбросы, они и повлияли на превышение средних показателей.**"
      ]
    },
    {
      "cell_type": "markdown",
      "metadata": {
        "id": "s0GSwxFlgmJj"
      },
      "source": [
        "### Выделим аномальных пользователей, которые делали много заказов либо они были очень дорогими. Границу аномалий посчитаем 99 процентиль"
      ]
    },
    {
      "cell_type": "code",
      "execution_count": 40,
      "metadata": {
        "ExecuteTime": {
          "end_time": "2023-06-10T15:21:50.490598Z",
          "start_time": "2023-06-10T15:21:50.476438Z"
        },
        "colab": {
          "base_uri": "https://localhost:8080/",
          "height": 139
        },
        "id": "z23pHNvt1r0O",
        "outputId": "f0134c38-879e-4703-efbe-a98a7a6cc7c4"
      },
      "outputs": [
        {
          "output_type": "display_data",
          "data": {
            "text/plain": [
              "1099     148427295\n",
              "949      887908475\n",
              "744      888512513\n",
              "1103    1164614297\n",
              "1136    1307669133\n",
              "Name: visitorId, dtype: int64"
            ]
          },
          "metadata": {}
        },
        {
          "output_type": "stream",
          "name": "stdout",
          "text": [
            "Число плохих пользователей: 15\n"
          ]
        }
      ],
      "source": [
        "# выделим пользователей\n",
        "usersWithManyOrders = pd.concat(\n",
        "    [\n",
        "        ordersByUsersA[ordersByUsersA['orders'] > np.percentile(ordersByUsers['orders'], [99])[0]]['visitorId'],\n",
        "        ordersByUsersB[ordersByUsersB['orders'] > np.percentile(ordersByUsers['orders'], [99])[0]]['visitorId'],\n",
        "    ],\n",
        "    axis=0,\n",
        ")\n",
        "usersWithExpensiveOrders = orders[orders['revenue'] > np.percentile(orders['revenue'], [99])[0]]['visitorId']\n",
        "abnormalUsers = (\n",
        "    pd.concat([usersWithManyOrders, usersWithExpensiveOrders], axis=0)\n",
        "    .drop_duplicates()\n",
        "    .sort_values()\n",
        ")\n",
        "display(abnormalUsers.head(5))\n",
        "print(f\"Число плохих пользователей: {abnormalUsers.shape[0]}\")\n",
        "\n"
      ]
    },
    {
      "cell_type": "markdown",
      "metadata": {
        "id": "nAFm248ZhuVj"
      },
      "source": [
        "* **Получилось 15 пользователей**"
      ]
    },
    {
      "cell_type": "code",
      "execution_count": 41,
      "metadata": {
        "ExecuteTime": {
          "end_time": "2023-06-10T15:21:50.506601Z",
          "start_time": "2023-06-10T15:21:50.491599Z"
        },
        "colab": {
          "base_uri": "https://localhost:8080/"
        },
        "id": "gPeVdmb-1r23",
        "outputId": "86921442-dd48-48f6-8701-e3696783ff34"
      },
      "outputs": [
        {
          "output_type": "execute_result",
          "data": {
            "text/plain": [
              "group\n",
              "A    0.052930\n",
              "B    0.038961\n",
              "Name: transactionId, dtype: float64"
            ]
          },
          "metadata": {},
          "execution_count": 41
        }
      ],
      "source": [
        "# посчитаем долю заказов этими пользователями по группам\n",
        "orders.query(\"visitorId in @abnormalUsers\").groupby(by='group').count().transactionId/orders.query(\"visitorId not in @abnormalUsers\").groupby(by='group').count().transactionId"
      ]
    },
    {
      "cell_type": "markdown",
      "metadata": {
        "id": "muoKWK0biOeE"
      },
      "source": [
        "* **Плохие пользователи совершили 5 и 4 процента заказов в группах A и B соответственно, поэтому их можно убрать без ущерба для результатов теста**"
      ]
    },
    {
      "cell_type": "markdown",
      "metadata": {
        "id": "qtH8-AzcXtF0"
      },
      "source": [
        "### Проверка гипотизы о различии количества заказов на посетителя между группами. Чистые данные"
      ]
    },
    {
      "cell_type": "markdown",
      "metadata": {
        "id": "vgKQa1oUjxFg"
      },
      "source": [
        "H0 - различий показателя количества заказов на посетителя между группами нет\n",
        "****\n",
        "H1 - присутствуют статистически значимые различия показателя количества заказов на посетителя между группами\n",
        "****\n",
        "\n",
        "критический уровень значимости alpha = 0.05"
      ]
    },
    {
      "cell_type": "code",
      "execution_count": 42,
      "metadata": {
        "ExecuteTime": {
          "end_time": "2023-06-10T15:21:50.538612Z",
          "start_time": "2023-06-10T15:21:50.507602Z"
        },
        "colab": {
          "base_uri": "https://localhost:8080/"
        },
        "id": "r5dqXwPV_wkW",
        "outputId": "5fa6a652-9c2f-4873-8d42-b45046b1be88"
      },
      "outputs": [
        {
          "output_type": "stream",
          "name": "stdout",
          "text": [
            "P уровень значимости равен: 0.014\n",
            "Относительный прирост показателя группы B к группе A равен: 0.153\n"
          ]
        }
      ],
      "source": [
        "sampleAFiltered = pd.concat(\n",
        "    [\n",
        "        ordersByUsersA[\n",
        "            np.logical_not(ordersByUsersA['visitorId'].isin(abnormalUsers))\n",
        "        ]['orders'],\n",
        "        pd.Series(\n",
        "            0,\n",
        "            index=np.arange(\n",
        "                data['visitorsPerDateA'].sum() - len(ordersByUsersA['orders'])\n",
        "            ),\n",
        "            name='orders',\n",
        "        ),\n",
        "    ],\n",
        "    axis=0,\n",
        ")\n",
        "\n",
        "sampleBFiltered = pd.concat(\n",
        "    [\n",
        "        ordersByUsersB[\n",
        "            np.logical_not(ordersByUsersB['visitorId'].isin(abnormalUsers))\n",
        "        ]['orders'],\n",
        "        pd.Series(\n",
        "            0,\n",
        "            index=np.arange(\n",
        "                data['visitorsPerDateB'].sum() - len(ordersByUsersB['orders'])\n",
        "            ),\n",
        "            name='orders',\n",
        "        ),\n",
        "    ],\n",
        "    axis=0,\n",
        ")\n",
        "\n",
        "\n",
        "print(f\"P уровень значимости равен: {round(stats.mannwhitneyu(sampleAFiltered, sampleBFiltered)[1],3)}\")\n",
        "print(f\"Относительный прирост показателя группы B к группе A равен: {round(sampleBFiltered.mean()/sampleAFiltered.mean()-1,3)}\")"
      ]
    },
    {
      "cell_type": "markdown",
      "metadata": {
        "id": "-xddHu-eYPFx"
      },
      "source": [
        "* **По результатам теста мы видим, что уровень статистической значимости меньше выбранного значения alpha, поэтому у нас есть достаточные основания отвергнуть H0 гипотезу, уровень количества заказов на посетителя значительно отличается между группами причем группа B имеет его прирост порядка 15%. Результаты статистиче6ского анализа количества заказов на посетителя по очищенным данным имеют несущественные отличия от результатов сырых данных ввиду того что аномальные покупатели имели малую долю в группах.**"
      ]
    },
    {
      "cell_type": "markdown",
      "metadata": {
        "id": "MKrZuvE1Z4OY"
      },
      "source": [
        "### Проверка гипотизы о различии показателя среднего чека заказа между группами. Чистые данные"
      ]
    },
    {
      "cell_type": "markdown",
      "metadata": {
        "id": "_UnkuCf0jxFh"
      },
      "source": [
        "H0 - различий в показателе среднего чека заказа между группами нет\n",
        "****\n",
        "H1 - присутствуют статистически значимые различия в показателе среднего чека заказа между группами\n",
        "****\n",
        "\n",
        "критический уровень значимости alpha = 0.05"
      ]
    },
    {
      "cell_type": "code",
      "execution_count": 44,
      "metadata": {
        "ExecuteTime": {
          "end_time": "2023-06-10T15:21:50.554616Z",
          "start_time": "2023-06-10T15:21:50.539613Z"
        },
        "colab": {
          "base_uri": "https://localhost:8080/"
        },
        "id": "XQEHdjQl_wm5",
        "outputId": "664d8459-7688-4886-bddb-de888178116b"
      },
      "outputs": [
        {
          "output_type": "stream",
          "name": "stdout",
          "text": [
            "P уровень значимости равен: 0.851\n",
            "Относительный прирост показателя группы B к группе A равен: -0.006\n"
          ]
        }
      ],
      "source": [
        "# проведем тест\n",
        "print('P уровень значимости равен:',\n",
        "    '{0:.3f}'.format(\n",
        "        stats.mannwhitneyu(\n",
        "            orders[\n",
        "                np.logical_and(\n",
        "                    orders['group'] == 'A',\n",
        "                    np.logical_not(orders['visitorId'].isin(abnormalUsers)),\n",
        "                )\n",
        "            ]['revenue'],\n",
        "            orders[\n",
        "                np.logical_and(\n",
        "                    orders['group'] == 'B',\n",
        "                    np.logical_not(orders['visitorId'].isin(abnormalUsers)),\n",
        "                )\n",
        "            ]['revenue'],\n",
        "        )[1]\n",
        "    )\n",
        ")\n",
        "# проверим относительную разницу\n",
        "print('Относительный прирост показателя группы B к группе A равен:',\n",
        "    \"{0:.3f}\".format(\n",
        "        orders[\n",
        "            np.logical_and(\n",
        "                orders['group'] == 'B',\n",
        "                np.logical_not(orders['visitorId'].isin(abnormalUsers)),\n",
        "            )\n",
        "        ]['revenue'].mean()\n",
        "        / orders[\n",
        "            np.logical_and(\n",
        "                orders['group'] == 'A',\n",
        "                np.logical_not(orders['visitorId'].isin(abnormalUsers)),\n",
        "            )\n",
        "        ]['revenue'].mean()\n",
        "        - 1\n",
        "    )\n",
        ")\n",
        "\n"
      ]
    },
    {
      "cell_type": "markdown",
      "metadata": {
        "id": "lhwyXX0Tae6f"
      },
      "source": [
        "* **По результатам теста мы не можем отвергнуть нулевою гипотезу и утверждать о наличии статистически значимых различий в показатели среднего чека между группами теста с очищенными данными. Уровень p-value подрос относительно сырых данных до 0.85, тогда как относительная разница устремилась к 0, что еще раз подтверждает выводы об отсутствии различий меду выборками. Мы можем сделать вывод о том что наличие выбросов пагубно сказывается на точности результатов статистического анализа.**"
      ]
    },
    {
      "cell_type": "code",
      "execution_count": 45,
      "metadata": {
        "colab": {
          "base_uri": "https://localhost:8080/"
        },
        "id": "2_0r5bd-jxFh",
        "outputId": "648fd41b-c139-46b3-a512-95c8800b1b0b"
      },
      "outputs": [
        {
          "output_type": "execute_result",
          "data": {
            "text/plain": [
              "0.24"
            ]
          },
          "metadata": {},
          "execution_count": 45
        }
      ],
      "source": [
        "# посчитаем относительный прирост выручки на уникального поситителя за весь период теста\n",
        "rev = orders.groupby(by='group').sum().revenue/orders.groupby(by='group').nunique().visitorId\n",
        "round((rev[1]/rev[0])-1,2)"
      ]
    },
    {
      "cell_type": "markdown",
      "metadata": {
        "id": "qikFpGQjbsO0"
      },
      "source": [
        "# Вывод по результатам A/B теста:\n",
        "****\n",
        "## Проблемы подготовки и проведения теста:\n",
        "* **Тест проведен в августе когда наблюдается определенные изменения в потребительской активности покупателей перед началом учебного сезона, что может исказить результат**\n",
        "* **При формировании групп существенная часть покупателей пересекаются между ними, что может исказить результаты анализа**\n",
        "* **Обнаружено аномально большое значение выручки '2019-08-19' в 1294500**\n",
        "****\n",
        "## Результаты теста:\n",
        "* **Обнаружено статистически значимое различие по уровню количества заказов на посетителя между группами, причем ее прирост относительно группы A составил порядка 15%**\n",
        "* **Статистически значимых различий по размеру среднего чека между группами нет**\n",
        "****\n",
        "## Итог и рекомендации:\n",
        "* **Тест необходимо остановить**\n",
        "* **Результаты статистического анализа частично можно поставить под сомнение из-за проблем с его организацией**\n",
        "* **Относительно валидными можно посчитать результаты статистических тестов количества заказов на посетителя группы В и группы А и размеру их средних чеков**\n",
        "* **Выручка на уникального покупателя в группе В увеличилась на 24% за весь период теста за счет увеличения количества заказов на посетителя в последней на 15%**\n",
        "* **Будет целесообразным при повторении данного теста устранить проблемы организации и использовать не агрегированную таблицу посетителей, содержащую их id для более точного и глубокого анализа**"
      ]
    }
  ],
  "metadata": {
    "ExecuteTimeLog": [
      {
        "duration": 1317,
        "start_time": "2023-06-11T12:33:05.178Z"
      },
      {
        "duration": 2649,
        "start_time": "2023-06-11T12:33:06.497Z"
      },
      {
        "duration": 4,
        "start_time": "2023-06-11T12:33:09.148Z"
      },
      {
        "duration": 22,
        "start_time": "2023-06-11T12:33:09.153Z"
      },
      {
        "duration": 5,
        "start_time": "2023-06-11T12:33:09.177Z"
      },
      {
        "duration": 9,
        "start_time": "2023-06-11T12:33:09.183Z"
      },
      {
        "duration": 5,
        "start_time": "2023-06-11T12:33:09.194Z"
      },
      {
        "duration": 11,
        "start_time": "2023-06-11T12:33:09.200Z"
      },
      {
        "duration": 14,
        "start_time": "2023-06-11T12:33:09.212Z"
      },
      {
        "duration": 4,
        "start_time": "2023-06-11T12:33:09.227Z"
      },
      {
        "duration": 42,
        "start_time": "2023-06-11T12:33:09.233Z"
      },
      {
        "duration": 226,
        "start_time": "2023-06-11T12:33:09.277Z"
      },
      {
        "duration": 4,
        "start_time": "2023-06-11T12:33:09.504Z"
      },
      {
        "duration": 8,
        "start_time": "2023-06-11T12:33:09.511Z"
      },
      {
        "duration": 4,
        "start_time": "2023-06-11T12:33:09.520Z"
      },
      {
        "duration": 23,
        "start_time": "2023-06-11T12:33:09.525Z"
      },
      {
        "duration": 4,
        "start_time": "2023-06-11T12:33:09.549Z"
      },
      {
        "duration": 213,
        "start_time": "2023-06-11T12:33:09.554Z"
      },
      {
        "duration": 13,
        "start_time": "2023-06-11T12:33:09.769Z"
      },
      {
        "duration": 18,
        "start_time": "2023-06-11T12:33:09.784Z"
      },
      {
        "duration": 13,
        "start_time": "2023-06-11T12:33:09.803Z"
      },
      {
        "duration": 280,
        "start_time": "2023-06-11T12:33:09.817Z"
      },
      {
        "duration": 181,
        "start_time": "2023-06-11T12:33:10.098Z"
      },
      {
        "duration": 506,
        "start_time": "2023-06-11T12:33:10.281Z"
      },
      {
        "duration": 703,
        "start_time": "2023-06-11T12:33:10.789Z"
      },
      {
        "duration": 288,
        "start_time": "2023-06-11T12:33:11.494Z"
      },
      {
        "duration": 397,
        "start_time": "2023-06-11T12:33:11.783Z"
      },
      {
        "duration": 112,
        "start_time": "2023-06-11T12:33:12.182Z"
      },
      {
        "duration": 4,
        "start_time": "2023-06-11T12:33:12.295Z"
      },
      {
        "duration": 8,
        "start_time": "2023-06-11T12:33:12.300Z"
      },
      {
        "duration": 199,
        "start_time": "2023-06-11T12:33:12.310Z"
      },
      {
        "duration": 4,
        "start_time": "2023-06-11T12:33:12.510Z"
      },
      {
        "duration": 377,
        "start_time": "2023-06-11T12:33:12.515Z"
      },
      {
        "duration": 13,
        "start_time": "2023-06-11T12:33:12.894Z"
      },
      {
        "duration": 21,
        "start_time": "2023-06-11T12:33:12.908Z"
      },
      {
        "duration": 12,
        "start_time": "2023-06-11T12:33:12.931Z"
      },
      {
        "duration": 35,
        "start_time": "2023-06-11T12:33:12.945Z"
      },
      {
        "duration": 42,
        "start_time": "2023-06-11T12:33:12.982Z"
      },
      {
        "duration": 13,
        "start_time": "2023-06-11T12:33:13.026Z"
      },
      {
        "duration": 1189,
        "start_time": "2023-06-11T12:34:02.312Z"
      },
      {
        "duration": 1231,
        "start_time": "2023-06-11T12:34:03.503Z"
      },
      {
        "duration": 5,
        "start_time": "2023-06-11T12:34:04.735Z"
      },
      {
        "duration": 19,
        "start_time": "2023-06-11T12:34:04.742Z"
      },
      {
        "duration": 7,
        "start_time": "2023-06-11T12:34:04.762Z"
      },
      {
        "duration": 10,
        "start_time": "2023-06-11T12:34:04.770Z"
      },
      {
        "duration": 6,
        "start_time": "2023-06-11T12:34:04.781Z"
      },
      {
        "duration": 12,
        "start_time": "2023-06-11T12:34:04.789Z"
      },
      {
        "duration": 11,
        "start_time": "2023-06-11T12:34:04.803Z"
      },
      {
        "duration": 6,
        "start_time": "2023-06-11T12:34:04.817Z"
      },
      {
        "duration": 50,
        "start_time": "2023-06-11T12:34:04.825Z"
      },
      {
        "duration": 241,
        "start_time": "2023-06-11T12:34:04.878Z"
      },
      {
        "duration": 5,
        "start_time": "2023-06-11T12:34:05.121Z"
      },
      {
        "duration": 11,
        "start_time": "2023-06-11T12:34:05.127Z"
      },
      {
        "duration": 4,
        "start_time": "2023-06-11T12:34:05.139Z"
      },
      {
        "duration": 32,
        "start_time": "2023-06-11T12:34:05.145Z"
      },
      {
        "duration": 3,
        "start_time": "2023-06-11T12:34:05.179Z"
      },
      {
        "duration": 201,
        "start_time": "2023-06-11T12:34:05.183Z"
      },
      {
        "duration": 12,
        "start_time": "2023-06-11T12:34:05.386Z"
      },
      {
        "duration": 18,
        "start_time": "2023-06-11T12:34:05.400Z"
      },
      {
        "duration": 13,
        "start_time": "2023-06-11T12:34:05.420Z"
      },
      {
        "duration": 279,
        "start_time": "2023-06-11T12:34:05.435Z"
      },
      {
        "duration": 183,
        "start_time": "2023-06-11T12:34:05.716Z"
      },
      {
        "duration": 549,
        "start_time": "2023-06-11T12:34:05.901Z"
      },
      {
        "duration": 618,
        "start_time": "2023-06-11T12:34:06.452Z"
      },
      {
        "duration": 318,
        "start_time": "2023-06-11T12:34:07.072Z"
      },
      {
        "duration": 405,
        "start_time": "2023-06-11T12:34:07.391Z"
      },
      {
        "duration": 137,
        "start_time": "2023-06-11T12:34:07.799Z"
      },
      {
        "duration": 5,
        "start_time": "2023-06-11T12:34:07.938Z"
      },
      {
        "duration": 11,
        "start_time": "2023-06-11T12:34:07.944Z"
      },
      {
        "duration": 220,
        "start_time": "2023-06-11T12:34:07.956Z"
      },
      {
        "duration": 4,
        "start_time": "2023-06-11T12:34:08.178Z"
      },
      {
        "duration": 359,
        "start_time": "2023-06-11T12:34:08.184Z"
      },
      {
        "duration": 9,
        "start_time": "2023-06-11T12:34:08.545Z"
      },
      {
        "duration": 25,
        "start_time": "2023-06-11T12:34:08.555Z"
      },
      {
        "duration": 10,
        "start_time": "2023-06-11T12:34:08.582Z"
      },
      {
        "duration": 12,
        "start_time": "2023-06-11T12:34:08.593Z"
      },
      {
        "duration": 27,
        "start_time": "2023-06-11T12:34:08.607Z"
      },
      {
        "duration": 13,
        "start_time": "2023-06-11T12:34:08.635Z"
      },
      {
        "duration": 183,
        "start_time": "2023-06-11T14:30:45.426Z"
      },
      {
        "duration": 116,
        "start_time": "2023-06-12T06:22:09.399Z"
      },
      {
        "duration": 1894,
        "start_time": "2023-06-12T06:23:39.900Z"
      },
      {
        "duration": 3980,
        "start_time": "2023-06-12T06:23:41.797Z"
      },
      {
        "duration": 7,
        "start_time": "2023-06-12T06:23:45.779Z"
      },
      {
        "duration": 56,
        "start_time": "2023-06-12T06:23:45.788Z"
      },
      {
        "duration": 66,
        "start_time": "2023-06-12T06:23:45.854Z"
      },
      {
        "duration": 18,
        "start_time": "2023-06-12T06:23:45.922Z"
      },
      {
        "duration": 49,
        "start_time": "2023-06-12T06:23:45.942Z"
      },
      {
        "duration": 47,
        "start_time": "2023-06-12T06:23:45.993Z"
      },
      {
        "duration": 78,
        "start_time": "2023-06-12T06:23:46.042Z"
      },
      {
        "duration": 16,
        "start_time": "2023-06-12T06:23:46.124Z"
      },
      {
        "duration": 100,
        "start_time": "2023-06-12T06:23:46.142Z"
      },
      {
        "duration": 396,
        "start_time": "2023-06-12T06:23:46.244Z"
      },
      {
        "duration": 15,
        "start_time": "2023-06-12T06:23:46.642Z"
      },
      {
        "duration": 96,
        "start_time": "2023-06-12T06:23:46.659Z"
      },
      {
        "duration": 86,
        "start_time": "2023-06-12T06:23:46.758Z"
      },
      {
        "duration": 132,
        "start_time": "2023-06-12T06:23:46.846Z"
      },
      {
        "duration": 47,
        "start_time": "2023-06-12T06:23:46.986Z"
      },
      {
        "duration": 397,
        "start_time": "2023-06-12T06:23:47.035Z"
      },
      {
        "duration": 30,
        "start_time": "2023-06-12T06:23:47.433Z"
      },
      {
        "duration": 105,
        "start_time": "2023-06-12T06:23:47.464Z"
      },
      {
        "duration": 59,
        "start_time": "2023-06-12T06:23:47.570Z"
      },
      {
        "duration": 406,
        "start_time": "2023-06-12T06:23:47.631Z"
      },
      {
        "duration": 347,
        "start_time": "2023-06-12T06:23:48.039Z"
      },
      {
        "duration": 743,
        "start_time": "2023-06-12T06:23:48.388Z"
      },
      {
        "duration": 903,
        "start_time": "2023-06-12T06:23:49.133Z"
      },
      {
        "duration": 433,
        "start_time": "2023-06-12T06:23:50.037Z"
      },
      {
        "duration": 509,
        "start_time": "2023-06-12T06:23:50.475Z"
      },
      {
        "duration": 176,
        "start_time": "2023-06-12T06:23:50.996Z"
      },
      {
        "duration": 10,
        "start_time": "2023-06-12T06:23:51.176Z"
      },
      {
        "duration": 35,
        "start_time": "2023-06-12T06:23:51.191Z"
      },
      {
        "duration": 312,
        "start_time": "2023-06-12T06:23:51.228Z"
      },
      {
        "duration": 4,
        "start_time": "2023-06-12T06:23:51.542Z"
      },
      {
        "duration": 582,
        "start_time": "2023-06-12T06:23:51.548Z"
      },
      {
        "duration": 23,
        "start_time": "2023-06-12T06:23:52.132Z"
      },
      {
        "duration": 57,
        "start_time": "2023-06-12T06:23:52.157Z"
      },
      {
        "duration": 38,
        "start_time": "2023-06-12T06:23:52.216Z"
      },
      {
        "duration": 56,
        "start_time": "2023-06-12T06:23:52.256Z"
      },
      {
        "duration": 59,
        "start_time": "2023-06-12T06:23:52.315Z"
      },
      {
        "duration": 63,
        "start_time": "2023-06-12T06:23:52.376Z"
      },
      {
        "duration": 4,
        "start_time": "2023-06-12T06:25:41.539Z"
      },
      {
        "duration": 11,
        "start_time": "2023-06-12T06:25:41.808Z"
      },
      {
        "duration": 19,
        "start_time": "2023-06-12T06:30:18.347Z"
      },
      {
        "duration": 163,
        "start_time": "2023-06-12T06:37:13.673Z"
      },
      {
        "duration": 13,
        "start_time": "2023-06-12T06:37:40.009Z"
      },
      {
        "duration": 27,
        "start_time": "2023-06-12T06:37:47.172Z"
      },
      {
        "duration": 6,
        "start_time": "2023-06-12T06:39:27.301Z"
      },
      {
        "duration": 27,
        "start_time": "2023-06-12T06:39:29.897Z"
      },
      {
        "duration": 424,
        "start_time": "2023-06-12T06:39:39.426Z"
      },
      {
        "duration": 9,
        "start_time": "2023-06-12T06:40:01.992Z"
      },
      {
        "duration": 31,
        "start_time": "2023-06-12T06:40:37.845Z"
      },
      {
        "duration": 10,
        "start_time": "2023-06-12T06:41:04.009Z"
      },
      {
        "duration": 10,
        "start_time": "2023-06-12T06:41:15.913Z"
      },
      {
        "duration": 4,
        "start_time": "2023-06-12T06:41:26.206Z"
      },
      {
        "duration": 1864,
        "start_time": "2023-06-12T06:41:26.213Z"
      },
      {
        "duration": 12,
        "start_time": "2023-06-12T06:41:28.080Z"
      },
      {
        "duration": 26,
        "start_time": "2023-06-12T06:41:28.094Z"
      },
      {
        "duration": 50,
        "start_time": "2023-06-12T06:41:28.124Z"
      },
      {
        "duration": 42,
        "start_time": "2023-06-12T06:41:28.176Z"
      },
      {
        "duration": 19,
        "start_time": "2023-06-12T06:41:28.220Z"
      },
      {
        "duration": 71,
        "start_time": "2023-06-12T06:41:28.241Z"
      },
      {
        "duration": 27,
        "start_time": "2023-06-12T06:41:28.314Z"
      },
      {
        "duration": 66,
        "start_time": "2023-06-12T06:41:28.343Z"
      },
      {
        "duration": 30,
        "start_time": "2023-06-12T06:41:28.411Z"
      },
      {
        "duration": 62,
        "start_time": "2023-06-12T06:41:28.443Z"
      },
      {
        "duration": 12,
        "start_time": "2023-06-12T06:41:34.005Z"
      },
      {
        "duration": 5,
        "start_time": "2023-06-12T06:41:44.977Z"
      },
      {
        "duration": 1557,
        "start_time": "2023-06-12T06:41:44.985Z"
      },
      {
        "duration": 14,
        "start_time": "2023-06-12T06:41:46.544Z"
      },
      {
        "duration": 62,
        "start_time": "2023-06-12T06:41:46.561Z"
      },
      {
        "duration": 11,
        "start_time": "2023-06-12T06:41:46.626Z"
      },
      {
        "duration": 71,
        "start_time": "2023-06-12T06:41:46.638Z"
      },
      {
        "duration": 6,
        "start_time": "2023-06-12T06:41:46.711Z"
      },
      {
        "duration": 21,
        "start_time": "2023-06-12T06:41:46.719Z"
      },
      {
        "duration": 41,
        "start_time": "2023-06-12T06:41:46.741Z"
      },
      {
        "duration": 39,
        "start_time": "2023-06-12T06:41:46.785Z"
      },
      {
        "duration": 55,
        "start_time": "2023-06-12T06:41:46.827Z"
      },
      {
        "duration": 67,
        "start_time": "2023-06-12T06:41:46.884Z"
      },
      {
        "duration": 11,
        "start_time": "2023-06-12T06:42:20.494Z"
      },
      {
        "duration": 11,
        "start_time": "2023-06-12T06:42:41.971Z"
      },
      {
        "duration": 12,
        "start_time": "2023-06-12T06:46:29.228Z"
      },
      {
        "duration": 16,
        "start_time": "2023-06-12T06:46:35.359Z"
      },
      {
        "duration": 10,
        "start_time": "2023-06-12T06:47:06.508Z"
      },
      {
        "duration": 10,
        "start_time": "2023-06-12T06:47:14.419Z"
      },
      {
        "duration": 4,
        "start_time": "2023-06-12T06:48:44.614Z"
      },
      {
        "duration": 24,
        "start_time": "2023-06-12T06:48:47.486Z"
      },
      {
        "duration": 23,
        "start_time": "2023-06-12T06:48:55.815Z"
      },
      {
        "duration": 5,
        "start_time": "2023-06-12T06:48:58.303Z"
      },
      {
        "duration": 4,
        "start_time": "2023-06-12T06:49:03.503Z"
      },
      {
        "duration": 334,
        "start_time": "2023-06-12T06:49:04.503Z"
      },
      {
        "duration": 11,
        "start_time": "2023-06-12T06:49:58.803Z"
      },
      {
        "duration": 4,
        "start_time": "2023-06-12T06:50:09.900Z"
      },
      {
        "duration": 30,
        "start_time": "2023-06-12T06:50:12.482Z"
      },
      {
        "duration": 16,
        "start_time": "2023-06-12T06:50:35.266Z"
      },
      {
        "duration": 9,
        "start_time": "2023-06-12T06:50:52.178Z"
      },
      {
        "duration": 412,
        "start_time": "2023-06-12T06:50:53.774Z"
      },
      {
        "duration": 36,
        "start_time": "2023-06-12T06:51:07.818Z"
      },
      {
        "duration": 29,
        "start_time": "2023-06-12T06:52:02.807Z"
      },
      {
        "duration": 5,
        "start_time": "2023-06-12T06:52:07.896Z"
      },
      {
        "duration": 41,
        "start_time": "2023-06-12T06:52:09.709Z"
      },
      {
        "duration": 352,
        "start_time": "2023-06-12T06:52:18.775Z"
      },
      {
        "duration": 405,
        "start_time": "2023-06-12T06:53:17.914Z"
      },
      {
        "duration": 5,
        "start_time": "2023-06-12T06:53:37.234Z"
      },
      {
        "duration": 9,
        "start_time": "2023-06-12T06:54:25.388Z"
      },
      {
        "duration": 5,
        "start_time": "2023-06-12T06:54:26.831Z"
      },
      {
        "duration": 333,
        "start_time": "2023-06-12T06:54:29.908Z"
      },
      {
        "duration": 379,
        "start_time": "2023-06-12T06:55:38.370Z"
      },
      {
        "duration": 62,
        "start_time": "2023-06-12T07:10:01.478Z"
      },
      {
        "duration": 279,
        "start_time": "2023-06-12T07:10:15.228Z"
      },
      {
        "duration": 4,
        "start_time": "2023-06-12T07:10:28.594Z"
      },
      {
        "duration": 1627,
        "start_time": "2023-06-12T07:10:28.601Z"
      },
      {
        "duration": 6,
        "start_time": "2023-06-12T07:10:30.230Z"
      },
      {
        "duration": 145,
        "start_time": "2023-06-12T07:10:30.238Z"
      },
      {
        "duration": 99,
        "start_time": "2023-06-12T07:10:30.387Z"
      },
      {
        "duration": 80,
        "start_time": "2023-06-12T07:10:30.488Z"
      },
      {
        "duration": 79,
        "start_time": "2023-06-12T07:10:30.569Z"
      },
      {
        "duration": 138,
        "start_time": "2023-06-12T07:10:30.650Z"
      },
      {
        "duration": 49,
        "start_time": "2023-06-12T07:10:30.790Z"
      },
      {
        "duration": 87,
        "start_time": "2023-06-12T07:10:30.841Z"
      },
      {
        "duration": 226,
        "start_time": "2023-06-12T07:10:30.930Z"
      },
      {
        "duration": 118,
        "start_time": "2023-06-12T07:10:31.158Z"
      },
      {
        "duration": 513,
        "start_time": "2023-06-12T07:10:31.279Z"
      },
      {
        "duration": 5,
        "start_time": "2023-06-12T07:10:31.795Z"
      },
      {
        "duration": 38,
        "start_time": "2023-06-12T07:10:31.802Z"
      },
      {
        "duration": 72,
        "start_time": "2023-06-12T07:10:31.842Z"
      },
      {
        "duration": 105,
        "start_time": "2023-06-12T07:10:31.916Z"
      },
      {
        "duration": 11,
        "start_time": "2023-06-12T07:10:32.023Z"
      },
      {
        "duration": 79,
        "start_time": "2023-06-12T07:10:32.036Z"
      },
      {
        "duration": 513,
        "start_time": "2023-06-12T07:10:32.117Z"
      },
      {
        "duration": 44,
        "start_time": "2023-06-12T07:10:32.633Z"
      },
      {
        "duration": 122,
        "start_time": "2023-06-12T07:10:32.679Z"
      },
      {
        "duration": 106,
        "start_time": "2023-06-12T07:10:32.804Z"
      },
      {
        "duration": 484,
        "start_time": "2023-06-12T07:10:32.912Z"
      },
      {
        "duration": 304,
        "start_time": "2023-06-12T07:12:46.859Z"
      },
      {
        "duration": 290,
        "start_time": "2023-06-12T07:13:11.460Z"
      },
      {
        "duration": 331,
        "start_time": "2023-06-12T07:14:14.350Z"
      },
      {
        "duration": 280,
        "start_time": "2023-06-12T07:14:25.915Z"
      },
      {
        "duration": 563,
        "start_time": "2023-06-12T07:17:08.968Z"
      },
      {
        "duration": 612,
        "start_time": "2023-06-12T07:18:11.473Z"
      },
      {
        "duration": 675,
        "start_time": "2023-06-12T07:20:09.767Z"
      },
      {
        "duration": 723,
        "start_time": "2023-06-12T07:22:53.303Z"
      },
      {
        "duration": 323,
        "start_time": "2023-06-12T07:24:53.362Z"
      },
      {
        "duration": 270,
        "start_time": "2023-06-12T07:28:58.863Z"
      },
      {
        "duration": 367,
        "start_time": "2023-06-12T07:31:21.903Z"
      },
      {
        "duration": 395,
        "start_time": "2023-06-12T07:31:46.063Z"
      },
      {
        "duration": 184,
        "start_time": "2023-06-12T07:37:17.954Z"
      },
      {
        "duration": 242,
        "start_time": "2023-06-12T07:37:52.152Z"
      },
      {
        "duration": 184,
        "start_time": "2023-06-12T07:38:41.766Z"
      },
      {
        "duration": 149,
        "start_time": "2023-06-12T07:38:59.523Z"
      },
      {
        "duration": 75,
        "start_time": "2023-06-12T07:39:56.480Z"
      },
      {
        "duration": 122,
        "start_time": "2023-06-12T07:45:39.082Z"
      },
      {
        "duration": 216,
        "start_time": "2023-06-12T07:46:14.095Z"
      },
      {
        "duration": 55,
        "start_time": "2023-06-12T07:48:08.457Z"
      },
      {
        "duration": 132,
        "start_time": "2023-06-12T07:49:07.623Z"
      },
      {
        "duration": 126,
        "start_time": "2023-06-12T07:49:19.838Z"
      },
      {
        "duration": 122,
        "start_time": "2023-06-12T07:49:48.826Z"
      },
      {
        "duration": 130,
        "start_time": "2023-06-12T07:50:19.136Z"
      },
      {
        "duration": 113,
        "start_time": "2023-06-12T07:50:32.815Z"
      },
      {
        "duration": 115,
        "start_time": "2023-06-12T07:50:44.531Z"
      },
      {
        "duration": 155,
        "start_time": "2023-06-12T07:51:32.521Z"
      },
      {
        "duration": 122,
        "start_time": "2023-06-12T07:51:45.266Z"
      },
      {
        "duration": 148,
        "start_time": "2023-06-12T07:51:50.077Z"
      },
      {
        "duration": 132,
        "start_time": "2023-06-12T07:52:04.692Z"
      },
      {
        "duration": 125,
        "start_time": "2023-06-12T07:52:17.160Z"
      },
      {
        "duration": 115,
        "start_time": "2023-06-12T08:22:50.128Z"
      },
      {
        "duration": 5,
        "start_time": "2023-06-12T08:26:06.567Z"
      },
      {
        "duration": 128,
        "start_time": "2023-06-12T08:26:50.983Z"
      },
      {
        "duration": 119,
        "start_time": "2023-06-12T08:27:15.222Z"
      },
      {
        "duration": 14,
        "start_time": "2023-06-12T08:29:39.732Z"
      },
      {
        "duration": 19,
        "start_time": "2023-06-12T08:30:01.714Z"
      },
      {
        "duration": 735,
        "start_time": "2023-06-12T08:30:34.693Z"
      },
      {
        "duration": 9,
        "start_time": "2023-06-12T08:30:49.406Z"
      },
      {
        "duration": 345,
        "start_time": "2023-06-12T08:31:02.449Z"
      },
      {
        "duration": 166,
        "start_time": "2023-06-12T08:31:08.751Z"
      },
      {
        "duration": 184,
        "start_time": "2023-06-12T08:31:28.391Z"
      },
      {
        "duration": 170,
        "start_time": "2023-06-12T08:31:38.222Z"
      },
      {
        "duration": 216,
        "start_time": "2023-06-12T08:31:49.737Z"
      },
      {
        "duration": 9,
        "start_time": "2023-06-12T08:32:31.909Z"
      },
      {
        "duration": 12,
        "start_time": "2023-06-12T08:32:43.120Z"
      },
      {
        "duration": 13,
        "start_time": "2023-06-12T08:32:57.700Z"
      },
      {
        "duration": 165,
        "start_time": "2023-06-12T08:33:46.939Z"
      },
      {
        "duration": 13370,
        "start_time": "2023-06-12T08:34:07.952Z"
      },
      {
        "duration": 162,
        "start_time": "2023-06-12T08:34:31.580Z"
      },
      {
        "duration": 278,
        "start_time": "2023-06-12T08:34:42.972Z"
      },
      {
        "duration": 235,
        "start_time": "2023-06-12T08:35:27.371Z"
      },
      {
        "duration": 6,
        "start_time": "2023-06-12T08:35:50.294Z"
      },
      {
        "duration": 161,
        "start_time": "2023-06-12T08:36:13.219Z"
      },
      {
        "duration": 326,
        "start_time": "2023-06-12T08:36:25.028Z"
      },
      {
        "duration": 150,
        "start_time": "2023-06-12T08:36:36.920Z"
      },
      {
        "duration": 297,
        "start_time": "2023-06-12T08:36:56.576Z"
      },
      {
        "duration": 136,
        "start_time": "2023-06-12T08:37:24.535Z"
      },
      {
        "duration": 115,
        "start_time": "2023-06-12T08:37:40.481Z"
      },
      {
        "duration": 153,
        "start_time": "2023-06-12T08:38:13.538Z"
      },
      {
        "duration": 134,
        "start_time": "2023-06-12T08:38:19.746Z"
      },
      {
        "duration": 5,
        "start_time": "2023-06-12T08:39:21.662Z"
      },
      {
        "duration": 80,
        "start_time": "2023-06-12T08:39:27.391Z"
      },
      {
        "duration": 86,
        "start_time": "2023-06-12T08:40:23.504Z"
      },
      {
        "duration": 140,
        "start_time": "2023-06-12T08:40:27.739Z"
      },
      {
        "duration": 121,
        "start_time": "2023-06-12T08:40:51.387Z"
      },
      {
        "duration": 13,
        "start_time": "2023-06-12T08:41:18.612Z"
      },
      {
        "duration": 124,
        "start_time": "2023-06-12T08:41:30.547Z"
      },
      {
        "duration": 164,
        "start_time": "2023-06-12T08:41:46.963Z"
      },
      {
        "duration": 14,
        "start_time": "2023-06-12T08:42:03.983Z"
      },
      {
        "duration": 236,
        "start_time": "2023-06-12T08:42:10.162Z"
      },
      {
        "duration": 14,
        "start_time": "2023-06-12T08:42:21.022Z"
      },
      {
        "duration": 134,
        "start_time": "2023-06-12T08:42:24.610Z"
      },
      {
        "duration": 13,
        "start_time": "2023-06-12T08:42:36.793Z"
      },
      {
        "duration": 1627,
        "start_time": "2023-06-12T08:42:43.517Z"
      },
      {
        "duration": 1627,
        "start_time": "2023-06-12T08:42:54.350Z"
      },
      {
        "duration": 1554,
        "start_time": "2023-06-12T08:43:15.782Z"
      },
      {
        "duration": 1723,
        "start_time": "2023-06-12T08:43:52.184Z"
      },
      {
        "duration": 13,
        "start_time": "2023-06-12T08:44:31.816Z"
      },
      {
        "duration": 190,
        "start_time": "2023-06-12T08:44:37.560Z"
      },
      {
        "duration": 13,
        "start_time": "2023-06-12T08:44:52.143Z"
      },
      {
        "duration": 1720,
        "start_time": "2023-06-12T08:44:56.940Z"
      },
      {
        "duration": 152,
        "start_time": "2023-06-12T08:45:16.486Z"
      },
      {
        "duration": 2026,
        "start_time": "2023-06-12T08:45:30.655Z"
      },
      {
        "duration": 1673,
        "start_time": "2023-06-12T08:45:41.212Z"
      },
      {
        "duration": 10,
        "start_time": "2023-06-12T08:50:10.101Z"
      },
      {
        "duration": 145,
        "start_time": "2023-06-12T08:52:32.501Z"
      },
      {
        "duration": 408,
        "start_time": "2023-06-12T08:59:51.292Z"
      },
      {
        "duration": 516,
        "start_time": "2023-06-12T09:00:14.024Z"
      },
      {
        "duration": 429,
        "start_time": "2023-06-12T09:00:39.803Z"
      },
      {
        "duration": 424,
        "start_time": "2023-06-12T09:00:49.408Z"
      },
      {
        "duration": 415,
        "start_time": "2023-06-12T09:01:03.205Z"
      },
      {
        "duration": 412,
        "start_time": "2023-06-12T09:01:40.627Z"
      },
      {
        "duration": 409,
        "start_time": "2023-06-12T09:01:58.115Z"
      },
      {
        "duration": 391,
        "start_time": "2023-06-12T09:03:40.621Z"
      },
      {
        "duration": 408,
        "start_time": "2023-06-12T09:03:48.462Z"
      },
      {
        "duration": 531,
        "start_time": "2023-06-12T09:04:02.079Z"
      },
      {
        "duration": 399,
        "start_time": "2023-06-12T09:04:24.088Z"
      },
      {
        "duration": 25,
        "start_time": "2023-06-12T09:10:38.637Z"
      },
      {
        "duration": 14,
        "start_time": "2023-06-12T09:11:10.203Z"
      },
      {
        "duration": 1148,
        "start_time": "2023-06-12T09:14:26.272Z"
      },
      {
        "duration": 11,
        "start_time": "2023-06-12T09:14:57.703Z"
      },
      {
        "duration": 1669,
        "start_time": "2023-06-12T09:15:25.496Z"
      },
      {
        "duration": 17,
        "start_time": "2023-06-12T09:15:45.592Z"
      },
      {
        "duration": 22,
        "start_time": "2023-06-12T09:16:10.945Z"
      },
      {
        "duration": 22,
        "start_time": "2023-06-12T09:17:15.096Z"
      },
      {
        "duration": 6,
        "start_time": "2023-06-12T09:17:36.692Z"
      },
      {
        "duration": 16,
        "start_time": "2023-06-12T09:18:08.442Z"
      },
      {
        "duration": 9,
        "start_time": "2023-06-12T09:18:13.328Z"
      },
      {
        "duration": 17,
        "start_time": "2023-06-12T09:18:20.800Z"
      },
      {
        "duration": 17,
        "start_time": "2023-06-12T09:19:14.715Z"
      },
      {
        "duration": 16,
        "start_time": "2023-06-12T09:19:33.011Z"
      },
      {
        "duration": 16,
        "start_time": "2023-06-12T09:20:42.676Z"
      },
      {
        "duration": 15,
        "start_time": "2023-06-12T09:21:00.967Z"
      },
      {
        "duration": 12,
        "start_time": "2023-06-12T09:21:47.299Z"
      },
      {
        "duration": 14,
        "start_time": "2023-06-12T09:21:51.815Z"
      },
      {
        "duration": 73,
        "start_time": "2023-06-12T09:22:19.521Z"
      },
      {
        "duration": 58,
        "start_time": "2023-06-12T09:29:16.820Z"
      },
      {
        "duration": 68,
        "start_time": "2023-06-12T09:36:18.292Z"
      },
      {
        "duration": 88,
        "start_time": "2023-06-12T09:37:49.918Z"
      },
      {
        "duration": 15,
        "start_time": "2023-06-12T09:39:26.220Z"
      },
      {
        "duration": 11,
        "start_time": "2023-06-12T09:48:56.025Z"
      },
      {
        "duration": 17,
        "start_time": "2023-06-12T09:49:53.869Z"
      },
      {
        "duration": 11,
        "start_time": "2023-06-12T09:50:05.958Z"
      },
      {
        "duration": 18,
        "start_time": "2023-06-12T09:50:28.388Z"
      },
      {
        "duration": 15,
        "start_time": "2023-06-12T09:57:11.087Z"
      },
      {
        "duration": 21,
        "start_time": "2023-06-12T09:57:28.726Z"
      },
      {
        "duration": 14,
        "start_time": "2023-06-12T09:58:03.522Z"
      },
      {
        "duration": 15,
        "start_time": "2023-06-12T09:58:07.903Z"
      },
      {
        "duration": 17,
        "start_time": "2023-06-12T09:58:38.385Z"
      },
      {
        "duration": 14,
        "start_time": "2023-06-12T10:00:03.721Z"
      },
      {
        "duration": 1286,
        "start_time": "2023-06-12T10:10:15.579Z"
      },
      {
        "duration": 3072,
        "start_time": "2023-06-12T10:10:16.868Z"
      },
      {
        "duration": 5,
        "start_time": "2023-06-12T10:10:19.942Z"
      },
      {
        "duration": 17,
        "start_time": "2023-06-12T10:10:19.950Z"
      },
      {
        "duration": 19,
        "start_time": "2023-06-12T10:10:19.969Z"
      },
      {
        "duration": 15,
        "start_time": "2023-06-12T10:10:19.990Z"
      },
      {
        "duration": 38,
        "start_time": "2023-06-12T10:10:20.008Z"
      },
      {
        "duration": 28,
        "start_time": "2023-06-12T10:10:20.049Z"
      },
      {
        "duration": 46,
        "start_time": "2023-06-12T10:10:20.079Z"
      },
      {
        "duration": 7,
        "start_time": "2023-06-12T10:10:20.127Z"
      },
      {
        "duration": 37,
        "start_time": "2023-06-12T10:10:20.135Z"
      },
      {
        "duration": 11,
        "start_time": "2023-06-12T10:10:20.174Z"
      },
      {
        "duration": 436,
        "start_time": "2023-06-12T10:10:20.187Z"
      },
      {
        "duration": 5,
        "start_time": "2023-06-12T10:10:20.624Z"
      },
      {
        "duration": 16,
        "start_time": "2023-06-12T10:10:20.631Z"
      },
      {
        "duration": 28,
        "start_time": "2023-06-12T10:10:20.649Z"
      },
      {
        "duration": 41,
        "start_time": "2023-06-12T10:10:20.679Z"
      },
      {
        "duration": 9,
        "start_time": "2023-06-12T10:10:20.722Z"
      },
      {
        "duration": 14,
        "start_time": "2023-06-12T10:10:20.733Z"
      },
      {
        "duration": 314,
        "start_time": "2023-06-12T10:10:20.749Z"
      },
      {
        "duration": 23,
        "start_time": "2023-06-12T10:10:21.065Z"
      },
      {
        "duration": 49,
        "start_time": "2023-06-12T10:10:21.091Z"
      },
      {
        "duration": 18,
        "start_time": "2023-06-12T10:10:21.142Z"
      },
      {
        "duration": 377,
        "start_time": "2023-06-12T10:10:21.162Z"
      },
      {
        "duration": 292,
        "start_time": "2023-06-12T10:10:21.545Z"
      },
      {
        "duration": 664,
        "start_time": "2023-06-12T10:10:21.839Z"
      },
      {
        "duration": 724,
        "start_time": "2023-06-12T10:10:22.506Z"
      },
      {
        "duration": 259,
        "start_time": "2023-06-12T10:10:23.234Z"
      },
      {
        "duration": 447,
        "start_time": "2023-06-12T10:10:23.495Z"
      },
      {
        "duration": 132,
        "start_time": "2023-06-12T10:10:23.947Z"
      },
      {
        "duration": 5,
        "start_time": "2023-06-12T10:10:24.080Z"
      },
      {
        "duration": 27,
        "start_time": "2023-06-12T10:10:24.088Z"
      },
      {
        "duration": 139,
        "start_time": "2023-06-12T10:10:24.117Z"
      },
      {
        "duration": 5,
        "start_time": "2023-06-12T10:10:24.258Z"
      },
      {
        "duration": 148,
        "start_time": "2023-06-12T10:10:24.265Z"
      },
      {
        "duration": 1449,
        "start_time": "2023-06-12T10:10:24.414Z"
      },
      {
        "duration": 382,
        "start_time": "2023-06-12T10:10:25.865Z"
      },
      {
        "duration": 10,
        "start_time": "2023-06-12T10:10:26.249Z"
      },
      {
        "duration": 63,
        "start_time": "2023-06-12T10:10:26.261Z"
      },
      {
        "duration": 49,
        "start_time": "2023-06-12T10:10:26.326Z"
      },
      {
        "duration": 22,
        "start_time": "2023-06-12T10:10:26.377Z"
      },
      {
        "duration": 45,
        "start_time": "2023-06-12T10:10:26.401Z"
      },
      {
        "duration": 59,
        "start_time": "2023-06-12T10:10:26.448Z"
      },
      {
        "duration": 0,
        "start_time": "2023-06-12T10:10:26.509Z"
      },
      {
        "duration": 0,
        "start_time": "2023-06-12T10:10:26.510Z"
      },
      {
        "duration": 318,
        "start_time": "2023-06-12T10:11:40.050Z"
      },
      {
        "duration": 31,
        "start_time": "2023-06-12T10:11:47.885Z"
      },
      {
        "duration": 51,
        "start_time": "2023-06-13T00:19:19.396Z"
      }
    ],
    "colab": {
      "provenance": [],
      "toc_visible": true,
      "include_colab_link": true
    },
    "kernelspec": {
      "display_name": "Python 3 (ipykernel)",
      "language": "python",
      "name": "python3"
    },
    "language_info": {
      "codemirror_mode": {
        "name": "ipython",
        "version": 3
      },
      "file_extension": ".py",
      "mimetype": "text/x-python",
      "name": "python",
      "nbconvert_exporter": "python",
      "pygments_lexer": "ipython3",
      "version": "3.9.5"
    },
    "toc": {
      "base_numbering": 1,
      "nav_menu": {},
      "number_sections": true,
      "sideBar": true,
      "skip_h1_title": false,
      "title_cell": "Table of Contents",
      "title_sidebar": "Contents",
      "toc_cell": false,
      "toc_position": {},
      "toc_section_display": true,
      "toc_window_display": false
    },
    "varInspector": {
      "cols": {
        "lenName": 16,
        "lenType": 16,
        "lenVar": 40
      },
      "kernels_config": {
        "python": {
          "delete_cmd_postfix": "",
          "delete_cmd_prefix": "del ",
          "library": "var_list.py",
          "varRefreshCmd": "print(var_dic_list())"
        },
        "r": {
          "delete_cmd_postfix": ") ",
          "delete_cmd_prefix": "rm(",
          "library": "var_list.r",
          "varRefreshCmd": "cat(var_dic_list()) "
        }
      },
      "types_to_exclude": [
        "module",
        "function",
        "builtin_function_or_method",
        "instance",
        "_Feature"
      ],
      "window_display": false
    }
  },
  "nbformat": 4,
  "nbformat_minor": 0
}
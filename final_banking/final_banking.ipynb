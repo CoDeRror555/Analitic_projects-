{
  "cells": [
    {
      "cell_type": "markdown",
      "metadata": {
        "id": "view-in-github",
        "colab_type": "text"
      },
      "source": [
        "<a href=\"https://colab.research.google.com/github/CoDeRror555/Analytic_projects/blob/main/final_banking/final_banking.ipynb\" target=\"_parent\"><img src=\"https://colab.research.google.com/assets/colab-badge.svg\" alt=\"Open In Colab\"/></a>"
      ]
    },
    {
      "cell_type": "markdown",
      "metadata": {
        "id": "ebzJPqYd_Wcj"
      },
      "source": [
        "# Проект по А/B-тестированию"
      ]
    },
    {
      "cell_type": "markdown",
      "metadata": {
        "id": "H_dPSnh1_Wcj"
      },
      "source": [
        "## Цель исследования:\n",
        "   * **Провести оценку результатов A/B-теста**\n",
        "    \n",
        "## Задачи исследования:\n",
        "\n",
        "* **Подготовка данных к анализу**\n",
        "  * *Загрузка данных из предоставленного набора и проведение их описательного анализа*\n",
        "  * *Обработка пропусков*\n",
        "  * *Поиск явных и неявных дубликатов*\n",
        "  * *Объединений и обогощение данных*\n",
        "  * *Очистка данных*\n",
        "* ****\n",
        "* **Оценка корректности проведения теста**\n",
        "  * *Выделить пользователей участвующих в тесте*\n",
        "  * Удостоверитсья, что нет пересечений с конкурирующим тестом и нет пользователей, участвующих в двух группах теста одновременно.*\n",
        "  * *Изучить данные о пользовательской активности*\n",
        "  \n",
        "* ****\n",
        "* **Исследовательский анализ данных**\n",
        "  * *Распределение количества событий на пользователя в разрезе групп теста*\n",
        "  * *Определение интервалов количественных признаков с высоким уровнем оттока*\n",
        "  * *Динамика количества событий в группах теста по дням*\n",
        "  * *Продуктовная воронка*\n",
        "  * *Общий вывод об изменении пользовательской активности в тестовой группе, по сравнению с контрольной.*\n",
        "* ****\n",
        "* **Оценка результатов A/B теста**\n",
        "  * *Анализ распределения количественных признаковПроверьте статистическую разницу долей z-критерием.*\n",
        "  * *Вывод о результатах проведения A/B теста*\n",
        "  * *Рекомендации по результатам A/B теста*"
      ]
    },
    {
      "cell_type": "markdown",
      "metadata": {
        "id": "ahCBTqHB_Wck"
      },
      "source": [
        "# Библиотеки и функции"
      ]
    },
    {
      "cell_type": "code",
      "execution_count": null,
      "metadata": {
        "id": "whN0DVtg_Wck"
      },
      "outputs": [],
      "source": [
        "# table\n",
        "import numpy as np\n",
        "import pandas as pd\n",
        "# ploting\n",
        "import seaborn as sns\n",
        "import matplotlib.pyplot as plt\n",
        "from plotly import graph_objects as go\n",
        "\n",
        "# date and regular expressions\n",
        "from datetime import datetime\n",
        "import re\n",
        "\n",
        "# math\n",
        "import math as mth\n",
        "\n",
        "\n",
        "# statistic\n",
        "from scipy import stats as st\n",
        "\n",
        "# sis\n",
        "import warnings\n",
        "warnings.filterwarnings('ignore')\n",
        "warnings.simplefilter('ignore')\n",
        "\n"
      ]
    },
    {
      "cell_type": "code",
      "execution_count": null,
      "metadata": {
        "id": "LuJB0EdG_Wcl"
      },
      "outputs": [],
      "source": [
        "# функция для получения инфо о данных\n",
        "def df_info(df:pd.DataFrame) -> None:\n",
        "    '''Распечатывает информацию о датафрейме'''\n",
        "    print(f\"Количество полных дубликатов: {df.duplicated().sum()}\")\n",
        "    print('****************')\n",
        "\n",
        "    # Выводим инфо\n",
        "    df.info()\n",
        "\n",
        "\n",
        "    # Сохраняем пропуски\n",
        "    df_nans = np.trim_zeros(df.isna().mean().sort_values())\n",
        "\n",
        "    if len(df_nans > 0):\n",
        "        print('\\nNA:',end='')\n",
        "        display(df_nans)\n",
        "\n",
        "    # Пример данных\n",
        "    display(df.dropna().sample().T)\n",
        "\n",
        "    for col in df.columns:\n",
        "        if df[col].nunique() < 20:\n",
        "            display(df[col].value_counts())"
      ]
    },
    {
      "cell_type": "code",
      "execution_count": null,
      "metadata": {
        "id": "2jMZ6E8K_Wcl"
      },
      "outputs": [],
      "source": [
        "# добавляет аннотации к барам\n",
        "def add_value_labels(ax,bar_or_barh, space=4,fmt=\"{:.1f}\"):\n",
        "    \"\"\"Add labels to the end of each bar in a bar chart.\n",
        "\n",
        "    Arguments:\n",
        "        ax (matplotlib.axes.Axes): The matplotlib object containing the axes\n",
        "            of the plot to annotate.\n",
        "        spacing (int): The distance between the labels and the bars.\n",
        "        frm: format annotaitions\n",
        "        bar_or_barh: chose bar or barh pyplot\n",
        "    \"\"\"\n",
        "    if bar_or_barh == 'bar':\n",
        "        # For each bar: Place a label\n",
        "        heights = [rect.get_height() for rect in ax.patches]\n",
        "        for rect in ax.patches:\n",
        "            # Get X and Y placement of label from rect.\n",
        "            y_value = rect.get_height()\n",
        "            x_value = rect.get_x() + rect.get_width() / 2\n",
        "\n",
        "\n",
        "            if y_value > 0:\n",
        "                va = 'bottom'\n",
        "                label = fmt.format(y_value)\n",
        "                # Create annotation\n",
        "                if y_value > max(heights)/2:\n",
        "                    ax.annotate(\n",
        "                        label,                      # Use `label` as label\n",
        "                        (x_value, y_value/2),         # Place label at end of the bar\n",
        "                        xytext=(0, space),          # Vertically shift label by `space`\n",
        "                        textcoords=\"offset points\", # Interpret `xytext` as offset in points\n",
        "                        ha='center',                # Horizontally center label\n",
        "                        va=va,\n",
        "                        rotation=90,color='black',bbox = dict(boxstyle=\"round\", fc=\"w\", ec=\"0.99\", alpha=0.7),size = 10)                      # Vertically align label differently for\n",
        "                else:\n",
        "                    ax.annotate(\n",
        "                        label,                      # Use `label` as label\n",
        "                        (x_value, rect.get_y()+rect.get_height()),         # Place label at end of the bar\n",
        "                        xytext=(0, space),          # Vertically shift label by `space`\n",
        "                        textcoords=\"offset points\", # Interpret `xytext` as offset in points\n",
        "                        ha='center',                # Horizontally center label\n",
        "                        va=va,\n",
        "                        rotation=90,size = 10)\n",
        "            elif y_value == 0:\n",
        "                va = 'top'\n",
        "                label = fmt.format(y_value)\n",
        "                ax.annotate(\n",
        "                        label,                      # Use `label` as label\n",
        "                        (x_value, rect.get_y()+rect.get_height()),         # Place label at end of the bar\n",
        "                        xytext=(0, space),          # Vertically shift label by `space`\n",
        "                        textcoords=\"offset points\", # Interpret `xytext` as offset in points\n",
        "                        ha='center',                # Horizontally center label\n",
        "                        va='center',\n",
        "                        rotation=90,size = 10)\n",
        "\n",
        "            else:\n",
        "\n",
        "                # Invert space to place label belo\n",
        "                # Vertically align label at top\n",
        "                va = 'top'\n",
        "                # Use Y value as label and format number with one decimal place\n",
        "                label = fmt.format(y_value)\n",
        "                    # Create annotation\n",
        "                if y_value < min(heights)/2:\n",
        "                    ax.annotate(\n",
        "                        label,                      # Use `label` as label\n",
        "                        (x_value, y_value/2),         # Place label at end of the bar\n",
        "                        xytext=(0, 0),          # Vertically shift label by `space`\n",
        "                        textcoords=\"offset points\", # Interpret `xytext` as offset in points\n",
        "                        ha='center',                # Horizontally center label\n",
        "                        va=va,\n",
        "                        rotation=90,color='black',bbox = dict(boxstyle=\"round\", fc=\"w\", ec=\"0.99\", alpha=0.7),size = 10)                      # Vertically align label differently for\n",
        "                                                    # positive and negative values.\n",
        "                else:\n",
        "                    ax.annotate(\n",
        "                        label,                      # Use `label` as label\n",
        "                        (x_value, rect.get_y()+rect.get_height()),         # Place label at end of the bar\n",
        "                        xytext=(0, 0),          # Vertically shift label by `space`\n",
        "                        textcoords=\"offset points\", # Interpret `xytext` as offset in points\n",
        "                        ha='center',                # Horizontally center label\n",
        "                        va=va,\n",
        "                        rotation=90,size = 10)                      # Vertically align label differently for\n",
        "                                                # positive and negative values.\n",
        "    elif bar_or_barh == 'barh':\n",
        "\n",
        "        # Получаем ширины столбиков\n",
        "        widths = [rect.get_width() for rect in ax.patches]\n",
        "        heights = [rect.get_height() for rect in ax.patches]\n",
        "        # Добавляем аннотации на каждый столбик\n",
        "        for i, rect in enumerate(ax.patches):\n",
        "            # Перемещаем аннотацию внутрь столбика\n",
        "            if widths[i] < 0:\n",
        "                if widths[i] < min(widths)/2:\n",
        "                    space *= -1\n",
        "                    ax.annotate(fmt.format(widths[i]), xy=(widths[i]/2, rect.get_y() + rect.get_height()/2),\\\n",
        "                                xytext=(0, 0), textcoords=\"offset points\", ha='center', va='center',color='black',bbox = dict(boxstyle=\"round\", fc=\"w\", ec=\"0.99\", alpha=0.7),size = 10)\n",
        "                else:\n",
        "                    space *= -1\n",
        "                    ax.annotate(fmt.format(widths[i]), xy=(rect.get_x() + rect.get_width(),rect.get_y() + rect.get_height() / 2),\\\n",
        "                            xytext=(space-3, 0), textcoords=\"offset points\", ha='right', va='center',size = 10)\n",
        "\n",
        "            elif widths[i] == 0:\n",
        "                ax.annotate(fmt.format(widths[i]), xy=(widths[i],rect.get_y() + rect.get_height()/2),\\\n",
        "                            xytext=(0, 0), textcoords=\"offset points\", ha='center', va='center',size = 10)\n",
        "\n",
        "            elif widths[i] > 0:\n",
        "                if widths[i] > max(widths)/2:\n",
        "                    ax.annotate(fmt.format(widths[i]), xy=(widths[i]/2, rect.get_y() + rect.get_height()/2),\\\n",
        "                                xytext=(0, 0), textcoords=\"offset points\", ha='center', va='center',color='black',bbox = dict(boxstyle=\"round\", fc=\"w\", ec=\"0.99\", alpha=0.7),size = 10)\n",
        "\n",
        "                else:\n",
        "                    ax.annotate(fmt.format(widths[i]), xy=(rect.get_x() + rect.get_width(),rect.get_y() + rect.get_height() / 2),\\\n",
        "                            xytext=(space, 0), textcoords=\"offset points\", ha='left', va='center',size = 10)\n",
        "    else:\n",
        "        return(print(\"inter name 'bar or bash'\"))"
      ]
    },
    {
      "cell_type": "markdown",
      "metadata": {
        "id": "a9KH1SA0_Wcl"
      },
      "source": [
        "# Получение и предобработка данных"
      ]
    },
    {
      "cell_type": "code",
      "execution_count": null,
      "metadata": {
        "id": "XloSc3Ga_Wcl"
      },
      "outputs": [],
      "source": [
        "# загрузим данные\n",
        "marketing_events = pd.read_csv('/datasets/ab_project_marketing_events.csv')\n",
        "new_users = ab_project_marketing_events = pd.read_csv('/datasets/final_ab_new_users.csv')\n",
        "events = pd.read_csv('/datasets/final_ab_events.csv')\n",
        "participants = pd.read_csv('/datasets/final_ab_participants.csv')"
      ]
    },
    {
      "cell_type": "markdown",
      "metadata": {
        "id": "KpCpG_t9_Wcm"
      },
      "source": [
        "## Таблица marketing_events"
      ]
    },
    {
      "cell_type": "code",
      "execution_count": null,
      "metadata": {
        "id": "fEZNYTmX_Wcm",
        "outputId": "953bdcf3-81ed-43d6-dfcd-7be80fb5747a"
      },
      "outputs": [
        {
          "name": "stdout",
          "output_type": "stream",
          "text": [
            "<class 'pandas.core.frame.DataFrame'>\n",
            "RangeIndex: 14 entries, 0 to 13\n",
            "Data columns (total 4 columns):\n",
            " #   Column     Non-Null Count  Dtype \n",
            "---  ------     --------------  ----- \n",
            " 0   name       14 non-null     object\n",
            " 1   regions    14 non-null     object\n",
            " 2   start_dt   14 non-null     object\n",
            " 3   finish_dt  14 non-null     object\n",
            "dtypes: object(4)\n",
            "memory usage: 576.0+ bytes\n"
          ]
        },
        {
          "data": {
            "text/plain": [
              "None"
            ]
          },
          "metadata": {},
          "output_type": "display_data"
        },
        {
          "name": "stdout",
          "output_type": "stream",
          "text": [
            "************************************\n"
          ]
        },
        {
          "data": {
            "text/html": [
              "<div>\n",
              "<style scoped>\n",
              "    .dataframe tbody tr th:only-of-type {\n",
              "        vertical-align: middle;\n",
              "    }\n",
              "\n",
              "    .dataframe tbody tr th {\n",
              "        vertical-align: top;\n",
              "    }\n",
              "\n",
              "    .dataframe thead th {\n",
              "        text-align: right;\n",
              "    }\n",
              "</style>\n",
              "<table border=\"1\" class=\"dataframe\">\n",
              "  <thead>\n",
              "    <tr style=\"text-align: right;\">\n",
              "      <th></th>\n",
              "      <th>name</th>\n",
              "      <th>regions</th>\n",
              "      <th>start_dt</th>\n",
              "      <th>finish_dt</th>\n",
              "    </tr>\n",
              "  </thead>\n",
              "  <tbody>\n",
              "    <tr>\n",
              "      <th>0</th>\n",
              "      <td>Christmas&amp;New Year Promo</td>\n",
              "      <td>EU, N.America</td>\n",
              "      <td>2020-12-25</td>\n",
              "      <td>2021-01-03</td>\n",
              "    </tr>\n",
              "    <tr>\n",
              "      <th>1</th>\n",
              "      <td>St. Valentine's Day Giveaway</td>\n",
              "      <td>EU, CIS, APAC, N.America</td>\n",
              "      <td>2020-02-14</td>\n",
              "      <td>2020-02-16</td>\n",
              "    </tr>\n",
              "    <tr>\n",
              "      <th>2</th>\n",
              "      <td>St. Patric's Day Promo</td>\n",
              "      <td>EU, N.America</td>\n",
              "      <td>2020-03-17</td>\n",
              "      <td>2020-03-19</td>\n",
              "    </tr>\n",
              "    <tr>\n",
              "      <th>3</th>\n",
              "      <td>Easter Promo</td>\n",
              "      <td>EU, CIS, APAC, N.America</td>\n",
              "      <td>2020-04-12</td>\n",
              "      <td>2020-04-19</td>\n",
              "    </tr>\n",
              "    <tr>\n",
              "      <th>4</th>\n",
              "      <td>4th of July Promo</td>\n",
              "      <td>N.America</td>\n",
              "      <td>2020-07-04</td>\n",
              "      <td>2020-07-11</td>\n",
              "    </tr>\n",
              "    <tr>\n",
              "      <th>5</th>\n",
              "      <td>Black Friday Ads Campaign</td>\n",
              "      <td>EU, CIS, APAC, N.America</td>\n",
              "      <td>2020-11-26</td>\n",
              "      <td>2020-12-01</td>\n",
              "    </tr>\n",
              "    <tr>\n",
              "      <th>6</th>\n",
              "      <td>Chinese New Year Promo</td>\n",
              "      <td>APAC</td>\n",
              "      <td>2020-01-25</td>\n",
              "      <td>2020-02-07</td>\n",
              "    </tr>\n",
              "    <tr>\n",
              "      <th>7</th>\n",
              "      <td>Labor day (May 1st) Ads Campaign</td>\n",
              "      <td>EU, CIS, APAC</td>\n",
              "      <td>2020-05-01</td>\n",
              "      <td>2020-05-03</td>\n",
              "    </tr>\n",
              "    <tr>\n",
              "      <th>8</th>\n",
              "      <td>International Women's Day Promo</td>\n",
              "      <td>EU, CIS, APAC</td>\n",
              "      <td>2020-03-08</td>\n",
              "      <td>2020-03-10</td>\n",
              "    </tr>\n",
              "    <tr>\n",
              "      <th>9</th>\n",
              "      <td>Victory Day CIS (May 9th) Event</td>\n",
              "      <td>CIS</td>\n",
              "      <td>2020-05-09</td>\n",
              "      <td>2020-05-11</td>\n",
              "    </tr>\n",
              "    <tr>\n",
              "      <th>10</th>\n",
              "      <td>CIS New Year Gift Lottery</td>\n",
              "      <td>CIS</td>\n",
              "      <td>2020-12-30</td>\n",
              "      <td>2021-01-07</td>\n",
              "    </tr>\n",
              "    <tr>\n",
              "      <th>11</th>\n",
              "      <td>Dragon Boat Festival Giveaway</td>\n",
              "      <td>APAC</td>\n",
              "      <td>2020-06-25</td>\n",
              "      <td>2020-07-01</td>\n",
              "    </tr>\n",
              "    <tr>\n",
              "      <th>12</th>\n",
              "      <td>Single's Day Gift Promo</td>\n",
              "      <td>APAC</td>\n",
              "      <td>2020-11-11</td>\n",
              "      <td>2020-11-12</td>\n",
              "    </tr>\n",
              "    <tr>\n",
              "      <th>13</th>\n",
              "      <td>Chinese Moon Festival</td>\n",
              "      <td>APAC</td>\n",
              "      <td>2020-10-01</td>\n",
              "      <td>2020-10-07</td>\n",
              "    </tr>\n",
              "  </tbody>\n",
              "</table>\n",
              "</div>"
            ],
            "text/plain": [
              "                                name                   regions    start_dt  \\\n",
              "0           Christmas&New Year Promo             EU, N.America  2020-12-25   \n",
              "1       St. Valentine's Day Giveaway  EU, CIS, APAC, N.America  2020-02-14   \n",
              "2             St. Patric's Day Promo             EU, N.America  2020-03-17   \n",
              "3                       Easter Promo  EU, CIS, APAC, N.America  2020-04-12   \n",
              "4                  4th of July Promo                 N.America  2020-07-04   \n",
              "5          Black Friday Ads Campaign  EU, CIS, APAC, N.America  2020-11-26   \n",
              "6             Chinese New Year Promo                      APAC  2020-01-25   \n",
              "7   Labor day (May 1st) Ads Campaign             EU, CIS, APAC  2020-05-01   \n",
              "8    International Women's Day Promo             EU, CIS, APAC  2020-03-08   \n",
              "9    Victory Day CIS (May 9th) Event                       CIS  2020-05-09   \n",
              "10         CIS New Year Gift Lottery                       CIS  2020-12-30   \n",
              "11     Dragon Boat Festival Giveaway                      APAC  2020-06-25   \n",
              "12           Single's Day Gift Promo                      APAC  2020-11-11   \n",
              "13             Chinese Moon Festival                      APAC  2020-10-01   \n",
              "\n",
              "     finish_dt  \n",
              "0   2021-01-03  \n",
              "1   2020-02-16  \n",
              "2   2020-03-19  \n",
              "3   2020-04-19  \n",
              "4   2020-07-11  \n",
              "5   2020-12-01  \n",
              "6   2020-02-07  \n",
              "7   2020-05-03  \n",
              "8   2020-03-10  \n",
              "9   2020-05-11  \n",
              "10  2021-01-07  \n",
              "11  2020-07-01  \n",
              "12  2020-11-12  \n",
              "13  2020-10-07  "
            ]
          },
          "metadata": {},
          "output_type": "display_data"
        },
        {
          "name": "stdout",
          "output_type": "stream",
          "text": [
            "Количество дубликатов событий равно: 0\n"
          ]
        }
      ],
      "source": [
        "display(marketing_events.info())\n",
        "print(\"************************************\")\n",
        "display(marketing_events)\n",
        "print(f\"Количество дубликатов событий равно: {marketing_events['name'].duplicated().sum()}\")"
      ]
    },
    {
      "cell_type": "markdown",
      "metadata": {
        "id": "953Mvqtu_Wcn"
      },
      "source": [
        "* **Таблица содержит данные о 14 уникальных маркетинговых событиях проводимых в разное времяв разных регионах. Значения дат начала и конца акции переведем в нужный формат для корректной работы с ними**"
      ]
    },
    {
      "cell_type": "markdown",
      "metadata": {
        "id": "4zUbTAJo_Wcn"
      },
      "source": [
        "## Таблица new_users"
      ]
    },
    {
      "cell_type": "code",
      "execution_count": null,
      "metadata": {
        "id": "51yyX9CG_Wcn",
        "outputId": "72fbe7b9-c510-4665-e262-fe639162717a"
      },
      "outputs": [
        {
          "name": "stdout",
          "output_type": "stream",
          "text": [
            "<class 'pandas.core.frame.DataFrame'>\n",
            "RangeIndex: 61733 entries, 0 to 61732\n",
            "Data columns (total 4 columns):\n",
            " #   Column      Non-Null Count  Dtype \n",
            "---  ------      --------------  ----- \n",
            " 0   user_id     61733 non-null  object\n",
            " 1   first_date  61733 non-null  object\n",
            " 2   region      61733 non-null  object\n",
            " 3   device      61733 non-null  object\n",
            "dtypes: object(4)\n",
            "memory usage: 1.9+ MB\n"
          ]
        },
        {
          "data": {
            "text/plain": [
              "None"
            ]
          },
          "metadata": {},
          "output_type": "display_data"
        },
        {
          "name": "stdout",
          "output_type": "stream",
          "text": [
            "************************************\n"
          ]
        },
        {
          "data": {
            "text/html": [
              "<div>\n",
              "<style scoped>\n",
              "    .dataframe tbody tr th:only-of-type {\n",
              "        vertical-align: middle;\n",
              "    }\n",
              "\n",
              "    .dataframe tbody tr th {\n",
              "        vertical-align: top;\n",
              "    }\n",
              "\n",
              "    .dataframe thead th {\n",
              "        text-align: right;\n",
              "    }\n",
              "</style>\n",
              "<table border=\"1\" class=\"dataframe\">\n",
              "  <thead>\n",
              "    <tr style=\"text-align: right;\">\n",
              "      <th></th>\n",
              "      <th>user_id</th>\n",
              "      <th>first_date</th>\n",
              "      <th>region</th>\n",
              "      <th>device</th>\n",
              "    </tr>\n",
              "  </thead>\n",
              "  <tbody>\n",
              "    <tr>\n",
              "      <th>0</th>\n",
              "      <td>D72A72121175D8BE</td>\n",
              "      <td>2020-12-07</td>\n",
              "      <td>EU</td>\n",
              "      <td>PC</td>\n",
              "    </tr>\n",
              "    <tr>\n",
              "      <th>1</th>\n",
              "      <td>F1C668619DFE6E65</td>\n",
              "      <td>2020-12-07</td>\n",
              "      <td>N.America</td>\n",
              "      <td>Android</td>\n",
              "    </tr>\n",
              "    <tr>\n",
              "      <th>2</th>\n",
              "      <td>2E1BF1D4C37EA01F</td>\n",
              "      <td>2020-12-07</td>\n",
              "      <td>EU</td>\n",
              "      <td>PC</td>\n",
              "    </tr>\n",
              "    <tr>\n",
              "      <th>3</th>\n",
              "      <td>50734A22C0C63768</td>\n",
              "      <td>2020-12-07</td>\n",
              "      <td>EU</td>\n",
              "      <td>iPhone</td>\n",
              "    </tr>\n",
              "    <tr>\n",
              "      <th>4</th>\n",
              "      <td>E1BDDCE0DAFA2679</td>\n",
              "      <td>2020-12-07</td>\n",
              "      <td>N.America</td>\n",
              "      <td>iPhone</td>\n",
              "    </tr>\n",
              "  </tbody>\n",
              "</table>\n",
              "</div>"
            ],
            "text/plain": [
              "            user_id  first_date     region   device\n",
              "0  D72A72121175D8BE  2020-12-07         EU       PC\n",
              "1  F1C668619DFE6E65  2020-12-07  N.America  Android\n",
              "2  2E1BF1D4C37EA01F  2020-12-07         EU       PC\n",
              "3  50734A22C0C63768  2020-12-07         EU   iPhone\n",
              "4  E1BDDCE0DAFA2679  2020-12-07  N.America   iPhone"
            ]
          },
          "metadata": {},
          "output_type": "display_data"
        },
        {
          "name": "stdout",
          "output_type": "stream",
          "text": [
            "Количество дубликатов user_id в таблице равно: 0\n"
          ]
        }
      ],
      "source": [
        "# отобразим основную информацию\n",
        "display(new_users.info())\n",
        "print(\"************************************\")\n",
        "display(new_users.head())\n",
        "print(f\"Количество дубликатов user_id в таблице равно: {new_users['user_id'].duplicated().sum()}\")"
      ]
    },
    {
      "cell_type": "markdown",
      "metadata": {
        "id": "6bIkZ9mr_Wcn"
      },
      "source": [
        "* **Можно заметить отсутствие пропусков и дубликатов, а таже неверный формат дат. Всего представлено 61733 уникальных пользователя**"
      ]
    },
    {
      "cell_type": "code",
      "execution_count": null,
      "metadata": {
        "id": "jOHnljHQ_Wcn"
      },
      "outputs": [],
      "source": [
        "# приведем к нужному формату дату\n",
        "new_users.first_date = pd.to_datetime(new_users.first_date)"
      ]
    },
    {
      "cell_type": "code",
      "execution_count": null,
      "metadata": {
        "id": "cDdI4fE__Wcn",
        "outputId": "34efbad3-193a-4e6d-82c8-7fd047357f64"
      },
      "outputs": [
        {
          "name": "stdout",
          "output_type": "stream",
          "text": [
            "Количество полных дубликатов: 0\n",
            "****************\n",
            "<class 'pandas.core.frame.DataFrame'>\n",
            "RangeIndex: 61733 entries, 0 to 61732\n",
            "Data columns (total 4 columns):\n",
            " #   Column      Non-Null Count  Dtype         \n",
            "---  ------      --------------  -----         \n",
            " 0   user_id     61733 non-null  object        \n",
            " 1   first_date  61733 non-null  datetime64[ns]\n",
            " 2   region      61733 non-null  object        \n",
            " 3   device      61733 non-null  object        \n",
            "dtypes: datetime64[ns](1), object(3)\n",
            "memory usage: 1.9+ MB\n"
          ]
        },
        {
          "data": {
            "text/html": [
              "<div>\n",
              "<style scoped>\n",
              "    .dataframe tbody tr th:only-of-type {\n",
              "        vertical-align: middle;\n",
              "    }\n",
              "\n",
              "    .dataframe tbody tr th {\n",
              "        vertical-align: top;\n",
              "    }\n",
              "\n",
              "    .dataframe thead th {\n",
              "        text-align: right;\n",
              "    }\n",
              "</style>\n",
              "<table border=\"1\" class=\"dataframe\">\n",
              "  <thead>\n",
              "    <tr style=\"text-align: right;\">\n",
              "      <th></th>\n",
              "      <th>17083</th>\n",
              "    </tr>\n",
              "  </thead>\n",
              "  <tbody>\n",
              "    <tr>\n",
              "      <th>user_id</th>\n",
              "      <td>A865607AF1C4AAC5</td>\n",
              "    </tr>\n",
              "    <tr>\n",
              "      <th>first_date</th>\n",
              "      <td>2020-12-21 00:00:00</td>\n",
              "    </tr>\n",
              "    <tr>\n",
              "      <th>region</th>\n",
              "      <td>EU</td>\n",
              "    </tr>\n",
              "    <tr>\n",
              "      <th>device</th>\n",
              "      <td>Android</td>\n",
              "    </tr>\n",
              "  </tbody>\n",
              "</table>\n",
              "</div>"
            ],
            "text/plain": [
              "                          17083\n",
              "user_id        A865607AF1C4AAC5\n",
              "first_date  2020-12-21 00:00:00\n",
              "region                       EU\n",
              "device                  Android"
            ]
          },
          "metadata": {},
          "output_type": "display_data"
        },
        {
          "data": {
            "text/plain": [
              "2020-12-21    6290\n",
              "2020-12-14    5654\n",
              "2020-12-07    5595\n",
              "2020-12-13    4691\n",
              "2020-12-20    4288\n",
              "2020-12-12    3963\n",
              "2020-12-19    3617\n",
              "2020-12-18    3365\n",
              "2020-12-08    3239\n",
              "2020-12-22    3083\n",
              "2020-12-10    3076\n",
              "2020-12-17    3048\n",
              "2020-12-15    3043\n",
              "2020-12-11    2390\n",
              "2020-12-23    2180\n",
              "2020-12-16    2110\n",
              "2020-12-09    2101\n",
              "Name: first_date, dtype: int64"
            ]
          },
          "metadata": {},
          "output_type": "display_data"
        },
        {
          "data": {
            "text/plain": [
              "EU           46270\n",
              "N.America     9155\n",
              "CIS           3155\n",
              "APAC          3153\n",
              "Name: region, dtype: int64"
            ]
          },
          "metadata": {},
          "output_type": "display_data"
        },
        {
          "data": {
            "text/plain": [
              "Android    27520\n",
              "PC         15599\n",
              "iPhone     12530\n",
              "Mac         6084\n",
              "Name: device, dtype: int64"
            ]
          },
          "metadata": {},
          "output_type": "display_data"
        }
      ],
      "source": [
        "# применим функцию для получения углуюленной информации о наборе\n",
        "df_info(new_users)"
      ]
    },
    {
      "cell_type": "markdown",
      "metadata": {
        "id": "PQO6J0tG_Wco"
      },
      "source": [
        "* **Можно заметить что дынные представлены за декабрь 2020 года, что есть не самое подходяшие время для проведение A/B тестов ввиду большого количества событий в этого время и как следствие, изменения модели поведения покупателей. Также мы видем, что пользователи относятся к 4 регионам, но подавляющее их число в нашем наборе представляют европейский регион - 46 270 против 15 463 в остальных. Основная часть пользователий используют андройд платформу.**"
      ]
    },
    {
      "cell_type": "markdown",
      "metadata": {
        "id": "eR8Av29k_Wco"
      },
      "source": [
        "## Таблица events"
      ]
    },
    {
      "cell_type": "code",
      "execution_count": null,
      "metadata": {
        "id": "OH7wP4d3_Wco",
        "outputId": "e70c2fc2-3275-4796-c8af-4eb5b3ea5446"
      },
      "outputs": [
        {
          "name": "stdout",
          "output_type": "stream",
          "text": [
            "<class 'pandas.core.frame.DataFrame'>\n",
            "RangeIndex: 440317 entries, 0 to 440316\n",
            "Data columns (total 4 columns):\n",
            " #   Column      Non-Null Count   Dtype  \n",
            "---  ------      --------------   -----  \n",
            " 0   user_id     440317 non-null  object \n",
            " 1   event_dt    440317 non-null  object \n",
            " 2   event_name  440317 non-null  object \n",
            " 3   details     62740 non-null   float64\n",
            "dtypes: float64(1), object(3)\n",
            "memory usage: 13.4+ MB\n"
          ]
        },
        {
          "data": {
            "text/plain": [
              "None"
            ]
          },
          "metadata": {},
          "output_type": "display_data"
        },
        {
          "name": "stdout",
          "output_type": "stream",
          "text": [
            "************************************\n"
          ]
        },
        {
          "data": {
            "text/html": [
              "<div>\n",
              "<style scoped>\n",
              "    .dataframe tbody tr th:only-of-type {\n",
              "        vertical-align: middle;\n",
              "    }\n",
              "\n",
              "    .dataframe tbody tr th {\n",
              "        vertical-align: top;\n",
              "    }\n",
              "\n",
              "    .dataframe thead th {\n",
              "        text-align: right;\n",
              "    }\n",
              "</style>\n",
              "<table border=\"1\" class=\"dataframe\">\n",
              "  <thead>\n",
              "    <tr style=\"text-align: right;\">\n",
              "      <th></th>\n",
              "      <th>user_id</th>\n",
              "      <th>event_dt</th>\n",
              "      <th>event_name</th>\n",
              "      <th>details</th>\n",
              "    </tr>\n",
              "  </thead>\n",
              "  <tbody>\n",
              "    <tr>\n",
              "      <th>0</th>\n",
              "      <td>E1BDDCE0DAFA2679</td>\n",
              "      <td>2020-12-07 20:22:03</td>\n",
              "      <td>purchase</td>\n",
              "      <td>99.99</td>\n",
              "    </tr>\n",
              "    <tr>\n",
              "      <th>1</th>\n",
              "      <td>7B6452F081F49504</td>\n",
              "      <td>2020-12-07 09:22:53</td>\n",
              "      <td>purchase</td>\n",
              "      <td>9.99</td>\n",
              "    </tr>\n",
              "    <tr>\n",
              "      <th>2</th>\n",
              "      <td>9CD9F34546DF254C</td>\n",
              "      <td>2020-12-07 12:59:29</td>\n",
              "      <td>purchase</td>\n",
              "      <td>4.99</td>\n",
              "    </tr>\n",
              "    <tr>\n",
              "      <th>3</th>\n",
              "      <td>96F27A054B191457</td>\n",
              "      <td>2020-12-07 04:02:40</td>\n",
              "      <td>purchase</td>\n",
              "      <td>4.99</td>\n",
              "    </tr>\n",
              "    <tr>\n",
              "      <th>4</th>\n",
              "      <td>1FD7660FDF94CA1F</td>\n",
              "      <td>2020-12-07 10:15:09</td>\n",
              "      <td>purchase</td>\n",
              "      <td>4.99</td>\n",
              "    </tr>\n",
              "  </tbody>\n",
              "</table>\n",
              "</div>"
            ],
            "text/plain": [
              "            user_id             event_dt event_name  details\n",
              "0  E1BDDCE0DAFA2679  2020-12-07 20:22:03   purchase    99.99\n",
              "1  7B6452F081F49504  2020-12-07 09:22:53   purchase     9.99\n",
              "2  9CD9F34546DF254C  2020-12-07 12:59:29   purchase     4.99\n",
              "3  96F27A054B191457  2020-12-07 04:02:40   purchase     4.99\n",
              "4  1FD7660FDF94CA1F  2020-12-07 10:15:09   purchase     4.99"
            ]
          },
          "metadata": {},
          "output_type": "display_data"
        },
        {
          "name": "stdout",
          "output_type": "stream",
          "text": [
            "Количество дубликатов user_id в таблице равно: 381614\n"
          ]
        }
      ],
      "source": [
        "# отобразим основную информацию\n",
        "display(events.info())\n",
        "print(\"************************************\")\n",
        "display(events.head())\n",
        "print(f\"Количество дубликатов user_id в таблице равно: {events['user_id'].duplicated().sum()}\")"
      ]
    },
    {
      "cell_type": "markdown",
      "metadata": {
        "id": "8TZQhmYt_Wco"
      },
      "source": [
        "* **Данные представлены 440317 событиями, для каждого пользователя может быть их разное количество. Можно заметить неверный формат даты а также большое количество пропусков в поле с детялями события, последнее можно обьяснить наличием событий без деталей**"
      ]
    },
    {
      "cell_type": "code",
      "execution_count": null,
      "metadata": {
        "id": "m4B2Xcha_Wco"
      },
      "outputs": [],
      "source": [
        "# приведем к нужному формату дату\n",
        "events.event_dt = pd.to_datetime(events.event_dt)"
      ]
    },
    {
      "cell_type": "code",
      "execution_count": null,
      "metadata": {
        "id": "TCBPkcvy_Wco",
        "outputId": "d79142dc-9671-41eb-9d92-16ddfd7569b5"
      },
      "outputs": [
        {
          "name": "stdout",
          "output_type": "stream",
          "text": [
            "Количество полных дубликатов: 0\n",
            "****************\n",
            "<class 'pandas.core.frame.DataFrame'>\n",
            "RangeIndex: 440317 entries, 0 to 440316\n",
            "Data columns (total 4 columns):\n",
            " #   Column      Non-Null Count   Dtype         \n",
            "---  ------      --------------   -----         \n",
            " 0   user_id     440317 non-null  object        \n",
            " 1   event_dt    440317 non-null  datetime64[ns]\n",
            " 2   event_name  440317 non-null  object        \n",
            " 3   details     62740 non-null   float64       \n",
            "dtypes: datetime64[ns](1), float64(1), object(2)\n",
            "memory usage: 13.4+ MB\n",
            "\n",
            "NA:"
          ]
        },
        {
          "data": {
            "text/plain": [
              "details    0.857512\n",
              "dtype: float64"
            ]
          },
          "metadata": {},
          "output_type": "display_data"
        },
        {
          "data": {
            "text/html": [
              "<div>\n",
              "<style scoped>\n",
              "    .dataframe tbody tr th:only-of-type {\n",
              "        vertical-align: middle;\n",
              "    }\n",
              "\n",
              "    .dataframe tbody tr th {\n",
              "        vertical-align: top;\n",
              "    }\n",
              "\n",
              "    .dataframe thead th {\n",
              "        text-align: right;\n",
              "    }\n",
              "</style>\n",
              "<table border=\"1\" class=\"dataframe\">\n",
              "  <thead>\n",
              "    <tr style=\"text-align: right;\">\n",
              "      <th></th>\n",
              "      <th>46514</th>\n",
              "    </tr>\n",
              "  </thead>\n",
              "  <tbody>\n",
              "    <tr>\n",
              "      <th>user_id</th>\n",
              "      <td>2B4F8C98F1307705</td>\n",
              "    </tr>\n",
              "    <tr>\n",
              "      <th>event_dt</th>\n",
              "      <td>2020-12-22 20:41:27</td>\n",
              "    </tr>\n",
              "    <tr>\n",
              "      <th>event_name</th>\n",
              "      <td>purchase</td>\n",
              "    </tr>\n",
              "    <tr>\n",
              "      <th>details</th>\n",
              "      <td>9.99</td>\n",
              "    </tr>\n",
              "  </tbody>\n",
              "</table>\n",
              "</div>"
            ],
            "text/plain": [
              "                          46514\n",
              "user_id        2B4F8C98F1307705\n",
              "event_dt    2020-12-22 20:41:27\n",
              "event_name             purchase\n",
              "details                    9.99"
            ]
          },
          "metadata": {},
          "output_type": "display_data"
        },
        {
          "data": {
            "text/plain": [
              "login           189552\n",
              "product_page    125563\n",
              "purchase         62740\n",
              "product_cart     62462\n",
              "Name: event_name, dtype: int64"
            ]
          },
          "metadata": {},
          "output_type": "display_data"
        },
        {
          "data": {
            "text/plain": [
              "4.99      46362\n",
              "9.99       9530\n",
              "99.99      5631\n",
              "499.99     1217\n",
              "Name: details, dtype: int64"
            ]
          },
          "metadata": {},
          "output_type": "display_data"
        }
      ],
      "source": [
        "# применим функцию для получения углуюленной информации о наборе\n",
        "df_info(events)"
      ]
    },
    {
      "cell_type": "markdown",
      "metadata": {
        "id": "4lnkK9Tp_Wco"
      },
      "source": [
        "* **Можно обратить внимание, что в данных 4 уникальных события это login, product_page, product_cart, product_cart причем регистраций кратно больше чем просмотров карзины и покупок. Так же мы видим что количество значений без пропусков равно количеству покупок, из чего следует что поле с деталями может содержать сумму потраченную на покупку товара, которая в свою очередь представлена 4 уникальными значениями.**"
      ]
    },
    {
      "cell_type": "code",
      "execution_count": null,
      "metadata": {
        "id": "t3bTuhao_Wco",
        "outputId": "3de12d95-efb1-4409-f602-de6678a81dff"
      },
      "outputs": [
        {
          "name": "stdout",
          "output_type": "stream",
          "text": [
            "<class 'pandas.core.frame.DataFrame'>\n",
            "Int64Index: 377577 entries, 62740 to 440316\n",
            "Data columns (total 4 columns):\n",
            " #   Column      Non-Null Count   Dtype         \n",
            "---  ------      --------------   -----         \n",
            " 0   user_id     377577 non-null  object        \n",
            " 1   event_dt    377577 non-null  datetime64[ns]\n",
            " 2   event_name  377577 non-null  object        \n",
            " 3   details     0 non-null       float64       \n",
            "dtypes: datetime64[ns](1), float64(1), object(2)\n",
            "memory usage: 14.4+ MB\n"
          ]
        },
        {
          "data": {
            "text/plain": [
              "None"
            ]
          },
          "metadata": {},
          "output_type": "display_data"
        },
        {
          "name": "stdout",
          "output_type": "stream",
          "text": [
            "************************\n",
            "<class 'pandas.core.frame.DataFrame'>\n",
            "Int64Index: 62740 entries, 0 to 62739\n",
            "Data columns (total 4 columns):\n",
            " #   Column      Non-Null Count  Dtype         \n",
            "---  ------      --------------  -----         \n",
            " 0   user_id     62740 non-null  object        \n",
            " 1   event_dt    62740 non-null  datetime64[ns]\n",
            " 2   event_name  62740 non-null  object        \n",
            " 3   details     62740 non-null  float64       \n",
            "dtypes: datetime64[ns](1), float64(1), object(2)\n",
            "memory usage: 2.4+ MB\n"
          ]
        },
        {
          "data": {
            "text/plain": [
              "None"
            ]
          },
          "metadata": {},
          "output_type": "display_data"
        }
      ],
      "source": [
        "# проверка предположения о природе пропусков в поле ditails\n",
        "display(events[events['event_name'] != 'purchase'].info())\n",
        "print('************************')\n",
        "display(events[events['event_name'] == 'purchase'].info())"
      ]
    },
    {
      "cell_type": "markdown",
      "metadata": {
        "id": "tioJ3_38_Wco"
      },
      "source": [
        "* **Можно заметить, что все пропуски не принадлежат покупкам, значит детали это стоимость покупки**"
      ]
    },
    {
      "cell_type": "markdown",
      "metadata": {
        "id": "2jriB7J-_Wcp"
      },
      "source": [
        "## Таблица participants"
      ]
    },
    {
      "cell_type": "code",
      "execution_count": null,
      "metadata": {
        "id": "1wnGoTLJ_Wcp",
        "outputId": "36861045-2377-4973-ac25-d2c56f0c0c48"
      },
      "outputs": [
        {
          "name": "stdout",
          "output_type": "stream",
          "text": [
            "<class 'pandas.core.frame.DataFrame'>\n",
            "RangeIndex: 18268 entries, 0 to 18267\n",
            "Data columns (total 3 columns):\n",
            " #   Column   Non-Null Count  Dtype \n",
            "---  ------   --------------  ----- \n",
            " 0   user_id  18268 non-null  object\n",
            " 1   group    18268 non-null  object\n",
            " 2   ab_test  18268 non-null  object\n",
            "dtypes: object(3)\n",
            "memory usage: 428.3+ KB\n"
          ]
        },
        {
          "data": {
            "text/plain": [
              "None"
            ]
          },
          "metadata": {},
          "output_type": "display_data"
        },
        {
          "name": "stdout",
          "output_type": "stream",
          "text": [
            "************************************\n"
          ]
        },
        {
          "data": {
            "text/html": [
              "<div>\n",
              "<style scoped>\n",
              "    .dataframe tbody tr th:only-of-type {\n",
              "        vertical-align: middle;\n",
              "    }\n",
              "\n",
              "    .dataframe tbody tr th {\n",
              "        vertical-align: top;\n",
              "    }\n",
              "\n",
              "    .dataframe thead th {\n",
              "        text-align: right;\n",
              "    }\n",
              "</style>\n",
              "<table border=\"1\" class=\"dataframe\">\n",
              "  <thead>\n",
              "    <tr style=\"text-align: right;\">\n",
              "      <th></th>\n",
              "      <th>user_id</th>\n",
              "      <th>group</th>\n",
              "      <th>ab_test</th>\n",
              "    </tr>\n",
              "  </thead>\n",
              "  <tbody>\n",
              "    <tr>\n",
              "      <th>0</th>\n",
              "      <td>D1ABA3E2887B6A73</td>\n",
              "      <td>A</td>\n",
              "      <td>recommender_system_test</td>\n",
              "    </tr>\n",
              "    <tr>\n",
              "      <th>1</th>\n",
              "      <td>A7A3664BD6242119</td>\n",
              "      <td>A</td>\n",
              "      <td>recommender_system_test</td>\n",
              "    </tr>\n",
              "    <tr>\n",
              "      <th>2</th>\n",
              "      <td>DABC14FDDFADD29E</td>\n",
              "      <td>A</td>\n",
              "      <td>recommender_system_test</td>\n",
              "    </tr>\n",
              "    <tr>\n",
              "      <th>3</th>\n",
              "      <td>04988C5DF189632E</td>\n",
              "      <td>A</td>\n",
              "      <td>recommender_system_test</td>\n",
              "    </tr>\n",
              "    <tr>\n",
              "      <th>4</th>\n",
              "      <td>482F14783456D21B</td>\n",
              "      <td>B</td>\n",
              "      <td>recommender_system_test</td>\n",
              "    </tr>\n",
              "  </tbody>\n",
              "</table>\n",
              "</div>"
            ],
            "text/plain": [
              "            user_id group                  ab_test\n",
              "0  D1ABA3E2887B6A73     A  recommender_system_test\n",
              "1  A7A3664BD6242119     A  recommender_system_test\n",
              "2  DABC14FDDFADD29E     A  recommender_system_test\n",
              "3  04988C5DF189632E     A  recommender_system_test\n",
              "4  482F14783456D21B     B  recommender_system_test"
            ]
          },
          "metadata": {},
          "output_type": "display_data"
        },
        {
          "name": "stdout",
          "output_type": "stream",
          "text": [
            "Количество дубликатов user_id в таблице равно: 1602\n"
          ]
        }
      ],
      "source": [
        "# отобразим основную информацию\n",
        "display(participants.info())\n",
        "print(\"************************************\")\n",
        "display(participants.head())\n",
        "print(f\"Количество дубликатов user_id в таблице равно: {participants['user_id'].duplicated().sum()}\")"
      ]
    },
    {
      "cell_type": "markdown",
      "metadata": {
        "id": "nK5wQbcq_Wcp"
      },
      "source": [
        "* **Пропусков нет, форматы верные. Количество дублей пользователей 1602, что может говорить либо о некорректном наборе участников либо о присутствии в данных лишней информации. Необходима проверка**"
      ]
    },
    {
      "cell_type": "code",
      "execution_count": null,
      "metadata": {
        "id": "Rm3tDQ0h_Wcp",
        "outputId": "6cd6598d-d4c0-421a-dc44-b1be8ef9a437"
      },
      "outputs": [
        {
          "name": "stdout",
          "output_type": "stream",
          "text": [
            "Количество полных дубликатов: 0\n",
            "****************\n",
            "<class 'pandas.core.frame.DataFrame'>\n",
            "RangeIndex: 18268 entries, 0 to 18267\n",
            "Data columns (total 3 columns):\n",
            " #   Column   Non-Null Count  Dtype \n",
            "---  ------   --------------  ----- \n",
            " 0   user_id  18268 non-null  object\n",
            " 1   group    18268 non-null  object\n",
            " 2   ab_test  18268 non-null  object\n",
            "dtypes: object(3)\n",
            "memory usage: 428.3+ KB\n"
          ]
        },
        {
          "data": {
            "text/html": [
              "<div>\n",
              "<style scoped>\n",
              "    .dataframe tbody tr th:only-of-type {\n",
              "        vertical-align: middle;\n",
              "    }\n",
              "\n",
              "    .dataframe tbody tr th {\n",
              "        vertical-align: top;\n",
              "    }\n",
              "\n",
              "    .dataframe thead th {\n",
              "        text-align: right;\n",
              "    }\n",
              "</style>\n",
              "<table border=\"1\" class=\"dataframe\">\n",
              "  <thead>\n",
              "    <tr style=\"text-align: right;\">\n",
              "      <th></th>\n",
              "      <th>8322</th>\n",
              "    </tr>\n",
              "  </thead>\n",
              "  <tbody>\n",
              "    <tr>\n",
              "      <th>user_id</th>\n",
              "      <td>493A30FD34A0E321</td>\n",
              "    </tr>\n",
              "    <tr>\n",
              "      <th>group</th>\n",
              "      <td>B</td>\n",
              "    </tr>\n",
              "    <tr>\n",
              "      <th>ab_test</th>\n",
              "      <td>interface_eu_test</td>\n",
              "    </tr>\n",
              "  </tbody>\n",
              "</table>\n",
              "</div>"
            ],
            "text/plain": [
              "                      8322\n",
              "user_id   493A30FD34A0E321\n",
              "group                    B\n",
              "ab_test  interface_eu_test"
            ]
          },
          "metadata": {},
          "output_type": "display_data"
        },
        {
          "data": {
            "text/plain": [
              "A    9655\n",
              "B    8613\n",
              "Name: group, dtype: int64"
            ]
          },
          "metadata": {},
          "output_type": "display_data"
        },
        {
          "data": {
            "text/plain": [
              "interface_eu_test          11567\n",
              "recommender_system_test     6701\n",
              "Name: ab_test, dtype: int64"
            ]
          },
          "metadata": {},
          "output_type": "display_data"
        }
      ],
      "source": [
        "# применим функцию для получения углуюленной информации о наборе\n",
        "df_info(participants)"
      ]
    },
    {
      "cell_type": "markdown",
      "metadata": {
        "id": "IR78FV_5_Wcp"
      },
      "source": [
        "* **Мы видим, что основная часть набора участвовала в нецелевом тесте исследования, полные дубли отсутствуют. Общее количество участников тестирований в группе в незначительно меньше группы а. Необходима проверка пересечения групп пользователей между тестами.**"
      ]
    },
    {
      "cell_type": "markdown",
      "metadata": {
        "id": "wklitrO__Wcp"
      },
      "source": [
        "# Вывод по итогам предобработки\n",
        "* **Таблица marketing_events**\n",
        "* **Таблица содержит данные о 14 уникальных маркетинговых событиях проводимых в разное времяв разных регионах. Значения дат начала и конца акции переведем в нужный формат для корректной работы с ними**\n",
        "* **Таблица new_users**\n",
        "* **Можно заметить отсутствие пропусков и дубликатов, а таже неверный формат дат. Всего представлено 61733 уникальных пользователя**\n",
        "* **Можно заметить что дынные представлены за декабрь 2020 года, что есть не самое подходяшие время для проведение A/B тестов ввиду большого количества событий в этого время и как следствие, изменения модели поведения покупателей. Также мы видем, что пользователи относятся к 4 регионам, но подавляющее их число в нашем наборе представляют европейский регион - 46 270 против 15 463 в остальных. Основная часть пользователий используют андройд платформу.**\n",
        "* **Таблица events**\n",
        "* **Данные представлены 440317 событиями, для каждого пользователя может быть их разное количество. Можно заметить неверный формат даты а также большое количество пропусков в поле с детялями события, последнее можно обьяснить наличием событий без деталей**\n",
        "* **Можно обратить внимание, что в данных 4 уникальных события это login, product_page, product_cart, product_cart причем регистраций кратно больше чем просмотров карзины и покупок. Так же мы видим что количество значений без пропусков равно количеству покупок, из чего следует что поле с деталями может содержать сумму потраченную на покупку товара, которая в свою очередь представлена 4 уникальными значениями.**\n",
        "* **Таблица participants**\n",
        "* **Пропусков нет, форматы верные. Количество дублей пользователей 1602, что может говорить либо о некорректном наборе участников либо о присутствии в данных лишней информации. Необходима проверка**\n",
        "* **Мы видим, что основная часть набора участвовала в нецелевом тесте исследования, полные дубли отсутствуют. Общее количество участников тестирований в группе в незначительно меньше группы а. Необходима проверка пересечения групп пользователей между тестами.**\n"
      ]
    },
    {
      "cell_type": "markdown",
      "metadata": {
        "id": "7986QqBF_Wct"
      },
      "source": [
        "# Оценка корректности проведения теста"
      ]
    },
    {
      "cell_type": "markdown",
      "metadata": {
        "id": "QEuAJJM4_Wct"
      },
      "source": [
        "## Выделим пользователей учавствовавших в тестах"
      ]
    },
    {
      "cell_type": "code",
      "execution_count": null,
      "metadata": {
        "id": "1nY_b5hR_Wct"
      },
      "outputs": [],
      "source": [
        "# объеденим наборы данных для выделения нужных пользовтелей\n",
        "df = pd.merge(new_users, participants,how = 'left',validate = '1:m', left_on='user_id', right_on='user_id',suffixes=('', 'part'))"
      ]
    },
    {
      "cell_type": "code",
      "execution_count": null,
      "metadata": {
        "id": "V3zo-dAp_Wct",
        "outputId": "192f4871-93ec-496b-d5cc-3c619563cfa8"
      },
      "outputs": [
        {
          "name": "stdout",
          "output_type": "stream",
          "text": [
            "<class 'pandas.core.frame.DataFrame'>\n",
            "Int64Index: 63335 entries, 0 to 63334\n",
            "Data columns (total 6 columns):\n",
            " #   Column      Non-Null Count  Dtype         \n",
            "---  ------      --------------  -----         \n",
            " 0   user_id     63335 non-null  object        \n",
            " 1   first_date  63335 non-null  datetime64[ns]\n",
            " 2   region      63335 non-null  object        \n",
            " 3   device      63335 non-null  object        \n",
            " 4   group       18268 non-null  object        \n",
            " 5   ab_test     18268 non-null  object        \n",
            "dtypes: datetime64[ns](1), object(5)\n",
            "memory usage: 3.4+ MB\n"
          ]
        }
      ],
      "source": [
        "df.info()"
      ]
    },
    {
      "cell_type": "markdown",
      "metadata": {
        "id": "wzzxF-WA_Wct"
      },
      "source": [
        "### Определим региональную пренадлежность"
      ]
    },
    {
      "cell_type": "code",
      "execution_count": null,
      "metadata": {
        "id": "Ngsh0NAv_Wct",
        "outputId": "a52ce5ac-3141-4d63-97f4-9848de812197"
      },
      "outputs": [
        {
          "data": {
            "text/plain": [
              "region     group\n",
              "APAC       A          37\n",
              "           B          35\n",
              "CIS        A          25\n",
              "           B          30\n",
              "EU         A        3634\n",
              "           B        2717\n",
              "N.America  A         128\n",
              "           B          95\n",
              "Name: user_id, dtype: int64"
            ]
          },
          "execution_count": 169,
          "metadata": {},
          "output_type": "execute_result"
        }
      ],
      "source": [
        "# посчитаем уникальных пользователей по регионам и группам теста пользователей\n",
        "df[~df['group'].isna()&(df['ab_test'] == 'recommender_system_test')].groupby(by=['region','group']).nunique()['user_id']"
      ]
    },
    {
      "cell_type": "markdown",
      "metadata": {
        "id": "Gl-4bgc8_Wcu"
      },
      "source": [
        "* **В целевую группу попали пользователи не только из исследуемого региона, необходимо очистить данные. Распределение по группам также неравномерно**"
      ]
    },
    {
      "cell_type": "markdown",
      "metadata": {
        "id": "iOhvKt51_Wcu"
      },
      "source": [
        "### Проверим корректность периода набора пользователей для теста"
      ]
    },
    {
      "cell_type": "code",
      "execution_count": null,
      "metadata": {
        "id": "Gu-rBdrp_Wcu",
        "outputId": "9e990c17-ca04-4c9b-d690-0f030f5cfc04"
      },
      "outputs": [
        {
          "name": "stdout",
          "output_type": "stream",
          "text": [
            "Пользователи набраны от 2020-12-07 и до 2020-12-21\n"
          ]
        }
      ],
      "source": [
        "print(f\"Пользователи набраны от {df[~df['group'].isna()&(df['ab_test'] == 'recommender_system_test')]['first_date'].min().date()}\\\n",
        " и до {df[~df['group'].isna()&(df['ab_test'] == 'recommender_system_test')]['first_date'].max().date()}\")"
      ]
    },
    {
      "cell_type": "markdown",
      "metadata": {
        "id": "FuT6KYgj_Wcu"
      },
      "source": [
        "* **Пользователи набраны согласно т.з с 7 по 21 число включительно. Период проведения A/B теста выбран не совсем корректно, ввиду предновогоднего изменения модели поведения покупателей и большого количества маркетинговых акций проводимых в это время**"
      ]
    },
    {
      "cell_type": "markdown",
      "metadata": {
        "id": "VOGPM6o4_Wcu"
      },
      "source": [
        "### Проверим долю набранных пользователей от общего числа зарегестрированных в период проведения теста по региону EU"
      ]
    },
    {
      "cell_type": "code",
      "execution_count": null,
      "metadata": {
        "id": "2z3uYQen_Wcv",
        "outputId": "0fc09c10-2d12-4662-c055-a87f81357117"
      },
      "outputs": [
        {
          "data": {
            "text/plain": [
              "region\n",
              "EU    0.15\n",
              "Name: user_id, dtype: float64"
            ]
          },
          "metadata": {},
          "output_type": "display_data"
        }
      ],
      "source": [
        "# посчитаем долю по набору\n",
        "share = df[~df['group'].isna()&(df['ab_test'] == 'recommender_system_test')&(df['region'] =='EU')].groupby(by='region')['user_id'].nunique()/\\\n",
        "df[(df['first_date'] >=pd.to_datetime('2020-12-07'))&(df['first_date'] <=pd.to_datetime('2020-12-21'))&(df['region'] =='EU')].groupby(by='region')['user_id'].nunique()\n",
        "\n",
        "display(share)"
      ]
    },
    {
      "cell_type": "markdown",
      "metadata": {
        "id": "xwpIC0H0_Wcv"
      },
      "source": [
        "* **Доля пользователей набрана корректно согласно техническому заданию**"
      ]
    },
    {
      "cell_type": "markdown",
      "metadata": {
        "id": "zNxiQnDS_Wcv"
      },
      "source": [
        "### Посмотрим на динамику набора в группы теста и на равномерность их наполнения"
      ]
    },
    {
      "cell_type": "code",
      "execution_count": null,
      "metadata": {
        "id": "uIAI5cRw_Wcv"
      },
      "outputs": [],
      "source": [
        "# Выделим данные\n",
        "a = df[~df['group'].isna()&(df['ab_test'] == 'recommender_system_test')&(df['region'] =='EU')&(df['group']=='A')].\\\n",
        "groupby('first_date').nunique()['user_id']\n",
        "\n",
        "b = df[~df['group'].isna()&(df['ab_test'] == 'recommender_system_test')&(df['region'] =='EU')&(df['group']=='B')].\\\n",
        "groupby('first_date').nunique()['user_id']"
      ]
    },
    {
      "cell_type": "code",
      "execution_count": null,
      "metadata": {
        "id": "xgOJqs7Z_Wcv",
        "outputId": "dc9cd42f-d0cc-40f8-c219-a3c80618a044"
      },
      "outputs": [
        {
          "data": {
            "image/png": "[encoded data removed]",
            "text/plain": [
              "<Figure size 864x360 with 1 Axes>"
            ]
          },
          "metadata": {
            "needs_background": "light"
          },
          "output_type": "display_data"
        }
      ],
      "source": [
        "# строим график\n",
        "plt.figure(figsize=(12,5))\n",
        "a.plot(color = 'red')\n",
        "b.plot(color = 'blue')\n",
        "plt.xlabel('Дата')\n",
        "plt.ylabel('Набрано')\n",
        "plt.legend(['A','B'], title='Groups')\n",
        "plt.gcf().autofmt_xdate()\n",
        "plt.title('Динамика набора групп')\n",
        "plt.show()"
      ]
    },
    {
      "cell_type": "markdown",
      "metadata": {
        "id": "g8bolGIj_Wcv"
      },
      "source": [
        "* **Можно заметить, что пользователи набираласть в группы циклично, на выходных проходил рост набора. Также мы видим, что в группу а попадало стабильно больше пользвателей относительно контрольной группы, ввиду чего пропорциональность групп не была соблюдена**"
      ]
    },
    {
      "cell_type": "markdown",
      "metadata": {
        "id": "ONZ6WXzH_Wcw"
      },
      "source": [
        "### Ноложение маркетинговых компаний на период проведения теста"
      ]
    },
    {
      "cell_type": "code",
      "execution_count": null,
      "metadata": {
        "id": "GLG8WyLP_Wcw"
      },
      "outputs": [],
      "source": [
        "# приведем к нужному формату дату\n",
        "marketing_events.start_dt = pd.to_datetime(marketing_events.start_dt)\n",
        "marketing_events.finish_dt = pd.to_datetime(marketing_events.finish_dt)\n",
        "\n",
        "# выделим компании затрагивающие уевропейский рынок\n",
        "marketing_events = marketing_events[marketing_events['regions'].apply(lambda sentence: any(word in sentence.lower() for word in ['eu']))]"
      ]
    },
    {
      "cell_type": "code",
      "execution_count": null,
      "metadata": {
        "id": "kbt_1h2P_Wcw",
        "outputId": "ddd3f4d3-be24-4ec4-993a-a39721dac47e"
      },
      "outputs": [
        {
          "data": {
            "text/html": [
              "<div>\n",
              "<style scoped>\n",
              "    .dataframe tbody tr th:only-of-type {\n",
              "        vertical-align: middle;\n",
              "    }\n",
              "\n",
              "    .dataframe tbody tr th {\n",
              "        vertical-align: top;\n",
              "    }\n",
              "\n",
              "    .dataframe thead th {\n",
              "        text-align: right;\n",
              "    }\n",
              "</style>\n",
              "<table border=\"1\" class=\"dataframe\">\n",
              "  <thead>\n",
              "    <tr style=\"text-align: right;\">\n",
              "      <th>name</th>\n",
              "      <th>Christmas&amp;New Year Promo</th>\n",
              "      <th>St. Valentine's Day Giveaway</th>\n",
              "      <th>St. Patric's Day Promo</th>\n",
              "      <th>Easter Promo</th>\n",
              "      <th>Black Friday Ads Campaign</th>\n",
              "      <th>Labor day (May 1st) Ads Campaign</th>\n",
              "      <th>International Women's Day Promo</th>\n",
              "    </tr>\n",
              "  </thead>\n",
              "  <tbody>\n",
              "    <tr>\n",
              "      <th>start_dt</th>\n",
              "      <td>2020-12-25 00:00:00</td>\n",
              "      <td>2020-02-14 00:00:00</td>\n",
              "      <td>2020-03-17 00:00:00</td>\n",
              "      <td>2020-04-12 00:00:00</td>\n",
              "      <td>2020-11-26 00:00:00</td>\n",
              "      <td>2020-05-01 00:00:00</td>\n",
              "      <td>2020-03-08 00:00:00</td>\n",
              "    </tr>\n",
              "    <tr>\n",
              "      <th>finish_dt</th>\n",
              "      <td>2021-01-03 00:00:00</td>\n",
              "      <td>2020-02-16 00:00:00</td>\n",
              "      <td>2020-03-19 00:00:00</td>\n",
              "      <td>2020-04-19 00:00:00</td>\n",
              "      <td>2020-12-01 00:00:00</td>\n",
              "      <td>2020-05-03 00:00:00</td>\n",
              "      <td>2020-03-10 00:00:00</td>\n",
              "    </tr>\n",
              "  </tbody>\n",
              "</table>\n",
              "</div>"
            ],
            "text/plain": [
              "name      Christmas&New Year Promo St. Valentine's Day Giveaway  \\\n",
              "start_dt       2020-12-25 00:00:00          2020-02-14 00:00:00   \n",
              "finish_dt      2021-01-03 00:00:00          2020-02-16 00:00:00   \n",
              "\n",
              "name      St. Patric's Day Promo         Easter Promo  \\\n",
              "start_dt     2020-03-17 00:00:00  2020-04-12 00:00:00   \n",
              "finish_dt    2020-03-19 00:00:00  2020-04-19 00:00:00   \n",
              "\n",
              "name      Black Friday Ads Campaign Labor day (May 1st) Ads Campaign  \\\n",
              "start_dt        2020-11-26 00:00:00              2020-05-01 00:00:00   \n",
              "finish_dt       2020-12-01 00:00:00              2020-05-03 00:00:00   \n",
              "\n",
              "name      International Women's Day Promo  \n",
              "start_dt              2020-03-08 00:00:00  \n",
              "finish_dt             2020-03-10 00:00:00  "
            ]
          },
          "metadata": {},
          "output_type": "display_data"
        }
      ],
      "source": [
        "marketing_events = marketing_events.drop('regions', axis = 1).T\n",
        "marketing_events.columns = marketing_events.iloc[0]\n",
        "marketing_events  = marketing_events.drop('name')\n",
        "display(marketing_events)"
      ]
    },
    {
      "cell_type": "code",
      "execution_count": null,
      "metadata": {
        "id": "jIco_40s_Wcw",
        "outputId": "92574e64-84ff-4b1b-a79e-e9be7de367af"
      },
      "outputs": [
        {
          "data": {
            "image/png": "[encoded data removed]",
            "text/plain": [
              "<Figure size 1296x360 with 1 Axes>"
            ]
          },
          "metadata": {
            "needs_background": "light"
          },
          "output_type": "display_data"
        }
      ],
      "source": [
        "# строим график\n",
        "plt.figure(figsize=(18,5))\n",
        "\n",
        "for i in marketing_events.columns:\n",
        "\n",
        "    sns.lineplot(marketing_events[i], y = a.mean(), legend = True, marker='o',markersize = 12)\n",
        "a.plot(color = 'red')\n",
        "b.plot(color = 'blue')\n",
        "sns.lineplot([pd.to_datetime('2020-12-07'),pd.to_datetime('2021-01-04')], y = 50, legend = True, marker='o',markersize = 12)\n",
        "plt.xlabel('Дата')\n",
        "plt.ylabel('Набрано')\n",
        "plt.legend(list(marketing_events.columns)+['A']+['B']+['duration_test'], title='events',ncol = 2)\n",
        "plt.gcf().autofmt_xdate()\n",
        "plt.title('Динамика набора групп')\n",
        "plt.xlim(pd.to_datetime('2020-11-25'),pd.to_datetime('2021-01-04') )\n",
        "\n",
        "plt.show()"
      ]
    },
    {
      "cell_type": "markdown",
      "metadata": {
        "id": "ZTI7bqES_Wcw"
      },
      "source": [
        "* **Можно заметить, что маркетинговые cобытия не пересекают период набора пользователей, однако одно событие (Christmas&New Year Promo) накладывается на период наблюдения и сбора статистики активности, что может исказить результаты. Необходимо обратить внимание на изменения активности с 25 числа**"
      ]
    },
    {
      "cell_type": "markdown",
      "metadata": {
        "id": "QFkDXJoB_Wcw"
      },
      "source": [
        "### Анализ пересечения пользователей внутри групп теста, а также между тестами"
      ]
    },
    {
      "cell_type": "markdown",
      "metadata": {
        "id": "UOKsw93G_Wcx"
      },
      "source": [
        "* **Критичным будем считать пересечение пользователей между группами внутри теста, а также пересечение испытуемой группы смежного теста с нашим. Пересечение контрольной группы смежного теста с группами нашего целевого будем считать допустимым так как они не подвергались дополнительному воздействию эксперементов.**"
      ]
    },
    {
      "cell_type": "markdown",
      "metadata": {
        "id": "vYaYMDjV_Wcx"
      },
      "source": [
        "#### Пересечения пользователей между группами внутри теста"
      ]
    },
    {
      "cell_type": "code",
      "execution_count": null,
      "metadata": {
        "id": "lMjjivaq_Wcx"
      },
      "outputs": [],
      "source": [
        "# выделим пользователей группы а\n",
        "a = participants[(participants['ab_test']=='recommender_system_test')&(participants['group']=='A')]['user_id'].unique()"
      ]
    },
    {
      "cell_type": "code",
      "execution_count": null,
      "metadata": {
        "id": "TpRIi3uC_Wcx",
        "outputId": "de17a19e-0cf9-4c7d-c071-91eb23849c11"
      },
      "outputs": [
        {
          "data": {
            "text/html": [
              "<div>\n",
              "<style scoped>\n",
              "    .dataframe tbody tr th:only-of-type {\n",
              "        vertical-align: middle;\n",
              "    }\n",
              "\n",
              "    .dataframe tbody tr th {\n",
              "        vertical-align: top;\n",
              "    }\n",
              "\n",
              "    .dataframe thead th {\n",
              "        text-align: right;\n",
              "    }\n",
              "</style>\n",
              "<table border=\"1\" class=\"dataframe\">\n",
              "  <thead>\n",
              "    <tr style=\"text-align: right;\">\n",
              "      <th></th>\n",
              "      <th>user_id</th>\n",
              "      <th>group</th>\n",
              "      <th>ab_test</th>\n",
              "    </tr>\n",
              "  </thead>\n",
              "  <tbody>\n",
              "  </tbody>\n",
              "</table>\n",
              "</div>"
            ],
            "text/plain": [
              "Empty DataFrame\n",
              "Columns: [user_id, group, ab_test]\n",
              "Index: []"
            ]
          },
          "execution_count": 178,
          "metadata": {},
          "output_type": "execute_result"
        }
      ],
      "source": [
        "# посмотрим на пересечение внутри теста\n",
        "participants[(participants['ab_test']=='recommender_system_test')&(participants['group']=='B')].query(\"user_id in @a\")"
      ]
    },
    {
      "cell_type": "markdown",
      "metadata": {
        "id": "NBs-n3dY_Wcx"
      },
      "source": [
        "* **Пересечение пользователей внутри теста между контрольной и тестовой группой нет**"
      ]
    },
    {
      "cell_type": "markdown",
      "metadata": {
        "id": "mRE5nCSj_Wcx"
      },
      "source": [
        "#### Пересечения пользователей между тестами, фокус на контрольную группу смежного теста"
      ]
    },
    {
      "cell_type": "code",
      "execution_count": null,
      "metadata": {
        "id": "O_TLMyxL_Wcx"
      },
      "outputs": [],
      "source": [
        "# выделим пользователей контрольной группы смежног сеста\n",
        "bad = participants[(participants['ab_test']=='interface_eu_test')&(participants['group']=='B')]['user_id'].unique()"
      ]
    },
    {
      "cell_type": "code",
      "execution_count": null,
      "metadata": {
        "id": "pR70H_kk_Wcx",
        "outputId": "3bbd3eee-a26d-4df8-8d05-f13761c3c1c8"
      },
      "outputs": [
        {
          "data": {
            "text/plain": [
              "0.11956899548140425"
            ]
          },
          "execution_count": 180,
          "metadata": {},
          "output_type": "execute_result"
        }
      ],
      "source": [
        "# посчитаем доли пересечения в целевом тесте по группам (B)\n",
        "len(participants[(participants['ab_test']=='recommender_system_test')&(participants['group']=='B')].query(\"user_id in @bad \")['user_id'].unique())/\\\n",
        "len(participants[(participants['ab_test']=='recommender_system_test')&(participants['group']=='B')]['user_id'].unique())"
      ]
    },
    {
      "cell_type": "code",
      "execution_count": null,
      "metadata": {
        "id": "qCXnsDC9_Wcy",
        "outputId": "6822fc2d-c2e9-4ec6-da8e-6203e3135599"
      },
      "outputs": [
        {
          "data": {
            "text/plain": [
              "0.11480125523012552"
            ]
          },
          "execution_count": 181,
          "metadata": {},
          "output_type": "execute_result"
        }
      ],
      "source": [
        "# посчитаем доли пересечения в целевом тесте по группам (A)\n",
        "len(participants[(participants['ab_test']=='recommender_system_test')&(participants['group']=='A')].query(\"user_id in @bad \")['user_id'].unique())/\\\n",
        "len(participants[(participants['ab_test']=='recommender_system_test')&(participants['group']=='A')]['user_id'].unique())"
      ]
    },
    {
      "cell_type": "markdown",
      "metadata": {
        "id": "Y8lW8EEl_Wcy"
      },
      "source": [
        "* **Доля пользователей подвергшихся воздействию смежного теста в обеих группах примерно равна и состовляет порядка 11%, ввиду чего можно считать воздействие на группы этого факта также равномерным. Поэтому, исходя из ограниченного размера груп, возможно оставить таких пользователей, для придания большей мощности нашей аналитики**"
      ]
    },
    {
      "cell_type": "code",
      "execution_count": null,
      "metadata": {
        "id": "IqbkRzVx_Wcy"
      },
      "outputs": [],
      "source": [
        "# выделим пользователей контрольной группы смежног сеста\n",
        "bad = participants[(participants['ab_test']=='interface_eu_test')&(participants['group']=='A')]['user_id'].unique()"
      ]
    },
    {
      "cell_type": "code",
      "execution_count": null,
      "metadata": {
        "id": "JwkE9BSG_Wcy",
        "outputId": "27a59362-1d01-4d1a-9465-5cce9ca8e2ba"
      },
      "outputs": [
        {
          "data": {
            "text/plain": [
              "0.11713590545707334"
            ]
          },
          "execution_count": 183,
          "metadata": {},
          "output_type": "execute_result"
        }
      ],
      "source": [
        "# посчитаем доли пересечения в целевом тесте по группам (B)\n",
        "len(participants[(participants['ab_test']=='recommender_system_test')&(participants['group']=='B')].query(\"user_id in @bad \")['user_id'].unique())/\\\n",
        "len(participants[(participants['ab_test']=='recommender_system_test')&(participants['group']=='B')]['user_id'].unique())"
      ]
    },
    {
      "cell_type": "code",
      "execution_count": null,
      "metadata": {
        "id": "XFVYzJn9_Wcy",
        "outputId": "f558f036-cbe0-48ca-855c-6332f21f9d29"
      },
      "outputs": [
        {
          "data": {
            "text/plain": [
              "0.1260460251046025"
            ]
          },
          "execution_count": 184,
          "metadata": {},
          "output_type": "execute_result"
        }
      ],
      "source": [
        "# посчитаем доли пересечения в целевом тесте по группам (A)\n",
        "len(participants[(participants['ab_test']=='recommender_system_test')&(participants['group']=='A')].query(\"user_id in @bad \")['user_id'].unique())/\\\n",
        "len(participants[(participants['ab_test']=='recommender_system_test')&(participants['group']=='A')]['user_id'].unique())"
      ]
    },
    {
      "cell_type": "markdown",
      "metadata": {
        "id": "3xsgN-1k_Wcy"
      },
      "source": [
        "* **Доля пользователей не подвергшихся воздействию смежного теста в обеих группах примерно равна и состовляет также порядка 12%, ввиду чего можно считать воздействие на группы этого факта также равномерным. Поэтому, исходя из ограниченного размера груп, возможно оставить таких пользователей, для придания большей мощности нашей аналитики**"
      ]
    },
    {
      "cell_type": "markdown",
      "metadata": {
        "id": "sksOGIYk_Wcz"
      },
      "source": [
        "## Пользовательская активность"
      ]
    },
    {
      "cell_type": "code",
      "execution_count": null,
      "metadata": {
        "id": "nqq92stR_Wcz"
      },
      "outputs": [],
      "source": [
        "# очистим основную выборку\n",
        "df = df[(df['region']=='EU')&(df['ab_test']=='recommender_system_test')]"
      ]
    },
    {
      "cell_type": "code",
      "execution_count": null,
      "metadata": {
        "id": "D1zH7QQL_Wcz"
      },
      "outputs": [],
      "source": [
        "# обогатим данные записями о активности пользователей\n",
        "df = pd.merge(df, events,how = 'left',validate = '1:m', left_on='user_id', right_on='user_id',suffixes=('', 'events'))"
      ]
    },
    {
      "cell_type": "code",
      "execution_count": null,
      "metadata": {
        "id": "C_ierUQk_Wcz",
        "outputId": "05bf4d95-7c38-42ee-ce8b-98b3d824035f"
      },
      "outputs": [
        {
          "name": "stdout",
          "output_type": "stream",
          "text": [
            "<class 'pandas.core.frame.DataFrame'>\n",
            "Int64Index: 26290 entries, 0 to 26289\n",
            "Data columns (total 9 columns):\n",
            " #   Column      Non-Null Count  Dtype         \n",
            "---  ------      --------------  -----         \n",
            " 0   user_id     26290 non-null  object        \n",
            " 1   first_date  26290 non-null  datetime64[ns]\n",
            " 2   region      26290 non-null  object        \n",
            " 3   device      26290 non-null  object        \n",
            " 4   group       26290 non-null  object        \n",
            " 5   ab_test     26290 non-null  object        \n",
            " 6   event_dt    23420 non-null  datetime64[ns]\n",
            " 7   event_name  23420 non-null  object        \n",
            " 8   details     3196 non-null   float64       \n",
            "dtypes: datetime64[ns](2), float64(1), object(6)\n",
            "memory usage: 2.0+ MB\n"
          ]
        },
        {
          "data": {
            "text/plain": [
              "None"
            ]
          },
          "metadata": {},
          "output_type": "display_data"
        }
      ],
      "source": [
        "# посмотрим на основную информацию после объединения\n",
        "display(df.info())"
      ]
    },
    {
      "cell_type": "markdown",
      "metadata": {
        "id": "9BAzCxMd_Wcz"
      },
      "source": [
        "* **Пользователи попавшие в тест совершили 26290 события из которых 3196 покупки. Можно заметить наличие пропусков после объедененеия по полям из контрольной таблицы, что говорит о том, что некоторые пользователи из группы теста не совершили не одного события.**"
      ]
    },
    {
      "cell_type": "code",
      "execution_count": null,
      "metadata": {
        "id": "uARLw0SD_Wcz"
      },
      "outputs": [],
      "source": [
        "# добавим поле с точной датой первого события пользователей\n",
        "df = pd.merge(df, df.groupby('user_id', as_index = False).agg(first_ev = ('event_dt','min')),how = 'left',validate = 'm:1', left_on='user_id', right_on='user_id',suffixes=('', 'first_events'))\n",
        "\n",
        "# добавим поле с округленной до дней датой событий\n",
        "df['date'] = df.event_dt.astype('datetime64[D]')"
      ]
    },
    {
      "cell_type": "code",
      "execution_count": null,
      "metadata": {
        "id": "4vC7w_hW_Wcz",
        "outputId": "4ad48a78-8058-41b7-e8d7-db6f595621eb"
      },
      "outputs": [
        {
          "data": {
            "image/png": "[encoded data removed]",
            "text/plain": [
              "<Figure size 936x360 with 1 Axes>"
            ]
          },
          "metadata": {
            "needs_background": "light"
          },
          "output_type": "display_data"
        }
      ],
      "source": [
        "# строим график\n",
        "plt.figure(figsize=(13,5))\n",
        "\n",
        "sns.lineplot([pd.to_datetime('2020-12-07'),pd.to_datetime('2021-01-04')], y = 1, legend = True, marker='o',markersize = 12)\n",
        "df.groupby(by = 'date')['user_id'].count().plot()\n",
        "df.groupby(by = 'first_date')['user_id'].nunique().plot()\n",
        "plt.legend(['Период регистрации активности','Количество событей новыми пользователями','Количество новых регистраций'],ncol = 3)\n",
        "plt.title('Контроль динамики теста в установленный т.з. период')\n",
        "plt.ylabel('Количество')\n",
        "plt.xlabel('Дата')\n",
        "plt.gcf().autofmt_xdate()\n",
        "plt.show()"
      ]
    },
    {
      "cell_type": "markdown",
      "metadata": {
        "id": "nltnAohe_Wcz"
      },
      "source": [
        "* **На графике видно, что период активности группы тета совподает с периодом регистрации пользователей и периодом наблюдения за ними. Активность пользователей растет вплодь до остановки набора пользователей в группы, причем можно заметит скачек активности 13 числа. Также мы можем наблюдать, что после остановки набора теста октивность пользователей резко снижается вплодь до 30 числа, а последнии 4 дня наблюдений и вовсе отсутствует, что может говорить о несвоевременной остановке теста, либо о новогодних каникулах. Возможность для совершения событий последних зарегестрированных пользователей состовляет 2 недели(если тест не был досрочно остановлен, при обратном сценарии необходимо корректировать после онализа распределений сроков целевых событий). Ввиду большого количества пользователей без наличия целевых действей есть смысл провести динамику набора последних. Существенных всплесков активности в период проведения пересекающеся акции нет**"
      ]
    },
    {
      "cell_type": "markdown",
      "metadata": {
        "id": "ZzyqDtUJ_Wc0"
      },
      "source": [
        "## Динамика набора пользователей не совершивших ни одного целевого действия в разрезе групп теста"
      ]
    },
    {
      "cell_type": "code",
      "execution_count": null,
      "metadata": {
        "id": "fvP_BSL0_Wc0",
        "outputId": "1f7dcc90-5528-4490-9633-62746f89523b"
      },
      "outputs": [
        {
          "data": {
            "image/png": "[encoded data removed]",
            "text/plain": [
              "<Figure size 936x432 with 1 Axes>"
            ]
          },
          "metadata": {
            "needs_background": "light"
          },
          "output_type": "display_data"
        }
      ],
      "source": [
        "# строим график\n",
        "plt.figure(figsize=(13,6))\n",
        "#sns.lineplot([pd.to_datetime('2020-12-07'),pd.to_datetime('2021-01-04')], y = 2, legend = True, marker='o',markersize = 12)\n",
        "df[df['event_name'].isna()&(df['group']=='A')].groupby(by = 'first_date')['user_id'].nunique().plot()\n",
        "df[df['event_name'].isna()&(df['group']=='B')].groupby(by = 'first_date')['user_id'].nunique().plot()\n",
        "df[~df['event_name'].isna()].groupby(by = 'first_date')['user_id'].nunique().plot()\n",
        "plt.legend(['A - без событий','B - без событий', \"С собитиями\"])\n",
        "plt.title('Контрль динамики набора пользователей без событий в установленный т.з. период')\n",
        "plt.ylabel('Количество')\n",
        "plt.xlabel('Дата')\n",
        "plt.gcf().autofmt_xdate()\n",
        "plt.show()"
      ]
    },
    {
      "cell_type": "markdown",
      "metadata": {
        "id": "RPjptUsq_Wc0"
      },
      "source": [
        "* **Можно заметить, что пользователи не совершившие не одного действия набирались в весь период, причем набор проходил схожим образом в обеих группах. В контрольной группйе после 13 числа наблюдается отсутствие притока клиентов без активности, что довально странно, в группы у неактивных пользователей проходит относительно равномерно на протяжении всего теста.**"
      ]
    },
    {
      "cell_type": "code",
      "execution_count": null,
      "metadata": {
        "id": "TSgFU5LP_Wc0",
        "outputId": "85561e0b-4d8c-4e47-b96d-43e99ae1ab8d"
      },
      "outputs": [
        {
          "data": {
            "text/plain": [
              "0.6772175193227825"
            ]
          },
          "execution_count": 191,
          "metadata": {},
          "output_type": "execute_result"
        }
      ],
      "source": [
        "# послитаем доллю пользователей без покупок в группе B\n",
        "df[df['event_name'].isna()&(df['group']=='B')].groupby(by = 'first_date')['user_id'].nunique().sum()/df[(df['group']=='B')].groupby(by = 'first_date')['user_id'].nunique().sum()"
      ]
    },
    {
      "cell_type": "markdown",
      "metadata": {
        "id": "xKne5TEW_Wc0"
      },
      "source": [
        "* **Доля пользователей без событей в эксперементальной группе равна 68%**"
      ]
    },
    {
      "cell_type": "code",
      "execution_count": null,
      "metadata": {
        "id": "E7M64M3o_Wc0",
        "outputId": "730a84ed-61da-4c29-d82e-803e74df3bef"
      },
      "outputs": [
        {
          "data": {
            "text/plain": [
              "0.28343423225096315"
            ]
          },
          "execution_count": 192,
          "metadata": {},
          "output_type": "execute_result"
        }
      ],
      "source": [
        "# послитаем доллю пользователей без покупок в группе B\n",
        "df[df['event_name'].isna()&(df['group']=='A')].groupby(by = 'first_date')['user_id'].nunique().sum()/df[(df['group']=='A')].groupby(by = 'first_date')['user_id'].nunique().sum()"
      ]
    },
    {
      "cell_type": "markdown",
      "metadata": {
        "id": "Nu_HeA_d_Wc0"
      },
      "source": [
        "* **Доля пользователей без событей в контрольной группе равна 28%**"
      ]
    },
    {
      "cell_type": "markdown",
      "metadata": {
        "id": "2S2zSgrG_Wc1"
      },
      "source": [
        "* **Пользователей без событий не конвертировались, поэтому  для исследовательского анализа они полезны**"
      ]
    },
    {
      "cell_type": "code",
      "execution_count": null,
      "metadata": {
        "id": "8qR0Rk2y_Wc1"
      },
      "outputs": [],
      "source": [
        "df = df[~df['event_name'].isna()]"
      ]
    },
    {
      "cell_type": "markdown",
      "metadata": {
        "id": "FBPLO0D-_Wc1"
      },
      "source": [
        "## Определений соответствия лайфтайма события т.з"
      ]
    },
    {
      "cell_type": "code",
      "execution_count": null,
      "metadata": {
        "id": "a-Nx2c41_Wc1"
      },
      "outputs": [],
      "source": [
        "# сформируем поле со сркоким событий от даты регистрации\n",
        "df['event_life'] = df['event_dt'] - df['first_date']\n",
        "df['event_life'] = df['event_life'].dt.days"
      ]
    },
    {
      "cell_type": "code",
      "execution_count": null,
      "metadata": {
        "id": "bCVaFsnp_Wc1",
        "outputId": "7ea99c4e-ed05-4268-872f-aecfc46162b7"
      },
      "outputs": [
        {
          "data": {
            "image/png": "[encoded data removed]",
            "text/plain": [
              "<Figure size 1296x864 with 1 Axes>"
            ]
          },
          "metadata": {
            "needs_background": "light"
          },
          "output_type": "display_data"
        },
        {
          "name": "stdout",
          "output_type": "stream",
          "text": [
            "************************************\n"
          ]
        },
        {
          "data": {
            "text/plain": [
              "count    23420.000000\n",
              "mean         3.300470\n",
              "std          4.132073\n",
              "min          0.000000\n",
              "25%          0.000000\n",
              "50%          2.000000\n",
              "75%          5.000000\n",
              "max         23.000000\n",
              "Name: event_life, dtype: float64"
            ]
          },
          "metadata": {},
          "output_type": "display_data"
        }
      ],
      "source": [
        "# построим графики распределения периодов событий от даты регистрации\n",
        "plt.figure(figsize=(18, 12))\n",
        "sns.boxplot(y = df['event_life'], x = df['event_name'], hue = df['group'])\n",
        "plt.xlabel('События')\n",
        "plt.ylabel('Дней от регистрации')\n",
        "plt.title('Лайфтайм событий')\n",
        "plt.show()\n",
        "print(\"************************************\")\n",
        "display(df['event_life'].describe())"
      ]
    },
    {
      "cell_type": "markdown",
      "metadata": {
        "id": "q14SUGoz_Wc1"
      },
      "source": [
        "* **Основная чесь всех событий совершается в период до 5 дней, однако по каждому виду событий видны выбросы за периодом установленного т.з. лайфтайма события. Также мы можем заметить снижение средних сроков до покупки, просмотра карточки и просмотра карзины в эксперементальной группе.**"
      ]
    },
    {
      "cell_type": "code",
      "execution_count": null,
      "metadata": {
        "id": "IIqn-0O2_Wc2"
      },
      "outputs": [],
      "source": [
        "# уберем события не соответствующие т.з.\n",
        "df = df[df['event_life']<=14]"
      ]
    },
    {
      "cell_type": "markdown",
      "metadata": {
        "id": "PLrjIkIr_Wc2"
      },
      "source": [
        "## Распределение доли первых событий по группам"
      ]
    },
    {
      "cell_type": "code",
      "execution_count": null,
      "metadata": {
        "id": "52rvKzKk_Wc2",
        "outputId": "9ac4a05f-7ced-4c2c-9fc4-d91e9f44f093"
      },
      "outputs": [
        {
          "data": {
            "text/html": [
              "<div>\n",
              "<style scoped>\n",
              "    .dataframe tbody tr th:only-of-type {\n",
              "        vertical-align: middle;\n",
              "    }\n",
              "\n",
              "    .dataframe tbody tr th {\n",
              "        vertical-align: top;\n",
              "    }\n",
              "\n",
              "    .dataframe thead th {\n",
              "        text-align: right;\n",
              "    }\n",
              "</style>\n",
              "<table border=\"1\" class=\"dataframe\">\n",
              "  <thead>\n",
              "    <tr style=\"text-align: right;\">\n",
              "      <th>group</th>\n",
              "      <th>A</th>\n",
              "      <th>B</th>\n",
              "    </tr>\n",
              "    <tr>\n",
              "      <th>event_name</th>\n",
              "      <th></th>\n",
              "      <th></th>\n",
              "    </tr>\n",
              "  </thead>\n",
              "  <tbody>\n",
              "    <tr>\n",
              "      <th>login</th>\n",
              "      <td>484</td>\n",
              "      <td>211</td>\n",
              "    </tr>\n",
              "    <tr>\n",
              "      <th>product_cart</th>\n",
              "      <td>521</td>\n",
              "      <td>169</td>\n",
              "    </tr>\n",
              "    <tr>\n",
              "      <th>product_page</th>\n",
              "      <td>766</td>\n",
              "      <td>248</td>\n",
              "    </tr>\n",
              "    <tr>\n",
              "      <th>purchase</th>\n",
              "      <td>833</td>\n",
              "      <td>249</td>\n",
              "    </tr>\n",
              "  </tbody>\n",
              "</table>\n",
              "</div>"
            ],
            "text/plain": [
              "group           A    B\n",
              "event_name            \n",
              "login         484  211\n",
              "product_cart  521  169\n",
              "product_page  766  248\n",
              "purchase      833  249"
            ]
          },
          "metadata": {},
          "output_type": "display_data"
        }
      ],
      "source": [
        "# выделим данные\n",
        "f = df.groupby(by='user_id').first().reset_index().pivot_table(index='event_name', columns='group', values='user_id', aggfunc= 'nunique')\n",
        "display(f)"
      ]
    },
    {
      "cell_type": "code",
      "execution_count": null,
      "metadata": {
        "id": "MKsRNqLY_Wc2"
      },
      "outputs": [],
      "source": [
        "# посчитаем доли от общего в группе\n",
        "f['A'] = f['A']/f['A'].sum()\n",
        "f['B'] = f['B']/f['B'].sum()"
      ]
    },
    {
      "cell_type": "code",
      "execution_count": null,
      "metadata": {
        "id": "2_dfkc6V_Wc2",
        "outputId": "eedf1478-795d-4115-b7a3-baa792da76bf"
      },
      "outputs": [
        {
          "data": {
            "image/png": "[encoded data removed]",
            "text/plain": [
              "<Figure size 864x432 with 1 Axes>"
            ]
          },
          "metadata": {
            "needs_background": "light"
          },
          "output_type": "display_data"
        }
      ],
      "source": [
        "# построим график\n",
        "ax = f.plot(kind='bar',figsize=(12,6))\n",
        "plt.legend(['A', 'B'], title = 'Группа')\n",
        "plt.ylabel('Доля в группе')\n",
        "plt.xlabel('Событие')\n",
        "plt.xticks(rotation=(0))\n",
        "plt.title(\"Доля в группе первого события от общего числа\")\n",
        "add_value_labels(ax,'bar',3,fmt = \"{:.2f}\")\n",
        "plt.show()"
      ]
    },
    {
      "cell_type": "markdown",
      "metadata": {
        "id": "pLl7MEMX_Wc2"
      },
      "source": [
        "* **Можно заметить, что доля клиентов с первой покупкой на 5% выше в группе А и состовляет 32%, тогда как в группе B больше на 5%  доля первых логинов. В ообщем мы можем наблюдать довольно высокую долю клиентов с первым событием - покупкой порядка 30% по общей выборке.**"
      ]
    },
    {
      "cell_type": "markdown",
      "metadata": {
        "id": "ZuZuIU_i_Wc3"
      },
      "source": [
        "# Вывод по итогам оценки корректности проведения теста\n",
        "* **В целевую группу попали пользователи не только из исследуемого региона, необходимо очистить данные. Распределение по группам также неравномерно**\n",
        "* **Пользователи набраны согласно т.з с 7 по 21 число включительно. Период проведения A/B теста выбран не совсем корректно, ввиду предновогоднего изменения модели поведения покупателей и большого количества маркетинговых акций проводимых в это время**\n",
        "* **Доля пользователей набрана корректно согласно техническому заданию**\n",
        "* **Можно заметить, что пользователи набиралось в группы циклично, на выходных проходил рост набора. Также мы видим, что в группу, а попадало стабильно больше пользователей относительно контрольной группы, ввиду чего пропорциональность групп не была соблюдена**\n",
        "* **Можно заметить, что маркетинговые cобытия не пересекают период набора пользователей, однако одно событие (Christmas&New Year Promo) накладывается на период наблюдения и сбора статистики активности, что может исказить результаты. Необходимо обратить внимание на изменения активности с 25 числа**\n",
        "* **Пересечение пользователей внутри теста между контрольной и тестовой группой нет**\n",
        "* **Критичным будем считать пересечение пользователей между группами внутри теста, а также пересечение испытуемой группы смежного теста с нашим. Пересечение контрольной группы смежного теста с группами нашего целевого будем считать допустимым так как они не подвергались дополнительному воздействию экспериментов.**\n",
        "* **Доля пользователей подвергшихся воздействию смежного теста в обеих группах примерно равна и составляет порядка 5%, ввиду чего можно считать воздействие на группы этого факта также равномерным. Поэтому, исходя из ограниченного размера груп, возможно оставить таких пользователей, для придания большей мощности нашей аналитики**\n",
        "* **Пользователи, попавшие в тест, совершили 26290 события из которых 3196 покупки. Можно заметить наличие пропусков после объединение по полям из контрольной таблицы, что говорит о том, что некоторые пользователи из группы теста не совершили не одного события.**\n",
        "* **Период активности группы тета совпадает с периодом регистрации пользователей и периодом наблюдения за ними. Активность пользователей растет вплоть до остановки набора пользователей в группы, причем можно заметит скачек активности 13 числа. Также мы можем наблюдать, что после остановки набора теста активность пользователей резко снижается вплоть до 30 числа, а последние 4 дня наблюдений и вовсе отсутствует, что может говорить о несвоевременной остановке теста, либо о новогодних каникулах. Возможность для совершения событий последних зарегистрированных пользователей составляет 2 недели(если тест не был досрочно остановлен, при обратном сценарии необходимо корректировать после анализа распределений сроков целевых событий). Ввиду большого количества пользователей без наличия целевых действий есть смысл провести динамику набора последних. Существенных всплесков активности в период проведения пересекающейся акции нет**\n",
        "* **Можно заметить, что пользователи не совершившие не одного действия набирались в весь период, причем набор проходил схожим образом в обеих группах. В контрольной группе после 13 числа наблюдается отсутствие притока клиентов без активности, что довольно странно, в группы у неактивных пользователей проходит относительно равномерно на протяжении всего теста.**\n",
        "* **Доля пользователей без событий в экспериментальной группе равна 68%**\n",
        "* **Доля пользователей без событий в контрольной группе равна 28%**\n",
        "* **Основная честь всех событий совершается в период до 5 дней, однако по каждому виду событий видны выбросы за периодом установленного т.з. Лайф тайма события. Также мы можем заметить снижение средних сроков до покупки, просмотра карточки и просмотра корзины в экспериментальной группе.**\n",
        "* **Можно заметить, что доля клиентов с первой покупкой на 5% выше в группе А и составляет 32%, тогда как в группе B больше на 5%  доля первых логинов. В общем мы можем наблюдать довольно высокую долю клиентов с первым событием - покупкой порядка 30% по общей выборке.**"
      ]
    },
    {
      "cell_type": "markdown",
      "metadata": {
        "id": "-2kogWW__Wc3"
      },
      "source": [
        "# Исследовательский анализ данных"
      ]
    },
    {
      "cell_type": "code",
      "execution_count": null,
      "metadata": {
        "id": "KyTTWKcI_Wc3"
      },
      "outputs": [],
      "source": [
        "# выделим данные для анализа\n",
        "\n",
        "test = df.fillna(0).groupby(by = ['date','user_id','group']).agg(device_c =('device','nunique'), device=('device','first'),number_events = ('event_name', 'count'),\\\n",
        "                                         number_unique_ev = ('event_name', 'nunique'),sum_purch=('details','sum')).reset_index()"
      ]
    },
    {
      "cell_type": "code",
      "execution_count": null,
      "metadata": {
        "id": "qIIW-ag__Wc3"
      },
      "outputs": [],
      "source": [
        "# поставим маркер покупки\n",
        "test['purch_fact'] = test.sum_purch != 0\n",
        "test['purch_fact'] = test['purch_fact'] *1"
      ]
    },
    {
      "cell_type": "code",
      "execution_count": null,
      "metadata": {
        "id": "SFFA65Zj_Wc3",
        "outputId": "505ba7d8-5645-467a-d7aa-5b5af20f1911"
      },
      "outputs": [
        {
          "name": "stdout",
          "output_type": "stream",
          "text": [
            "Количество полных дубликатов: 0\n",
            "****************\n",
            "<class 'pandas.core.frame.DataFrame'>\n",
            "RangeIndex: 10323 entries, 0 to 10322\n",
            "Data columns (total 9 columns):\n",
            " #   Column            Non-Null Count  Dtype         \n",
            "---  ------            --------------  -----         \n",
            " 0   date              10323 non-null  datetime64[ns]\n",
            " 1   user_id           10323 non-null  object        \n",
            " 2   group             10323 non-null  object        \n",
            " 3   device_c          10323 non-null  int64         \n",
            " 4   device            10323 non-null  object        \n",
            " 5   number_events     10323 non-null  int64         \n",
            " 6   number_unique_ev  10323 non-null  int64         \n",
            " 7   sum_purch         10323 non-null  float64       \n",
            " 8   purch_fact        10323 non-null  int64         \n",
            "dtypes: datetime64[ns](1), float64(1), int64(4), object(3)\n",
            "memory usage: 726.0+ KB\n"
          ]
        },
        {
          "data": {
            "text/html": [
              "<div>\n",
              "<style scoped>\n",
              "    .dataframe tbody tr th:only-of-type {\n",
              "        vertical-align: middle;\n",
              "    }\n",
              "\n",
              "    .dataframe tbody tr th {\n",
              "        vertical-align: top;\n",
              "    }\n",
              "\n",
              "    .dataframe thead th {\n",
              "        text-align: right;\n",
              "    }\n",
              "</style>\n",
              "<table border=\"1\" class=\"dataframe\">\n",
              "  <thead>\n",
              "    <tr style=\"text-align: right;\">\n",
              "      <th></th>\n",
              "      <th>5612</th>\n",
              "    </tr>\n",
              "  </thead>\n",
              "  <tbody>\n",
              "    <tr>\n",
              "      <th>date</th>\n",
              "      <td>2020-12-19 00:00:00</td>\n",
              "    </tr>\n",
              "    <tr>\n",
              "      <th>user_id</th>\n",
              "      <td>C80F781D9C410363</td>\n",
              "    </tr>\n",
              "    <tr>\n",
              "      <th>group</th>\n",
              "      <td>A</td>\n",
              "    </tr>\n",
              "    <tr>\n",
              "      <th>device_c</th>\n",
              "      <td>1</td>\n",
              "    </tr>\n",
              "    <tr>\n",
              "      <th>device</th>\n",
              "      <td>Android</td>\n",
              "    </tr>\n",
              "    <tr>\n",
              "      <th>number_events</th>\n",
              "      <td>3</td>\n",
              "    </tr>\n",
              "    <tr>\n",
              "      <th>number_unique_ev</th>\n",
              "      <td>3</td>\n",
              "    </tr>\n",
              "    <tr>\n",
              "      <th>sum_purch</th>\n",
              "      <td>0.0</td>\n",
              "    </tr>\n",
              "    <tr>\n",
              "      <th>purch_fact</th>\n",
              "      <td>0</td>\n",
              "    </tr>\n",
              "  </tbody>\n",
              "</table>\n",
              "</div>"
            ],
            "text/plain": [
              "                                 5612\n",
              "date              2020-12-19 00:00:00\n",
              "user_id              C80F781D9C410363\n",
              "group                               A\n",
              "device_c                            1\n",
              "device                        Android\n",
              "number_events                       3\n",
              "number_unique_ev                    3\n",
              "sum_purch                         0.0\n",
              "purch_fact                          0"
            ]
          },
          "metadata": {},
          "output_type": "display_data"
        },
        {
          "data": {
            "text/plain": [
              "A    7969\n",
              "B    2354\n",
              "Name: group, dtype: int64"
            ]
          },
          "metadata": {},
          "output_type": "display_data"
        },
        {
          "data": {
            "text/plain": [
              "1    10323\n",
              "Name: device_c, dtype: int64"
            ]
          },
          "metadata": {},
          "output_type": "display_data"
        },
        {
          "data": {
            "text/plain": [
              "Android    4555\n",
              "PC         2692\n",
              "iPhone     2125\n",
              "Mac         951\n",
              "Name: device, dtype: int64"
            ]
          },
          "metadata": {},
          "output_type": "display_data"
        },
        {
          "data": {
            "text/plain": [
              "2    4426\n",
              "3    3081\n",
              "1    2177\n",
              "4     639\n",
              "Name: number_events, dtype: int64"
            ]
          },
          "metadata": {},
          "output_type": "display_data"
        },
        {
          "data": {
            "text/plain": [
              "2    4426\n",
              "3    3081\n",
              "1    2177\n",
              "4     639\n",
              "Name: number_unique_ev, dtype: int64"
            ]
          },
          "metadata": {},
          "output_type": "display_data"
        },
        {
          "data": {
            "text/plain": [
              "0.00      7200\n",
              "4.99      2327\n",
              "9.99       467\n",
              "99.99      272\n",
              "499.99      57\n",
              "Name: sum_purch, dtype: int64"
            ]
          },
          "metadata": {},
          "output_type": "display_data"
        },
        {
          "data": {
            "text/plain": [
              "0    7200\n",
              "1    3123\n",
              "Name: purch_fact, dtype: int64"
            ]
          },
          "metadata": {},
          "output_type": "display_data"
        }
      ],
      "source": [
        "# посмотрим инво о тестовых чистых данных\n",
        "df_info(test)"
      ]
    },
    {
      "cell_type": "markdown",
      "metadata": {
        "id": "N-t90iD7_Wc3"
      },
      "source": [
        "* **Можно заметить, что группы распределились неравномерно, количество пользователей эксперементальной группы кратно меньше контрольной. Также можно обратить внимание на факт использование одного устроиства всеми пользователями, что говорит о отслеживании активности пользователей по нему. Основная часть пользуется android устроиствами, тогда как mac самый непопулярный. Пользователи совершают разное количество целевых действий, но сновная часть ограничевается 2, также мы видим внушительную группу пользователей совершивших всего одно действие, возможно это быстрая покупка. В общей выборке  1082 пользователя из 3481 совершили покупки**"
      ]
    },
    {
      "cell_type": "markdown",
      "metadata": {
        "id": "dFb0tNeh_Wc4"
      },
      "source": [
        "## Анализ распределения признаков и активностей по группам теста"
      ]
    },
    {
      "cell_type": "code",
      "execution_count": null,
      "metadata": {
        "id": "NYv026Of_Wc4",
        "outputId": "96c93a60-35d0-4bd4-9091-3ef97e148e14"
      },
      "outputs": [
        {
          "data": {
            "image/png": "[encoded data removed]",
            "text/plain": [
              "<Figure size 864x576 with 1 Axes>"
            ]
          },
          "metadata": {
            "needs_background": "light"
          },
          "output_type": "display_data"
        },
        {
          "name": "stdout",
          "output_type": "stream",
          "text": [
            "**********Статистика А***********************\n"
          ]
        },
        {
          "data": {
            "text/plain": [
              "count    7969.000000\n",
              "mean        2.255866\n",
              "std         0.840378\n",
              "min         1.000000\n",
              "25%         2.000000\n",
              "50%         2.000000\n",
              "75%         3.000000\n",
              "max         4.000000\n",
              "Name: number_events, dtype: float64"
            ]
          },
          "metadata": {},
          "output_type": "display_data"
        },
        {
          "name": "stdout",
          "output_type": "stream",
          "text": [
            "**********Статистика B***********************\n"
          ]
        },
        {
          "data": {
            "text/plain": [
              "count    2354.000000\n",
              "mean        2.060748\n",
              "std         0.838997\n",
              "min         1.000000\n",
              "25%         1.000000\n",
              "50%         2.000000\n",
              "75%         3.000000\n",
              "max         4.000000\n",
              "Name: number_events, dtype: float64"
            ]
          },
          "metadata": {},
          "output_type": "display_data"
        }
      ],
      "source": [
        "# построим график\n",
        "plt.figure(figsize=(12,8))\n",
        "sns.boxplot(y = test.number_events, x = test.group)\n",
        "plt.ylabel('Распределение значений')\n",
        "plt.xlabel('Группа')\n",
        "plt.title(\"Распределение значений среднего количества событий\")\n",
        "plt.show()\n",
        "\n",
        "\n",
        "print('**********Статистика А***********************')\n",
        "display(test[test['group']=='A']['number_events'].describe())\n",
        "print('**********Статистика B***********************')\n",
        "display(test[test['group']=='B']['number_events'].describe())"
      ]
    },
    {
      "cell_type": "markdown",
      "metadata": {
        "id": "MY9WakjV_Wc4"
      },
      "source": [
        "* **В испытуемой группе заметно ниже среднее число событей на пользователя, есть смысл проверить статистическую значимось данной данного вывода**"
      ]
    },
    {
      "cell_type": "markdown",
      "metadata": {
        "id": "eZsii949_Wc4"
      },
      "source": [
        "### Проверка статистической значимости различия средних значений количества событий на пользователя в группах теста"
      ]
    },
    {
      "cell_type": "markdown",
      "metadata": {
        "id": "kUYmoVMY_Wc4"
      },
      "source": [
        "* **При выборе инструмента проверки статистических гипотез будем опираться на определение центральной предельной теоремы которое говорит о том, что при оценке среднего значения генеральной совокупности выборочные средние нормально распределены вокруг среднего всей совокупности независимо от того, как распределена сама генеральная совокупность, а также если некоторая доля генеральной совокупности обладает признаком, а другая её часть — нет, об этой доле можно судить по выборке из генеральной совокупности, выборочные доли будут нормально распределены вокруг настоящей. Исходя из того, что наша выборка имеет существенный размер для работы ЦПТ мы выберим z-test для определения различий в долях и ttest для определения различий средних значений, при условии что дисперсии выборок равны**"
      ]
    },
    {
      "cell_type": "markdown",
      "metadata": {
        "id": "uMphzzlc_Wc4"
      },
      "source": [
        "#### Гипотеза:\n",
        "* **Средние значения количества событей активности на пользователя в группах теста различаются**"
      ]
    },
    {
      "cell_type": "markdown",
      "metadata": {
        "id": "UwDZMxn5_Wc4"
      },
      "source": [
        "H0 - статистически значимых различий в средних количествах событей между группами теста нет  \n",
        "****\n",
        "H1 - присутствуют статистически значимые различия в средних количествах событей между группами теста\n",
        "****\n",
        "\n",
        "критический уровень значимости alpha = 0.05"
      ]
    },
    {
      "cell_type": "markdown",
      "metadata": {
        "id": "vxMUgSO3_Wc4"
      },
      "source": [
        "#### Формирование семплов для проведения статистического теста"
      ]
    },
    {
      "cell_type": "code",
      "execution_count": null,
      "metadata": {
        "id": "70F7w8Hh_Wc4"
      },
      "outputs": [],
      "source": [
        "# выделим данные\n",
        "test_a = test.loc[test['group']=='A']['number_events']\n",
        "test_b = test.loc[test['group']=='B']['number_events']"
      ]
    },
    {
      "cell_type": "code",
      "execution_count": null,
      "metadata": {
        "id": "SprEeevQ_Wc5",
        "outputId": "495be3ba-7292-4548-ae7e-7ecc89d599b7"
      },
      "outputs": [
        {
          "name": "stdout",
          "output_type": "stream",
          "text": [
            "Значение p-value для test_a: 0.0\n",
            "Значение p-value для test_b: 2.4606801033543788e-42\n"
          ]
        }
      ],
      "source": [
        "# проведем тест Шапиро-Уилка для определения нармальности распределений\n",
        "result = st.shapiro(test_a)\n",
        "result\n",
        "print(f'Значение p-value для test_a: {result[1]}')\n",
        "result = st.shapiro(test_b)\n",
        "result\n",
        "print(f'Значение p-value для test_b: {result[1]}')"
      ]
    },
    {
      "cell_type": "markdown",
      "metadata": {
        "id": "by_C0JQh_Wc5"
      },
      "source": [
        "* **По результатам теста можно с уверенностью сказать что выборки ненормально распределены, однако, опираясь на понятие центральной предельной теоремы возможно использовать ttest, но с поправкой на независимость выборок**"
      ]
    },
    {
      "cell_type": "code",
      "execution_count": null,
      "metadata": {
        "id": "7-7kDkfh_Wc5",
        "outputId": "0d165464-2b79-4687-b8cd-4c3c9d175330"
      },
      "outputs": [
        {
          "name": "stdout",
          "output_type": "stream",
          "text": [
            "Отношение большей к меньшей дисперсий: 1.0\n"
          ]
        }
      ],
      "source": [
        "print(f\"Отношение большей к меньшей дисперсий: {round(test_a.var()/test_b.var(), 2)}\")"
      ]
    },
    {
      "cell_type": "code",
      "execution_count": null,
      "metadata": {
        "id": "82bC9xHI_Wc5",
        "outputId": "8a5412bb-15ad-405a-fec2-18c4a435fdef"
      },
      "outputs": [
        {
          "name": "stdout",
          "output_type": "stream",
          "text": [
            "**************************************\n",
            "p-значение равно:  7.048767657073385e-23\n",
            "Отвергаем нулевую гипотезу\n"
          ]
        }
      ],
      "source": [
        "# проведем статистический тест\n",
        "alpha = 0.05\n",
        "results = st.ttest_ind(test_a, test_b, equal_var= False)\n",
        "print('**************************************')\n",
        "print(f'p-значение равно: ', results.pvalue)\n",
        "if results.pvalue < alpha:\n",
        "  print('Отвергаем нулевую гипотезу')\n",
        "else:\n",
        "  print('Не получилось отвергнуть нулевую гипотезу')"
      ]
    },
    {
      "cell_type": "markdown",
      "metadata": {
        "id": "wU4CQ1tJ_Wc5"
      },
      "source": [
        "* **По результатам теста мы видим, что уровень статистической значимости ниже выбранного значения alpha, поэтому у нас есть основания отвергнуть H0 гипотезу, статистически значимые различия в средних количествах событей на клиента в группах теста есть**"
      ]
    },
    {
      "cell_type": "markdown",
      "metadata": {
        "id": "A3UxdR21_Wc5"
      },
      "source": [
        "## Анализ динамики среднего количества событий на пользователся в группах теста по дням"
      ]
    },
    {
      "cell_type": "code",
      "execution_count": null,
      "metadata": {
        "id": "dwB7kfQt_Wc5"
      },
      "outputs": [],
      "source": [
        "# выделим данные\n",
        "t = test.groupby(by=['group','date'])[['number_events','purch_fact','sum_purch']].mean().reset_index()"
      ]
    },
    {
      "cell_type": "code",
      "execution_count": null,
      "metadata": {
        "id": "1T3GHJfZ_Wc6",
        "outputId": "f51a2e57-5374-43dd-af17-7792f229d6d9"
      },
      "outputs": [
        {
          "data": {
            "image/png": "[encoded data removed]",
            "text/plain": [
              "<Figure size 936x432 with 1 Axes>"
            ]
          },
          "metadata": {
            "needs_background": "light"
          },
          "output_type": "display_data"
        }
      ],
      "source": [
        "# строим график\n",
        "plt.figure(figsize=(13,6))\n",
        "sns.lineplot(x = t['date'], y = t['number_events'] , hue = t['group'])\n",
        "plt.legend(['А','B'], title='Группы',ncol = 3)\n",
        "plt.title('Динамика среднего количества событий по группам теста')\n",
        "plt.ylabel('Среднее количество событей на пользователя')\n",
        "plt.xlabel('Дата')\n",
        "plt.gcf().autofmt_xdate()\n",
        "plt.show()"
      ]
    },
    {
      "cell_type": "markdown",
      "metadata": {
        "id": "YaEKEH5q_Wc6"
      },
      "source": [
        "* **Можно заметить стабально выше показатель активнтсти на пользователся в группе А а также всплеск в обеих группах 13 числа, что может быть связанно с повышенным притоком новых пользователей в этот момент. После всплеска показатель группы А остается на повышенном значении, а группы B планомерно снижается до конца наблюдений.**"
      ]
    },
    {
      "cell_type": "markdown",
      "metadata": {
        "id": "1YSXhBFd_Wc6"
      },
      "source": [
        "## Анализ доли новых клиентов совершающих покупки в разрезе групп"
      ]
    },
    {
      "cell_type": "code",
      "execution_count": null,
      "metadata": {
        "id": "Y-5zWSm6_Wc6",
        "outputId": "0ef73c4a-4e56-4fac-d278-b2506e08ba6e"
      },
      "outputs": [
        {
          "data": {
            "image/png": "[encoded data removed]",
            "text/plain": [
              "<Figure size 936x432 with 1 Axes>"
            ]
          },
          "metadata": {
            "needs_background": "light"
          },
          "output_type": "display_data"
        }
      ],
      "source": [
        "# строим график\n",
        "plt.figure(figsize=(13,6))\n",
        "sns.lineplot(x = t['date'], y = t['purch_fact'] , hue = t['group'])\n",
        "plt.legend(['А','B'], title='Группы',ncol = 3)\n",
        "plt.title('Динамика доли клиентов совершающих покупки в разрезе групп')\n",
        "plt.ylabel('Доля покупок событей на пользователя')\n",
        "plt.xlabel('Дата')\n",
        "plt.gcf().autofmt_xdate()\n",
        "plt.show()"
      ]
    },
    {
      "cell_type": "markdown",
      "metadata": {
        "id": "QZj9tFCo_Wc6"
      },
      "source": [
        "* **На графике можно заметить, что в изменении доли платящих пользователей нет четкой динамики и существенных различий в обоих группах**"
      ]
    },
    {
      "cell_type": "markdown",
      "metadata": {
        "id": "qFEnRsYG_Wc7"
      },
      "source": [
        "## Анализ динамики общего числа событий во времени в разрезе групп"
      ]
    },
    {
      "cell_type": "code",
      "execution_count": null,
      "metadata": {
        "id": "Gnmq62ba_Wc7"
      },
      "outputs": [],
      "source": [
        "# выделим данные\n",
        "t = test.groupby(by=['group','date'])[['number_events']].count().reset_index()"
      ]
    },
    {
      "cell_type": "code",
      "execution_count": null,
      "metadata": {
        "id": "jb9xiII9_Wc7",
        "outputId": "a439c20b-ed93-488c-db40-eca76257929b"
      },
      "outputs": [
        {
          "data": {
            "image/png": "[encoded data removed]",
            "text/plain": [
              "<Figure size 936x432 with 1 Axes>"
            ]
          },
          "metadata": {
            "needs_background": "light"
          },
          "output_type": "display_data"
        }
      ],
      "source": [
        "# строим график\n",
        "plt.figure(figsize=(13,6))\n",
        "sns.lineplot(x = t['date'], y = t['number_events'] , hue = t['group'])\n",
        "plt.legend(['А','B'], title='Группы',ncol = 3)\n",
        "plt.title('Динамика общего количества событий по группам теста')\n",
        "plt.ylabel('Количество событей на пользователя')\n",
        "plt.xlabel('Дата')\n",
        "plt.gcf().autofmt_xdate()\n",
        "plt.show()"
      ]
    },
    {
      "cell_type": "markdown",
      "metadata": {
        "id": "MYwEtTvP_Wc7"
      },
      "source": [
        "* **После 13 числа заметен большой всплеск и рост до 21 числа активности в группе А, что совпадает с всплеском уровня набора и в принципе также и объясняется этим, однако в группе В мы не наблюдаем схожей динамики - здесь активность стабильна и ниже контрольной на протяжении всего тетса.**"
      ]
    },
    {
      "cell_type": "markdown",
      "metadata": {
        "id": "qu4bmFI0_Wc7"
      },
      "source": [
        "## Продуктовая варонка"
      ]
    },
    {
      "cell_type": "code",
      "execution_count": null,
      "metadata": {
        "id": "3Uyd909U_Wc7",
        "outputId": "276ec37b-184b-4982-9524-c95211fa24fc"
      },
      "outputs": [
        {
          "data": {
            "text/html": [
              "<div>\n",
              "<style scoped>\n",
              "    .dataframe tbody tr th:only-of-type {\n",
              "        vertical-align: middle;\n",
              "    }\n",
              "\n",
              "    .dataframe tbody tr th {\n",
              "        vertical-align: top;\n",
              "    }\n",
              "\n",
              "    .dataframe thead th {\n",
              "        text-align: right;\n",
              "    }\n",
              "</style>\n",
              "<table border=\"1\" class=\"dataframe\">\n",
              "  <thead>\n",
              "    <tr style=\"text-align: right;\">\n",
              "      <th>group</th>\n",
              "      <th>A</th>\n",
              "    </tr>\n",
              "  </thead>\n",
              "  <tbody>\n",
              "    <tr>\n",
              "      <th>0</th>\n",
              "      <td>NaN</td>\n",
              "    </tr>\n",
              "    <tr>\n",
              "      <th>1</th>\n",
              "      <td>2604.0</td>\n",
              "    </tr>\n",
              "    <tr>\n",
              "      <th>2</th>\n",
              "      <td>1685.0</td>\n",
              "    </tr>\n",
              "    <tr>\n",
              "      <th>3</th>\n",
              "      <td>782.0</td>\n",
              "    </tr>\n",
              "  </tbody>\n",
              "</table>\n",
              "</div>"
            ],
            "text/plain": [
              "group       A\n",
              "0         NaN\n",
              "1      2604.0\n",
              "2      1685.0\n",
              "3       782.0"
            ]
          },
          "execution_count": 246,
          "metadata": {},
          "output_type": "execute_result"
        }
      ],
      "source": [
        "var[['A', 'B']].shift(periods=1)[['A']]"
      ]
    },
    {
      "cell_type": "code",
      "execution_count": null,
      "metadata": {
        "id": "M-aFsrX6_Wc7",
        "outputId": "6ceeb7ef-6d44-44d9-b610-bc57f3702b2b"
      },
      "outputs": [
        {
          "data": {
            "text/html": [
              "<div>\n",
              "<style scoped>\n",
              "    .dataframe tbody tr th:only-of-type {\n",
              "        vertical-align: middle;\n",
              "    }\n",
              "\n",
              "    .dataframe tbody tr th {\n",
              "        vertical-align: top;\n",
              "    }\n",
              "\n",
              "    .dataframe thead th {\n",
              "        text-align: right;\n",
              "    }\n",
              "</style>\n",
              "<table border=\"1\" class=\"dataframe\">\n",
              "  <thead>\n",
              "    <tr style=\"text-align: right;\">\n",
              "      <th>group</th>\n",
              "      <th>event_name</th>\n",
              "      <th>A</th>\n",
              "      <th>B</th>\n",
              "      <th>num</th>\n",
              "      <th>share_first_step_a</th>\n",
              "      <th>share_first_step_b</th>\n",
              "      <th>share_last_step_a</th>\n",
              "      <th>share_last_step_b</th>\n",
              "    </tr>\n",
              "  </thead>\n",
              "  <tbody>\n",
              "    <tr>\n",
              "      <th>0</th>\n",
              "      <td>login</td>\n",
              "      <td>2604</td>\n",
              "      <td>876</td>\n",
              "      <td>1</td>\n",
              "      <td>0.0</td>\n",
              "      <td>0.0</td>\n",
              "      <td>NaN</td>\n",
              "      <td>NaN</td>\n",
              "    </tr>\n",
              "    <tr>\n",
              "      <th>1</th>\n",
              "      <td>product_page</td>\n",
              "      <td>1685</td>\n",
              "      <td>493</td>\n",
              "      <td>2</td>\n",
              "      <td>-35.0</td>\n",
              "      <td>-44.0</td>\n",
              "      <td>-35.0</td>\n",
              "      <td>-44.0</td>\n",
              "    </tr>\n",
              "    <tr>\n",
              "      <th>2</th>\n",
              "      <td>product_cart</td>\n",
              "      <td>782</td>\n",
              "      <td>244</td>\n",
              "      <td>3</td>\n",
              "      <td>-70.0</td>\n",
              "      <td>-72.0</td>\n",
              "      <td>-54.0</td>\n",
              "      <td>-51.0</td>\n",
              "    </tr>\n",
              "    <tr>\n",
              "      <th>3</th>\n",
              "      <td>purchase</td>\n",
              "      <td>833</td>\n",
              "      <td>249</td>\n",
              "      <td>4</td>\n",
              "      <td>-68.0</td>\n",
              "      <td>-72.0</td>\n",
              "      <td>7.0</td>\n",
              "      <td>2.0</td>\n",
              "    </tr>\n",
              "  </tbody>\n",
              "</table>\n",
              "</div>"
            ],
            "text/plain": [
              "group    event_name     A    B num  share_first_step_a  share_first_step_b  \\\n",
              "0             login  2604  876   1                 0.0                 0.0   \n",
              "1      product_page  1685  493   2               -35.0               -44.0   \n",
              "2      product_cart   782  244   3               -70.0               -72.0   \n",
              "3          purchase   833  249   4               -68.0               -72.0   \n",
              "\n",
              "group  share_last_step_a  share_last_step_b  \n",
              "0                    NaN                NaN  \n",
              "1                  -35.0              -44.0  \n",
              "2                  -54.0              -51.0  \n",
              "3                    7.0                2.0  "
            ]
          },
          "metadata": {},
          "output_type": "display_data"
        }
      ],
      "source": [
        "# строим сводную таблицу\n",
        "var = df.pivot_table(index='event_name', columns='group', values='user_id', aggfunc='nunique').reset_index()\n",
        "var['num'] = var['event_name'].replace({'login':'1', 'product_page':'2',\\\n",
        "                                                     'product_cart':'3','purchase':'4'})\n",
        "var = var.sort_values(by='num').copy().reset_index(drop=True)\n",
        "var['share_first_step_a'] =  var['A']/var['A'].max()\n",
        "var['share_first_step_b'] =  var['B']/var['B'].max()\n",
        "var['share_last_step_a'] =  var['A']/var[['A', 'B']].shift(periods=1)['A']\n",
        "var['share_last_step_b'] =  var['B']/var[['A', 'B']].shift(periods=1)['B']\n",
        "var[['share_first_step_a','share_first_step_b','share_last_step_a','share_last_step_b']] = (round(var[['share_first_step_a','share_first_step_b','share_last_step_a','share_last_step_b']],2)-1)*100\n",
        "display(var)"
      ]
    },
    {
      "cell_type": "code",
      "execution_count": null,
      "metadata": {
        "id": "ptU3YKT6_Wc8",
        "outputId": "b0833d38-5f0d-4520-f3e3-9aba97d8d902"
      },
      "outputs": [
        {
          "data": {
            "application/vnd.plotly.v1+json": {
              "config": {
                "plotlyServerURL": "https://plot.ly"
              },
              "data": [
                {
                  "name": "Группа А",
                  "textinfo": "value+percent initial+percent previous",
                  "type": "funnel",
                  "x": [
                    2604,
                    1685,
                    782,
                    833
                  ],
                  "y": [
                    "login",
                    "product_page",
                    "product_cart",
                    "purchase"
                  ]
                },
                {
                  "name": "Группа В",
                  "orientation": "h",
                  "textinfo": "value+percent initial+percent previous",
                  "type": "funnel",
                  "x": [
                    876,
                    493,
                    244,
                    249
                  ],
                  "y": [
                    "login",
                    "product_page",
                    "product_cart",
                    "purchase"
                  ]
                }
              ],
              "layout": {
                "template": {
                  "data": {
                    "bar": [
                      {
                        "error_x": {
                          "color": "#2a3f5f"
                        },
                        "error_y": {
                          "color": "#2a3f5f"
                        },
                        "marker": {
                          "line": {
                            "color": "#E5ECF6",
                            "width": 0.5
                          },
                          "pattern": {
                            "fillmode": "overlay",
                            "size": 10,
                            "solidity": 0.2
                          }
                        },
                        "type": "bar"
                      }
                    ],
                    "barpolar": [
                      {
                        "marker": {
                          "line": {
                            "color": "#E5ECF6",
                            "width": 0.5
                          },
                          "pattern": {
                            "fillmode": "overlay",
                            "size": 10,
                            "solidity": 0.2
                          }
                        },
                        "type": "barpolar"
                      }
                    ],
                    "carpet": [
                      {
                        "aaxis": {
                          "endlinecolor": "#2a3f5f",
                          "gridcolor": "white",
                          "linecolor": "white",
                          "minorgridcolor": "white",
                          "startlinecolor": "#2a3f5f"
                        },
                        "baxis": {
                          "endlinecolor": "#2a3f5f",
                          "gridcolor": "white",
                          "linecolor": "white",
                          "minorgridcolor": "white",
                          "startlinecolor": "#2a3f5f"
                        },
                        "type": "carpet"
                      }
                    ],
                    "choropleth": [
                      {
                        "colorbar": {
                          "outlinewidth": 0,
                          "ticks": ""
                        },
                        "type": "choropleth"
                      }
                    ],
                    "contour": [
                      {
                        "colorbar": {
                          "outlinewidth": 0,
                          "ticks": ""
                        },
                        "colorscale": [
                          [
                            0,
                            "#0d0887"
                          ],
                          [
                            0.1111111111111111,
                            "#46039f"
                          ],
                          [
                            0.2222222222222222,
                            "#7201a8"
                          ],
                          [
                            0.3333333333333333,
                            "#9c179e"
                          ],
                          [
                            0.4444444444444444,
                            "#bd3786"
                          ],
                          [
                            0.5555555555555556,
                            "#d8576b"
                          ],
                          [
                            0.6666666666666666,
                            "#ed7953"
                          ],
                          [
                            0.7777777777777778,
                            "#fb9f3a"
                          ],
                          [
                            0.8888888888888888,
                            "#fdca26"
                          ],
                          [
                            1,
                            "#f0f921"
                          ]
                        ],
                        "type": "contour"
                      }
                    ],
                    "contourcarpet": [
                      {
                        "colorbar": {
                          "outlinewidth": 0,
                          "ticks": ""
                        },
                        "type": "contourcarpet"
                      }
                    ],
                    "heatmap": [
                      {
                        "colorbar": {
                          "outlinewidth": 0,
                          "ticks": ""
                        },
                        "colorscale": [
                          [
                            0,
                            "#0d0887"
                          ],
                          [
                            0.1111111111111111,
                            "#46039f"
                          ],
                          [
                            0.2222222222222222,
                            "#7201a8"
                          ],
                          [
                            0.3333333333333333,
                            "#9c179e"
                          ],
                          [
                            0.4444444444444444,
                            "#bd3786"
                          ],
                          [
                            0.5555555555555556,
                            "#d8576b"
                          ],
                          [
                            0.6666666666666666,
                            "#ed7953"
                          ],
                          [
                            0.7777777777777778,
                            "#fb9f3a"
                          ],
                          [
                            0.8888888888888888,
                            "#fdca26"
                          ],
                          [
                            1,
                            "#f0f921"
                          ]
                        ],
                        "type": "heatmap"
                      }
                    ],
                    "heatmapgl": [
                      {
                        "colorbar": {
                          "outlinewidth": 0,
                          "ticks": ""
                        },
                        "colorscale": [
                          [
                            0,
                            "#0d0887"
                          ],
                          [
                            0.1111111111111111,
                            "#46039f"
                          ],
                          [
                            0.2222222222222222,
                            "#7201a8"
                          ],
                          [
                            0.3333333333333333,
                            "#9c179e"
                          ],
                          [
                            0.4444444444444444,
                            "#bd3786"
                          ],
                          [
                            0.5555555555555556,
                            "#d8576b"
                          ],
                          [
                            0.6666666666666666,
                            "#ed7953"
                          ],
                          [
                            0.7777777777777778,
                            "#fb9f3a"
                          ],
                          [
                            0.8888888888888888,
                            "#fdca26"
                          ],
                          [
                            1,
                            "#f0f921"
                          ]
                        ],
                        "type": "heatmapgl"
                      }
                    ],
                    "histogram": [
                      {
                        "marker": {
                          "pattern": {
                            "fillmode": "overlay",
                            "size": 10,
                            "solidity": 0.2
                          }
                        },
                        "type": "histogram"
                      }
                    ],
                    "histogram2d": [
                      {
                        "colorbar": {
                          "outlinewidth": 0,
                          "ticks": ""
                        },
                        "colorscale": [
                          [
                            0,
                            "#0d0887"
                          ],
                          [
                            0.1111111111111111,
                            "#46039f"
                          ],
                          [
                            0.2222222222222222,
                            "#7201a8"
                          ],
                          [
                            0.3333333333333333,
                            "#9c179e"
                          ],
                          [
                            0.4444444444444444,
                            "#bd3786"
                          ],
                          [
                            0.5555555555555556,
                            "#d8576b"
                          ],
                          [
                            0.6666666666666666,
                            "#ed7953"
                          ],
                          [
                            0.7777777777777778,
                            "#fb9f3a"
                          ],
                          [
                            0.8888888888888888,
                            "#fdca26"
                          ],
                          [
                            1,
                            "#f0f921"
                          ]
                        ],
                        "type": "histogram2d"
                      }
                    ],
                    "histogram2dcontour": [
                      {
                        "colorbar": {
                          "outlinewidth": 0,
                          "ticks": ""
                        },
                        "colorscale": [
                          [
                            0,
                            "#0d0887"
                          ],
                          [
                            0.1111111111111111,
                            "#46039f"
                          ],
                          [
                            0.2222222222222222,
                            "#7201a8"
                          ],
                          [
                            0.3333333333333333,
                            "#9c179e"
                          ],
                          [
                            0.4444444444444444,
                            "#bd3786"
                          ],
                          [
                            0.5555555555555556,
                            "#d8576b"
                          ],
                          [
                            0.6666666666666666,
                            "#ed7953"
                          ],
                          [
                            0.7777777777777778,
                            "#fb9f3a"
                          ],
                          [
                            0.8888888888888888,
                            "#fdca26"
                          ],
                          [
                            1,
                            "#f0f921"
                          ]
                        ],
                        "type": "histogram2dcontour"
                      }
                    ],
                    "mesh3d": [
                      {
                        "colorbar": {
                          "outlinewidth": 0,
                          "ticks": ""
                        },
                        "type": "mesh3d"
                      }
                    ],
                    "parcoords": [
                      {
                        "line": {
                          "colorbar": {
                            "outlinewidth": 0,
                            "ticks": ""
                          }
                        },
                        "type": "parcoords"
                      }
                    ],
                    "pie": [
                      {
                        "automargin": true,
                        "type": "pie"
                      }
                    ],
                    "scatter": [
                      {
                        "marker": {
                          "colorbar": {
                            "outlinewidth": 0,
                            "ticks": ""
                          }
                        },
                        "type": "scatter"
                      }
                    ],
                    "scatter3d": [
                      {
                        "line": {
                          "colorbar": {
                            "outlinewidth": 0,
                            "ticks": ""
                          }
                        },
                        "marker": {
                          "colorbar": {
                            "outlinewidth": 0,
                            "ticks": ""
                          }
                        },
                        "type": "scatter3d"
                      }
                    ],
                    "scattercarpet": [
                      {
                        "marker": {
                          "colorbar": {
                            "outlinewidth": 0,
                            "ticks": ""
                          }
                        },
                        "type": "scattercarpet"
                      }
                    ],
                    "scattergeo": [
                      {
                        "marker": {
                          "colorbar": {
                            "outlinewidth": 0,
                            "ticks": ""
                          }
                        },
                        "type": "scattergeo"
                      }
                    ],
                    "scattergl": [
                      {
                        "marker": {
                          "colorbar": {
                            "outlinewidth": 0,
                            "ticks": ""
                          }
                        },
                        "type": "scattergl"
                      }
                    ],
                    "scattermapbox": [
                      {
                        "marker": {
                          "colorbar": {
                            "outlinewidth": 0,
                            "ticks": ""
                          }
                        },
                        "type": "scattermapbox"
                      }
                    ],
                    "scatterpolar": [
                      {
                        "marker": {
                          "colorbar": {
                            "outlinewidth": 0,
                            "ticks": ""
                          }
                        },
                        "type": "scatterpolar"
                      }
                    ],
                    "scatterpolargl": [
                      {
                        "marker": {
                          "colorbar": {
                            "outlinewidth": 0,
                            "ticks": ""
                          }
                        },
                        "type": "scatterpolargl"
                      }
                    ],
                    "scatterternary": [
                      {
                        "marker": {
                          "colorbar": {
                            "outlinewidth": 0,
                            "ticks": ""
                          }
                        },
                        "type": "scatterternary"
                      }
                    ],
                    "surface": [
                      {
                        "colorbar": {
                          "outlinewidth": 0,
                          "ticks": ""
                        },
                        "colorscale": [
                          [
                            0,
                            "#0d0887"
                          ],
                          [
                            0.1111111111111111,
                            "#46039f"
                          ],
                          [
                            0.2222222222222222,
                            "#7201a8"
                          ],
                          [
                            0.3333333333333333,
                            "#9c179e"
                          ],
                          [
                            0.4444444444444444,
                            "#bd3786"
                          ],
                          [
                            0.5555555555555556,
                            "#d8576b"
                          ],
                          [
                            0.6666666666666666,
                            "#ed7953"
                          ],
                          [
                            0.7777777777777778,
                            "#fb9f3a"
                          ],
                          [
                            0.8888888888888888,
                            "#fdca26"
                          ],
                          [
                            1,
                            "#f0f921"
                          ]
                        ],
                        "type": "surface"
                      }
                    ],
                    "table": [
                      {
                        "cells": {
                          "fill": {
                            "color": "#EBF0F8"
                          },
                          "line": {
                            "color": "white"
                          }
                        },
                        "header": {
                          "fill": {
                            "color": "#C8D4E3"
                          },
                          "line": {
                            "color": "white"
                          }
                        },
                        "type": "table"
                      }
                    ]
                  },
                  "layout": {
                    "annotationdefaults": {
                      "arrowcolor": "#2a3f5f",
                      "arrowhead": 0,
                      "arrowwidth": 1
                    },
                    "autotypenumbers": "strict",
                    "coloraxis": {
                      "colorbar": {
                        "outlinewidth": 0,
                        "ticks": ""
                      }
                    },
                    "colorscale": {
                      "diverging": [
                        [
                          0,
                          "#8e0152"
                        ],
                        [
                          0.1,
                          "#c51b7d"
                        ],
                        [
                          0.2,
                          "#de77ae"
                        ],
                        [
                          0.3,
                          "#f1b6da"
                        ],
                        [
                          0.4,
                          "#fde0ef"
                        ],
                        [
                          0.5,
                          "#f7f7f7"
                        ],
                        [
                          0.6,
                          "#e6f5d0"
                        ],
                        [
                          0.7,
                          "#b8e186"
                        ],
                        [
                          0.8,
                          "#7fbc41"
                        ],
                        [
                          0.9,
                          "#4d9221"
                        ],
                        [
                          1,
                          "#276419"
                        ]
                      ],
                      "sequential": [
                        [
                          0,
                          "#0d0887"
                        ],
                        [
                          0.1111111111111111,
                          "#46039f"
                        ],
                        [
                          0.2222222222222222,
                          "#7201a8"
                        ],
                        [
                          0.3333333333333333,
                          "#9c179e"
                        ],
                        [
                          0.4444444444444444,
                          "#bd3786"
                        ],
                        [
                          0.5555555555555556,
                          "#d8576b"
                        ],
                        [
                          0.6666666666666666,
                          "#ed7953"
                        ],
                        [
                          0.7777777777777778,
                          "#fb9f3a"
                        ],
                        [
                          0.8888888888888888,
                          "#fdca26"
                        ],
                        [
                          1,
                          "#f0f921"
                        ]
                      ],
                      "sequentialminus": [
                        [
                          0,
                          "#0d0887"
                        ],
                        [
                          0.1111111111111111,
                          "#46039f"
                        ],
                        [
                          0.2222222222222222,
                          "#7201a8"
                        ],
                        [
                          0.3333333333333333,
                          "#9c179e"
                        ],
                        [
                          0.4444444444444444,
                          "#bd3786"
                        ],
                        [
                          0.5555555555555556,
                          "#d8576b"
                        ],
                        [
                          0.6666666666666666,
                          "#ed7953"
                        ],
                        [
                          0.7777777777777778,
                          "#fb9f3a"
                        ],
                        [
                          0.8888888888888888,
                          "#fdca26"
                        ],
                        [
                          1,
                          "#f0f921"
                        ]
                      ]
                    },
                    "colorway": [
                      "#636efa",
                      "#EF553B",
                      "#00cc96",
                      "#ab63fa",
                      "#FFA15A",
                      "#19d3f3",
                      "#FF6692",
                      "#B6E880",
                      "#FF97FF",
                      "#FECB52"
                    ],
                    "font": {
                      "color": "#2a3f5f"
                    },
                    "geo": {
                      "bgcolor": "white",
                      "lakecolor": "white",
                      "landcolor": "#E5ECF6",
                      "showlakes": true,
                      "showland": true,
                      "subunitcolor": "white"
                    },
                    "hoverlabel": {
                      "align": "left"
                    },
                    "hovermode": "closest",
                    "mapbox": {
                      "style": "light"
                    },
                    "paper_bgcolor": "white",
                    "plot_bgcolor": "#E5ECF6",
                    "polar": {
                      "angularaxis": {
                        "gridcolor": "white",
                        "linecolor": "white",
                        "ticks": ""
                      },
                      "bgcolor": "#E5ECF6",
                      "radialaxis": {
                        "gridcolor": "white",
                        "linecolor": "white",
                        "ticks": ""
                      }
                    },
                    "scene": {
                      "xaxis": {
                        "backgroundcolor": "#E5ECF6",
                        "gridcolor": "white",
                        "gridwidth": 2,
                        "linecolor": "white",
                        "showbackground": true,
                        "ticks": "",
                        "zerolinecolor": "white"
                      },
                      "yaxis": {
                        "backgroundcolor": "#E5ECF6",
                        "gridcolor": "white",
                        "gridwidth": 2,
                        "linecolor": "white",
                        "showbackground": true,
                        "ticks": "",
                        "zerolinecolor": "white"
                      },
                      "zaxis": {
                        "backgroundcolor": "#E5ECF6",
                        "gridcolor": "white",
                        "gridwidth": 2,
                        "linecolor": "white",
                        "showbackground": true,
                        "ticks": "",
                        "zerolinecolor": "white"
                      }
                    },
                    "shapedefaults": {
                      "line": {
                        "color": "#2a3f5f"
                      }
                    },
                    "ternary": {
                      "aaxis": {
                        "gridcolor": "white",
                        "linecolor": "white",
                        "ticks": ""
                      },
                      "baxis": {
                        "gridcolor": "white",
                        "linecolor": "white",
                        "ticks": ""
                      },
                      "bgcolor": "#E5ECF6",
                      "caxis": {
                        "gridcolor": "white",
                        "linecolor": "white",
                        "ticks": ""
                      }
                    },
                    "title": {
                      "x": 0.05
                    },
                    "xaxis": {
                      "automargin": true,
                      "gridcolor": "white",
                      "linecolor": "white",
                      "ticks": "",
                      "title": {
                        "standoff": 15
                      },
                      "zerolinecolor": "white",
                      "zerolinewidth": 2
                    },
                    "yaxis": {
                      "automargin": true,
                      "gridcolor": "white",
                      "linecolor": "white",
                      "ticks": "",
                      "title": {
                        "standoff": 15
                      },
                      "zerolinecolor": "white",
                      "zerolinewidth": 2
                    }
                  }
                },
                "title": {
                  "text": "Воронка событий по группам",
                  "x": 0.5
                },
                "yaxis": {
                  "title": {
                    "text": "События"
                  }
                }
              }
            },
            "text/html": [
              "<div>                            <div id=\"683f10e7-12a7-40c4-9e92-de7aad51adec\" class=\"plotly-graph-div\" style=\"height:525px; width:100%;\"></div>            <script type=\"text/javascript\">                require([\"plotly\"], function(Plotly) {                    window.PLOTLYENV=window.PLOTLYENV || {};                                    if (document.getElementById(\"683f10e7-12a7-40c4-9e92-de7aad51adec\")) {                    Plotly.newPlot(                        \"683f10e7-12a7-40c4-9e92-de7aad51adec\",                        [{\"name\":\"\\u0413\\u0440\\u0443\\u043f\\u043f\\u0430 \\u0410\",\"textinfo\":\"value+percent initial+percent previous\",\"x\":[2604,1685,782,833],\"y\":[\"login\",\"product_page\",\"product_cart\",\"purchase\"],\"type\":\"funnel\"},{\"name\":\"\\u0413\\u0440\\u0443\\u043f\\u043f\\u0430 \\u0412\",\"orientation\":\"h\",\"textinfo\":\"value+percent initial+percent previous\",\"x\":[876,493,244,249],\"y\":[\"login\",\"product_page\",\"product_cart\",\"purchase\"],\"type\":\"funnel\"}],                        {\"template\":{\"data\":{\"bar\":[{\"error_x\":{\"color\":\"#2a3f5f\"},\"error_y\":{\"color\":\"#2a3f5f\"},\"marker\":{\"line\":{\"color\":\"#E5ECF6\",\"width\":0.5},\"pattern\":{\"fillmode\":\"overlay\",\"size\":10,\"solidity\":0.2}},\"type\":\"bar\"}],\"barpolar\":[{\"marker\":{\"line\":{\"color\":\"#E5ECF6\",\"width\":0.5},\"pattern\":{\"fillmode\":\"overlay\",\"size\":10,\"solidity\":0.2}},\"type\":\"barpolar\"}],\"carpet\":[{\"aaxis\":{\"endlinecolor\":\"#2a3f5f\",\"gridcolor\":\"white\",\"linecolor\":\"white\",\"minorgridcolor\":\"white\",\"startlinecolor\":\"#2a3f5f\"},\"baxis\":{\"endlinecolor\":\"#2a3f5f\",\"gridcolor\":\"white\",\"linecolor\":\"white\",\"minorgridcolor\":\"white\",\"startlinecolor\":\"#2a3f5f\"},\"type\":\"carpet\"}],\"choropleth\":[{\"colorbar\":{\"outlinewidth\":0,\"ticks\":\"\"},\"type\":\"choropleth\"}],\"contour\":[{\"colorbar\":{\"outlinewidth\":0,\"ticks\":\"\"},\"colorscale\":[[0.0,\"#0d0887\"],[0.1111111111111111,\"#46039f\"],[0.2222222222222222,\"#7201a8\"],[0.3333333333333333,\"#9c179e\"],[0.4444444444444444,\"#bd3786\"],[0.5555555555555556,\"#d8576b\"],[0.6666666666666666,\"#ed7953\"],[0.7777777777777778,\"#fb9f3a\"],[0.8888888888888888,\"#fdca26\"],[1.0,\"#f0f921\"]],\"type\":\"contour\"}],\"contourcarpet\":[{\"colorbar\":{\"outlinewidth\":0,\"ticks\":\"\"},\"type\":\"contourcarpet\"}],\"heatmap\":[{\"colorbar\":{\"outlinewidth\":0,\"ticks\":\"\"},\"colorscale\":[[0.0,\"#0d0887\"],[0.1111111111111111,\"#46039f\"],[0.2222222222222222,\"#7201a8\"],[0.3333333333333333,\"#9c179e\"],[0.4444444444444444,\"#bd3786\"],[0.5555555555555556,\"#d8576b\"],[0.6666666666666666,\"#ed7953\"],[0.7777777777777778,\"#fb9f3a\"],[0.8888888888888888,\"#fdca26\"],[1.0,\"#f0f921\"]],\"type\":\"heatmap\"}],\"heatmapgl\":[{\"colorbar\":{\"outlinewidth\":0,\"ticks\":\"\"},\"colorscale\":[[0.0,\"#0d0887\"],[0.1111111111111111,\"#46039f\"],[0.2222222222222222,\"#7201a8\"],[0.3333333333333333,\"#9c179e\"],[0.4444444444444444,\"#bd3786\"],[0.5555555555555556,\"#d8576b\"],[0.6666666666666666,\"#ed7953\"],[0.7777777777777778,\"#fb9f3a\"],[0.8888888888888888,\"#fdca26\"],[1.0,\"#f0f921\"]],\"type\":\"heatmapgl\"}],\"histogram\":[{\"marker\":{\"pattern\":{\"fillmode\":\"overlay\",\"size\":10,\"solidity\":0.2}},\"type\":\"histogram\"}],\"histogram2d\":[{\"colorbar\":{\"outlinewidth\":0,\"ticks\":\"\"},\"colorscale\":[[0.0,\"#0d0887\"],[0.1111111111111111,\"#46039f\"],[0.2222222222222222,\"#7201a8\"],[0.3333333333333333,\"#9c179e\"],[0.4444444444444444,\"#bd3786\"],[0.5555555555555556,\"#d8576b\"],[0.6666666666666666,\"#ed7953\"],[0.7777777777777778,\"#fb9f3a\"],[0.8888888888888888,\"#fdca26\"],[1.0,\"#f0f921\"]],\"type\":\"histogram2d\"}],\"histogram2dcontour\":[{\"colorbar\":{\"outlinewidth\":0,\"ticks\":\"\"},\"colorscale\":[[0.0,\"#0d0887\"],[0.1111111111111111,\"#46039f\"],[0.2222222222222222,\"#7201a8\"],[0.3333333333333333,\"#9c179e\"],[0.4444444444444444,\"#bd3786\"],[0.5555555555555556,\"#d8576b\"],[0.6666666666666666,\"#ed7953\"],[0.7777777777777778,\"#fb9f3a\"],[0.8888888888888888,\"#fdca26\"],[1.0,\"#f0f921\"]],\"type\":\"histogram2dcontour\"}],\"mesh3d\":[{\"colorbar\":{\"outlinewidth\":0,\"ticks\":\"\"},\"type\":\"mesh3d\"}],\"parcoords\":[{\"line\":{\"colorbar\":{\"outlinewidth\":0,\"ticks\":\"\"}},\"type\":\"parcoords\"}],\"pie\":[{\"automargin\":true,\"type\":\"pie\"}],\"scatter\":[{\"marker\":{\"colorbar\":{\"outlinewidth\":0,\"ticks\":\"\"}},\"type\":\"scatter\"}],\"scatter3d\":[{\"line\":{\"colorbar\":{\"outlinewidth\":0,\"ticks\":\"\"}},\"marker\":{\"colorbar\":{\"outlinewidth\":0,\"ticks\":\"\"}},\"type\":\"scatter3d\"}],\"scattercarpet\":[{\"marker\":{\"colorbar\":{\"outlinewidth\":0,\"ticks\":\"\"}},\"type\":\"scattercarpet\"}],\"scattergeo\":[{\"marker\":{\"colorbar\":{\"outlinewidth\":0,\"ticks\":\"\"}},\"type\":\"scattergeo\"}],\"scattergl\":[{\"marker\":{\"colorbar\":{\"outlinewidth\":0,\"ticks\":\"\"}},\"type\":\"scattergl\"}],\"scattermapbox\":[{\"marker\":{\"colorbar\":{\"outlinewidth\":0,\"ticks\":\"\"}},\"type\":\"scattermapbox\"}],\"scatterpolar\":[{\"marker\":{\"colorbar\":{\"outlinewidth\":0,\"ticks\":\"\"}},\"type\":\"scatterpolar\"}],\"scatterpolargl\":[{\"marker\":{\"colorbar\":{\"outlinewidth\":0,\"ticks\":\"\"}},\"type\":\"scatterpolargl\"}],\"scatterternary\":[{\"marker\":{\"colorbar\":{\"outlinewidth\":0,\"ticks\":\"\"}},\"type\":\"scatterternary\"}],\"surface\":[{\"colorbar\":{\"outlinewidth\":0,\"ticks\":\"\"},\"colorscale\":[[0.0,\"#0d0887\"],[0.1111111111111111,\"#46039f\"],[0.2222222222222222,\"#7201a8\"],[0.3333333333333333,\"#9c179e\"],[0.4444444444444444,\"#bd3786\"],[0.5555555555555556,\"#d8576b\"],[0.6666666666666666,\"#ed7953\"],[0.7777777777777778,\"#fb9f3a\"],[0.8888888888888888,\"#fdca26\"],[1.0,\"#f0f921\"]],\"type\":\"surface\"}],\"table\":[{\"cells\":{\"fill\":{\"color\":\"#EBF0F8\"},\"line\":{\"color\":\"white\"}},\"header\":{\"fill\":{\"color\":\"#C8D4E3\"},\"line\":{\"color\":\"white\"}},\"type\":\"table\"}]},\"layout\":{\"annotationdefaults\":{\"arrowcolor\":\"#2a3f5f\",\"arrowhead\":0,\"arrowwidth\":1},\"autotypenumbers\":\"strict\",\"coloraxis\":{\"colorbar\":{\"outlinewidth\":0,\"ticks\":\"\"}},\"colorscale\":{\"diverging\":[[0,\"#8e0152\"],[0.1,\"#c51b7d\"],[0.2,\"#de77ae\"],[0.3,\"#f1b6da\"],[0.4,\"#fde0ef\"],[0.5,\"#f7f7f7\"],[0.6,\"#e6f5d0\"],[0.7,\"#b8e186\"],[0.8,\"#7fbc41\"],[0.9,\"#4d9221\"],[1,\"#276419\"]],\"sequential\":[[0.0,\"#0d0887\"],[0.1111111111111111,\"#46039f\"],[0.2222222222222222,\"#7201a8\"],[0.3333333333333333,\"#9c179e\"],[0.4444444444444444,\"#bd3786\"],[0.5555555555555556,\"#d8576b\"],[0.6666666666666666,\"#ed7953\"],[0.7777777777777778,\"#fb9f3a\"],[0.8888888888888888,\"#fdca26\"],[1.0,\"#f0f921\"]],\"sequentialminus\":[[0.0,\"#0d0887\"],[0.1111111111111111,\"#46039f\"],[0.2222222222222222,\"#7201a8\"],[0.3333333333333333,\"#9c179e\"],[0.4444444444444444,\"#bd3786\"],[0.5555555555555556,\"#d8576b\"],[0.6666666666666666,\"#ed7953\"],[0.7777777777777778,\"#fb9f3a\"],[0.8888888888888888,\"#fdca26\"],[1.0,\"#f0f921\"]]},\"colorway\":[\"#636efa\",\"#EF553B\",\"#00cc96\",\"#ab63fa\",\"#FFA15A\",\"#19d3f3\",\"#FF6692\",\"#B6E880\",\"#FF97FF\",\"#FECB52\"],\"font\":{\"color\":\"#2a3f5f\"},\"geo\":{\"bgcolor\":\"white\",\"lakecolor\":\"white\",\"landcolor\":\"#E5ECF6\",\"showlakes\":true,\"showland\":true,\"subunitcolor\":\"white\"},\"hoverlabel\":{\"align\":\"left\"},\"hovermode\":\"closest\",\"mapbox\":{\"style\":\"light\"},\"paper_bgcolor\":\"white\",\"plot_bgcolor\":\"#E5ECF6\",\"polar\":{\"angularaxis\":{\"gridcolor\":\"white\",\"linecolor\":\"white\",\"ticks\":\"\"},\"bgcolor\":\"#E5ECF6\",\"radialaxis\":{\"gridcolor\":\"white\",\"linecolor\":\"white\",\"ticks\":\"\"}},\"scene\":{\"xaxis\":{\"backgroundcolor\":\"#E5ECF6\",\"gridcolor\":\"white\",\"gridwidth\":2,\"linecolor\":\"white\",\"showbackground\":true,\"ticks\":\"\",\"zerolinecolor\":\"white\"},\"yaxis\":{\"backgroundcolor\":\"#E5ECF6\",\"gridcolor\":\"white\",\"gridwidth\":2,\"linecolor\":\"white\",\"showbackground\":true,\"ticks\":\"\",\"zerolinecolor\":\"white\"},\"zaxis\":{\"backgroundcolor\":\"#E5ECF6\",\"gridcolor\":\"white\",\"gridwidth\":2,\"linecolor\":\"white\",\"showbackground\":true,\"ticks\":\"\",\"zerolinecolor\":\"white\"}},\"shapedefaults\":{\"line\":{\"color\":\"#2a3f5f\"}},\"ternary\":{\"aaxis\":{\"gridcolor\":\"white\",\"linecolor\":\"white\",\"ticks\":\"\"},\"baxis\":{\"gridcolor\":\"white\",\"linecolor\":\"white\",\"ticks\":\"\"},\"bgcolor\":\"#E5ECF6\",\"caxis\":{\"gridcolor\":\"white\",\"linecolor\":\"white\",\"ticks\":\"\"}},\"title\":{\"x\":0.05},\"xaxis\":{\"automargin\":true,\"gridcolor\":\"white\",\"linecolor\":\"white\",\"ticks\":\"\",\"title\":{\"standoff\":15},\"zerolinecolor\":\"white\",\"zerolinewidth\":2},\"yaxis\":{\"automargin\":true,\"gridcolor\":\"white\",\"linecolor\":\"white\",\"ticks\":\"\",\"title\":{\"standoff\":15},\"zerolinecolor\":\"white\",\"zerolinewidth\":2}}},\"title\":{\"text\":\"\\u0412\\u043e\\u0440\\u043e\\u043d\\u043a\\u0430 \\u0441\\u043e\\u0431\\u044b\\u0442\\u0438\\u0439 \\u043f\\u043e \\u0433\\u0440\\u0443\\u043f\\u043f\\u0430\\u043c\",\"x\":0.5},\"yaxis\":{\"title\":{\"text\":\"\\u0421\\u043e\\u0431\\u044b\\u0442\\u0438\\u044f\"}}},                        {\"responsive\": true}                    ).then(function(){\n",
              "                            \n",
              "var gd = document.getElementById('683f10e7-12a7-40c4-9e92-de7aad51adec');\n",
              "var x = new MutationObserver(function (mutations, observer) {{\n",
              "        var display = window.getComputedStyle(gd).display;\n",
              "        if (!display || display === 'none') {{\n",
              "            console.log([gd, 'removed!']);\n",
              "            Plotly.purge(gd);\n",
              "            observer.disconnect();\n",
              "        }}\n",
              "}});\n",
              "\n",
              "// Listen for the removal of the full notebook cells\n",
              "var notebookContainer = gd.closest('#notebook-container');\n",
              "if (notebookContainer) {{\n",
              "    x.observe(notebookContainer, {childList: true});\n",
              "}}\n",
              "\n",
              "// Listen for the clearing of the current output cell\n",
              "var outputEl = gd.closest('.output');\n",
              "if (outputEl) {{\n",
              "    x.observe(outputEl, {childList: true});\n",
              "}}\n",
              "\n",
              "                        })                };                });            </script>        </div>"
            ]
          },
          "metadata": {},
          "output_type": "display_data"
        }
      ],
      "source": [
        "# построим график\n",
        "fig = go.Figure()\n",
        "fig.add_trace(go.Funnel(\n",
        "    name = 'Группа А',\n",
        "    x = var['A'],\n",
        "    y = var['event_name'],\n",
        "    textinfo = \"value+percent initial+percent previous\"))\n",
        "fig.update_layout(title='Воронка событий по группам', title_x = 0.5,yaxis_title = 'События')\n",
        "\n",
        "fig.add_trace(go.Funnel(\n",
        "    name = 'Группа В',\n",
        "    orientation = \"h\",\n",
        "    x = var['B'],\n",
        "    y = var['event_name'],\n",
        "  #  textposition = \"inside\",\n",
        "    textinfo = \"value+percent initial+percent previous\"))\n",
        "fig.show();"
      ]
    },
    {
      "cell_type": "markdown",
      "metadata": {
        "id": "M48jLLAn_Wc9"
      },
      "source": [
        "* **На грифике мы можем заметить, что конверсия контрольной группы незначительно лучше конверсии опытной группы. Так же мы видим что целевой уровень прироста конверсии ни в одном из шагов не оправдал ожидания по испытуемой группе - ни в одном из них мы не получили 10% роста, а напротив получили понижение данного показателся. Стоит обратить внимани на то, что процент покупок выше чем процент просмотра корзины что говорит о не обязательной последовательности ее прохождения для пользователей. Целевое действие совершают 28% и 32% пользователй по группам B и А соответственно.**"
      ]
    },
    {
      "cell_type": "markdown",
      "metadata": {
        "id": "biNCjOKL_Wc9"
      },
      "source": [
        "* **По результатам теста в группе неудалось достичь челевого прирроста коныерсии ни на одном из шагов.**"
      ]
    },
    {
      "cell_type": "markdown",
      "metadata": {
        "id": "rlAr8Q8V_Wc9"
      },
      "source": [
        "# Вывод по итогам исследовательского анализа\n",
        "* **Можно заметить, что группы распределились неравномерно, количество пользователей экспериментальной группы кратно меньше контрольной. Также можно обратить внимание на факт использование одного устройства всеми пользователями, что говорит об отслеживании активности пользователей по нему. Основная часть пользуется android устройствами, тогда как mac самый непопулярный. Пользователи совершают разное количество целевых действий, но основная часть ограничивается 2, также мы видим внушительную группу пользователей совершивших всего одно действие, возможно это быстрая покупка. В общей выборке  1082 пользователя из 3481 совершили покупки**\n",
        "* **В испытуемой группе заметно ниже среднее число событий на пользователя, есть смысл проверить статистическую значимость данной данного вывода**\n",
        "* **При выборе инструмента проверки статистических гипотез будем опираться на определение центральной предельной теоремы которое говорит о том, что при оценке среднего значения генеральной совокупности выборочные средние нормально распределены вокруг среднего всей совокупности независимо от того, как распределена сама генеральная совокупность, а также если некоторая доля генеральной совокупности обладает признаком, а другая её часть — нет, об этой доле можно судить по выборке из генеральной совокупности, выборочные доли будут нормально распределены вокруг настоящей. Исходя из того, что наша выборка имеет существенный размер для работы ЦПТ мы выберем z-test для определения различий в долях и ttest для определения различий средних значений, при условии, что дисперсии выборок равны**\n",
        "* **По результатам теста мы видим, что уровень статистической значимости ниже выбранного значения alpha, поэтому у нас есть основания отвергнуть H0 гипотезу, статистически значимые различия в средних количествах событий на клиента в группах теста есть**\n",
        "* **Можно заметить стабильно выше показатель активности на пользователя в группе А, а также всплеск в обеих группах 13 числа, что может быть связанно с повышенным притоком новых пользователей в этот момент. После всплеска показатель группы А остается на повышенном значении, а группы B планомерно снижается до конца наблюдений.**\n",
        "* **На графике можно заметить, что в изменении доли платящих пользователей нет четкой динамики и существенных различий в обоих группах**\n",
        "* **На графике мы можем заметить, что конверсия контрольной группы незначительно лучше конверсии опытной группы. Так же мы видим что целевой уровень прироста конверсии ни в одном из шагов не оправдал ожидания по испытуемой группе - ни в одном из них мы не получили 10% роста, а напротив получили понижение данного показателя. Стоит обратить внимание на то, что процент покупок выше чем процент просмотра корзины, что говорит о не обязательной последовательности ее прохождения для пользователей. Целевое действие совершают 28% и 32% пользователь по группам B и А соответственно.**"
      ]
    },
    {
      "cell_type": "markdown",
      "metadata": {
        "id": "yRep1Sb7_Wc9"
      },
      "source": [
        "* **На основе проведенных выше исследований, можно сказать о плохой оргинизации теста ввиду неудочного выбора периода, пересечения пользователей со смежным тестом, а также неравномарности сформированных групп поэтому его результаты не будут иметь высокую точность и значимось**"
      ]
    },
    {
      "cell_type": "markdown",
      "metadata": {
        "id": "qbwAm3UN_Wc-"
      },
      "source": [
        "# Оценка результатов А/B тестирования"
      ]
    },
    {
      "cell_type": "markdown",
      "metadata": {
        "id": "vQDNOm_s_Wc-"
      },
      "source": [
        "## Сравнение долей конверсии z-критерием"
      ]
    },
    {
      "cell_type": "code",
      "execution_count": null,
      "metadata": {
        "id": "iyDffsB3_Wc-"
      },
      "outputs": [],
      "source": [
        "# задаем функцию  для проведения z теста\n",
        "def z_prob_test(semple_a, semple_b , alpha = 0.05, bonf = 1):\n",
        "    alpha = alpha/bonf\n",
        "    p1= semple_a.mean()\n",
        "    p2 = semple_b.mean()\n",
        "\n",
        "    p_combined = (sum(semple_a) + sum(semple_b))/(semple_b.count() + semple_a.count())\n",
        "\n",
        "    difference  = p1 - p2\n",
        "\n",
        "    z_value = difference / mth.sqrt(p_combined * (1 - p_combined) * (1/semple_a.count() + 1/semple_b.count()))\n",
        "\n",
        "    distr = st.norm(0, 1)\n",
        "\n",
        "    p_value = (1 - distr.cdf(abs(z_value))) * 2\n",
        "\n",
        "\n",
        "    print('a n:         ', semple_a.count())\n",
        "    print('b n:         ', semple_b.count())\n",
        "    print('p_combined:  ', p_combined)\n",
        "    print('z-value:  ', z_value)\n",
        "    print('p-value:  ', p_value)\n",
        "    print(f\"Абсолютное различие вероятностей оттока между b и a равно : {round(((semple_b.values.mean() - semple_a.values.mean())), 3)}\")\n",
        "\n",
        "    if p_value < alpha:\n",
        "\n",
        "      print('Отвергаем нулевую гипотезу: между долями есть значимая разница')\n",
        "    else:\n",
        "      print(\n",
        "        'Не получилось отвергнуть нулевую гипотезу, нет оснований считать доли разными'\n",
        "      )"
      ]
    },
    {
      "cell_type": "markdown",
      "metadata": {
        "id": "8du8zu1u_Wc-"
      },
      "source": [
        "* **Проведем 3 папатных теста о различии долей конверсии между целевой и контрольной группами для каждого шага воронки. Для учета множественного сравнения будем использовать паправку Боннферони**"
      ]
    },
    {
      "cell_type": "markdown",
      "metadata": {
        "id": "0L4fvKKr_Wc-"
      },
      "source": [
        "## Гипотеза :\n",
        "* **В группе B значимо выше уровень конверсии по сравнению с группой A**"
      ]
    },
    {
      "cell_type": "markdown",
      "metadata": {
        "id": "k2hJpcEc_Wc_"
      },
      "source": [
        "H0 = пропорции между конверсией в группах А и В не имеют статистических различий\n",
        "****\n",
        "H1 = пропорции между конверсией в группах А и В имеют статистические различия\n",
        "****\n",
        "\n",
        "критический уровень значимости alpha = 0.05"
      ]
    },
    {
      "cell_type": "markdown",
      "metadata": {
        "id": "ZXNvrYz9_Wc_"
      },
      "source": [
        "### Конверсия в просмотр карточки"
      ]
    },
    {
      "cell_type": "code",
      "execution_count": null,
      "metadata": {
        "id": "5F_gH_I2_Wc_"
      },
      "outputs": [],
      "source": [
        "# формируем семплы\n",
        "product_page_a = pd.Series((var['A'][0] - var['A'][1])*[0] +(var['A'][1]*[1]))\n",
        "product_page_b = pd.Series((var['B'][0] - var['B'][1])*[0] +(var['B'][1]*[1]))"
      ]
    },
    {
      "cell_type": "code",
      "execution_count": null,
      "metadata": {
        "id": "EUioc4U7_Wc_",
        "outputId": "a7e28752-d91b-429a-ab6a-483b50424bac"
      },
      "outputs": [
        {
          "name": "stdout",
          "output_type": "stream",
          "text": [
            "a n:          2604\n",
            "b n:          876\n",
            "p_combined:   0.6258620689655172\n",
            "z-value:   4.459999720013724\n",
            "p-value:   8.195976000324734e-06\n",
            "Абсолютное различие вероятностей оттока между b и a равно : -0.084\n",
            "Отвергаем нулевую гипотезу: между долями есть значимая разница\n"
          ]
        }
      ],
      "source": [
        "# проводим тест\n",
        "z_prob_test(product_page_a, product_page_b, bonf = 3)"
      ]
    },
    {
      "cell_type": "markdown",
      "metadata": {
        "id": "AeoRW-HU_WdA"
      },
      "source": [
        "* **По результатам теста мы видим, что уровень статистической значимости выше выбранного значения alpha, поэтому у нас есть достаточного основания отвергнуть H0 гипотезу, статистически значимые различия в уровне конверсии между группами есть**"
      ]
    },
    {
      "cell_type": "markdown",
      "metadata": {
        "id": "Le7j5ovQ_WdA"
      },
      "source": [
        "### Конверсия в просмотр корзины"
      ]
    },
    {
      "cell_type": "code",
      "execution_count": null,
      "metadata": {
        "id": "hYzu7hNa_WdA"
      },
      "outputs": [],
      "source": [
        "# формируем семплы\n",
        "product_cart_a = pd.Series((var['A'][0] - var['A'][2])*[0] +(var['A'][2]*[1]))\n",
        "product_cart_b = pd.Series((var['B'][0] - var['B'][2])*[0] +(var['B'][2]*[1]))"
      ]
    },
    {
      "cell_type": "code",
      "execution_count": null,
      "metadata": {
        "id": "g7YNtIJk_WdA",
        "outputId": "1e84a218-8926-48bf-c92c-0beb28c202c8"
      },
      "outputs": [
        {
          "name": "stdout",
          "output_type": "stream",
          "text": [
            "a n:          2604\n",
            "b n:          876\n",
            "p_combined:   0.29482758620689653\n",
            "z-value:   1.2223001125047235\n",
            "p-value:   0.2215941567364419\n",
            "Абсолютное различие вероятностей оттока между b и a равно : -0.022\n",
            "Не получилось отвергнуть нулевую гипотезу, нет оснований считать доли разными\n"
          ]
        }
      ],
      "source": [
        "# проводим тест\n",
        "z_prob_test(product_cart_a, product_cart_b, bonf = 3)"
      ]
    },
    {
      "cell_type": "markdown",
      "metadata": {
        "id": "0a48f7VI_WdA"
      },
      "source": [
        "* **По результатам теста мы видим, что уровень статистической значимости ниже выбранного значения alpha, поэтому у нас нет достаточного основания отвергнуть H0 гипотезу, статистически значимых различий в уровне конверсии между группами нет**"
      ]
    },
    {
      "cell_type": "markdown",
      "metadata": {
        "id": "mOyZUuPn_WdD"
      },
      "source": [
        "### Конверсия в покупки"
      ]
    },
    {
      "cell_type": "code",
      "execution_count": null,
      "metadata": {
        "id": "LEVnpcIn_WdD"
      },
      "outputs": [],
      "source": [
        "# формируем семплы\n",
        "purchase_a = pd.Series((var['A'][0] - var['A'][3])*[0] +(var['A'][3]*[1]))\n",
        "purchase_b = pd.Series((var['B'][0] - var['B'][3])*[0] +(var['B'][3]*[1]))"
      ]
    },
    {
      "cell_type": "code",
      "execution_count": null,
      "metadata": {
        "scrolled": true,
        "id": "HxF0NWS7_WdD",
        "outputId": "e94ab6a2-ec1f-42b9-dafb-13da481f6ade"
      },
      "outputs": [
        {
          "name": "stdout",
          "output_type": "stream",
          "text": [
            "a n:          2604\n",
            "b n:          876\n",
            "p_combined:   0.31091954022988505\n",
            "z-value:   1.971666704350226\n",
            "p-value:   0.04864766695042433\n",
            "Абсолютное различие вероятностей оттока между b и a равно : -0.036\n",
            "Не получилось отвергнуть нулевую гипотезу, нет оснований считать доли разными\n"
          ]
        }
      ],
      "source": [
        "# проводим тест\n",
        "z_prob_test(purchase_a, purchase_b, bonf = 3)"
      ]
    },
    {
      "cell_type": "markdown",
      "metadata": {
        "id": "M2K-i870_WdD"
      },
      "source": [
        "* **По результатам теста мы видим, что уровень статистической значимости выше выбранного значения alpha, поэтому у нас есть достаточного основания отвергнуть H0 гипотезу, статистически значимые различия в уровне конверсии между группами есть, однако величина различий крайне мала и ей можно пренибреч**"
      ]
    },
    {
      "cell_type": "markdown",
      "metadata": {
        "id": "N9HT2Vll_WdD"
      },
      "source": [
        "* **В результате проведения А/В теста значимая разница между группами прослеживается только на этапе просмотра карточек товара правда в отрицательную сторану, что косается перехода в корзину и покупки товара - здесь существенной разницы нет, а в случае с покупками она очень мала хоть и имеет статистическую значимось. Ожидаемого эффекта достигнуто не было.**"
      ]
    },
    {
      "cell_type": "markdown",
      "metadata": {
        "id": "6oJR9WOE_WdD"
      },
      "source": [
        "# Общий вывод"
      ]
    },
    {
      "cell_type": "markdown",
      "metadata": {
        "id": "aB9XfykI_WdD"
      },
      "source": [
        "# Вывод по итогам предобработки\n",
        "* **Таблица marketing_events**\n",
        "* **Таблица содержит данные о 14 уникальных маркетинговых событиях проводимых в разное времяв разных регионах. Значения дат начала и конца акции переведем в нужный формат для корректной работы с ними**\n",
        "* **Таблица new_users**\n",
        "* **Можно заметить отсутствие пропусков и дубликатов, а таже неверный формат дат. Всего представлено 61733 уникальных пользователя**\n",
        "* **Можно заметить что дынные представлены за декабрь 2020 года, что есть не самое подходяшие время для проведение A/B тестов ввиду большого количества событий в этого время и как следствие, изменения модели поведения покупателей. Также мы видем, что пользователи относятся к 4 регионам, но подавляющее их число в нашем наборе представляют европейский регион - 46 270 против 15 463 в остальных. Основная часть пользователий используют андройд платформу.**\n",
        "* **Таблица events**\n",
        "* **Данные представлены 440317 событиями, для каждого пользователя может быть их разное количество. Можно заметить неверный формат даты а также большое количество пропусков в поле с детялями события, последнее можно обьяснить наличием событий без деталей**\n",
        "* **Можно обратить внимание, что в данных 4 уникальных события это login, product_page, product_cart, product_cart причем регистраций кратно больше чем просмотров карзины и покупок. Так же мы видим что количество значений без пропусков равно количеству покупок, из чего следует что поле с деталями может содержать сумму потраченную на покупку товара, которая в свою очередь представлена 4 уникальными значениями.**\n",
        "* **Таблица participants**\n",
        "* **Пропусков нет, форматы верные. Количество дублей пользователей 1602, что может говорить либо о некорректном наборе участников либо о присутствии в данных лишней информации. Необходима проверка**\n",
        "* **Мы видим, что основная часть набора участвовала в нецелевом тесте исследования, полные дубли отсутствуют. Общее количество участников тестирований в группе в незначительно меньше группы а. Необходима проверка пересечения групп пользователей между тестами.**\n",
        "\n",
        "\n",
        "# Вывод по итогам оценки корректности проведения теста\n",
        "* **В целевую группу попали пользователи не только из исследуемого региона, необходимо очистить данные. Распределение по группам также неравномерно**\n",
        "* **Пользователи набраны согласно т.з с 7 по 21 число включительно. Период проведения A/B теста выбран не совсем корректно, ввиду предновогоднего изменения модели поведения покупателей и большого количества маркетинговых акций проводимых в это время**\n",
        "* **Доля пользователей набрана корректно согласно техническому заданию**\n",
        "* **Можно заметить, что пользователи набиралось в группы циклично, на выходных проходил рост набора. Также мы видим, что в группу, а попадало стабильно больше пользователей относительно контрольной группы, ввиду чего пропорциональность групп не была соблюдена**\n",
        "* **Можно заметить, что маркетинговые cобытия не пересекают период набора пользователей, однако одно событие (Christmas&New Year Promo) накладывается на период наблюдения и сбора статистики активности, что может исказить результаты. Необходимо обратить внимание на изменения активности с 25 числа**\n",
        "* **Пересечение пользователей внутри теста между контрольной и тестовой группой нет**\n",
        "* **Критичным будем считать пересечение пользователей между группами внутри теста, а также пересечение испытуемой группы смежного теста с нашим. Пересечение контрольной группы смежного теста с группами нашего целевого будем считать допустимым так как они не подвергались дополнительному воздействию экспериментов.**\n",
        "* **Доля пользователей подвергшихся воздействию смежного теста в обеих группах примерно равна и составляет порядка 5%, ввиду чего можно считать воздействие на группы этого факта также равномерным. Поэтому, исходя из ограниченного размера груп, возможно оставить таких пользователей, для придания большей мощности нашей аналитики**\n",
        "* **Пользователи, попавшие в тест, совершили 26290 события из которых 3196 покупки. Можно заметить наличие пропусков после объединение по полям из контрольной таблицы, что говорит о том, что некоторые пользователи из группы теста не совершили не одного события.**\n",
        "* **Период активности группы тета совпадает с периодом регистрации пользователей и периодом наблюдения за ними. Активность пользователей растет вплоть до остановки набора пользователей в группы, причем можно заметит скачек активности 13 числа. Также мы можем наблюдать, что после остановки набора теста активность пользователей резко снижается вплоть до 30 числа, а последние 4 дня наблюдений и вовсе отсутствует, что может говорить о несвоевременной остановке теста, либо о новогодних каникулах. Возможность для совершения событий последних зарегистрированных пользователей составляет 2 недели(если тест не был досрочно остановлен, при обратном сценарии необходимо корректировать после анализа распределений сроков целевых событий). Ввиду большого количества пользователей без наличия целевых действий есть смысл провести динамику набора последних. Существенных всплесков активности в период проведения пересекающейся акции нет**\n",
        "* **Можно заметить, что пользователи не совершившие не одного действия набирались в весь период, причем набор проходил схожим образом в обеих группах. В контрольной группе после 13 числа наблюдается отсутствие притока клиентов без активности, что довольно странно, в группы у неактивных пользователей проходит относительно равномерно на протяжении всего теста.**\n",
        "* **Доля пользователей без событий в экспериментальной группе равна 68%**\n",
        "* **Доля пользователей без событий в контрольной группе равна 28%**\n",
        "* **Основная честь всех событий совершается в период до 5 дней, однако по каждому виду событий видны выбросы за периодом установленного т.з. Лайф тайма события. Также мы можем заметить снижение средних сроков до покупки, просмотра карточки и просмотра корзины в экспериментальной группе.**\n",
        "* **Можно заметить, что доля клиентов с первой покупкой на 5% выше в группе А и составляет 32%, тогда как в группе B больше на 5%  доля первых логинов. В общем мы можем наблюдать довольно высокую долю клиентов с первым событием - покупкой порядка 30% по общей выборке.**\n",
        "\n",
        "\n",
        "# Вывод по итогам исследовательского анализа\n",
        "* **Можно заметить, что группы распределились неравномерно, количество пользователей экспериментальной группы кратно меньше контрольной. Также можно обратить внимание на факт использование одного устройства всеми пользователями, что говорит об отслеживании активности пользователей по нему. Основная часть пользуется android устройствами, тогда как mac самый непопулярный. Пользователи совершают разное количество целевых действий, но основная часть ограничивается 2, также мы видим внушительную группу пользователей совершивших всего одно действие, возможно это быстрая покупка. В общей выборке  1082 пользователя из 3481 совершили покупки**\n",
        "* **В испытуемой группе заметно ниже среднее число событий на пользователя, есть смысл проверить статистическую значимость данной данного вывода**\n",
        "* **При выборе инструмента проверки статистических гипотез будем опираться на определение центральной предельной теоремы которое говорит о том, что при оценке среднего значения генеральной совокупности выборочные средние нормально распределены вокруг среднего всей совокупности независимо от того, как распределена сама генеральная совокупность, а также если некоторая доля генеральной совокупности обладает признаком, а другая её часть — нет, об этой доле можно судить по выборке из генеральной совокупности, выборочные доли будут нормально распределены вокруг настоящей. Исходя из того, что наша выборка имеет существенный размер для работы ЦПТ мы выберем z-test для определения различий в долях и ttest для определения различий средних значений, при условии, что дисперсии выборок равны**\n",
        "* **По результатам теста мы видим, что уровень статистической значимости ниже выбранного значения alpha, поэтому у нас есть основания отвергнуть H0 гипотезу, статистически значимые различия в средних количествах событий на клиента в группах теста есть**\n",
        "* **Можно заметить стабильно выше показатель активности на пользователя в группе А, а также всплеск в обеих группах 13 числа, что может быть связанно с повышенным притоком новых пользователей в этот момент. После всплеска показатель группы А остается на повышенном значении, а группы B планомерно снижается до конца наблюдений.**\n",
        "* **На графике можно заметить, что в изменении доли платящих пользователей нет четкой динамики и существенных различий в обоих группах**\n",
        "* **На графике мы можем заметить, что конверсия контрольной группы незначительно лучше конверсии опытной группы. Так же мы видим что целевой уровень прироста конверсии ни в одном из шагов не оправдал ожидания по испытуемой группе - ни в одном из них мы не получили 10% роста, а напротив получили понижение данного показателя. Стоит обратить внимание на то, что процент покупок выше чем процент просмотра корзины, что говорит о не обязательной последовательности ее прохождения для пользователей. Целевое действие совершают 28% и 32% пользователь по группам B и А соответственно.**\n",
        "* **По результатам теста мы видим, что уровень статистической значимости выше выбранного значения alpha, поэтому у нас есть достаточного основания отвергнуть H0 гипотезу, статистически значимые различия в уровне конверсии между группами есть, однако величина различий крайне мала и ей можно пренибреч**"
      ]
    },
    {
      "cell_type": "markdown",
      "metadata": {
        "id": "INhZ6IS__WdE"
      },
      "source": [
        "# Реккомендации:\n",
        "* **Итоги теста можно принять с допущением о его низкой точности и малой значимости ввиду ошибок при его оргинизации, имеет смысл повторного теста с корректировками**\n",
        "* **По итогам теста улучшений в уровне конверсии не выявлено на всех ступенях воронки, а в случае с просмотрами карточек напротив - значимое ухудшение**"
      ]
    }
  ],
  "metadata": {
    "ExecuteTimeLog": [
      {
        "duration": 1704,
        "start_time": "2023-09-13T08:26:47.081Z"
      },
      {
        "duration": 352,
        "start_time": "2023-09-13T08:38:44.840Z"
      },
      {
        "duration": 5,
        "start_time": "2023-09-13T08:39:00.946Z"
      },
      {
        "duration": 10,
        "start_time": "2023-09-13T08:39:34.772Z"
      },
      {
        "duration": 54,
        "start_time": "2023-09-13T08:39:53.219Z"
      },
      {
        "duration": 66,
        "start_time": "2023-09-13T08:40:32.320Z"
      },
      {
        "duration": 27,
        "start_time": "2023-09-13T08:43:58.751Z"
      },
      {
        "duration": 335,
        "start_time": "2023-09-13T08:43:59.159Z"
      },
      {
        "duration": 745,
        "start_time": "2023-09-13T08:43:59.578Z"
      },
      {
        "duration": 84,
        "start_time": "2023-09-13T08:44:00.325Z"
      },
      {
        "duration": 15,
        "start_time": "2023-09-13T08:44:21.839Z"
      },
      {
        "duration": 13,
        "start_time": "2023-09-13T08:44:36.141Z"
      },
      {
        "duration": 14,
        "start_time": "2023-09-13T08:45:18.355Z"
      },
      {
        "duration": 21,
        "start_time": "2023-09-13T08:46:50.210Z"
      },
      {
        "duration": 10,
        "start_time": "2023-09-13T08:47:21.895Z"
      },
      {
        "duration": 80,
        "start_time": "2023-09-13T08:47:35.916Z"
      },
      {
        "duration": 13,
        "start_time": "2023-09-13T09:01:43.587Z"
      },
      {
        "duration": 8,
        "start_time": "2023-09-13T09:01:48.511Z"
      },
      {
        "duration": 690,
        "start_time": "2023-09-13T12:11:47.624Z"
      },
      {
        "duration": 5,
        "start_time": "2023-09-13T12:13:11.798Z"
      },
      {
        "duration": 5,
        "start_time": "2023-09-13T12:13:15.226Z"
      },
      {
        "duration": 32,
        "start_time": "2023-09-13T12:14:25.214Z"
      },
      {
        "duration": 10,
        "start_time": "2023-09-13T12:15:13.265Z"
      },
      {
        "duration": 22,
        "start_time": "2023-09-13T12:15:43.983Z"
      },
      {
        "duration": 22,
        "start_time": "2023-09-13T12:21:45.657Z"
      },
      {
        "duration": 28,
        "start_time": "2023-09-13T12:23:23.470Z"
      },
      {
        "duration": 63,
        "start_time": "2023-09-13T12:24:28.030Z"
      },
      {
        "duration": 173,
        "start_time": "2023-09-13T12:24:49.111Z"
      },
      {
        "duration": 11,
        "start_time": "2023-09-13T12:46:23.406Z"
      },
      {
        "duration": 9,
        "start_time": "2023-09-13T12:46:37.420Z"
      },
      {
        "duration": 16,
        "start_time": "2023-09-13T12:47:33.785Z"
      },
      {
        "duration": 14,
        "start_time": "2023-09-13T12:48:12.726Z"
      },
      {
        "duration": 132,
        "start_time": "2023-09-13T12:48:16.553Z"
      },
      {
        "duration": 22,
        "start_time": "2023-09-13T12:51:05.382Z"
      },
      {
        "duration": 20,
        "start_time": "2023-09-13T12:51:25.122Z"
      },
      {
        "duration": 34,
        "start_time": "2023-09-13T12:51:41.447Z"
      },
      {
        "duration": 155,
        "start_time": "2023-09-13T12:51:46.462Z"
      },
      {
        "duration": 210,
        "start_time": "2023-09-13T12:52:01.403Z"
      },
      {
        "duration": 19,
        "start_time": "2023-09-13T12:52:09.923Z"
      },
      {
        "duration": 137,
        "start_time": "2023-09-13T12:52:10.249Z"
      },
      {
        "duration": 137,
        "start_time": "2023-09-13T13:01:54.015Z"
      },
      {
        "duration": 868,
        "start_time": "2023-09-13T13:01:57.941Z"
      },
      {
        "duration": 119,
        "start_time": "2023-09-13T13:19:58.047Z"
      },
      {
        "duration": 558,
        "start_time": "2023-09-13T13:19:59.082Z"
      },
      {
        "duration": 40,
        "start_time": "2023-09-13T13:27:31.033Z"
      },
      {
        "duration": 55,
        "start_time": "2023-09-13T13:27:39.404Z"
      },
      {
        "duration": 90,
        "start_time": "2023-09-13T13:27:46.521Z"
      },
      {
        "duration": 62,
        "start_time": "2023-09-13T13:32:15.356Z"
      },
      {
        "duration": 137,
        "start_time": "2023-09-13T13:32:27.162Z"
      },
      {
        "duration": 48,
        "start_time": "2023-09-13T13:35:24.429Z"
      },
      {
        "duration": 32,
        "start_time": "2023-09-13T13:35:26.572Z"
      },
      {
        "duration": 150,
        "start_time": "2023-09-13T13:38:03.130Z"
      },
      {
        "duration": 106,
        "start_time": "2023-09-13T13:54:36.887Z"
      },
      {
        "duration": 137,
        "start_time": "2023-09-13T13:56:04.133Z"
      },
      {
        "duration": 21,
        "start_time": "2023-09-13T13:56:08.589Z"
      },
      {
        "duration": 45,
        "start_time": "2023-09-13T13:56:08.616Z"
      },
      {
        "duration": 10,
        "start_time": "2023-09-13T14:05:02.228Z"
      },
      {
        "duration": 141,
        "start_time": "2023-09-13T14:36:29.202Z"
      },
      {
        "duration": 15,
        "start_time": "2023-09-13T14:36:34.599Z"
      },
      {
        "duration": 288,
        "start_time": "2023-09-13T14:38:09.250Z"
      },
      {
        "duration": 142,
        "start_time": "2023-09-13T14:39:47.388Z"
      },
      {
        "duration": 18,
        "start_time": "2023-09-13T14:39:51.760Z"
      },
      {
        "duration": 6,
        "start_time": "2023-09-13T14:40:09.041Z"
      },
      {
        "duration": 8,
        "start_time": "2023-09-13T14:40:20.914Z"
      },
      {
        "duration": 6,
        "start_time": "2023-09-13T14:40:48.147Z"
      },
      {
        "duration": 5,
        "start_time": "2023-09-13T14:41:15.294Z"
      },
      {
        "duration": 294,
        "start_time": "2023-09-13T14:41:51.459Z"
      },
      {
        "duration": 14,
        "start_time": "2023-09-13T14:42:33.826Z"
      },
      {
        "duration": 14,
        "start_time": "2023-09-13T14:42:38.769Z"
      },
      {
        "duration": 168,
        "start_time": "2023-09-13T14:43:32.112Z"
      },
      {
        "duration": 19,
        "start_time": "2023-09-13T14:43:35.587Z"
      },
      {
        "duration": 5,
        "start_time": "2023-09-13T14:44:46.194Z"
      },
      {
        "duration": 32,
        "start_time": "2023-09-13T14:44:46.201Z"
      },
      {
        "duration": 658,
        "start_time": "2023-09-13T14:44:46.235Z"
      },
      {
        "duration": 21,
        "start_time": "2023-09-13T14:44:46.894Z"
      },
      {
        "duration": 49,
        "start_time": "2023-09-13T14:44:46.917Z"
      },
      {
        "duration": 14,
        "start_time": "2023-09-13T14:44:46.968Z"
      },
      {
        "duration": 164,
        "start_time": "2023-09-13T14:44:46.983Z"
      },
      {
        "duration": 138,
        "start_time": "2023-09-13T14:44:47.149Z"
      },
      {
        "duration": 109,
        "start_time": "2023-09-13T14:44:47.288Z"
      },
      {
        "duration": 554,
        "start_time": "2023-09-13T14:44:47.398Z"
      },
      {
        "duration": 148,
        "start_time": "2023-09-13T14:44:47.954Z"
      },
      {
        "duration": 46,
        "start_time": "2023-09-13T14:44:48.104Z"
      },
      {
        "duration": 52,
        "start_time": "2023-09-13T14:44:48.153Z"
      },
      {
        "duration": 12,
        "start_time": "2023-09-13T14:44:48.207Z"
      },
      {
        "duration": 148,
        "start_time": "2023-09-13T14:44:56.169Z"
      },
      {
        "duration": 16,
        "start_time": "2023-09-13T14:45:02.058Z"
      },
      {
        "duration": 485,
        "start_time": "2023-09-13T14:46:21.241Z"
      },
      {
        "duration": 23,
        "start_time": "2023-09-13T14:46:23.740Z"
      },
      {
        "duration": 154,
        "start_time": "2023-09-13T14:46:54.182Z"
      },
      {
        "duration": 14,
        "start_time": "2023-09-13T14:46:55.861Z"
      },
      {
        "duration": 149,
        "start_time": "2023-09-13T14:47:37.618Z"
      },
      {
        "duration": 7,
        "start_time": "2023-09-13T14:47:39.459Z"
      },
      {
        "duration": 203,
        "start_time": "2023-09-13T14:48:35.203Z"
      },
      {
        "duration": 14,
        "start_time": "2023-09-13T14:48:39.163Z"
      },
      {
        "duration": 25,
        "start_time": "2023-09-13T14:48:55.975Z"
      },
      {
        "duration": 434,
        "start_time": "2023-09-13T14:53:08.204Z"
      },
      {
        "duration": 432,
        "start_time": "2023-09-13T14:53:54.901Z"
      },
      {
        "duration": 113,
        "start_time": "2023-09-13T14:53:55.335Z"
      },
      {
        "duration": 156,
        "start_time": "2023-09-13T14:54:32.199Z"
      },
      {
        "duration": 26,
        "start_time": "2023-09-13T14:54:33.998Z"
      },
      {
        "duration": 23,
        "start_time": "2023-09-13T14:55:39.350Z"
      },
      {
        "duration": 22,
        "start_time": "2023-09-13T14:56:44.859Z"
      },
      {
        "duration": 22,
        "start_time": "2023-09-13T14:58:03.889Z"
      },
      {
        "duration": 78,
        "start_time": "2023-09-13T14:58:48.235Z"
      },
      {
        "duration": 18,
        "start_time": "2023-09-13T14:58:57.556Z"
      },
      {
        "duration": 35,
        "start_time": "2023-09-13T14:59:04.808Z"
      },
      {
        "duration": 32,
        "start_time": "2023-09-13T14:59:42.090Z"
      },
      {
        "duration": 30,
        "start_time": "2023-09-13T15:00:04.131Z"
      },
      {
        "duration": 21,
        "start_time": "2023-09-13T15:07:28.873Z"
      },
      {
        "duration": 18,
        "start_time": "2023-09-13T15:21:12.427Z"
      },
      {
        "duration": 18,
        "start_time": "2023-09-13T15:21:33.749Z"
      },
      {
        "duration": 18,
        "start_time": "2023-09-13T15:22:21.502Z"
      },
      {
        "duration": 19,
        "start_time": "2023-09-13T15:22:32.294Z"
      },
      {
        "duration": 20,
        "start_time": "2023-09-13T15:22:40.572Z"
      },
      {
        "duration": 18,
        "start_time": "2023-09-13T15:28:36.717Z"
      },
      {
        "duration": 25,
        "start_time": "2023-09-13T15:31:57.307Z"
      },
      {
        "duration": 23,
        "start_time": "2023-09-13T15:34:30.412Z"
      },
      {
        "duration": 24,
        "start_time": "2023-09-13T15:35:08.296Z"
      },
      {
        "duration": 18,
        "start_time": "2023-09-13T15:35:17.864Z"
      },
      {
        "duration": 23,
        "start_time": "2023-09-13T15:36:02.041Z"
      },
      {
        "duration": 29,
        "start_time": "2023-09-13T15:36:30.282Z"
      },
      {
        "duration": 103,
        "start_time": "2023-09-13T15:39:40.959Z"
      },
      {
        "duration": 11,
        "start_time": "2023-09-13T15:40:16.842Z"
      },
      {
        "duration": 26,
        "start_time": "2023-09-13T15:41:47.107Z"
      },
      {
        "duration": 41,
        "start_time": "2023-09-13T15:42:10.663Z"
      },
      {
        "duration": 42,
        "start_time": "2023-09-13T15:43:37.341Z"
      },
      {
        "duration": 25,
        "start_time": "2023-09-13T15:57:58.383Z"
      },
      {
        "duration": 22,
        "start_time": "2023-09-13T15:59:03.562Z"
      },
      {
        "duration": 21,
        "start_time": "2023-09-13T15:59:12.714Z"
      },
      {
        "duration": 27,
        "start_time": "2023-09-13T15:59:38.824Z"
      },
      {
        "duration": 26,
        "start_time": "2023-09-13T16:00:44.913Z"
      },
      {
        "duration": 278,
        "start_time": "2023-09-13T16:00:58.321Z"
      },
      {
        "duration": 47,
        "start_time": "2023-09-13T16:02:30.389Z"
      },
      {
        "duration": 236,
        "start_time": "2023-09-13T16:06:58.195Z"
      },
      {
        "duration": 230,
        "start_time": "2023-09-13T16:07:11.040Z"
      },
      {
        "duration": 45,
        "start_time": "2023-09-13T16:22:10.108Z"
      },
      {
        "duration": 274,
        "start_time": "2023-09-13T16:22:10.155Z"
      },
      {
        "duration": 5,
        "start_time": "2023-09-13T16:26:19.525Z"
      },
      {
        "duration": 4,
        "start_time": "2023-09-13T16:26:32.566Z"
      },
      {
        "duration": 10,
        "start_time": "2023-09-13T16:27:00.656Z"
      },
      {
        "duration": 2,
        "start_time": "2023-09-13T16:27:09.748Z"
      },
      {
        "duration": 335,
        "start_time": "2023-09-13T16:27:35.325Z"
      },
      {
        "duration": 42,
        "start_time": "2023-09-13T16:27:56.466Z"
      },
      {
        "duration": 9,
        "start_time": "2023-09-13T16:28:12.457Z"
      },
      {
        "duration": 12,
        "start_time": "2023-09-13T16:28:29.438Z"
      },
      {
        "duration": 5,
        "start_time": "2023-09-13T16:28:51.000Z"
      },
      {
        "duration": 4,
        "start_time": "2023-09-13T16:30:07.224Z"
      },
      {
        "duration": 4,
        "start_time": "2023-09-13T16:30:13.266Z"
      },
      {
        "duration": 206,
        "start_time": "2023-09-13T16:36:56.386Z"
      },
      {
        "duration": 26,
        "start_time": "2023-09-13T16:37:12.777Z"
      },
      {
        "duration": 44,
        "start_time": "2023-09-13T16:37:13.112Z"
      },
      {
        "duration": 266,
        "start_time": "2023-09-13T16:37:14.032Z"
      },
      {
        "duration": 9,
        "start_time": "2023-09-13T16:42:55.909Z"
      },
      {
        "duration": 10,
        "start_time": "2023-09-13T16:43:06.999Z"
      },
      {
        "duration": 10,
        "start_time": "2023-09-13T16:43:22.878Z"
      },
      {
        "duration": 10,
        "start_time": "2023-09-13T16:44:05.970Z"
      },
      {
        "duration": 5,
        "start_time": "2023-09-13T16:45:22.246Z"
      },
      {
        "duration": 236,
        "start_time": "2023-09-13T16:46:27.424Z"
      },
      {
        "duration": 12,
        "start_time": "2023-09-13T16:46:48.202Z"
      },
      {
        "duration": 4,
        "start_time": "2023-09-13T16:49:21.270Z"
      },
      {
        "duration": 9,
        "start_time": "2023-09-13T16:49:35.670Z"
      },
      {
        "duration": 5,
        "start_time": "2023-09-13T16:49:47.528Z"
      },
      {
        "duration": 8,
        "start_time": "2023-09-13T16:51:07.525Z"
      },
      {
        "duration": 13,
        "start_time": "2023-09-13T16:51:25.120Z"
      },
      {
        "duration": 6,
        "start_time": "2023-09-13T16:51:40.049Z"
      },
      {
        "duration": 9,
        "start_time": "2023-09-13T16:51:45.868Z"
      },
      {
        "duration": 12,
        "start_time": "2023-09-13T16:54:11.678Z"
      },
      {
        "duration": 9,
        "start_time": "2023-09-13T16:55:02.518Z"
      },
      {
        "duration": 16,
        "start_time": "2023-09-13T16:55:14.700Z"
      },
      {
        "duration": 13,
        "start_time": "2023-09-13T16:55:23.047Z"
      },
      {
        "duration": 6,
        "start_time": "2023-09-13T16:56:38.601Z"
      },
      {
        "duration": 15,
        "start_time": "2023-09-13T16:56:44.201Z"
      },
      {
        "duration": 11,
        "start_time": "2023-09-13T16:57:01.927Z"
      },
      {
        "duration": 12,
        "start_time": "2023-09-13T16:57:30.016Z"
      },
      {
        "duration": 306,
        "start_time": "2023-09-13T16:57:46.622Z"
      },
      {
        "duration": 248,
        "start_time": "2023-09-13T16:57:55.374Z"
      },
      {
        "duration": 356,
        "start_time": "2023-09-13T16:58:06.593Z"
      },
      {
        "duration": 11,
        "start_time": "2023-09-13T16:58:38.568Z"
      },
      {
        "duration": 3,
        "start_time": "2023-09-13T16:59:23.782Z"
      },
      {
        "duration": 122,
        "start_time": "2023-09-13T16:59:30.074Z"
      },
      {
        "duration": 11,
        "start_time": "2023-09-13T16:59:44.587Z"
      },
      {
        "duration": 8,
        "start_time": "2023-09-13T17:00:01.781Z"
      },
      {
        "duration": 235,
        "start_time": "2023-09-13T17:00:11.801Z"
      },
      {
        "duration": 9,
        "start_time": "2023-09-13T17:00:22.313Z"
      },
      {
        "duration": 162,
        "start_time": "2023-09-13T17:00:30.378Z"
      },
      {
        "duration": 10,
        "start_time": "2023-09-13T17:00:33.234Z"
      },
      {
        "duration": 5,
        "start_time": "2023-09-13T17:01:34.222Z"
      },
      {
        "duration": 141,
        "start_time": "2023-09-13T17:01:43.468Z"
      },
      {
        "duration": 5,
        "start_time": "2023-09-13T17:01:51.681Z"
      },
      {
        "duration": 145,
        "start_time": "2023-09-13T17:02:49.898Z"
      },
      {
        "duration": 147,
        "start_time": "2023-09-13T17:03:10.548Z"
      },
      {
        "duration": 145,
        "start_time": "2023-09-13T17:03:18.848Z"
      },
      {
        "duration": 140,
        "start_time": "2023-09-13T17:03:25.415Z"
      },
      {
        "duration": 10,
        "start_time": "2023-09-13T17:03:41.995Z"
      },
      {
        "duration": 12,
        "start_time": "2023-09-13T17:06:35.265Z"
      },
      {
        "duration": 82,
        "start_time": "2023-09-13T17:07:37.468Z"
      },
      {
        "duration": 436,
        "start_time": "2023-09-13T17:07:44.170Z"
      },
      {
        "duration": 301,
        "start_time": "2023-09-13T17:09:19.946Z"
      },
      {
        "duration": 128,
        "start_time": "2023-09-13T17:10:53.195Z"
      },
      {
        "duration": 126,
        "start_time": "2023-09-13T17:11:06.158Z"
      },
      {
        "duration": 143,
        "start_time": "2023-09-13T17:11:24.229Z"
      },
      {
        "duration": 126,
        "start_time": "2023-09-13T17:11:44.513Z"
      },
      {
        "duration": 10,
        "start_time": "2023-09-13T17:11:59.100Z"
      },
      {
        "duration": 10,
        "start_time": "2023-09-13T17:14:21.580Z"
      },
      {
        "duration": 303,
        "start_time": "2023-09-13T17:14:26.932Z"
      },
      {
        "duration": 324,
        "start_time": "2023-09-13T17:14:44.372Z"
      },
      {
        "duration": 290,
        "start_time": "2023-09-13T17:14:53.367Z"
      },
      {
        "duration": 390,
        "start_time": "2023-09-13T17:18:58.085Z"
      },
      {
        "duration": 347,
        "start_time": "2023-09-13T17:20:13.729Z"
      },
      {
        "duration": 359,
        "start_time": "2023-09-13T17:20:26.936Z"
      },
      {
        "duration": 386,
        "start_time": "2023-09-13T17:20:35.255Z"
      },
      {
        "duration": 373,
        "start_time": "2023-09-13T17:20:59.905Z"
      },
      {
        "duration": 342,
        "start_time": "2023-09-13T17:21:10.678Z"
      },
      {
        "duration": 373,
        "start_time": "2023-09-13T17:21:56.708Z"
      },
      {
        "duration": 331,
        "start_time": "2023-09-13T17:22:24.364Z"
      },
      {
        "duration": 377,
        "start_time": "2023-09-13T17:22:31.900Z"
      },
      {
        "duration": 1216,
        "start_time": "2023-09-13T17:26:34.497Z"
      },
      {
        "duration": 5,
        "start_time": "2023-09-13T17:26:35.715Z"
      },
      {
        "duration": 679,
        "start_time": "2023-09-13T17:26:35.722Z"
      },
      {
        "duration": 23,
        "start_time": "2023-09-13T17:26:36.403Z"
      },
      {
        "duration": 42,
        "start_time": "2023-09-13T17:26:36.428Z"
      },
      {
        "duration": 14,
        "start_time": "2023-09-13T17:26:36.471Z"
      },
      {
        "duration": 161,
        "start_time": "2023-09-13T17:26:36.486Z"
      },
      {
        "duration": 141,
        "start_time": "2023-09-13T17:26:36.649Z"
      },
      {
        "duration": 126,
        "start_time": "2023-09-13T17:26:36.792Z"
      },
      {
        "duration": 598,
        "start_time": "2023-09-13T17:26:36.920Z"
      },
      {
        "duration": 144,
        "start_time": "2023-09-13T17:26:37.520Z"
      },
      {
        "duration": 22,
        "start_time": "2023-09-13T17:26:37.666Z"
      },
      {
        "duration": 82,
        "start_time": "2023-09-13T17:26:37.690Z"
      },
      {
        "duration": 11,
        "start_time": "2023-09-13T17:26:37.776Z"
      },
      {
        "duration": 183,
        "start_time": "2023-09-13T17:26:37.789Z"
      },
      {
        "duration": 29,
        "start_time": "2023-09-13T17:26:37.974Z"
      },
      {
        "duration": 47,
        "start_time": "2023-09-13T17:26:38.005Z"
      },
      {
        "duration": 17,
        "start_time": "2023-09-13T17:26:38.055Z"
      },
      {
        "duration": 41,
        "start_time": "2023-09-13T17:26:38.074Z"
      },
      {
        "duration": 44,
        "start_time": "2023-09-13T17:26:38.117Z"
      },
      {
        "duration": 42,
        "start_time": "2023-09-13T17:26:38.162Z"
      },
      {
        "duration": 267,
        "start_time": "2023-09-13T17:26:38.206Z"
      },
      {
        "duration": 7,
        "start_time": "2023-09-13T17:26:38.474Z"
      },
      {
        "duration": 41,
        "start_time": "2023-09-13T17:26:38.482Z"
      },
      {
        "duration": 24,
        "start_time": "2023-09-13T17:26:38.525Z"
      },
      {
        "duration": 38,
        "start_time": "2023-09-13T17:26:38.551Z"
      },
      {
        "duration": 121,
        "start_time": "2023-09-13T17:26:38.590Z"
      },
      {
        "duration": 0,
        "start_time": "2023-09-13T17:26:38.712Z"
      },
      {
        "duration": 0,
        "start_time": "2023-09-13T17:26:38.714Z"
      },
      {
        "duration": 0,
        "start_time": "2023-09-13T17:26:38.715Z"
      },
      {
        "duration": 0,
        "start_time": "2023-09-13T17:26:38.717Z"
      },
      {
        "duration": 0,
        "start_time": "2023-09-13T17:26:38.717Z"
      },
      {
        "duration": 0,
        "start_time": "2023-09-13T17:26:38.719Z"
      },
      {
        "duration": 0,
        "start_time": "2023-09-13T17:26:38.720Z"
      },
      {
        "duration": 9,
        "start_time": "2023-09-13T18:11:07.978Z"
      },
      {
        "duration": 11,
        "start_time": "2023-09-13T18:11:23.223Z"
      },
      {
        "duration": 5,
        "start_time": "2023-09-13T18:11:44.446Z"
      },
      {
        "duration": 222,
        "start_time": "2023-09-13T18:12:14.087Z"
      },
      {
        "duration": 172,
        "start_time": "2023-09-13T18:12:47.005Z"
      },
      {
        "duration": 375,
        "start_time": "2023-09-13T18:13:04.289Z"
      },
      {
        "duration": 377,
        "start_time": "2023-09-13T18:13:11.199Z"
      },
      {
        "duration": 21,
        "start_time": "2023-09-13T18:13:37.504Z"
      },
      {
        "duration": 21,
        "start_time": "2023-09-13T18:14:01.847Z"
      },
      {
        "duration": 10,
        "start_time": "2023-09-13T18:14:19.135Z"
      },
      {
        "duration": 14,
        "start_time": "2023-09-13T18:14:54.051Z"
      },
      {
        "duration": 13,
        "start_time": "2023-09-13T18:15:11.766Z"
      },
      {
        "duration": 12,
        "start_time": "2023-09-13T18:16:16.301Z"
      },
      {
        "duration": 4,
        "start_time": "2023-09-13T18:16:29.607Z"
      },
      {
        "duration": 15,
        "start_time": "2023-09-13T18:16:31.258Z"
      },
      {
        "duration": 12,
        "start_time": "2023-09-13T18:16:40.702Z"
      },
      {
        "duration": 12,
        "start_time": "2023-09-13T18:16:47.258Z"
      },
      {
        "duration": 10,
        "start_time": "2023-09-13T18:16:53.521Z"
      },
      {
        "duration": 11,
        "start_time": "2023-09-13T18:17:08.477Z"
      },
      {
        "duration": 10,
        "start_time": "2023-09-13T18:17:22.157Z"
      },
      {
        "duration": 13,
        "start_time": "2023-09-13T18:17:31.998Z"
      },
      {
        "duration": 13,
        "start_time": "2023-09-13T18:17:41.155Z"
      },
      {
        "duration": 11,
        "start_time": "2023-09-13T18:17:47.018Z"
      },
      {
        "duration": 4,
        "start_time": "2023-09-13T18:17:54.889Z"
      },
      {
        "duration": 8,
        "start_time": "2023-09-13T18:18:33.910Z"
      },
      {
        "duration": 12,
        "start_time": "2023-09-13T18:18:49.834Z"
      },
      {
        "duration": 19,
        "start_time": "2023-09-13T18:19:22.702Z"
      },
      {
        "duration": 23,
        "start_time": "2023-09-13T18:19:29.044Z"
      },
      {
        "duration": 14,
        "start_time": "2023-09-13T18:19:41.279Z"
      },
      {
        "duration": 9,
        "start_time": "2023-09-13T18:19:57.377Z"
      },
      {
        "duration": 10,
        "start_time": "2023-09-13T18:20:17.802Z"
      },
      {
        "duration": 19,
        "start_time": "2023-09-13T18:20:24.611Z"
      },
      {
        "duration": 19,
        "start_time": "2023-09-13T18:20:28.730Z"
      },
      {
        "duration": 17,
        "start_time": "2023-09-13T18:20:44.063Z"
      },
      {
        "duration": 10,
        "start_time": "2023-09-13T18:20:56.463Z"
      },
      {
        "duration": 196,
        "start_time": "2023-09-13T18:21:12.018Z"
      },
      {
        "duration": 273,
        "start_time": "2023-09-13T18:21:52.905Z"
      },
      {
        "duration": 564,
        "start_time": "2023-09-13T18:22:33.490Z"
      },
      {
        "duration": 2043,
        "start_time": "2023-09-13T18:23:44.792Z"
      },
      {
        "duration": 395,
        "start_time": "2023-09-13T18:24:17.595Z"
      },
      {
        "duration": 376,
        "start_time": "2023-09-13T18:24:33.318Z"
      },
      {
        "duration": 500,
        "start_time": "2023-09-13T18:24:59.616Z"
      },
      {
        "duration": 521,
        "start_time": "2023-09-13T18:25:15.209Z"
      },
      {
        "duration": 133,
        "start_time": "2023-09-13T18:25:54.524Z"
      },
      {
        "duration": 355,
        "start_time": "2023-09-13T18:26:09.254Z"
      },
      {
        "duration": 349,
        "start_time": "2023-09-13T18:28:41.797Z"
      },
      {
        "duration": 349,
        "start_time": "2023-09-13T18:28:54.770Z"
      },
      {
        "duration": 323,
        "start_time": "2023-09-13T18:30:35.728Z"
      },
      {
        "duration": 325,
        "start_time": "2023-09-13T18:31:05.569Z"
      },
      {
        "duration": 371,
        "start_time": "2023-09-13T18:31:39.229Z"
      },
      {
        "duration": 447,
        "start_time": "2023-09-13T18:31:53.445Z"
      },
      {
        "duration": 3,
        "start_time": "2023-09-13T18:33:56.298Z"
      },
      {
        "duration": 9,
        "start_time": "2023-09-13T18:33:56.303Z"
      },
      {
        "duration": 690,
        "start_time": "2023-09-13T18:33:56.314Z"
      },
      {
        "duration": 19,
        "start_time": "2023-09-13T18:33:57.006Z"
      },
      {
        "duration": 67,
        "start_time": "2023-09-13T18:33:57.027Z"
      },
      {
        "duration": 14,
        "start_time": "2023-09-13T18:33:57.095Z"
      },
      {
        "duration": 168,
        "start_time": "2023-09-13T18:33:57.110Z"
      },
      {
        "duration": 152,
        "start_time": "2023-09-13T18:33:57.281Z"
      },
      {
        "duration": 124,
        "start_time": "2023-09-13T18:33:57.448Z"
      },
      {
        "duration": 647,
        "start_time": "2023-09-13T18:33:57.574Z"
      },
      {
        "duration": 172,
        "start_time": "2023-09-13T18:33:58.222Z"
      },
      {
        "duration": 22,
        "start_time": "2023-09-13T18:33:58.395Z"
      },
      {
        "duration": 80,
        "start_time": "2023-09-13T18:33:58.419Z"
      },
      {
        "duration": 9,
        "start_time": "2023-09-13T18:33:58.502Z"
      },
      {
        "duration": 196,
        "start_time": "2023-09-13T18:33:58.512Z"
      },
      {
        "duration": 26,
        "start_time": "2023-09-13T18:33:58.710Z"
      },
      {
        "duration": 29,
        "start_time": "2023-09-13T18:33:58.752Z"
      },
      {
        "duration": 18,
        "start_time": "2023-09-13T18:33:58.783Z"
      },
      {
        "duration": 70,
        "start_time": "2023-09-13T18:33:58.803Z"
      },
      {
        "duration": 25,
        "start_time": "2023-09-13T18:33:58.875Z"
      },
      {
        "duration": 71,
        "start_time": "2023-09-13T18:33:58.901Z"
      },
      {
        "duration": 271,
        "start_time": "2023-09-13T18:33:58.974Z"
      },
      {
        "duration": 13,
        "start_time": "2023-09-13T18:33:59.247Z"
      },
      {
        "duration": 17,
        "start_time": "2023-09-13T18:33:59.263Z"
      },
      {
        "duration": 416,
        "start_time": "2023-09-13T18:33:59.282Z"
      },
      {
        "duration": 553,
        "start_time": "2023-09-13T18:34:27.076Z"
      },
      {
        "duration": 33,
        "start_time": "2023-09-13T18:37:02.839Z"
      },
      {
        "duration": 450,
        "start_time": "2023-09-13T18:38:02.173Z"
      },
      {
        "duration": 361,
        "start_time": "2023-09-13T18:39:07.875Z"
      },
      {
        "duration": 370,
        "start_time": "2023-09-13T18:39:16.393Z"
      },
      {
        "duration": 341,
        "start_time": "2023-09-13T18:39:23.569Z"
      },
      {
        "duration": 447,
        "start_time": "2023-09-13T18:39:42.526Z"
      },
      {
        "duration": 462,
        "start_time": "2023-09-13T18:40:20.712Z"
      },
      {
        "duration": 502,
        "start_time": "2023-09-13T18:41:04.760Z"
      },
      {
        "duration": 509,
        "start_time": "2023-09-13T18:41:38.208Z"
      },
      {
        "duration": 458,
        "start_time": "2023-09-13T18:41:51.000Z"
      },
      {
        "duration": 497,
        "start_time": "2023-09-13T18:43:16.809Z"
      },
      {
        "duration": 571,
        "start_time": "2023-09-13T18:43:43.746Z"
      },
      {
        "duration": 501,
        "start_time": "2023-09-13T18:43:54.334Z"
      },
      {
        "duration": 503,
        "start_time": "2023-09-13T18:44:04.402Z"
      },
      {
        "duration": 14,
        "start_time": "2023-09-13T18:54:47.784Z"
      },
      {
        "duration": 10,
        "start_time": "2023-09-13T18:59:37.628Z"
      },
      {
        "duration": 8,
        "start_time": "2023-09-13T18:59:45.392Z"
      },
      {
        "duration": 21,
        "start_time": "2023-09-13T19:02:06.817Z"
      },
      {
        "duration": 169,
        "start_time": "2023-09-13T19:05:22.006Z"
      },
      {
        "duration": 28,
        "start_time": "2023-09-13T19:06:00.440Z"
      },
      {
        "duration": 24,
        "start_time": "2023-09-13T19:06:33.759Z"
      },
      {
        "duration": 37,
        "start_time": "2023-09-13T19:06:39.738Z"
      },
      {
        "duration": 13,
        "start_time": "2023-09-13T19:07:00.716Z"
      },
      {
        "duration": 29,
        "start_time": "2023-09-13T19:09:35.278Z"
      },
      {
        "duration": 31,
        "start_time": "2023-09-13T19:12:05.926Z"
      },
      {
        "duration": 25,
        "start_time": "2023-09-13T19:12:12.211Z"
      },
      {
        "duration": 26,
        "start_time": "2023-09-13T19:12:26.530Z"
      },
      {
        "duration": 36,
        "start_time": "2023-09-13T19:12:41.157Z"
      },
      {
        "duration": 32,
        "start_time": "2023-09-13T19:12:57.558Z"
      },
      {
        "duration": 33,
        "start_time": "2023-09-13T19:13:03.550Z"
      },
      {
        "duration": 36,
        "start_time": "2023-09-13T19:13:40.534Z"
      },
      {
        "duration": 38,
        "start_time": "2023-09-13T19:14:34.288Z"
      },
      {
        "duration": 37,
        "start_time": "2023-09-13T19:14:58.645Z"
      },
      {
        "duration": 49,
        "start_time": "2023-09-13T19:15:09.413Z"
      },
      {
        "duration": 36,
        "start_time": "2023-09-13T19:15:20.837Z"
      },
      {
        "duration": 33,
        "start_time": "2023-09-13T19:15:27.671Z"
      },
      {
        "duration": 96,
        "start_time": "2023-09-13T19:15:49.362Z"
      },
      {
        "duration": 64,
        "start_time": "2023-09-13T19:16:14.025Z"
      },
      {
        "duration": 26,
        "start_time": "2023-09-13T19:16:22.807Z"
      },
      {
        "duration": 29,
        "start_time": "2023-09-13T19:16:45.332Z"
      },
      {
        "duration": 29,
        "start_time": "2023-09-13T19:17:26.823Z"
      },
      {
        "duration": 24,
        "start_time": "2023-09-13T19:17:37.528Z"
      },
      {
        "duration": 11,
        "start_time": "2023-09-13T19:23:54.578Z"
      },
      {
        "duration": 11,
        "start_time": "2023-09-13T19:23:59.843Z"
      },
      {
        "duration": 15,
        "start_time": "2023-09-13T19:24:18.744Z"
      },
      {
        "duration": 74,
        "start_time": "2023-09-13T19:24:33.449Z"
      },
      {
        "duration": 74,
        "start_time": "2023-09-13T19:24:47.764Z"
      },
      {
        "duration": 15,
        "start_time": "2023-09-13T19:25:18.208Z"
      },
      {
        "duration": 15,
        "start_time": "2023-09-13T19:25:52.718Z"
      },
      {
        "duration": 14,
        "start_time": "2023-09-13T19:26:28.919Z"
      },
      {
        "duration": 15,
        "start_time": "2023-09-13T19:26:43.275Z"
      },
      {
        "duration": 27,
        "start_time": "2023-09-13T19:27:36.726Z"
      },
      {
        "duration": 14,
        "start_time": "2023-09-13T19:30:01.386Z"
      },
      {
        "duration": 14,
        "start_time": "2023-09-13T19:30:57.002Z"
      },
      {
        "duration": 4,
        "start_time": "2023-09-13T19:31:09.037Z"
      },
      {
        "duration": 5,
        "start_time": "2023-09-13T19:31:33.479Z"
      },
      {
        "duration": 4,
        "start_time": "2023-09-13T19:36:36.783Z"
      },
      {
        "duration": 4,
        "start_time": "2023-09-13T19:36:50.319Z"
      },
      {
        "duration": 103,
        "start_time": "2023-09-13T19:37:15.339Z"
      },
      {
        "duration": 5,
        "start_time": "2023-09-13T19:37:22.589Z"
      },
      {
        "duration": 3,
        "start_time": "2023-09-13T19:38:03.637Z"
      },
      {
        "duration": 6762,
        "start_time": "2023-09-13T19:38:04.845Z"
      },
      {
        "duration": 30,
        "start_time": "2023-09-13T19:39:34.044Z"
      },
      {
        "duration": 24,
        "start_time": "2023-09-13T19:39:54.107Z"
      },
      {
        "duration": 3,
        "start_time": "2023-09-13T19:40:43.251Z"
      },
      {
        "duration": 4,
        "start_time": "2023-09-13T19:40:55.144Z"
      },
      {
        "duration": 12,
        "start_time": "2023-09-13T19:42:37.175Z"
      },
      {
        "duration": 4,
        "start_time": "2023-09-13T19:42:49.489Z"
      },
      {
        "duration": 12,
        "start_time": "2023-09-13T19:45:30.199Z"
      },
      {
        "duration": 5,
        "start_time": "2023-09-13T19:46:19.569Z"
      },
      {
        "duration": 5,
        "start_time": "2023-09-13T19:47:50.595Z"
      },
      {
        "duration": 16,
        "start_time": "2023-09-13T19:48:04.020Z"
      },
      {
        "duration": 7,
        "start_time": "2023-09-13T19:48:40.009Z"
      },
      {
        "duration": 4,
        "start_time": "2023-09-13T19:49:06.958Z"
      },
      {
        "duration": 7,
        "start_time": "2023-09-13T19:49:15.494Z"
      },
      {
        "duration": 14,
        "start_time": "2023-09-13T19:49:56.423Z"
      },
      {
        "duration": 6,
        "start_time": "2023-09-13T19:50:15.762Z"
      },
      {
        "duration": 9,
        "start_time": "2023-09-13T19:52:47.547Z"
      },
      {
        "duration": 3,
        "start_time": "2023-09-13T19:53:09.657Z"
      },
      {
        "duration": 8,
        "start_time": "2023-09-13T19:53:13.359Z"
      },
      {
        "duration": 4,
        "start_time": "2023-09-13T19:53:36.982Z"
      },
      {
        "duration": 3,
        "start_time": "2023-09-13T19:53:54.752Z"
      },
      {
        "duration": 5,
        "start_time": "2023-09-13T19:54:02.098Z"
      },
      {
        "duration": 5,
        "start_time": "2023-09-13T19:54:15.338Z"
      },
      {
        "duration": 5,
        "start_time": "2023-09-13T19:54:19.730Z"
      },
      {
        "duration": 4,
        "start_time": "2023-09-13T19:54:23.533Z"
      },
      {
        "duration": 5,
        "start_time": "2023-09-13T19:54:26.694Z"
      },
      {
        "duration": 7,
        "start_time": "2023-09-13T19:55:42.390Z"
      },
      {
        "duration": 5,
        "start_time": "2023-09-13T19:58:30.273Z"
      },
      {
        "duration": 4,
        "start_time": "2023-09-13T19:59:06.249Z"
      },
      {
        "duration": 23,
        "start_time": "2023-09-13T19:59:44.541Z"
      },
      {
        "duration": 4,
        "start_time": "2023-09-13T19:59:46.860Z"
      },
      {
        "duration": 4,
        "start_time": "2023-09-13T20:00:05.494Z"
      },
      {
        "duration": 4,
        "start_time": "2023-09-13T20:00:21.501Z"
      },
      {
        "duration": 5,
        "start_time": "2023-09-13T20:00:39.257Z"
      },
      {
        "duration": 4,
        "start_time": "2023-09-13T20:00:41.370Z"
      },
      {
        "duration": 5,
        "start_time": "2023-09-13T20:00:42.535Z"
      },
      {
        "duration": 6,
        "start_time": "2023-09-13T20:01:32.921Z"
      },
      {
        "duration": 6,
        "start_time": "2023-09-13T20:02:05.668Z"
      },
      {
        "duration": 4,
        "start_time": "2023-09-13T20:03:08.053Z"
      },
      {
        "duration": 5,
        "start_time": "2023-09-13T20:03:08.736Z"
      },
      {
        "duration": 5,
        "start_time": "2023-09-13T20:03:43.524Z"
      },
      {
        "duration": 7,
        "start_time": "2023-09-13T20:03:44.367Z"
      },
      {
        "duration": 6,
        "start_time": "2023-09-13T20:04:51.907Z"
      },
      {
        "duration": 4,
        "start_time": "2023-09-13T20:04:54.855Z"
      },
      {
        "duration": 5,
        "start_time": "2023-09-13T20:04:59.043Z"
      },
      {
        "duration": 398,
        "start_time": "2023-09-13T20:28:25.364Z"
      },
      {
        "duration": 9,
        "start_time": "2023-09-13T20:28:52.861Z"
      },
      {
        "duration": 15,
        "start_time": "2023-09-13T20:29:11.199Z"
      },
      {
        "duration": 9,
        "start_time": "2023-09-13T20:31:17.476Z"
      },
      {
        "duration": 13,
        "start_time": "2023-09-13T20:32:14.373Z"
      },
      {
        "duration": 5,
        "start_time": "2023-09-13T20:32:26.521Z"
      },
      {
        "duration": 16,
        "start_time": "2023-09-13T20:32:39.710Z"
      },
      {
        "duration": 18,
        "start_time": "2023-09-13T20:34:14.420Z"
      },
      {
        "duration": 16,
        "start_time": "2023-09-13T20:34:19.181Z"
      },
      {
        "duration": 16,
        "start_time": "2023-09-13T20:34:28.006Z"
      },
      {
        "duration": 15,
        "start_time": "2023-09-13T20:39:44.281Z"
      },
      {
        "duration": 14,
        "start_time": "2023-09-13T20:45:44.345Z"
      },
      {
        "duration": 15,
        "start_time": "2023-09-13T20:46:18.108Z"
      },
      {
        "duration": 16,
        "start_time": "2023-09-13T20:46:35.638Z"
      },
      {
        "duration": 59,
        "start_time": "2023-09-13T20:54:23.606Z"
      },
      {
        "duration": 10,
        "start_time": "2023-09-13T20:56:10.520Z"
      },
      {
        "duration": 148,
        "start_time": "2023-09-13T20:56:17.990Z"
      },
      {
        "duration": 14,
        "start_time": "2023-09-13T20:56:51.748Z"
      },
      {
        "duration": 10,
        "start_time": "2023-09-13T20:57:18.966Z"
      },
      {
        "duration": 12,
        "start_time": "2023-09-13T20:57:23.012Z"
      },
      {
        "duration": 6,
        "start_time": "2023-09-13T21:01:10.255Z"
      },
      {
        "duration": 1428,
        "start_time": "2023-09-13T21:01:49.040Z"
      },
      {
        "duration": 1513,
        "start_time": "2023-09-13T21:02:17.697Z"
      },
      {
        "duration": 1451,
        "start_time": "2023-09-13T21:02:48.736Z"
      },
      {
        "duration": 1323,
        "start_time": "2023-09-13T21:02:55.919Z"
      },
      {
        "duration": 1307,
        "start_time": "2023-09-13T21:03:06.094Z"
      },
      {
        "duration": 29,
        "start_time": "2023-09-13T21:03:15.692Z"
      },
      {
        "duration": 29,
        "start_time": "2023-09-13T21:03:50.737Z"
      },
      {
        "duration": 77,
        "start_time": "2023-09-13T21:04:20.100Z"
      },
      {
        "duration": 9,
        "start_time": "2023-09-13T21:04:26.951Z"
      },
      {
        "duration": 6,
        "start_time": "2023-09-13T21:04:46.011Z"
      },
      {
        "duration": 38,
        "start_time": "2023-09-13T21:05:29.571Z"
      },
      {
        "duration": 240,
        "start_time": "2023-09-13T21:05:36.649Z"
      },
      {
        "duration": 410,
        "start_time": "2023-09-13T21:06:05.308Z"
      },
      {
        "duration": 25,
        "start_time": "2023-09-13T21:06:26.390Z"
      },
      {
        "duration": 9,
        "start_time": "2023-09-13T21:09:19.723Z"
      },
      {
        "duration": 16,
        "start_time": "2023-09-13T21:09:20.236Z"
      },
      {
        "duration": 15,
        "start_time": "2023-09-13T21:09:20.801Z"
      },
      {
        "duration": 6,
        "start_time": "2023-09-13T21:09:50.610Z"
      },
      {
        "duration": 7,
        "start_time": "2023-09-13T21:10:44.406Z"
      },
      {
        "duration": 23,
        "start_time": "2023-09-13T21:10:55.813Z"
      },
      {
        "duration": 12,
        "start_time": "2023-09-13T21:11:06.380Z"
      },
      {
        "duration": 365,
        "start_time": "2023-09-13T21:13:30.202Z"
      },
      {
        "duration": 21,
        "start_time": "2023-09-13T21:13:48.018Z"
      },
      {
        "duration": 12,
        "start_time": "2023-09-13T21:14:16.212Z"
      },
      {
        "duration": 258,
        "start_time": "2023-09-13T21:14:16.504Z"
      },
      {
        "duration": 19,
        "start_time": "2023-09-13T21:14:17.220Z"
      },
      {
        "duration": 19,
        "start_time": "2023-09-13T21:14:28.956Z"
      },
      {
        "duration": 1190,
        "start_time": "2023-09-13T21:14:38.439Z"
      },
      {
        "duration": 5,
        "start_time": "2023-09-13T21:14:39.631Z"
      },
      {
        "duration": 701,
        "start_time": "2023-09-13T21:14:39.638Z"
      },
      {
        "duration": 28,
        "start_time": "2023-09-13T21:14:40.341Z"
      },
      {
        "duration": 47,
        "start_time": "2023-09-13T21:14:40.372Z"
      },
      {
        "duration": 14,
        "start_time": "2023-09-13T21:14:40.446Z"
      },
      {
        "duration": 167,
        "start_time": "2023-09-13T21:14:40.462Z"
      },
      {
        "duration": 154,
        "start_time": "2023-09-13T21:14:40.630Z"
      },
      {
        "duration": 121,
        "start_time": "2023-09-13T21:14:40.785Z"
      },
      {
        "duration": 604,
        "start_time": "2023-09-13T21:14:40.907Z"
      },
      {
        "duration": 151,
        "start_time": "2023-09-13T21:14:41.512Z"
      },
      {
        "duration": 21,
        "start_time": "2023-09-13T21:14:41.665Z"
      },
      {
        "duration": 73,
        "start_time": "2023-09-13T21:14:41.688Z"
      },
      {
        "duration": 10,
        "start_time": "2023-09-13T21:14:41.764Z"
      },
      {
        "duration": 155,
        "start_time": "2023-09-13T21:14:41.775Z"
      },
      {
        "duration": 30,
        "start_time": "2023-09-13T21:14:41.932Z"
      },
      {
        "duration": 52,
        "start_time": "2023-09-13T21:14:41.963Z"
      },
      {
        "duration": 17,
        "start_time": "2023-09-13T21:14:42.017Z"
      },
      {
        "duration": 44,
        "start_time": "2023-09-13T21:14:42.035Z"
      },
      {
        "duration": 23,
        "start_time": "2023-09-13T21:14:42.081Z"
      },
      {
        "duration": 63,
        "start_time": "2023-09-13T21:14:42.106Z"
      },
      {
        "duration": 267,
        "start_time": "2023-09-13T21:14:42.171Z"
      },
      {
        "duration": 8,
        "start_time": "2023-09-13T21:14:42.440Z"
      },
      {
        "duration": 43,
        "start_time": "2023-09-13T21:14:42.449Z"
      },
      {
        "duration": 535,
        "start_time": "2023-09-13T21:14:42.494Z"
      },
      {
        "duration": 19,
        "start_time": "2023-09-13T21:14:43.031Z"
      },
      {
        "duration": 30,
        "start_time": "2023-09-13T21:14:43.052Z"
      },
      {
        "duration": 4,
        "start_time": "2023-09-13T21:14:43.084Z"
      },
      {
        "duration": 34,
        "start_time": "2023-09-13T21:14:43.089Z"
      },
      {
        "duration": 122,
        "start_time": "2023-09-13T21:14:43.125Z"
      },
      {
        "duration": 8,
        "start_time": "2023-09-13T21:14:43.249Z"
      },
      {
        "duration": 22,
        "start_time": "2023-09-13T21:14:43.259Z"
      },
      {
        "duration": 14,
        "start_time": "2023-09-13T21:14:43.283Z"
      },
      {
        "duration": 69,
        "start_time": "2023-09-13T21:14:43.299Z"
      },
      {
        "duration": 23,
        "start_time": "2023-09-13T21:14:43.370Z"
      },
      {
        "duration": 5,
        "start_time": "2023-09-13T21:14:43.394Z"
      },
      {
        "duration": 12,
        "start_time": "2023-09-13T21:14:43.401Z"
      },
      {
        "duration": 340,
        "start_time": "2023-09-13T21:14:43.414Z"
      },
      {
        "duration": 20,
        "start_time": "2023-09-13T21:14:43.756Z"
      },
      {
        "duration": 31,
        "start_time": "2023-09-13T21:14:43.778Z"
      },
      {
        "duration": 389,
        "start_time": "2023-09-13T21:14:43.813Z"
      },
      {
        "duration": 4,
        "start_time": "2023-09-13T21:14:44.204Z"
      },
      {
        "duration": 8,
        "start_time": "2023-09-13T21:14:44.209Z"
      },
      {
        "duration": 11,
        "start_time": "2023-09-13T21:14:44.218Z"
      },
      {
        "duration": 16,
        "start_time": "2023-09-13T21:14:44.231Z"
      },
      {
        "duration": 13,
        "start_time": "2023-09-13T21:14:44.249Z"
      },
      {
        "duration": 6,
        "start_time": "2023-09-13T21:14:44.264Z"
      },
      {
        "duration": 15,
        "start_time": "2023-09-13T21:14:44.271Z"
      },
      {
        "duration": 13,
        "start_time": "2023-09-13T21:14:44.287Z"
      },
      {
        "duration": 50,
        "start_time": "2023-09-13T21:14:44.301Z"
      },
      {
        "duration": 37,
        "start_time": "2023-09-13T21:14:44.353Z"
      },
      {
        "duration": 8,
        "start_time": "2023-09-13T21:16:44.579Z"
      },
      {
        "duration": 16,
        "start_time": "2023-09-13T21:20:17.259Z"
      },
      {
        "duration": 16,
        "start_time": "2023-09-13T21:21:15.050Z"
      },
      {
        "duration": 44,
        "start_time": "2023-09-13T21:21:45.341Z"
      },
      {
        "duration": 38,
        "start_time": "2023-09-13T21:22:27.711Z"
      },
      {
        "duration": 38,
        "start_time": "2023-09-13T21:22:55.955Z"
      },
      {
        "duration": 16,
        "start_time": "2023-09-13T21:23:22.558Z"
      },
      {
        "duration": 16,
        "start_time": "2023-09-13T21:23:53.414Z"
      },
      {
        "duration": 15,
        "start_time": "2023-09-13T21:24:36.205Z"
      },
      {
        "duration": 16,
        "start_time": "2023-09-13T21:25:54.583Z"
      },
      {
        "duration": 1454,
        "start_time": "2023-09-14T07:58:07.207Z"
      },
      {
        "duration": 5,
        "start_time": "2023-09-14T07:58:08.664Z"
      },
      {
        "duration": 987,
        "start_time": "2023-09-14T07:58:08.671Z"
      },
      {
        "duration": 24,
        "start_time": "2023-09-14T07:58:09.660Z"
      },
      {
        "duration": 70,
        "start_time": "2023-09-14T07:58:09.686Z"
      },
      {
        "duration": 13,
        "start_time": "2023-09-14T07:58:09.758Z"
      },
      {
        "duration": 160,
        "start_time": "2023-09-14T07:58:09.773Z"
      },
      {
        "duration": 144,
        "start_time": "2023-09-14T07:58:09.935Z"
      },
      {
        "duration": 118,
        "start_time": "2023-09-14T07:58:10.081Z"
      },
      {
        "duration": 552,
        "start_time": "2023-09-14T07:58:10.211Z"
      },
      {
        "duration": 145,
        "start_time": "2023-09-14T07:58:10.764Z"
      },
      {
        "duration": 25,
        "start_time": "2023-09-14T07:58:10.911Z"
      },
      {
        "duration": 86,
        "start_time": "2023-09-14T07:58:10.938Z"
      },
      {
        "duration": 11,
        "start_time": "2023-09-14T07:58:11.026Z"
      },
      {
        "duration": 166,
        "start_time": "2023-09-14T07:58:11.039Z"
      },
      {
        "duration": 24,
        "start_time": "2023-09-14T07:58:11.210Z"
      },
      {
        "duration": 32,
        "start_time": "2023-09-14T07:58:11.236Z"
      },
      {
        "duration": 19,
        "start_time": "2023-09-14T07:58:11.270Z"
      },
      {
        "duration": 43,
        "start_time": "2023-09-14T07:58:11.310Z"
      },
      {
        "duration": 25,
        "start_time": "2023-09-14T07:58:11.354Z"
      },
      {
        "duration": 62,
        "start_time": "2023-09-14T07:58:11.381Z"
      },
      {
        "duration": 268,
        "start_time": "2023-09-14T07:58:11.445Z"
      },
      {
        "duration": 8,
        "start_time": "2023-09-14T07:58:11.715Z"
      },
      {
        "duration": 106,
        "start_time": "2023-09-14T07:58:11.725Z"
      },
      {
        "duration": 745,
        "start_time": "2023-09-14T07:58:11.833Z"
      },
      {
        "duration": 29,
        "start_time": "2023-09-14T07:58:12.581Z"
      },
      {
        "duration": 26,
        "start_time": "2023-09-14T07:58:12.612Z"
      },
      {
        "duration": 6,
        "start_time": "2023-09-14T07:58:12.643Z"
      },
      {
        "duration": 16,
        "start_time": "2023-09-14T07:58:12.651Z"
      },
      {
        "duration": 44,
        "start_time": "2023-09-14T07:58:12.669Z"
      },
      {
        "duration": 13,
        "start_time": "2023-09-14T07:58:12.715Z"
      },
      {
        "duration": 27,
        "start_time": "2023-09-14T07:58:12.731Z"
      },
      {
        "duration": 25,
        "start_time": "2023-09-14T07:58:12.760Z"
      },
      {
        "duration": 74,
        "start_time": "2023-09-14T07:58:12.787Z"
      },
      {
        "duration": 28,
        "start_time": "2023-09-14T07:58:12.864Z"
      },
      {
        "duration": 20,
        "start_time": "2023-09-14T07:58:12.893Z"
      },
      {
        "duration": 14,
        "start_time": "2023-09-14T07:58:12.915Z"
      },
      {
        "duration": 322,
        "start_time": "2023-09-14T07:58:12.931Z"
      },
      {
        "duration": 18,
        "start_time": "2023-09-14T07:58:13.255Z"
      },
      {
        "duration": 15,
        "start_time": "2023-09-14T07:58:13.275Z"
      },
      {
        "duration": 35,
        "start_time": "2023-09-14T07:58:13.291Z"
      },
      {
        "duration": 16,
        "start_time": "2023-09-14T07:58:13.327Z"
      },
      {
        "duration": 109,
        "start_time": "2023-09-14T07:58:13.344Z"
      },
      {
        "duration": 0,
        "start_time": "2023-09-14T07:58:13.455Z"
      },
      {
        "duration": 0,
        "start_time": "2023-09-14T07:58:13.456Z"
      },
      {
        "duration": 0,
        "start_time": "2023-09-14T07:58:13.457Z"
      },
      {
        "duration": 0,
        "start_time": "2023-09-14T07:58:13.458Z"
      },
      {
        "duration": 0,
        "start_time": "2023-09-14T07:58:13.459Z"
      },
      {
        "duration": 0,
        "start_time": "2023-09-14T07:58:13.460Z"
      },
      {
        "duration": 0,
        "start_time": "2023-09-14T07:58:13.462Z"
      },
      {
        "duration": 0,
        "start_time": "2023-09-14T07:58:13.463Z"
      },
      {
        "duration": 0,
        "start_time": "2023-09-14T07:58:13.464Z"
      },
      {
        "duration": 0,
        "start_time": "2023-09-14T07:58:13.465Z"
      },
      {
        "duration": 0,
        "start_time": "2023-09-14T07:58:13.466Z"
      },
      {
        "duration": 0,
        "start_time": "2023-09-14T07:58:13.467Z"
      },
      {
        "duration": 0,
        "start_time": "2023-09-14T07:58:13.468Z"
      },
      {
        "duration": 63,
        "start_time": "2023-09-14T08:13:18.563Z"
      },
      {
        "duration": 21,
        "start_time": "2023-09-14T08:13:30.719Z"
      },
      {
        "duration": 21,
        "start_time": "2023-09-14T08:15:08.872Z"
      },
      {
        "duration": 23,
        "start_time": "2023-09-14T08:22:58.904Z"
      },
      {
        "duration": 128,
        "start_time": "2023-09-14T08:24:52.040Z"
      },
      {
        "duration": 2294,
        "start_time": "2023-09-14T08:25:00.048Z"
      },
      {
        "duration": 15,
        "start_time": "2023-09-14T08:25:30.128Z"
      },
      {
        "duration": 6,
        "start_time": "2023-09-14T08:25:38.413Z"
      },
      {
        "duration": 22,
        "start_time": "2023-09-14T08:25:50.227Z"
      },
      {
        "duration": 19,
        "start_time": "2023-09-14T08:27:39.288Z"
      },
      {
        "duration": 20,
        "start_time": "2023-09-14T08:27:52.248Z"
      },
      {
        "duration": 16,
        "start_time": "2023-09-14T08:30:28.663Z"
      },
      {
        "duration": 15,
        "start_time": "2023-09-14T08:30:51.556Z"
      },
      {
        "duration": 14,
        "start_time": "2023-09-14T08:31:05.376Z"
      },
      {
        "duration": 40,
        "start_time": "2023-09-14T08:31:17.918Z"
      },
      {
        "duration": 73,
        "start_time": "2023-09-14T08:31:31.532Z"
      },
      {
        "duration": 78,
        "start_time": "2023-09-14T08:32:11.290Z"
      },
      {
        "duration": 1338,
        "start_time": "2023-09-14T08:35:13.984Z"
      },
      {
        "duration": 5,
        "start_time": "2023-09-14T08:35:15.324Z"
      },
      {
        "duration": 720,
        "start_time": "2023-09-14T08:35:15.331Z"
      },
      {
        "duration": 25,
        "start_time": "2023-09-14T08:35:16.053Z"
      },
      {
        "duration": 56,
        "start_time": "2023-09-14T08:35:16.080Z"
      },
      {
        "duration": 13,
        "start_time": "2023-09-14T08:35:16.138Z"
      },
      {
        "duration": 157,
        "start_time": "2023-09-14T08:35:16.153Z"
      },
      {
        "duration": 156,
        "start_time": "2023-09-14T08:35:16.312Z"
      },
      {
        "duration": 143,
        "start_time": "2023-09-14T08:35:16.470Z"
      },
      {
        "duration": 615,
        "start_time": "2023-09-14T08:35:16.615Z"
      },
      {
        "duration": 144,
        "start_time": "2023-09-14T08:35:17.232Z"
      },
      {
        "duration": 39,
        "start_time": "2023-09-14T08:35:17.378Z"
      },
      {
        "duration": 48,
        "start_time": "2023-09-14T08:35:17.419Z"
      },
      {
        "duration": 42,
        "start_time": "2023-09-14T08:35:17.470Z"
      },
      {
        "duration": 171,
        "start_time": "2023-09-14T08:35:17.514Z"
      },
      {
        "duration": 36,
        "start_time": "2023-09-14T08:35:17.688Z"
      },
      {
        "duration": 67,
        "start_time": "2023-09-14T08:35:17.726Z"
      },
      {
        "duration": 21,
        "start_time": "2023-09-14T08:35:17.795Z"
      },
      {
        "duration": 42,
        "start_time": "2023-09-14T08:35:17.817Z"
      },
      {
        "duration": 54,
        "start_time": "2023-09-14T08:35:17.862Z"
      },
      {
        "duration": 43,
        "start_time": "2023-09-14T08:35:17.917Z"
      },
      {
        "duration": 280,
        "start_time": "2023-09-14T08:35:17.962Z"
      },
      {
        "duration": 7,
        "start_time": "2023-09-14T08:35:18.245Z"
      },
      {
        "duration": 14,
        "start_time": "2023-09-14T08:35:18.255Z"
      },
      {
        "duration": 616,
        "start_time": "2023-09-14T08:35:18.271Z"
      },
      {
        "duration": 24,
        "start_time": "2023-09-14T08:35:18.889Z"
      },
      {
        "duration": 25,
        "start_time": "2023-09-14T08:35:18.915Z"
      },
      {
        "duration": 4,
        "start_time": "2023-09-14T08:35:18.942Z"
      },
      {
        "duration": 9,
        "start_time": "2023-09-14T08:35:18.948Z"
      },
      {
        "duration": 24,
        "start_time": "2023-09-14T08:35:18.959Z"
      },
      {
        "duration": 33,
        "start_time": "2023-09-14T08:35:18.985Z"
      },
      {
        "duration": 29,
        "start_time": "2023-09-14T08:35:19.021Z"
      },
      {
        "duration": 18,
        "start_time": "2023-09-14T08:35:19.053Z"
      },
      {
        "duration": 20,
        "start_time": "2023-09-14T08:35:19.073Z"
      },
      {
        "duration": 371,
        "start_time": "2023-09-14T08:35:19.095Z"
      },
      {
        "duration": 26,
        "start_time": "2023-09-14T08:35:19.469Z"
      },
      {
        "duration": 67,
        "start_time": "2023-09-14T08:35:19.498Z"
      },
      {
        "duration": 86,
        "start_time": "2023-09-14T08:35:19.567Z"
      },
      {
        "duration": 26,
        "start_time": "2023-09-14T08:35:19.655Z"
      },
      {
        "duration": 36,
        "start_time": "2023-09-14T08:35:19.683Z"
      },
      {
        "duration": 98,
        "start_time": "2023-09-14T08:35:19.724Z"
      },
      {
        "duration": 0,
        "start_time": "2023-09-14T08:35:19.824Z"
      },
      {
        "duration": 0,
        "start_time": "2023-09-14T08:35:19.825Z"
      },
      {
        "duration": 0,
        "start_time": "2023-09-14T08:35:19.826Z"
      },
      {
        "duration": 0,
        "start_time": "2023-09-14T08:35:19.827Z"
      },
      {
        "duration": 0,
        "start_time": "2023-09-14T08:35:19.829Z"
      },
      {
        "duration": 0,
        "start_time": "2023-09-14T08:35:19.830Z"
      },
      {
        "duration": 0,
        "start_time": "2023-09-14T08:35:19.831Z"
      },
      {
        "duration": 0,
        "start_time": "2023-09-14T08:35:19.832Z"
      },
      {
        "duration": 0,
        "start_time": "2023-09-14T08:35:19.833Z"
      },
      {
        "duration": 0,
        "start_time": "2023-09-14T08:35:19.834Z"
      },
      {
        "duration": 0,
        "start_time": "2023-09-14T08:35:19.835Z"
      },
      {
        "duration": 0,
        "start_time": "2023-09-14T08:35:19.836Z"
      },
      {
        "duration": 0,
        "start_time": "2023-09-14T08:35:19.838Z"
      },
      {
        "duration": 121,
        "start_time": "2023-09-14T08:35:48.810Z"
      },
      {
        "duration": 20,
        "start_time": "2023-09-14T08:35:55.426Z"
      },
      {
        "duration": 20,
        "start_time": "2023-09-14T08:36:01.213Z"
      },
      {
        "duration": 19,
        "start_time": "2023-09-14T08:36:06.624Z"
      },
      {
        "duration": 19,
        "start_time": "2023-09-14T08:36:19.858Z"
      },
      {
        "duration": 1210,
        "start_time": "2023-09-14T08:37:33.517Z"
      },
      {
        "duration": 6,
        "start_time": "2023-09-14T08:37:34.728Z"
      },
      {
        "duration": 731,
        "start_time": "2023-09-14T08:37:34.735Z"
      },
      {
        "duration": 26,
        "start_time": "2023-09-14T08:37:35.468Z"
      },
      {
        "duration": 48,
        "start_time": "2023-09-14T08:37:35.496Z"
      },
      {
        "duration": 13,
        "start_time": "2023-09-14T08:37:35.546Z"
      },
      {
        "duration": 158,
        "start_time": "2023-09-14T08:37:35.561Z"
      },
      {
        "duration": 145,
        "start_time": "2023-09-14T08:37:35.721Z"
      },
      {
        "duration": 122,
        "start_time": "2023-09-14T08:37:35.868Z"
      },
      {
        "duration": 581,
        "start_time": "2023-09-14T08:37:35.992Z"
      },
      {
        "duration": 152,
        "start_time": "2023-09-14T08:37:36.575Z"
      },
      {
        "duration": 23,
        "start_time": "2023-09-14T08:37:36.729Z"
      },
      {
        "duration": 74,
        "start_time": "2023-09-14T08:37:36.754Z"
      },
      {
        "duration": 11,
        "start_time": "2023-09-14T08:37:36.833Z"
      },
      {
        "duration": 183,
        "start_time": "2023-09-14T08:37:36.845Z"
      },
      {
        "duration": 25,
        "start_time": "2023-09-14T08:37:37.029Z"
      },
      {
        "duration": 52,
        "start_time": "2023-09-14T08:37:37.056Z"
      },
      {
        "duration": 19,
        "start_time": "2023-09-14T08:37:37.110Z"
      },
      {
        "duration": 220,
        "start_time": "2023-09-14T08:37:37.131Z"
      },
      {
        "duration": 24,
        "start_time": "2023-09-14T08:37:37.353Z"
      },
      {
        "duration": 55,
        "start_time": "2023-09-14T08:37:37.379Z"
      },
      {
        "duration": 257,
        "start_time": "2023-09-14T08:37:37.435Z"
      },
      {
        "duration": 7,
        "start_time": "2023-09-14T08:37:37.694Z"
      },
      {
        "duration": 22,
        "start_time": "2023-09-14T08:37:37.702Z"
      },
      {
        "duration": 367,
        "start_time": "2023-09-14T08:37:37.726Z"
      },
      {
        "duration": 0,
        "start_time": "2023-09-14T08:37:38.095Z"
      },
      {
        "duration": 0,
        "start_time": "2023-09-14T08:37:38.097Z"
      },
      {
        "duration": 0,
        "start_time": "2023-09-14T08:37:38.099Z"
      },
      {
        "duration": 0,
        "start_time": "2023-09-14T08:37:38.110Z"
      },
      {
        "duration": 0,
        "start_time": "2023-09-14T08:37:38.111Z"
      },
      {
        "duration": 0,
        "start_time": "2023-09-14T08:37:38.112Z"
      },
      {
        "duration": 0,
        "start_time": "2023-09-14T08:37:38.114Z"
      },
      {
        "duration": 0,
        "start_time": "2023-09-14T08:37:38.114Z"
      },
      {
        "duration": 0,
        "start_time": "2023-09-14T08:37:38.115Z"
      },
      {
        "duration": 0,
        "start_time": "2023-09-14T08:37:38.116Z"
      },
      {
        "duration": 0,
        "start_time": "2023-09-14T08:37:38.117Z"
      },
      {
        "duration": 0,
        "start_time": "2023-09-14T08:37:38.118Z"
      },
      {
        "duration": 0,
        "start_time": "2023-09-14T08:37:38.119Z"
      },
      {
        "duration": 0,
        "start_time": "2023-09-14T08:37:38.120Z"
      },
      {
        "duration": 0,
        "start_time": "2023-09-14T08:37:38.122Z"
      },
      {
        "duration": 0,
        "start_time": "2023-09-14T08:37:38.123Z"
      },
      {
        "duration": 0,
        "start_time": "2023-09-14T08:37:38.124Z"
      },
      {
        "duration": 0,
        "start_time": "2023-09-14T08:37:38.125Z"
      },
      {
        "duration": 0,
        "start_time": "2023-09-14T08:37:38.126Z"
      },
      {
        "duration": 0,
        "start_time": "2023-09-14T08:37:38.128Z"
      },
      {
        "duration": 0,
        "start_time": "2023-09-14T08:37:38.129Z"
      },
      {
        "duration": 0,
        "start_time": "2023-09-14T08:37:38.130Z"
      },
      {
        "duration": 0,
        "start_time": "2023-09-14T08:37:38.131Z"
      },
      {
        "duration": 0,
        "start_time": "2023-09-14T08:37:38.132Z"
      },
      {
        "duration": 0,
        "start_time": "2023-09-14T08:37:38.134Z"
      },
      {
        "duration": 0,
        "start_time": "2023-09-14T08:37:38.135Z"
      },
      {
        "duration": 0,
        "start_time": "2023-09-14T08:37:38.136Z"
      },
      {
        "duration": 0,
        "start_time": "2023-09-14T08:37:38.137Z"
      },
      {
        "duration": 0,
        "start_time": "2023-09-14T08:37:38.138Z"
      },
      {
        "duration": 188,
        "start_time": "2023-09-14T08:41:48.866Z"
      },
      {
        "duration": 502,
        "start_time": "2023-09-14T08:42:01.609Z"
      },
      {
        "duration": 464,
        "start_time": "2023-09-14T08:42:10.382Z"
      },
      {
        "duration": 16,
        "start_time": "2023-09-14T08:42:24.071Z"
      },
      {
        "duration": 36,
        "start_time": "2023-09-14T08:42:24.090Z"
      },
      {
        "duration": 5,
        "start_time": "2023-09-14T08:42:24.128Z"
      },
      {
        "duration": 10,
        "start_time": "2023-09-14T08:42:24.135Z"
      },
      {
        "duration": 22,
        "start_time": "2023-09-14T08:42:24.146Z"
      },
      {
        "duration": 10,
        "start_time": "2023-09-14T08:42:24.170Z"
      },
      {
        "duration": 34,
        "start_time": "2023-09-14T08:42:24.182Z"
      },
      {
        "duration": 15,
        "start_time": "2023-09-14T08:42:24.217Z"
      },
      {
        "duration": 18,
        "start_time": "2023-09-14T08:42:24.234Z"
      },
      {
        "duration": 403,
        "start_time": "2023-09-14T08:42:24.255Z"
      },
      {
        "duration": 24,
        "start_time": "2023-09-14T08:42:24.660Z"
      },
      {
        "duration": 61,
        "start_time": "2023-09-14T08:42:24.686Z"
      },
      {
        "duration": 70,
        "start_time": "2023-09-14T08:42:24.749Z"
      },
      {
        "duration": 26,
        "start_time": "2023-09-14T08:42:24.821Z"
      },
      {
        "duration": 17,
        "start_time": "2023-09-14T08:42:24.848Z"
      },
      {
        "duration": 103,
        "start_time": "2023-09-14T08:42:24.866Z"
      },
      {
        "duration": 0,
        "start_time": "2023-09-14T08:42:24.971Z"
      },
      {
        "duration": 0,
        "start_time": "2023-09-14T08:42:24.972Z"
      },
      {
        "duration": 0,
        "start_time": "2023-09-14T08:42:24.973Z"
      },
      {
        "duration": 0,
        "start_time": "2023-09-14T08:42:24.974Z"
      },
      {
        "duration": 0,
        "start_time": "2023-09-14T08:42:24.975Z"
      },
      {
        "duration": 0,
        "start_time": "2023-09-14T08:42:24.976Z"
      },
      {
        "duration": 0,
        "start_time": "2023-09-14T08:42:24.977Z"
      },
      {
        "duration": 0,
        "start_time": "2023-09-14T08:42:24.978Z"
      },
      {
        "duration": 0,
        "start_time": "2023-09-14T08:42:24.979Z"
      },
      {
        "duration": 0,
        "start_time": "2023-09-14T08:42:24.980Z"
      },
      {
        "duration": 0,
        "start_time": "2023-09-14T08:42:24.981Z"
      },
      {
        "duration": 0,
        "start_time": "2023-09-14T08:42:24.982Z"
      },
      {
        "duration": 0,
        "start_time": "2023-09-14T08:42:24.983Z"
      },
      {
        "duration": 22,
        "start_time": "2023-09-14T08:43:15.411Z"
      },
      {
        "duration": 16,
        "start_time": "2023-09-14T08:43:38.832Z"
      },
      {
        "duration": 19,
        "start_time": "2023-09-14T08:44:07.622Z"
      },
      {
        "duration": 64,
        "start_time": "2023-09-14T08:46:04.076Z"
      },
      {
        "duration": 26,
        "start_time": "2023-09-14T08:46:04.736Z"
      },
      {
        "duration": 24,
        "start_time": "2023-09-14T08:46:05.315Z"
      },
      {
        "duration": 59,
        "start_time": "2023-09-14T08:47:51.376Z"
      },
      {
        "duration": 146,
        "start_time": "2023-09-14T08:48:55.858Z"
      },
      {
        "duration": 15,
        "start_time": "2023-09-14T08:49:43.410Z"
      },
      {
        "duration": 10,
        "start_time": "2023-09-14T08:49:48.558Z"
      },
      {
        "duration": 220,
        "start_time": "2023-09-14T08:49:51.997Z"
      },
      {
        "duration": 261,
        "start_time": "2023-09-14T08:50:31.402Z"
      },
      {
        "duration": 249,
        "start_time": "2023-09-14T08:52:58.108Z"
      },
      {
        "duration": 18,
        "start_time": "2023-09-14T08:54:24.935Z"
      },
      {
        "duration": 16,
        "start_time": "2023-09-14T08:54:46.748Z"
      },
      {
        "duration": 214,
        "start_time": "2023-09-14T08:54:55.410Z"
      },
      {
        "duration": 209,
        "start_time": "2023-09-14T08:55:38.129Z"
      },
      {
        "duration": 252,
        "start_time": "2023-09-14T08:56:36.780Z"
      },
      {
        "duration": 260,
        "start_time": "2023-09-14T08:56:43.143Z"
      },
      {
        "duration": 321,
        "start_time": "2023-09-14T09:03:12.583Z"
      },
      {
        "duration": 290,
        "start_time": "2023-09-14T09:03:30.214Z"
      },
      {
        "duration": 293,
        "start_time": "2023-09-14T09:05:51.429Z"
      },
      {
        "duration": 301,
        "start_time": "2023-09-14T09:06:01.632Z"
      },
      {
        "duration": 385,
        "start_time": "2023-09-14T09:06:29.308Z"
      },
      {
        "duration": 294,
        "start_time": "2023-09-14T09:07:01.714Z"
      },
      {
        "duration": 1193,
        "start_time": "2023-09-14T09:13:26.806Z"
      },
      {
        "duration": 4,
        "start_time": "2023-09-14T09:13:28.001Z"
      },
      {
        "duration": 682,
        "start_time": "2023-09-14T09:13:28.008Z"
      },
      {
        "duration": 24,
        "start_time": "2023-09-14T09:13:28.693Z"
      },
      {
        "duration": 42,
        "start_time": "2023-09-14T09:13:28.718Z"
      },
      {
        "duration": 14,
        "start_time": "2023-09-14T09:13:28.762Z"
      },
      {
        "duration": 163,
        "start_time": "2023-09-14T09:13:28.778Z"
      },
      {
        "duration": 153,
        "start_time": "2023-09-14T09:13:28.943Z"
      },
      {
        "duration": 129,
        "start_time": "2023-09-14T09:13:29.098Z"
      },
      {
        "duration": 572,
        "start_time": "2023-09-14T09:13:29.231Z"
      },
      {
        "duration": 141,
        "start_time": "2023-09-14T09:13:29.808Z"
      },
      {
        "duration": 24,
        "start_time": "2023-09-14T09:13:29.950Z"
      },
      {
        "duration": 83,
        "start_time": "2023-09-14T09:13:29.976Z"
      },
      {
        "duration": 12,
        "start_time": "2023-09-14T09:13:30.061Z"
      },
      {
        "duration": 199,
        "start_time": "2023-09-14T09:13:30.075Z"
      },
      {
        "duration": 33,
        "start_time": "2023-09-14T09:13:30.276Z"
      },
      {
        "duration": 32,
        "start_time": "2023-09-14T09:13:30.312Z"
      },
      {
        "duration": 31,
        "start_time": "2023-09-14T09:13:30.347Z"
      },
      {
        "duration": 57,
        "start_time": "2023-09-14T09:13:30.380Z"
      },
      {
        "duration": 25,
        "start_time": "2023-09-14T09:13:30.439Z"
      },
      {
        "duration": 68,
        "start_time": "2023-09-14T09:13:30.466Z"
      },
      {
        "duration": 293,
        "start_time": "2023-09-14T09:13:30.536Z"
      },
      {
        "duration": 8,
        "start_time": "2023-09-14T09:13:30.832Z"
      },
      {
        "duration": 45,
        "start_time": "2023-09-14T09:13:30.842Z"
      },
      {
        "duration": 579,
        "start_time": "2023-09-14T09:13:30.889Z"
      },
      {
        "duration": 15,
        "start_time": "2023-09-14T09:13:31.470Z"
      },
      {
        "duration": 89,
        "start_time": "2023-09-14T09:13:31.487Z"
      },
      {
        "duration": 5,
        "start_time": "2023-09-14T09:13:31.581Z"
      },
      {
        "duration": 25,
        "start_time": "2023-09-14T09:13:31.588Z"
      },
      {
        "duration": 25,
        "start_time": "2023-09-14T09:13:31.615Z"
      },
      {
        "duration": 21,
        "start_time": "2023-09-14T09:13:31.642Z"
      },
      {
        "duration": 38,
        "start_time": "2023-09-14T09:13:31.665Z"
      },
      {
        "duration": 31,
        "start_time": "2023-09-14T09:13:31.705Z"
      },
      {
        "duration": 27,
        "start_time": "2023-09-14T09:13:31.738Z"
      },
      {
        "duration": 324,
        "start_time": "2023-09-14T09:13:31.767Z"
      },
      {
        "duration": 29,
        "start_time": "2023-09-14T09:13:32.092Z"
      },
      {
        "duration": 63,
        "start_time": "2023-09-14T09:13:32.123Z"
      },
      {
        "duration": 344,
        "start_time": "2023-09-14T09:13:32.188Z"
      },
      {
        "duration": 93,
        "start_time": "2023-09-14T09:13:32.535Z"
      },
      {
        "duration": 0,
        "start_time": "2023-09-14T09:13:32.630Z"
      },
      {
        "duration": 0,
        "start_time": "2023-09-14T09:13:32.632Z"
      },
      {
        "duration": 0,
        "start_time": "2023-09-14T09:13:32.633Z"
      },
      {
        "duration": 1,
        "start_time": "2023-09-14T09:13:32.634Z"
      },
      {
        "duration": 0,
        "start_time": "2023-09-14T09:13:32.636Z"
      },
      {
        "duration": 0,
        "start_time": "2023-09-14T09:13:32.638Z"
      },
      {
        "duration": 0,
        "start_time": "2023-09-14T09:13:32.639Z"
      },
      {
        "duration": 0,
        "start_time": "2023-09-14T09:13:32.640Z"
      },
      {
        "duration": 0,
        "start_time": "2023-09-14T09:13:32.642Z"
      },
      {
        "duration": 0,
        "start_time": "2023-09-14T09:13:32.643Z"
      },
      {
        "duration": 0,
        "start_time": "2023-09-14T09:13:32.644Z"
      },
      {
        "duration": 0,
        "start_time": "2023-09-14T09:13:32.645Z"
      },
      {
        "duration": 0,
        "start_time": "2023-09-14T09:13:32.647Z"
      },
      {
        "duration": 21,
        "start_time": "2023-09-14T09:32:56.102Z"
      },
      {
        "duration": 298,
        "start_time": "2023-09-14T09:35:08.742Z"
      },
      {
        "duration": 290,
        "start_time": "2023-09-14T09:35:18.692Z"
      },
      {
        "duration": 219,
        "start_time": "2023-09-14T09:36:18.386Z"
      },
      {
        "duration": 179,
        "start_time": "2023-09-14T09:36:29.501Z"
      },
      {
        "duration": 254,
        "start_time": "2023-09-14T09:37:39.515Z"
      },
      {
        "duration": 259,
        "start_time": "2023-09-14T09:37:49.879Z"
      },
      {
        "duration": 269,
        "start_time": "2023-09-14T09:38:06.617Z"
      },
      {
        "duration": 275,
        "start_time": "2023-09-14T09:38:20.365Z"
      },
      {
        "duration": 248,
        "start_time": "2023-09-14T09:39:17.711Z"
      },
      {
        "duration": 249,
        "start_time": "2023-09-14T09:39:44.049Z"
      },
      {
        "duration": 20,
        "start_time": "2023-09-14T09:46:50.168Z"
      },
      {
        "duration": 17,
        "start_time": "2023-09-14T09:47:48.097Z"
      },
      {
        "duration": 319,
        "start_time": "2023-09-14T09:49:23.100Z"
      },
      {
        "duration": 303,
        "start_time": "2023-09-14T09:49:37.531Z"
      },
      {
        "duration": 303,
        "start_time": "2023-09-14T09:49:50.594Z"
      },
      {
        "duration": 280,
        "start_time": "2023-09-14T09:50:17.341Z"
      },
      {
        "duration": 287,
        "start_time": "2023-09-14T09:55:39.949Z"
      },
      {
        "duration": 371,
        "start_time": "2023-09-14T09:56:10.503Z"
      },
      {
        "duration": 345,
        "start_time": "2023-09-14T09:56:54.545Z"
      },
      {
        "duration": 6,
        "start_time": "2023-09-14T10:47:32.538Z"
      },
      {
        "duration": 15,
        "start_time": "2023-09-14T10:47:32.547Z"
      },
      {
        "duration": 659,
        "start_time": "2023-09-14T10:47:32.565Z"
      },
      {
        "duration": 21,
        "start_time": "2023-09-14T10:47:33.226Z"
      },
      {
        "duration": 65,
        "start_time": "2023-09-14T10:47:33.249Z"
      },
      {
        "duration": 15,
        "start_time": "2023-09-14T10:47:33.316Z"
      },
      {
        "duration": 153,
        "start_time": "2023-09-14T10:47:33.332Z"
      },
      {
        "duration": 164,
        "start_time": "2023-09-14T10:47:33.487Z"
      },
      {
        "duration": 107,
        "start_time": "2023-09-14T10:47:33.653Z"
      },
      {
        "duration": 570,
        "start_time": "2023-09-14T10:47:33.763Z"
      },
      {
        "duration": 149,
        "start_time": "2023-09-14T10:47:34.335Z"
      },
      {
        "duration": 37,
        "start_time": "2023-09-14T10:47:34.486Z"
      },
      {
        "duration": 50,
        "start_time": "2023-09-14T10:47:34.525Z"
      },
      {
        "duration": 12,
        "start_time": "2023-09-14T10:47:34.610Z"
      },
      {
        "duration": 180,
        "start_time": "2023-09-14T10:47:34.625Z"
      },
      {
        "duration": 26,
        "start_time": "2023-09-14T10:47:34.807Z"
      },
      {
        "duration": 69,
        "start_time": "2023-09-14T10:47:34.835Z"
      },
      {
        "duration": 19,
        "start_time": "2023-09-14T10:47:34.906Z"
      },
      {
        "duration": 44,
        "start_time": "2023-09-14T10:47:34.927Z"
      },
      {
        "duration": 65,
        "start_time": "2023-09-14T10:47:34.973Z"
      },
      {
        "duration": 276,
        "start_time": "2023-09-14T10:47:35.040Z"
      },
      {
        "duration": 10,
        "start_time": "2023-09-14T10:47:43.532Z"
      },
      {
        "duration": 7,
        "start_time": "2023-09-14T10:49:26.938Z"
      },
      {
        "duration": 14,
        "start_time": "2023-09-14T10:49:27.318Z"
      },
      {
        "duration": 479,
        "start_time": "2023-09-14T10:49:27.877Z"
      },
      {
        "duration": 9,
        "start_time": "2023-09-14T10:49:34.312Z"
      },
      {
        "duration": 14,
        "start_time": "2023-09-14T10:49:34.611Z"
      },
      {
        "duration": 9,
        "start_time": "2023-09-14T10:49:36.176Z"
      },
      {
        "duration": 17,
        "start_time": "2023-09-14T10:49:36.354Z"
      },
      {
        "duration": 17,
        "start_time": "2023-09-14T10:49:36.543Z"
      },
      {
        "duration": 14,
        "start_time": "2023-09-14T10:49:38.912Z"
      },
      {
        "duration": 309,
        "start_time": "2023-09-14T10:49:39.219Z"
      },
      {
        "duration": 22,
        "start_time": "2023-09-14T10:49:41.259Z"
      },
      {
        "duration": 59,
        "start_time": "2023-09-14T10:49:41.742Z"
      },
      {
        "duration": 285,
        "start_time": "2023-09-14T10:49:41.962Z"
      },
      {
        "duration": 295,
        "start_time": "2023-09-14T10:49:47.962Z"
      },
      {
        "duration": 26,
        "start_time": "2023-09-14T10:51:58.111Z"
      },
      {
        "duration": 16,
        "start_time": "2023-09-14T10:52:20.773Z"
      },
      {
        "duration": 16,
        "start_time": "2023-09-14T10:52:21.466Z"
      },
      {
        "duration": 18,
        "start_time": "2023-09-14T10:54:49.186Z"
      },
      {
        "duration": 19,
        "start_time": "2023-09-14T10:54:49.857Z"
      },
      {
        "duration": 12,
        "start_time": "2023-09-14T10:56:25.559Z"
      },
      {
        "duration": 12,
        "start_time": "2023-09-14T10:56:36.628Z"
      },
      {
        "duration": 18,
        "start_time": "2023-09-14T10:57:14.162Z"
      },
      {
        "duration": 17,
        "start_time": "2023-09-14T11:01:52.821Z"
      },
      {
        "duration": 18,
        "start_time": "2023-09-14T11:01:53.639Z"
      },
      {
        "duration": 20,
        "start_time": "2023-09-14T11:01:59.800Z"
      },
      {
        "duration": 21,
        "start_time": "2023-09-14T11:20:56.823Z"
      },
      {
        "duration": 83,
        "start_time": "2023-09-14T11:22:05.121Z"
      },
      {
        "duration": 7,
        "start_time": "2023-09-14T11:22:18.660Z"
      },
      {
        "duration": 907,
        "start_time": "2023-09-14T11:22:30.942Z"
      },
      {
        "duration": 7,
        "start_time": "2023-09-14T11:22:45.657Z"
      },
      {
        "duration": 5,
        "start_time": "2023-09-14T11:23:04.170Z"
      },
      {
        "duration": 835,
        "start_time": "2023-09-14T11:24:09.740Z"
      },
      {
        "duration": 1065,
        "start_time": "2023-09-14T11:24:18.531Z"
      },
      {
        "duration": 1909,
        "start_time": "2023-09-14T11:25:21.594Z"
      },
      {
        "duration": 7,
        "start_time": "2023-09-14T11:25:32.835Z"
      },
      {
        "duration": 11,
        "start_time": "2023-09-14T11:25:43.123Z"
      },
      {
        "duration": 7,
        "start_time": "2023-09-14T11:25:50.455Z"
      },
      {
        "duration": 7,
        "start_time": "2023-09-14T11:26:03.567Z"
      },
      {
        "duration": 27,
        "start_time": "2023-09-14T11:26:15.097Z"
      },
      {
        "duration": 142,
        "start_time": "2023-09-14T11:26:25.883Z"
      },
      {
        "duration": 600,
        "start_time": "2023-09-14T11:26:41.956Z"
      },
      {
        "duration": 546,
        "start_time": "2023-09-14T11:27:32.463Z"
      },
      {
        "duration": 15,
        "start_time": "2023-09-14T11:27:43.652Z"
      },
      {
        "duration": 16,
        "start_time": "2023-09-14T11:27:49.938Z"
      },
      {
        "duration": 7,
        "start_time": "2023-09-14T11:27:54.262Z"
      },
      {
        "duration": 6,
        "start_time": "2023-09-14T11:28:41.437Z"
      },
      {
        "duration": 10,
        "start_time": "2023-09-14T11:32:44.438Z"
      },
      {
        "duration": 4,
        "start_time": "2023-09-14T11:33:17.701Z"
      },
      {
        "duration": 686,
        "start_time": "2023-09-14T11:34:09.140Z"
      },
      {
        "duration": 166,
        "start_time": "2023-09-14T11:34:27.194Z"
      },
      {
        "duration": 942,
        "start_time": "2023-09-14T11:35:21.985Z"
      },
      {
        "duration": 837,
        "start_time": "2023-09-14T11:35:45.782Z"
      },
      {
        "duration": 1085,
        "start_time": "2023-09-14T11:36:05.330Z"
      },
      {
        "duration": 1185,
        "start_time": "2023-09-14T11:36:24.238Z"
      },
      {
        "duration": 1083,
        "start_time": "2023-09-14T11:36:38.673Z"
      },
      {
        "duration": 21,
        "start_time": "2023-09-14T11:37:25.219Z"
      },
      {
        "duration": 16,
        "start_time": "2023-09-14T11:37:40.534Z"
      },
      {
        "duration": 15,
        "start_time": "2023-09-14T11:37:54.524Z"
      },
      {
        "duration": 31,
        "start_time": "2023-09-14T11:38:03.070Z"
      },
      {
        "duration": 15,
        "start_time": "2023-09-14T11:38:13.971Z"
      },
      {
        "duration": 26,
        "start_time": "2023-09-14T11:38:23.691Z"
      },
      {
        "duration": 409,
        "start_time": "2023-09-14T11:38:38.284Z"
      },
      {
        "duration": 282,
        "start_time": "2023-09-14T11:38:47.137Z"
      },
      {
        "duration": 7,
        "start_time": "2023-09-14T11:39:43.089Z"
      },
      {
        "duration": 18,
        "start_time": "2023-09-14T11:39:45.171Z"
      },
      {
        "duration": 5,
        "start_time": "2023-09-14T11:39:48.352Z"
      },
      {
        "duration": 5,
        "start_time": "2023-09-14T11:39:48.771Z"
      },
      {
        "duration": 35,
        "start_time": "2023-09-14T11:39:49.179Z"
      },
      {
        "duration": 292,
        "start_time": "2023-09-14T11:39:57.196Z"
      },
      {
        "duration": 26,
        "start_time": "2023-09-14T11:40:19.388Z"
      },
      {
        "duration": 411,
        "start_time": "2023-09-14T11:40:32.164Z"
      },
      {
        "duration": 482,
        "start_time": "2023-09-14T11:41:03.541Z"
      },
      {
        "duration": 391,
        "start_time": "2023-09-14T11:41:22.405Z"
      },
      {
        "duration": 407,
        "start_time": "2023-09-14T11:42:23.552Z"
      },
      {
        "duration": 328,
        "start_time": "2023-09-14T11:42:38.532Z"
      },
      {
        "duration": 331,
        "start_time": "2023-09-14T11:42:49.206Z"
      },
      {
        "duration": 332,
        "start_time": "2023-09-14T11:43:05.771Z"
      },
      {
        "duration": 453,
        "start_time": "2023-09-14T12:20:14.736Z"
      },
      {
        "duration": 324,
        "start_time": "2023-09-14T12:21:18.863Z"
      },
      {
        "duration": 331,
        "start_time": "2023-09-14T12:23:57.558Z"
      },
      {
        "duration": 6,
        "start_time": "2023-09-14T12:30:08.692Z"
      },
      {
        "duration": 329,
        "start_time": "2023-09-14T12:30:11.509Z"
      },
      {
        "duration": 1310,
        "start_time": "2023-09-14T12:30:34.496Z"
      },
      {
        "duration": 6,
        "start_time": "2023-09-14T12:30:35.809Z"
      },
      {
        "duration": 702,
        "start_time": "2023-09-14T12:30:35.816Z"
      },
      {
        "duration": 24,
        "start_time": "2023-09-14T12:30:36.520Z"
      },
      {
        "duration": 64,
        "start_time": "2023-09-14T12:30:36.546Z"
      },
      {
        "duration": 15,
        "start_time": "2023-09-14T12:30:36.612Z"
      },
      {
        "duration": 144,
        "start_time": "2023-09-14T12:30:36.629Z"
      },
      {
        "duration": 165,
        "start_time": "2023-09-14T12:30:36.775Z"
      },
      {
        "duration": 121,
        "start_time": "2023-09-14T12:30:36.942Z"
      },
      {
        "duration": 596,
        "start_time": "2023-09-14T12:30:37.065Z"
      },
      {
        "duration": 150,
        "start_time": "2023-09-14T12:30:37.663Z"
      },
      {
        "duration": 23,
        "start_time": "2023-09-14T12:30:37.815Z"
      },
      {
        "duration": 78,
        "start_time": "2023-09-14T12:30:37.840Z"
      },
      {
        "duration": 10,
        "start_time": "2023-09-14T12:30:37.922Z"
      },
      {
        "duration": 165,
        "start_time": "2023-09-14T12:30:37.933Z"
      },
      {
        "duration": 27,
        "start_time": "2023-09-14T12:30:38.100Z"
      },
      {
        "duration": 27,
        "start_time": "2023-09-14T12:30:38.129Z"
      },
      {
        "duration": 18,
        "start_time": "2023-09-14T12:30:38.158Z"
      },
      {
        "duration": 61,
        "start_time": "2023-09-14T12:30:38.178Z"
      },
      {
        "duration": 43,
        "start_time": "2023-09-14T12:30:38.241Z"
      },
      {
        "duration": 272,
        "start_time": "2023-09-14T12:30:38.286Z"
      },
      {
        "duration": 9,
        "start_time": "2023-09-14T12:30:38.561Z"
      },
      {
        "duration": 17,
        "start_time": "2023-09-14T12:30:38.572Z"
      },
      {
        "duration": 563,
        "start_time": "2023-09-14T12:30:38.590Z"
      },
      {
        "duration": 9,
        "start_time": "2023-09-14T12:30:39.155Z"
      },
      {
        "duration": 13,
        "start_time": "2023-09-14T12:30:39.166Z"
      },
      {
        "duration": 30,
        "start_time": "2023-09-14T12:30:39.181Z"
      },
      {
        "duration": 15,
        "start_time": "2023-09-14T12:30:39.213Z"
      },
      {
        "duration": 16,
        "start_time": "2023-09-14T12:30:39.230Z"
      },
      {
        "duration": 11,
        "start_time": "2023-09-14T12:30:39.248Z"
      },
      {
        "duration": 346,
        "start_time": "2023-09-14T12:30:39.261Z"
      },
      {
        "duration": 21,
        "start_time": "2023-09-14T12:30:39.608Z"
      },
      {
        "duration": 59,
        "start_time": "2023-09-14T12:30:39.630Z"
      },
      {
        "duration": 305,
        "start_time": "2023-09-14T12:30:39.690Z"
      },
      {
        "duration": 297,
        "start_time": "2023-09-14T12:30:39.997Z"
      },
      {
        "duration": 25,
        "start_time": "2023-09-14T12:30:40.295Z"
      },
      {
        "duration": 27,
        "start_time": "2023-09-14T12:30:40.321Z"
      },
      {
        "duration": 78,
        "start_time": "2023-09-14T12:30:40.350Z"
      },
      {
        "duration": 104,
        "start_time": "2023-09-14T12:30:40.430Z"
      },
      {
        "duration": 51,
        "start_time": "2023-09-14T12:30:40.536Z"
      },
      {
        "duration": 135,
        "start_time": "2023-09-14T12:30:40.592Z"
      },
      {
        "duration": 0,
        "start_time": "2023-09-14T12:30:40.729Z"
      },
      {
        "duration": 0,
        "start_time": "2023-09-14T12:30:40.730Z"
      },
      {
        "duration": 326,
        "start_time": "2023-09-14T12:31:18.669Z"
      },
      {
        "duration": 6,
        "start_time": "2023-09-14T12:31:19.485Z"
      },
      {
        "duration": 359,
        "start_time": "2023-09-14T12:33:12.617Z"
      },
      {
        "duration": 106,
        "start_time": "2023-09-14T12:46:44.203Z"
      },
      {
        "duration": 4,
        "start_time": "2023-09-14T12:47:01.607Z"
      },
      {
        "duration": 50,
        "start_time": "2023-09-14T12:47:01.613Z"
      },
      {
        "duration": 705,
        "start_time": "2023-09-14T12:47:01.665Z"
      },
      {
        "duration": 35,
        "start_time": "2023-09-14T12:47:02.372Z"
      },
      {
        "duration": 56,
        "start_time": "2023-09-14T12:47:02.410Z"
      },
      {
        "duration": 44,
        "start_time": "2023-09-14T12:47:02.468Z"
      },
      {
        "duration": 197,
        "start_time": "2023-09-14T12:47:02.515Z"
      },
      {
        "duration": 149,
        "start_time": "2023-09-14T12:47:02.714Z"
      },
      {
        "duration": 110,
        "start_time": "2023-09-14T12:47:02.865Z"
      },
      {
        "duration": 559,
        "start_time": "2023-09-14T12:47:02.977Z"
      },
      {
        "duration": 138,
        "start_time": "2023-09-14T12:47:03.538Z"
      },
      {
        "duration": 39,
        "start_time": "2023-09-14T12:47:03.677Z"
      },
      {
        "duration": 47,
        "start_time": "2023-09-14T12:47:03.718Z"
      },
      {
        "duration": 10,
        "start_time": "2023-09-14T12:47:03.768Z"
      },
      {
        "duration": 159,
        "start_time": "2023-09-14T12:47:03.810Z"
      },
      {
        "duration": 26,
        "start_time": "2023-09-14T12:47:03.970Z"
      },
      {
        "duration": 34,
        "start_time": "2023-09-14T12:47:04.009Z"
      },
      {
        "duration": 18,
        "start_time": "2023-09-14T12:47:04.045Z"
      },
      {
        "duration": 58,
        "start_time": "2023-09-14T12:47:04.065Z"
      },
      {
        "duration": 43,
        "start_time": "2023-09-14T12:47:04.124Z"
      },
      {
        "duration": 246,
        "start_time": "2023-09-14T12:47:04.169Z"
      },
      {
        "duration": 6,
        "start_time": "2023-09-14T12:47:04.417Z"
      },
      {
        "duration": 75,
        "start_time": "2023-09-14T12:47:04.424Z"
      },
      {
        "duration": 478,
        "start_time": "2023-09-14T12:47:08.912Z"
      },
      {
        "duration": 486,
        "start_time": "2023-09-14T12:47:29.253Z"
      },
      {
        "duration": 495,
        "start_time": "2023-09-14T12:47:58.481Z"
      },
      {
        "duration": 501,
        "start_time": "2023-09-14T12:48:44.011Z"
      },
      {
        "duration": 500,
        "start_time": "2023-09-14T12:51:49.909Z"
      },
      {
        "duration": 600,
        "start_time": "2023-09-14T12:51:57.541Z"
      },
      {
        "duration": 499,
        "start_time": "2023-09-14T12:52:04.300Z"
      },
      {
        "duration": 1265,
        "start_time": "2023-09-14T12:53:38.891Z"
      },
      {
        "duration": 5,
        "start_time": "2023-09-14T12:53:40.158Z"
      },
      {
        "duration": 692,
        "start_time": "2023-09-14T12:53:40.165Z"
      },
      {
        "duration": 24,
        "start_time": "2023-09-14T12:53:40.859Z"
      },
      {
        "duration": 48,
        "start_time": "2023-09-14T12:53:40.886Z"
      },
      {
        "duration": 14,
        "start_time": "2023-09-14T12:53:40.936Z"
      },
      {
        "duration": 165,
        "start_time": "2023-09-14T12:53:40.952Z"
      },
      {
        "duration": 137,
        "start_time": "2023-09-14T12:53:41.118Z"
      },
      {
        "duration": 120,
        "start_time": "2023-09-14T12:53:41.257Z"
      },
      {
        "duration": 619,
        "start_time": "2023-09-14T12:53:41.379Z"
      },
      {
        "duration": 151,
        "start_time": "2023-09-14T12:53:42.000Z"
      },
      {
        "duration": 24,
        "start_time": "2023-09-14T12:53:42.153Z"
      },
      {
        "duration": 83,
        "start_time": "2023-09-14T12:53:42.179Z"
      },
      {
        "duration": 63,
        "start_time": "2023-09-14T12:53:42.266Z"
      },
      {
        "duration": 265,
        "start_time": "2023-09-14T12:53:42.332Z"
      },
      {
        "duration": 35,
        "start_time": "2023-09-14T12:53:42.600Z"
      },
      {
        "duration": 31,
        "start_time": "2023-09-14T12:53:42.638Z"
      },
      {
        "duration": 43,
        "start_time": "2023-09-14T12:53:42.671Z"
      },
      {
        "duration": 44,
        "start_time": "2023-09-14T12:53:42.716Z"
      },
      {
        "duration": 64,
        "start_time": "2023-09-14T12:53:42.762Z"
      },
      {
        "duration": 276,
        "start_time": "2023-09-14T12:53:42.827Z"
      },
      {
        "duration": 8,
        "start_time": "2023-09-14T12:53:43.105Z"
      },
      {
        "duration": 15,
        "start_time": "2023-09-14T12:53:43.115Z"
      },
      {
        "duration": 589,
        "start_time": "2023-09-14T12:53:43.132Z"
      },
      {
        "duration": 9,
        "start_time": "2023-09-14T12:53:43.724Z"
      },
      {
        "duration": 19,
        "start_time": "2023-09-14T12:53:43.735Z"
      },
      {
        "duration": 35,
        "start_time": "2023-09-14T12:53:43.756Z"
      },
      {
        "duration": 14,
        "start_time": "2023-09-14T12:53:43.793Z"
      },
      {
        "duration": 14,
        "start_time": "2023-09-14T12:53:43.810Z"
      },
      {
        "duration": 12,
        "start_time": "2023-09-14T12:53:43.826Z"
      },
      {
        "duration": 353,
        "start_time": "2023-09-14T12:53:43.839Z"
      },
      {
        "duration": 27,
        "start_time": "2023-09-14T12:53:44.194Z"
      },
      {
        "duration": 61,
        "start_time": "2023-09-14T12:53:44.222Z"
      },
      {
        "duration": 310,
        "start_time": "2023-09-14T12:53:44.285Z"
      },
      {
        "duration": 309,
        "start_time": "2023-09-14T12:53:44.597Z"
      },
      {
        "duration": 17,
        "start_time": "2023-09-14T12:53:44.910Z"
      },
      {
        "duration": 68,
        "start_time": "2023-09-14T12:53:44.929Z"
      },
      {
        "duration": 8,
        "start_time": "2023-09-14T12:53:44.999Z"
      },
      {
        "duration": 153,
        "start_time": "2023-09-14T12:53:45.009Z"
      },
      {
        "duration": 6,
        "start_time": "2023-09-14T12:53:45.163Z"
      },
      {
        "duration": 373,
        "start_time": "2023-09-14T12:53:45.172Z"
      },
      {
        "duration": 6,
        "start_time": "2023-09-14T12:53:45.547Z"
      },
      {
        "duration": 19,
        "start_time": "2023-09-14T13:01:29.561Z"
      },
      {
        "duration": 5,
        "start_time": "2023-09-14T13:01:44.710Z"
      },
      {
        "duration": 103,
        "start_time": "2023-09-14T13:01:53.029Z"
      },
      {
        "duration": 13,
        "start_time": "2023-09-14T13:02:09.546Z"
      },
      {
        "duration": 21,
        "start_time": "2023-09-14T13:03:31.855Z"
      },
      {
        "duration": 25,
        "start_time": "2023-09-14T13:05:04.301Z"
      },
      {
        "duration": 31,
        "start_time": "2023-09-14T13:06:08.216Z"
      },
      {
        "duration": 122,
        "start_time": "2023-09-14T13:07:07.606Z"
      },
      {
        "duration": 40,
        "start_time": "2023-09-14T13:07:24.918Z"
      },
      {
        "duration": 42,
        "start_time": "2023-09-14T13:08:27.987Z"
      },
      {
        "duration": 44,
        "start_time": "2023-09-14T13:09:19.344Z"
      },
      {
        "duration": 12,
        "start_time": "2023-09-14T13:09:28.385Z"
      },
      {
        "duration": 10,
        "start_time": "2023-09-14T13:09:41.086Z"
      },
      {
        "duration": 31,
        "start_time": "2023-09-14T13:10:18.498Z"
      },
      {
        "duration": 9,
        "start_time": "2023-09-14T13:10:20.154Z"
      },
      {
        "duration": 7,
        "start_time": "2023-09-14T13:10:29.781Z"
      },
      {
        "duration": 37,
        "start_time": "2023-09-14T13:10:58.631Z"
      },
      {
        "duration": 7,
        "start_time": "2023-09-14T13:11:00.600Z"
      },
      {
        "duration": 10,
        "start_time": "2023-09-14T13:11:57.606Z"
      },
      {
        "duration": 28,
        "start_time": "2023-09-14T13:14:02.836Z"
      },
      {
        "duration": 38,
        "start_time": "2023-09-14T13:14:07.466Z"
      },
      {
        "duration": 431,
        "start_time": "2023-09-14T13:27:32.544Z"
      },
      {
        "duration": 285,
        "start_time": "2023-09-14T13:28:39.926Z"
      },
      {
        "duration": 21,
        "start_time": "2023-09-14T13:30:39.329Z"
      },
      {
        "duration": 248,
        "start_time": "2023-09-14T13:31:16.664Z"
      },
      {
        "duration": 228,
        "start_time": "2023-09-14T13:31:37.540Z"
      },
      {
        "duration": 143,
        "start_time": "2023-09-14T13:32:03.259Z"
      },
      {
        "duration": 124,
        "start_time": "2023-09-14T13:32:11.885Z"
      },
      {
        "duration": 167,
        "start_time": "2023-09-14T13:32:22.125Z"
      },
      {
        "duration": 115,
        "start_time": "2023-09-14T13:32:46.082Z"
      },
      {
        "duration": 87,
        "start_time": "2023-09-14T13:33:12.997Z"
      },
      {
        "duration": 123,
        "start_time": "2023-09-14T13:33:28.115Z"
      },
      {
        "duration": 12,
        "start_time": "2023-09-14T13:39:24.507Z"
      },
      {
        "duration": 10,
        "start_time": "2023-09-14T13:39:38.651Z"
      },
      {
        "duration": 9,
        "start_time": "2023-09-14T13:40:07.635Z"
      },
      {
        "duration": 9,
        "start_time": "2023-09-14T13:40:14.828Z"
      },
      {
        "duration": 9,
        "start_time": "2023-09-14T13:40:59.074Z"
      },
      {
        "duration": 9,
        "start_time": "2023-09-14T13:40:59.603Z"
      },
      {
        "duration": 9,
        "start_time": "2023-09-14T13:41:29.079Z"
      },
      {
        "duration": 8,
        "start_time": "2023-09-14T13:41:29.520Z"
      },
      {
        "duration": 39,
        "start_time": "2023-09-14T13:57:58.306Z"
      },
      {
        "duration": 39,
        "start_time": "2023-09-14T13:58:04.051Z"
      },
      {
        "duration": 6,
        "start_time": "2023-09-14T13:58:41.753Z"
      },
      {
        "duration": 8,
        "start_time": "2023-09-14T13:58:54.276Z"
      },
      {
        "duration": 131,
        "start_time": "2023-09-14T13:59:16.285Z"
      },
      {
        "duration": 48,
        "start_time": "2023-09-14T13:59:44.513Z"
      },
      {
        "duration": 244,
        "start_time": "2023-09-14T13:59:45.800Z"
      },
      {
        "duration": 9,
        "start_time": "2023-09-14T14:00:01.210Z"
      },
      {
        "duration": 46,
        "start_time": "2023-09-14T14:00:08.248Z"
      },
      {
        "duration": 8,
        "start_time": "2023-09-14T14:00:08.595Z"
      },
      {
        "duration": 10,
        "start_time": "2023-09-14T14:00:14.490Z"
      },
      {
        "duration": 39,
        "start_time": "2023-09-14T14:00:19.284Z"
      },
      {
        "duration": 9,
        "start_time": "2023-09-14T14:00:20.039Z"
      },
      {
        "duration": 46,
        "start_time": "2023-09-14T14:00:33.546Z"
      },
      {
        "duration": 9,
        "start_time": "2023-09-14T14:00:35.976Z"
      },
      {
        "duration": 48,
        "start_time": "2023-09-14T14:00:39.092Z"
      },
      {
        "duration": 8,
        "start_time": "2023-09-14T14:00:39.582Z"
      },
      {
        "duration": 42,
        "start_time": "2023-09-14T14:00:45.879Z"
      },
      {
        "duration": 9,
        "start_time": "2023-09-14T14:00:47.907Z"
      },
      {
        "duration": 141,
        "start_time": "2023-09-14T14:00:56.426Z"
      },
      {
        "duration": 46,
        "start_time": "2023-09-14T14:01:38.815Z"
      },
      {
        "duration": 8,
        "start_time": "2023-09-14T14:01:39.219Z"
      },
      {
        "duration": 147,
        "start_time": "2023-09-14T14:01:41.443Z"
      },
      {
        "duration": 39,
        "start_time": "2023-09-14T14:01:58.642Z"
      },
      {
        "duration": 117,
        "start_time": "2023-09-14T14:02:56.948Z"
      },
      {
        "duration": 115,
        "start_time": "2023-09-14T14:03:19.117Z"
      },
      {
        "duration": 123,
        "start_time": "2023-09-14T14:03:33.236Z"
      },
      {
        "duration": 11,
        "start_time": "2023-09-14T14:04:32.806Z"
      },
      {
        "duration": 13,
        "start_time": "2023-09-14T14:04:42.500Z"
      },
      {
        "duration": 10,
        "start_time": "2023-09-14T14:04:51.731Z"
      },
      {
        "duration": 11,
        "start_time": "2023-09-14T14:04:56.719Z"
      },
      {
        "duration": 7,
        "start_time": "2023-09-14T14:05:19.803Z"
      },
      {
        "duration": 161,
        "start_time": "2023-09-14T14:05:31.213Z"
      },
      {
        "duration": 7,
        "start_time": "2023-09-14T14:05:35.665Z"
      },
      {
        "duration": 7,
        "start_time": "2023-09-14T14:06:13.639Z"
      },
      {
        "duration": 4,
        "start_time": "2023-09-14T14:07:18.854Z"
      },
      {
        "duration": 5,
        "start_time": "2023-09-14T14:07:38.017Z"
      },
      {
        "duration": 44,
        "start_time": "2023-09-14T14:07:44.081Z"
      },
      {
        "duration": 19,
        "start_time": "2023-09-14T15:38:20.072Z"
      },
      {
        "duration": 22,
        "start_time": "2023-09-14T15:39:02.476Z"
      },
      {
        "duration": 17,
        "start_time": "2023-09-14T15:40:12.352Z"
      },
      {
        "duration": 17,
        "start_time": "2023-09-14T15:40:50.081Z"
      },
      {
        "duration": 25,
        "start_time": "2023-09-14T15:41:05.995Z"
      },
      {
        "duration": 12,
        "start_time": "2023-09-14T15:41:14.020Z"
      },
      {
        "duration": 37,
        "start_time": "2023-09-14T15:45:17.291Z"
      },
      {
        "duration": 1290,
        "start_time": "2023-09-14T15:45:24.426Z"
      },
      {
        "duration": 6,
        "start_time": "2023-09-14T15:45:25.718Z"
      },
      {
        "duration": 719,
        "start_time": "2023-09-14T15:45:25.726Z"
      },
      {
        "duration": 27,
        "start_time": "2023-09-14T15:45:26.447Z"
      },
      {
        "duration": 57,
        "start_time": "2023-09-14T15:45:26.476Z"
      },
      {
        "duration": 14,
        "start_time": "2023-09-14T15:45:26.535Z"
      },
      {
        "duration": 180,
        "start_time": "2023-09-14T15:45:26.551Z"
      },
      {
        "duration": 147,
        "start_time": "2023-09-14T15:45:26.733Z"
      },
      {
        "duration": 135,
        "start_time": "2023-09-14T15:45:26.882Z"
      },
      {
        "duration": 580,
        "start_time": "2023-09-14T15:45:27.019Z"
      },
      {
        "duration": 148,
        "start_time": "2023-09-14T15:45:27.601Z"
      },
      {
        "duration": 23,
        "start_time": "2023-09-14T15:45:27.751Z"
      },
      {
        "duration": 76,
        "start_time": "2023-09-14T15:45:27.777Z"
      },
      {
        "duration": 10,
        "start_time": "2023-09-14T15:45:27.857Z"
      },
      {
        "duration": 187,
        "start_time": "2023-09-14T15:45:27.868Z"
      },
      {
        "duration": 25,
        "start_time": "2023-09-14T15:45:28.057Z"
      },
      {
        "duration": 53,
        "start_time": "2023-09-14T15:45:28.084Z"
      },
      {
        "duration": 19,
        "start_time": "2023-09-14T15:45:28.139Z"
      },
      {
        "duration": 52,
        "start_time": "2023-09-14T15:45:28.159Z"
      },
      {
        "duration": 42,
        "start_time": "2023-09-14T15:45:28.213Z"
      },
      {
        "duration": 268,
        "start_time": "2023-09-14T15:45:28.257Z"
      },
      {
        "duration": 7,
        "start_time": "2023-09-14T15:45:28.527Z"
      },
      {
        "duration": 19,
        "start_time": "2023-09-14T15:45:28.535Z"
      },
      {
        "duration": 593,
        "start_time": "2023-09-14T15:45:28.556Z"
      },
      {
        "duration": 8,
        "start_time": "2023-09-14T15:45:29.151Z"
      },
      {
        "duration": 50,
        "start_time": "2023-09-14T15:45:29.161Z"
      },
      {
        "duration": 42,
        "start_time": "2023-09-14T15:45:29.213Z"
      },
      {
        "duration": 39,
        "start_time": "2023-09-14T15:45:29.257Z"
      },
      {
        "duration": 37,
        "start_time": "2023-09-14T15:45:29.298Z"
      },
      {
        "duration": 40,
        "start_time": "2023-09-14T15:45:29.337Z"
      },
      {
        "duration": 343,
        "start_time": "2023-09-14T15:45:29.379Z"
      },
      {
        "duration": 20,
        "start_time": "2023-09-14T15:45:29.724Z"
      },
      {
        "duration": 75,
        "start_time": "2023-09-14T15:45:29.746Z"
      },
      {
        "duration": 300,
        "start_time": "2023-09-14T15:45:29.823Z"
      },
      {
        "duration": 303,
        "start_time": "2023-09-14T15:45:30.124Z"
      },
      {
        "duration": 18,
        "start_time": "2023-09-14T15:45:30.429Z"
      },
      {
        "duration": 67,
        "start_time": "2023-09-14T15:45:30.448Z"
      },
      {
        "duration": 73,
        "start_time": "2023-09-14T15:45:30.516Z"
      },
      {
        "duration": 72,
        "start_time": "2023-09-14T15:45:30.591Z"
      },
      {
        "duration": 48,
        "start_time": "2023-09-14T15:45:30.665Z"
      },
      {
        "duration": 361,
        "start_time": "2023-09-14T15:45:30.717Z"
      },
      {
        "duration": 7,
        "start_time": "2023-09-14T15:45:31.079Z"
      },
      {
        "duration": 170,
        "start_time": "2023-09-14T15:45:31.087Z"
      },
      {
        "duration": 103,
        "start_time": "2023-09-14T15:45:31.259Z"
      },
      {
        "duration": 163,
        "start_time": "2023-09-14T15:45:31.364Z"
      },
      {
        "duration": 0,
        "start_time": "2023-09-14T15:45:31.529Z"
      },
      {
        "duration": 0,
        "start_time": "2023-09-14T15:45:31.529Z"
      },
      {
        "duration": 0,
        "start_time": "2023-09-14T15:45:31.531Z"
      },
      {
        "duration": 0,
        "start_time": "2023-09-14T15:45:31.532Z"
      },
      {
        "duration": 0,
        "start_time": "2023-09-14T15:45:31.533Z"
      },
      {
        "duration": 0,
        "start_time": "2023-09-14T15:45:31.534Z"
      },
      {
        "duration": 0,
        "start_time": "2023-09-14T15:45:31.534Z"
      },
      {
        "duration": 0,
        "start_time": "2023-09-14T15:45:31.535Z"
      },
      {
        "duration": 0,
        "start_time": "2023-09-14T15:45:31.536Z"
      },
      {
        "duration": 0,
        "start_time": "2023-09-14T15:45:31.537Z"
      },
      {
        "duration": 0,
        "start_time": "2023-09-14T15:45:31.539Z"
      },
      {
        "duration": 47,
        "start_time": "2023-09-14T15:49:01.758Z"
      },
      {
        "duration": 5,
        "start_time": "2023-09-14T15:49:03.274Z"
      },
      {
        "duration": 131,
        "start_time": "2023-09-14T15:49:09.038Z"
      },
      {
        "duration": 57,
        "start_time": "2023-09-14T15:57:45.224Z"
      },
      {
        "duration": 5,
        "start_time": "2023-09-14T15:57:47.475Z"
      },
      {
        "duration": 11,
        "start_time": "2023-09-14T15:59:35.460Z"
      },
      {
        "duration": 52,
        "start_time": "2023-09-14T15:59:43.780Z"
      },
      {
        "duration": 2544,
        "start_time": "2023-09-14T16:04:07.137Z"
      },
      {
        "duration": 24,
        "start_time": "2023-09-14T16:04:25.621Z"
      },
      {
        "duration": 14,
        "start_time": "2023-09-14T16:06:29.731Z"
      },
      {
        "duration": 36,
        "start_time": "2023-09-14T16:06:38.375Z"
      },
      {
        "duration": 22,
        "start_time": "2023-09-14T16:07:27.591Z"
      },
      {
        "duration": 28,
        "start_time": "2023-09-14T16:07:35.275Z"
      },
      {
        "duration": 117,
        "start_time": "2023-09-14T16:07:50.232Z"
      },
      {
        "duration": 27,
        "start_time": "2023-09-14T16:08:20.953Z"
      },
      {
        "duration": 44,
        "start_time": "2023-09-14T16:08:26.601Z"
      },
      {
        "duration": 25,
        "start_time": "2023-09-14T16:10:03.481Z"
      },
      {
        "duration": 27,
        "start_time": "2023-09-14T16:10:23.753Z"
      },
      {
        "duration": 18,
        "start_time": "2023-09-14T16:13:03.527Z"
      },
      {
        "duration": 98,
        "start_time": "2023-09-14T16:13:25.006Z"
      },
      {
        "duration": 36,
        "start_time": "2023-09-14T16:13:31.828Z"
      },
      {
        "duration": 29,
        "start_time": "2023-09-14T16:15:24.479Z"
      },
      {
        "duration": 32,
        "start_time": "2023-09-14T16:15:30.775Z"
      },
      {
        "duration": 35,
        "start_time": "2023-09-14T16:15:41.917Z"
      },
      {
        "duration": 35,
        "start_time": "2023-09-14T16:16:01.211Z"
      },
      {
        "duration": 9,
        "start_time": "2023-09-14T16:17:26.730Z"
      },
      {
        "duration": 26,
        "start_time": "2023-09-14T16:17:42.033Z"
      },
      {
        "duration": 24,
        "start_time": "2023-09-14T16:18:10.621Z"
      },
      {
        "duration": 30,
        "start_time": "2023-09-14T16:18:49.599Z"
      },
      {
        "duration": 26,
        "start_time": "2023-09-14T16:18:57.296Z"
      },
      {
        "duration": 27,
        "start_time": "2023-09-14T16:19:24.599Z"
      },
      {
        "duration": 28,
        "start_time": "2023-09-14T16:19:42.538Z"
      },
      {
        "duration": 36,
        "start_time": "2023-09-14T16:20:10.309Z"
      },
      {
        "duration": 21,
        "start_time": "2023-09-14T16:20:30.045Z"
      },
      {
        "duration": 31,
        "start_time": "2023-09-14T16:20:32.132Z"
      },
      {
        "duration": 20,
        "start_time": "2023-09-14T16:20:42.821Z"
      },
      {
        "duration": 20,
        "start_time": "2023-09-14T16:21:00.578Z"
      },
      {
        "duration": 7,
        "start_time": "2023-09-14T16:21:05.522Z"
      },
      {
        "duration": 7,
        "start_time": "2023-09-14T16:22:17.961Z"
      },
      {
        "duration": 9,
        "start_time": "2023-09-14T16:22:25.650Z"
      },
      {
        "duration": 21,
        "start_time": "2023-09-14T16:22:54.328Z"
      },
      {
        "duration": 11,
        "start_time": "2023-09-14T16:22:56.372Z"
      },
      {
        "duration": 32,
        "start_time": "2023-09-14T16:23:03.407Z"
      },
      {
        "duration": 10,
        "start_time": "2023-09-14T16:23:06.576Z"
      },
      {
        "duration": 4,
        "start_time": "2023-09-14T16:27:27.781Z"
      },
      {
        "duration": 5,
        "start_time": "2023-09-14T16:27:49.924Z"
      },
      {
        "duration": 16,
        "start_time": "2023-09-14T16:27:57.609Z"
      },
      {
        "duration": 34,
        "start_time": "2023-09-14T17:58:19.568Z"
      },
      {
        "duration": 5,
        "start_time": "2023-09-14T17:58:51.948Z"
      },
      {
        "duration": 8,
        "start_time": "2023-09-14T17:58:54.167Z"
      },
      {
        "duration": 1232,
        "start_time": "2023-09-14T17:59:08.345Z"
      },
      {
        "duration": 5,
        "start_time": "2023-09-14T17:59:09.579Z"
      },
      {
        "duration": 683,
        "start_time": "2023-09-14T17:59:09.585Z"
      },
      {
        "duration": 27,
        "start_time": "2023-09-14T17:59:10.270Z"
      },
      {
        "duration": 45,
        "start_time": "2023-09-14T17:59:10.310Z"
      },
      {
        "duration": 14,
        "start_time": "2023-09-14T17:59:10.357Z"
      },
      {
        "duration": 173,
        "start_time": "2023-09-14T17:59:10.373Z"
      },
      {
        "duration": 162,
        "start_time": "2023-09-14T17:59:10.547Z"
      },
      {
        "duration": 122,
        "start_time": "2023-09-14T17:59:10.711Z"
      },
      {
        "duration": 575,
        "start_time": "2023-09-14T17:59:10.835Z"
      },
      {
        "duration": 147,
        "start_time": "2023-09-14T17:59:11.412Z"
      },
      {
        "duration": 50,
        "start_time": "2023-09-14T17:59:11.561Z"
      },
      {
        "duration": 48,
        "start_time": "2023-09-14T17:59:11.613Z"
      },
      {
        "duration": 9,
        "start_time": "2023-09-14T17:59:11.663Z"
      },
      {
        "duration": 175,
        "start_time": "2023-09-14T17:59:11.674Z"
      },
      {
        "duration": 24,
        "start_time": "2023-09-14T17:59:11.851Z"
      },
      {
        "duration": 39,
        "start_time": "2023-09-14T17:59:11.877Z"
      },
      {
        "duration": 20,
        "start_time": "2023-09-14T17:59:11.918Z"
      },
      {
        "duration": 41,
        "start_time": "2023-09-14T17:59:11.940Z"
      },
      {
        "duration": 68,
        "start_time": "2023-09-14T17:59:11.983Z"
      },
      {
        "duration": 291,
        "start_time": "2023-09-14T17:59:12.053Z"
      },
      {
        "duration": 6,
        "start_time": "2023-09-14T17:59:12.346Z"
      },
      {
        "duration": 17,
        "start_time": "2023-09-14T17:59:12.354Z"
      },
      {
        "duration": 652,
        "start_time": "2023-09-14T17:59:12.372Z"
      },
      {
        "duration": 8,
        "start_time": "2023-09-14T17:59:13.025Z"
      },
      {
        "duration": 14,
        "start_time": "2023-09-14T17:59:13.035Z"
      },
      {
        "duration": 8,
        "start_time": "2023-09-14T17:59:13.051Z"
      },
      {
        "duration": 15,
        "start_time": "2023-09-14T17:59:13.062Z"
      },
      {
        "duration": 42,
        "start_time": "2023-09-14T17:59:13.078Z"
      },
      {
        "duration": 12,
        "start_time": "2023-09-14T17:59:13.122Z"
      },
      {
        "duration": 318,
        "start_time": "2023-09-14T17:59:13.135Z"
      },
      {
        "duration": 20,
        "start_time": "2023-09-14T17:59:13.455Z"
      },
      {
        "duration": 74,
        "start_time": "2023-09-14T17:59:13.477Z"
      },
      {
        "duration": 298,
        "start_time": "2023-09-14T17:59:13.553Z"
      },
      {
        "duration": 295,
        "start_time": "2023-09-14T17:59:13.853Z"
      },
      {
        "duration": 18,
        "start_time": "2023-09-14T17:59:14.149Z"
      },
      {
        "duration": 18,
        "start_time": "2023-09-14T17:59:14.169Z"
      },
      {
        "duration": 7,
        "start_time": "2023-09-14T17:59:14.209Z"
      },
      {
        "duration": 19,
        "start_time": "2023-09-14T17:59:14.217Z"
      },
      {
        "duration": 6,
        "start_time": "2023-09-14T17:59:14.238Z"
      },
      {
        "duration": 369,
        "start_time": "2023-09-14T17:59:14.245Z"
      },
      {
        "duration": 8,
        "start_time": "2023-09-14T17:59:14.615Z"
      },
      {
        "duration": 35,
        "start_time": "2023-09-14T17:59:14.624Z"
      },
      {
        "duration": 5,
        "start_time": "2023-09-14T17:59:14.660Z"
      },
      {
        "duration": 10,
        "start_time": "2023-09-14T17:59:14.667Z"
      },
      {
        "duration": 43,
        "start_time": "2023-09-14T17:59:14.679Z"
      },
      {
        "duration": 25,
        "start_time": "2023-09-14T17:59:14.724Z"
      },
      {
        "duration": 79,
        "start_time": "2023-09-14T17:59:14.751Z"
      },
      {
        "duration": 55,
        "start_time": "2023-09-14T17:59:14.832Z"
      },
      {
        "duration": 6,
        "start_time": "2023-09-14T17:59:14.890Z"
      },
      {
        "duration": 152,
        "start_time": "2023-09-14T17:59:14.910Z"
      },
      {
        "duration": 58,
        "start_time": "2023-09-14T17:59:15.064Z"
      },
      {
        "duration": 252,
        "start_time": "2023-09-14T17:59:15.124Z"
      },
      {
        "duration": 153,
        "start_time": "2023-09-14T17:59:15.378Z"
      },
      {
        "duration": 126,
        "start_time": "2023-09-14T17:59:15.534Z"
      },
      {
        "duration": 9,
        "start_time": "2023-09-14T17:59:15.662Z"
      },
      {
        "duration": 8,
        "start_time": "2023-09-14T17:59:15.672Z"
      },
      {
        "duration": 120,
        "start_time": "2023-09-14T17:59:15.682Z"
      },
      {
        "duration": 0,
        "start_time": "2023-09-14T17:59:15.804Z"
      },
      {
        "duration": 18,
        "start_time": "2023-09-14T18:00:01.360Z"
      },
      {
        "duration": 14,
        "start_time": "2023-09-14T18:00:12.207Z"
      },
      {
        "duration": 11,
        "start_time": "2023-09-14T18:00:26.599Z"
      },
      {
        "duration": 15,
        "start_time": "2023-09-14T18:01:01.783Z"
      },
      {
        "duration": 9,
        "start_time": "2023-09-14T18:01:13.644Z"
      },
      {
        "duration": 160,
        "start_time": "2023-09-14T18:01:28.404Z"
      },
      {
        "duration": 11,
        "start_time": "2023-09-14T18:02:14.325Z"
      },
      {
        "duration": 10,
        "start_time": "2023-09-14T18:02:37.249Z"
      },
      {
        "duration": 19,
        "start_time": "2023-09-14T18:02:42.620Z"
      },
      {
        "duration": 12,
        "start_time": "2023-09-14T18:02:55.854Z"
      },
      {
        "duration": 20,
        "start_time": "2023-09-14T18:03:54.308Z"
      },
      {
        "duration": 13,
        "start_time": "2023-09-14T18:04:03.298Z"
      },
      {
        "duration": 14,
        "start_time": "2023-09-14T18:04:09.629Z"
      },
      {
        "duration": 13,
        "start_time": "2023-09-14T18:04:12.707Z"
      },
      {
        "duration": 15,
        "start_time": "2023-09-14T18:04:48.027Z"
      },
      {
        "duration": 150,
        "start_time": "2023-09-14T18:05:05.988Z"
      },
      {
        "duration": 8,
        "start_time": "2023-09-14T18:05:11.282Z"
      },
      {
        "duration": 10,
        "start_time": "2023-09-14T18:05:25.725Z"
      },
      {
        "duration": 5,
        "start_time": "2023-09-14T18:05:45.243Z"
      },
      {
        "duration": 11,
        "start_time": "2023-09-14T18:05:59.764Z"
      },
      {
        "duration": 4,
        "start_time": "2023-09-14T18:06:12.645Z"
      },
      {
        "duration": 3,
        "start_time": "2023-09-14T18:07:00.986Z"
      },
      {
        "duration": 5,
        "start_time": "2023-09-14T18:07:04.275Z"
      },
      {
        "duration": 37,
        "start_time": "2023-09-14T18:07:16.215Z"
      },
      {
        "duration": 5,
        "start_time": "2023-09-14T18:07:16.703Z"
      },
      {
        "duration": 19,
        "start_time": "2023-09-14T18:07:17.452Z"
      },
      {
        "duration": 10,
        "start_time": "2023-09-14T18:07:32.842Z"
      },
      {
        "duration": 7,
        "start_time": "2023-09-14T18:07:47.915Z"
      },
      {
        "duration": 10,
        "start_time": "2023-09-14T18:07:54.895Z"
      },
      {
        "duration": 13,
        "start_time": "2023-09-14T18:08:08.575Z"
      },
      {
        "duration": 19,
        "start_time": "2023-09-14T18:08:22.856Z"
      },
      {
        "duration": 12,
        "start_time": "2023-09-14T18:08:34.502Z"
      },
      {
        "duration": 11,
        "start_time": "2023-09-14T18:09:04.206Z"
      },
      {
        "duration": 1511,
        "start_time": "2023-09-14T18:09:11.888Z"
      },
      {
        "duration": 36,
        "start_time": "2023-09-14T18:09:43.232Z"
      },
      {
        "duration": 5,
        "start_time": "2023-09-14T18:09:46.481Z"
      },
      {
        "duration": 13,
        "start_time": "2023-09-14T18:09:47.270Z"
      },
      {
        "duration": 7,
        "start_time": "2023-09-14T18:09:52.781Z"
      },
      {
        "duration": 173,
        "start_time": "2023-09-14T18:10:00.583Z"
      },
      {
        "duration": 161,
        "start_time": "2023-09-14T18:10:08.399Z"
      },
      {
        "duration": 181,
        "start_time": "2023-09-14T18:12:23.247Z"
      },
      {
        "duration": 26,
        "start_time": "2023-09-14T18:13:22.404Z"
      },
      {
        "duration": 239,
        "start_time": "2023-09-14T18:13:32.417Z"
      },
      {
        "duration": 172,
        "start_time": "2023-09-14T18:13:44.131Z"
      },
      {
        "duration": 183,
        "start_time": "2023-09-14T18:14:01.090Z"
      },
      {
        "duration": 268,
        "start_time": "2023-09-14T18:16:25.985Z"
      },
      {
        "duration": 195,
        "start_time": "2023-09-14T18:16:31.593Z"
      },
      {
        "duration": 179,
        "start_time": "2023-09-14T18:16:38.811Z"
      },
      {
        "duration": 81,
        "start_time": "2023-09-14T18:17:45.055Z"
      },
      {
        "duration": 169,
        "start_time": "2023-09-14T18:17:53.556Z"
      },
      {
        "duration": 208,
        "start_time": "2023-09-14T18:18:15.685Z"
      },
      {
        "duration": 207,
        "start_time": "2023-09-14T18:18:34.553Z"
      },
      {
        "duration": 201,
        "start_time": "2023-09-14T18:18:41.719Z"
      },
      {
        "duration": 210,
        "start_time": "2023-09-14T18:19:51.731Z"
      },
      {
        "duration": 194,
        "start_time": "2023-09-14T18:20:20.640Z"
      },
      {
        "duration": 209,
        "start_time": "2023-09-14T18:20:28.772Z"
      },
      {
        "duration": 287,
        "start_time": "2023-09-14T18:20:42.245Z"
      },
      {
        "duration": 334,
        "start_time": "2023-09-14T18:20:55.331Z"
      },
      {
        "duration": 251,
        "start_time": "2023-09-14T18:21:07.826Z"
      },
      {
        "duration": 224,
        "start_time": "2023-09-14T18:21:13.429Z"
      },
      {
        "duration": 55,
        "start_time": "2023-09-14T18:27:31.090Z"
      },
      {
        "duration": 50,
        "start_time": "2023-09-14T18:27:55.502Z"
      },
      {
        "duration": 5,
        "start_time": "2023-09-14T18:27:58.977Z"
      },
      {
        "duration": 135,
        "start_time": "2023-09-14T18:27:59.663Z"
      },
      {
        "duration": 48,
        "start_time": "2023-09-14T18:28:01.929Z"
      },
      {
        "duration": 1243,
        "start_time": "2023-09-14T18:28:52.052Z"
      },
      {
        "duration": 5,
        "start_time": "2023-09-14T18:28:53.297Z"
      },
      {
        "duration": 21,
        "start_time": "2023-09-14T18:28:53.304Z"
      },
      {
        "duration": 679,
        "start_time": "2023-09-14T18:28:53.327Z"
      },
      {
        "duration": 25,
        "start_time": "2023-09-14T18:28:54.009Z"
      },
      {
        "duration": 40,
        "start_time": "2023-09-14T18:28:54.036Z"
      },
      {
        "duration": 41,
        "start_time": "2023-09-14T18:28:54.078Z"
      },
      {
        "duration": 142,
        "start_time": "2023-09-14T18:28:54.121Z"
      },
      {
        "duration": 160,
        "start_time": "2023-09-14T18:28:54.264Z"
      },
      {
        "duration": 119,
        "start_time": "2023-09-14T18:28:54.426Z"
      },
      {
        "duration": 609,
        "start_time": "2023-09-14T18:28:54.547Z"
      },
      {
        "duration": 160,
        "start_time": "2023-09-14T18:28:55.158Z"
      },
      {
        "duration": 24,
        "start_time": "2023-09-14T18:28:55.319Z"
      },
      {
        "duration": 74,
        "start_time": "2023-09-14T18:28:55.346Z"
      },
      {
        "duration": 11,
        "start_time": "2023-09-14T18:28:55.421Z"
      },
      {
        "duration": 175,
        "start_time": "2023-09-14T18:28:55.434Z"
      },
      {
        "duration": 23,
        "start_time": "2023-09-14T18:28:55.611Z"
      },
      {
        "duration": 41,
        "start_time": "2023-09-14T18:28:55.636Z"
      },
      {
        "duration": 17,
        "start_time": "2023-09-14T18:28:55.679Z"
      },
      {
        "duration": 47,
        "start_time": "2023-09-14T18:28:55.698Z"
      },
      {
        "duration": 41,
        "start_time": "2023-09-14T18:28:55.747Z"
      },
      {
        "duration": 271,
        "start_time": "2023-09-14T18:28:55.790Z"
      },
      {
        "duration": 8,
        "start_time": "2023-09-14T18:28:56.063Z"
      },
      {
        "duration": 21,
        "start_time": "2023-09-14T18:28:56.072Z"
      },
      {
        "duration": 593,
        "start_time": "2023-09-14T18:28:56.094Z"
      },
      {
        "duration": 8,
        "start_time": "2023-09-14T18:28:56.689Z"
      },
      {
        "duration": 27,
        "start_time": "2023-09-14T18:28:56.698Z"
      },
      {
        "duration": 8,
        "start_time": "2023-09-14T18:28:56.726Z"
      },
      {
        "duration": 20,
        "start_time": "2023-09-14T18:28:56.735Z"
      },
      {
        "duration": 42,
        "start_time": "2023-09-14T18:28:56.757Z"
      },
      {
        "duration": 19,
        "start_time": "2023-09-14T18:28:56.800Z"
      },
      {
        "duration": 356,
        "start_time": "2023-09-14T18:28:56.820Z"
      },
      {
        "duration": 32,
        "start_time": "2023-09-14T18:28:57.178Z"
      },
      {
        "duration": 60,
        "start_time": "2023-09-14T18:28:57.211Z"
      },
      {
        "duration": 316,
        "start_time": "2023-09-14T18:28:57.272Z"
      },
      {
        "duration": 295,
        "start_time": "2023-09-14T18:28:57.590Z"
      },
      {
        "duration": 24,
        "start_time": "2023-09-14T18:28:57.887Z"
      },
      {
        "duration": 19,
        "start_time": "2023-09-14T18:28:57.913Z"
      },
      {
        "duration": 17,
        "start_time": "2023-09-14T18:28:57.934Z"
      },
      {
        "duration": 29,
        "start_time": "2023-09-14T18:28:57.952Z"
      },
      {
        "duration": 6,
        "start_time": "2023-09-14T18:28:57.986Z"
      },
      {
        "duration": 346,
        "start_time": "2023-09-14T18:28:57.993Z"
      },
      {
        "duration": 5,
        "start_time": "2023-09-14T18:28:58.341Z"
      },
      {
        "duration": 38,
        "start_time": "2023-09-14T18:28:58.348Z"
      },
      {
        "duration": 25,
        "start_time": "2023-09-14T18:28:58.388Z"
      },
      {
        "duration": 306,
        "start_time": "2023-09-14T18:28:58.415Z"
      },
      {
        "duration": 18,
        "start_time": "2023-09-14T18:28:58.723Z"
      },
      {
        "duration": 24,
        "start_time": "2023-09-14T18:28:58.743Z"
      },
      {
        "duration": 76,
        "start_time": "2023-09-14T18:28:58.769Z"
      },
      {
        "duration": 46,
        "start_time": "2023-09-14T18:28:58.847Z"
      },
      {
        "duration": 16,
        "start_time": "2023-09-14T18:28:58.895Z"
      },
      {
        "duration": 145,
        "start_time": "2023-09-14T18:28:58.913Z"
      },
      {
        "duration": 59,
        "start_time": "2023-09-14T18:28:59.060Z"
      },
      {
        "duration": 131,
        "start_time": "2023-09-14T18:28:59.121Z"
      },
      {
        "duration": 134,
        "start_time": "2023-09-14T18:28:59.254Z"
      },
      {
        "duration": 133,
        "start_time": "2023-09-14T18:28:59.391Z"
      },
      {
        "duration": 9,
        "start_time": "2023-09-14T18:28:59.526Z"
      },
      {
        "duration": 8,
        "start_time": "2023-09-14T18:28:59.537Z"
      },
      {
        "duration": 121,
        "start_time": "2023-09-14T18:28:59.547Z"
      },
      {
        "duration": 0,
        "start_time": "2023-09-14T18:28:59.671Z"
      },
      {
        "duration": 49,
        "start_time": "2023-09-14T18:30:53.045Z"
      },
      {
        "duration": 47,
        "start_time": "2023-09-14T18:30:56.328Z"
      },
      {
        "duration": 52,
        "start_time": "2023-09-14T18:30:58.860Z"
      },
      {
        "duration": 48,
        "start_time": "2023-09-14T18:30:59.681Z"
      },
      {
        "duration": 182,
        "start_time": "2023-09-14T18:45:25.982Z"
      },
      {
        "duration": 140,
        "start_time": "2023-09-14T18:47:15.633Z"
      },
      {
        "duration": 154,
        "start_time": "2023-09-14T18:47:48.403Z"
      },
      {
        "duration": 156,
        "start_time": "2023-09-14T18:48:56.426Z"
      },
      {
        "duration": 164,
        "start_time": "2023-09-14T18:51:11.206Z"
      },
      {
        "duration": 5,
        "start_time": "2023-09-14T18:51:37.174Z"
      },
      {
        "duration": 5,
        "start_time": "2023-09-14T18:52:23.866Z"
      },
      {
        "duration": 1546,
        "start_time": "2023-09-14T18:53:05.982Z"
      },
      {
        "duration": 259,
        "start_time": "2023-09-14T18:53:23.007Z"
      },
      {
        "duration": 23,
        "start_time": "2023-09-14T19:10:00.781Z"
      },
      {
        "duration": 12,
        "start_time": "2023-09-14T19:10:13.768Z"
      },
      {
        "duration": 1320,
        "start_time": "2023-09-14T19:10:56.511Z"
      },
      {
        "duration": 6,
        "start_time": "2023-09-14T19:11:33.791Z"
      },
      {
        "duration": 4,
        "start_time": "2023-09-14T19:12:29.733Z"
      },
      {
        "duration": 5,
        "start_time": "2023-09-14T19:13:08.082Z"
      },
      {
        "duration": 5,
        "start_time": "2023-09-14T19:13:24.628Z"
      },
      {
        "duration": 7,
        "start_time": "2023-09-14T19:16:56.596Z"
      },
      {
        "duration": 5,
        "start_time": "2023-09-14T19:16:57.485Z"
      },
      {
        "duration": 4,
        "start_time": "2023-09-14T19:17:04.540Z"
      },
      {
        "duration": 6,
        "start_time": "2023-09-14T19:17:51.959Z"
      },
      {
        "duration": 4,
        "start_time": "2023-09-14T19:22:49.146Z"
      },
      {
        "duration": 5,
        "start_time": "2023-09-14T19:22:49.590Z"
      },
      {
        "duration": 15,
        "start_time": "2023-09-14T19:41:07.188Z"
      },
      {
        "duration": 18,
        "start_time": "2023-09-14T19:41:39.284Z"
      },
      {
        "duration": 4,
        "start_time": "2023-09-14T19:42:00.622Z"
      },
      {
        "duration": 23,
        "start_time": "2023-09-14T19:42:00.628Z"
      },
      {
        "duration": 18,
        "start_time": "2023-09-14T19:42:00.659Z"
      },
      {
        "duration": 672,
        "start_time": "2023-09-14T19:42:00.679Z"
      },
      {
        "duration": 23,
        "start_time": "2023-09-14T19:42:01.354Z"
      },
      {
        "duration": 69,
        "start_time": "2023-09-14T19:42:01.378Z"
      },
      {
        "duration": 31,
        "start_time": "2023-09-14T19:42:01.450Z"
      },
      {
        "duration": 160,
        "start_time": "2023-09-14T19:42:01.483Z"
      },
      {
        "duration": 144,
        "start_time": "2023-09-14T19:42:01.644Z"
      },
      {
        "duration": 119,
        "start_time": "2023-09-14T19:42:01.790Z"
      },
      {
        "duration": 681,
        "start_time": "2023-09-14T19:42:01.912Z"
      },
      {
        "duration": 171,
        "start_time": "2023-09-14T19:42:02.595Z"
      },
      {
        "duration": 42,
        "start_time": "2023-09-14T19:42:02.768Z"
      },
      {
        "duration": 45,
        "start_time": "2023-09-14T19:42:02.812Z"
      },
      {
        "duration": 9,
        "start_time": "2023-09-14T19:42:02.859Z"
      },
      {
        "duration": 180,
        "start_time": "2023-09-14T19:42:02.872Z"
      },
      {
        "duration": 24,
        "start_time": "2023-09-14T19:42:03.054Z"
      },
      {
        "duration": 43,
        "start_time": "2023-09-14T19:42:03.080Z"
      },
      {
        "duration": 30,
        "start_time": "2023-09-14T19:42:03.125Z"
      },
      {
        "duration": 57,
        "start_time": "2023-09-14T19:42:03.156Z"
      },
      {
        "duration": 42,
        "start_time": "2023-09-14T19:42:03.215Z"
      },
      {
        "duration": 263,
        "start_time": "2023-09-14T19:42:03.258Z"
      },
      {
        "duration": 7,
        "start_time": "2023-09-14T19:42:03.523Z"
      },
      {
        "duration": 113,
        "start_time": "2023-09-14T19:42:03.532Z"
      },
      {
        "duration": 564,
        "start_time": "2023-09-14T19:42:03.647Z"
      },
      {
        "duration": 8,
        "start_time": "2023-09-14T19:42:04.213Z"
      },
      {
        "duration": 18,
        "start_time": "2023-09-14T19:42:04.223Z"
      },
      {
        "duration": 17,
        "start_time": "2023-09-14T19:42:04.243Z"
      },
      {
        "duration": 25,
        "start_time": "2023-09-14T19:42:04.262Z"
      },
      {
        "duration": 29,
        "start_time": "2023-09-14T19:42:04.289Z"
      },
      {
        "duration": 19,
        "start_time": "2023-09-14T19:42:04.320Z"
      },
      {
        "duration": 329,
        "start_time": "2023-09-14T19:42:04.341Z"
      },
      {
        "duration": 22,
        "start_time": "2023-09-14T19:42:04.672Z"
      },
      {
        "duration": 70,
        "start_time": "2023-09-14T19:42:04.695Z"
      },
      {
        "duration": 320,
        "start_time": "2023-09-14T19:42:04.767Z"
      },
      {
        "duration": 337,
        "start_time": "2023-09-14T19:42:05.088Z"
      },
      {
        "duration": 20,
        "start_time": "2023-09-14T19:42:05.427Z"
      },
      {
        "duration": 18,
        "start_time": "2023-09-14T19:42:05.449Z"
      },
      {
        "duration": 8,
        "start_time": "2023-09-14T19:42:05.469Z"
      },
      {
        "duration": 54,
        "start_time": "2023-09-14T19:42:05.479Z"
      },
      {
        "duration": 6,
        "start_time": "2023-09-14T19:42:05.535Z"
      },
      {
        "duration": 372,
        "start_time": "2023-09-14T19:42:05.543Z"
      },
      {
        "duration": 7,
        "start_time": "2023-09-14T19:42:05.922Z"
      },
      {
        "duration": 45,
        "start_time": "2023-09-14T19:42:05.931Z"
      },
      {
        "duration": 5,
        "start_time": "2023-09-14T19:42:05.977Z"
      },
      {
        "duration": 260,
        "start_time": "2023-09-14T19:42:05.984Z"
      },
      {
        "duration": 18,
        "start_time": "2023-09-14T19:42:06.246Z"
      },
      {
        "duration": 65,
        "start_time": "2023-09-14T19:42:06.266Z"
      },
      {
        "duration": 5,
        "start_time": "2023-09-14T19:42:06.332Z"
      },
      {
        "duration": 87,
        "start_time": "2023-09-14T19:42:06.339Z"
      },
      {
        "duration": 189,
        "start_time": "2023-09-14T19:42:06.429Z"
      },
      {
        "duration": 9,
        "start_time": "2023-09-14T19:42:06.620Z"
      },
      {
        "duration": 9,
        "start_time": "2023-09-14T19:42:06.631Z"
      },
      {
        "duration": 17,
        "start_time": "2023-09-14T19:42:06.642Z"
      },
      {
        "duration": 6,
        "start_time": "2023-09-14T19:42:06.661Z"
      },
      {
        "duration": 17,
        "start_time": "2023-09-14T19:42:18.149Z"
      },
      {
        "duration": 9,
        "start_time": "2023-09-14T19:44:36.351Z"
      },
      {
        "duration": 145,
        "start_time": "2023-09-14T19:44:51.976Z"
      },
      {
        "duration": 261,
        "start_time": "2023-09-14T19:45:31.992Z"
      },
      {
        "duration": 24,
        "start_time": "2023-09-14T19:46:04.181Z"
      },
      {
        "duration": 20,
        "start_time": "2023-09-14T19:46:39.621Z"
      },
      {
        "duration": 15,
        "start_time": "2023-09-14T19:46:54.339Z"
      },
      {
        "duration": 20,
        "start_time": "2023-09-14T19:47:16.406Z"
      },
      {
        "duration": 10,
        "start_time": "2023-09-14T19:47:50.329Z"
      },
      {
        "duration": 9,
        "start_time": "2023-09-14T19:47:52.890Z"
      },
      {
        "duration": 15,
        "start_time": "2023-09-14T19:47:53.234Z"
      },
      {
        "duration": 22,
        "start_time": "2023-09-14T19:48:09.958Z"
      },
      {
        "duration": 473,
        "start_time": "2023-09-14T19:48:30.876Z"
      },
      {
        "duration": 237,
        "start_time": "2023-09-14T19:49:05.272Z"
      },
      {
        "duration": 304,
        "start_time": "2023-09-14T19:50:07.503Z"
      },
      {
        "duration": 270,
        "start_time": "2023-09-14T19:50:30.807Z"
      },
      {
        "duration": 19,
        "start_time": "2023-09-14T19:52:01.837Z"
      },
      {
        "duration": 9,
        "start_time": "2023-09-14T19:52:19.208Z"
      },
      {
        "duration": 224,
        "start_time": "2023-09-14T19:52:19.804Z"
      },
      {
        "duration": 245,
        "start_time": "2023-09-14T19:54:01.279Z"
      },
      {
        "duration": 61,
        "start_time": "2023-09-14T19:58:08.925Z"
      },
      {
        "duration": 6,
        "start_time": "2023-09-14T19:58:09.145Z"
      },
      {
        "duration": 54,
        "start_time": "2023-09-14T19:58:09.324Z"
      },
      {
        "duration": 172,
        "start_time": "2023-09-14T19:58:09.827Z"
      },
      {
        "duration": 8,
        "start_time": "2023-09-14T19:58:11.759Z"
      },
      {
        "duration": 5,
        "start_time": "2023-09-14T19:58:11.948Z"
      },
      {
        "duration": 4,
        "start_time": "2023-09-14T19:58:12.308Z"
      },
      {
        "duration": 6,
        "start_time": "2023-09-14T19:58:13.502Z"
      },
      {
        "duration": 17,
        "start_time": "2023-09-14T19:58:13.942Z"
      },
      {
        "duration": 16,
        "start_time": "2023-09-14T19:58:14.119Z"
      },
      {
        "duration": 10,
        "start_time": "2023-09-14T19:58:20.782Z"
      },
      {
        "duration": 1163,
        "start_time": "2023-09-14T19:58:26.739Z"
      },
      {
        "duration": 273,
        "start_time": "2023-09-14T19:58:36.499Z"
      },
      {
        "duration": 10,
        "start_time": "2023-09-14T19:59:46.690Z"
      },
      {
        "duration": 214,
        "start_time": "2023-09-14T19:59:47.328Z"
      },
      {
        "duration": 228,
        "start_time": "2023-09-14T20:01:26.773Z"
      },
      {
        "duration": 242,
        "start_time": "2023-09-14T20:01:39.000Z"
      },
      {
        "duration": 363,
        "start_time": "2023-09-14T20:05:47.619Z"
      },
      {
        "duration": 26,
        "start_time": "2023-09-14T20:06:22.645Z"
      },
      {
        "duration": 11,
        "start_time": "2023-09-14T20:06:28.568Z"
      },
      {
        "duration": 262,
        "start_time": "2023-09-14T20:06:29.986Z"
      },
      {
        "duration": 238,
        "start_time": "2023-09-14T20:06:35.680Z"
      },
      {
        "duration": 3,
        "start_time": "2023-09-14T20:06:38.133Z"
      },
      {
        "duration": 135,
        "start_time": "2023-09-14T20:06:38.725Z"
      },
      {
        "duration": 251,
        "start_time": "2023-09-14T20:07:11.429Z"
      },
      {
        "duration": 9,
        "start_time": "2023-09-14T20:08:43.701Z"
      },
      {
        "duration": 251,
        "start_time": "2023-09-14T20:08:44.262Z"
      },
      {
        "duration": 250,
        "start_time": "2023-09-14T20:09:24.130Z"
      },
      {
        "duration": 243,
        "start_time": "2023-09-14T20:09:34.186Z"
      },
      {
        "duration": 248,
        "start_time": "2023-09-14T20:11:40.047Z"
      },
      {
        "duration": 259,
        "start_time": "2023-09-14T20:14:32.012Z"
      },
      {
        "duration": 34,
        "start_time": "2023-09-14T20:22:52.548Z"
      },
      {
        "duration": 31,
        "start_time": "2023-09-14T20:23:54.585Z"
      },
      {
        "duration": 4,
        "start_time": "2023-09-14T20:24:37.583Z"
      },
      {
        "duration": 34,
        "start_time": "2023-09-14T20:24:46.565Z"
      },
      {
        "duration": 26,
        "start_time": "2023-09-14T20:25:02.721Z"
      },
      {
        "duration": 6,
        "start_time": "2023-09-14T20:26:45.992Z"
      },
      {
        "duration": 335,
        "start_time": "2023-09-14T20:27:34.728Z"
      },
      {
        "duration": 29,
        "start_time": "2023-09-14T20:34:04.402Z"
      },
      {
        "duration": 13,
        "start_time": "2023-09-14T20:34:05.010Z"
      },
      {
        "duration": 18,
        "start_time": "2023-09-14T21:13:12.365Z"
      },
      {
        "duration": 21,
        "start_time": "2023-09-14T21:18:06.648Z"
      },
      {
        "duration": 28,
        "start_time": "2023-09-14T21:18:15.777Z"
      },
      {
        "duration": 18,
        "start_time": "2023-09-14T21:18:51.309Z"
      },
      {
        "duration": 11,
        "start_time": "2023-09-14T21:20:37.632Z"
      },
      {
        "duration": 10,
        "start_time": "2023-09-14T21:20:38.952Z"
      },
      {
        "duration": 16,
        "start_time": "2023-09-14T21:21:15.294Z"
      },
      {
        "duration": 13,
        "start_time": "2023-09-14T21:21:20.702Z"
      },
      {
        "duration": 12,
        "start_time": "2023-09-14T21:21:36.369Z"
      },
      {
        "duration": 14,
        "start_time": "2023-09-14T21:21:45.457Z"
      },
      {
        "duration": 6,
        "start_time": "2023-09-14T21:22:15.046Z"
      },
      {
        "duration": 7,
        "start_time": "2023-09-14T21:22:42.259Z"
      },
      {
        "duration": 6,
        "start_time": "2023-09-14T21:22:45.874Z"
      },
      {
        "duration": 5,
        "start_time": "2023-09-14T21:22:55.652Z"
      },
      {
        "duration": 12,
        "start_time": "2023-09-14T21:23:04.435Z"
      },
      {
        "duration": 7,
        "start_time": "2023-09-14T21:23:22.568Z"
      },
      {
        "duration": 8,
        "start_time": "2023-09-14T21:23:50.492Z"
      },
      {
        "duration": 4,
        "start_time": "2023-09-14T21:24:08.759Z"
      },
      {
        "duration": 17,
        "start_time": "2023-09-14T21:24:36.576Z"
      },
      {
        "duration": 8,
        "start_time": "2023-09-14T21:24:48.279Z"
      },
      {
        "duration": 9,
        "start_time": "2023-09-14T21:24:53.159Z"
      },
      {
        "duration": 10,
        "start_time": "2023-09-14T21:25:01.625Z"
      },
      {
        "duration": 16,
        "start_time": "2023-09-14T21:26:15.274Z"
      },
      {
        "duration": 10,
        "start_time": "2023-09-14T21:26:19.967Z"
      },
      {
        "duration": 10,
        "start_time": "2023-09-14T21:26:20.662Z"
      },
      {
        "duration": 18,
        "start_time": "2023-09-14T21:28:39.086Z"
      },
      {
        "duration": 15,
        "start_time": "2023-09-14T21:29:12.541Z"
      },
      {
        "duration": 3,
        "start_time": "2023-09-14T21:47:28.430Z"
      },
      {
        "duration": 2,
        "start_time": "2023-09-14T21:47:47.343Z"
      },
      {
        "duration": 57,
        "start_time": "2023-09-14T21:47:51.074Z"
      },
      {
        "duration": 8,
        "start_time": "2023-09-14T21:48:18.099Z"
      },
      {
        "duration": 8,
        "start_time": "2023-09-14T21:48:18.758Z"
      },
      {
        "duration": 2,
        "start_time": "2023-09-14T21:49:46.735Z"
      },
      {
        "duration": 3,
        "start_time": "2023-09-14T21:51:47.743Z"
      },
      {
        "duration": 13,
        "start_time": "2023-09-14T21:51:51.524Z"
      },
      {
        "duration": 4,
        "start_time": "2023-09-14T21:51:58.576Z"
      },
      {
        "duration": 4,
        "start_time": "2023-09-14T21:52:01.260Z"
      },
      {
        "duration": 4,
        "start_time": "2023-09-14T21:52:07.293Z"
      },
      {
        "duration": 3,
        "start_time": "2023-09-14T21:52:09.767Z"
      },
      {
        "duration": 3,
        "start_time": "2023-09-14T21:52:10.719Z"
      },
      {
        "duration": 3,
        "start_time": "2023-09-14T21:53:21.199Z"
      },
      {
        "duration": 3,
        "start_time": "2023-09-14T21:53:21.759Z"
      },
      {
        "duration": 6,
        "start_time": "2023-09-14T21:54:00.248Z"
      },
      {
        "duration": 47,
        "start_time": "2023-09-14T21:54:39.507Z"
      },
      {
        "duration": 8,
        "start_time": "2023-09-14T21:55:24.870Z"
      },
      {
        "duration": 7,
        "start_time": "2023-09-14T21:55:31.824Z"
      },
      {
        "duration": 1250,
        "start_time": "2023-09-14T21:55:37.378Z"
      },
      {
        "duration": 5,
        "start_time": "2023-09-14T21:55:38.630Z"
      },
      {
        "duration": 19,
        "start_time": "2023-09-14T21:55:38.636Z"
      },
      {
        "duration": 1024,
        "start_time": "2023-09-14T21:55:38.657Z"
      },
      {
        "duration": 24,
        "start_time": "2023-09-14T21:55:39.683Z"
      },
      {
        "duration": 41,
        "start_time": "2023-09-14T21:55:39.709Z"
      },
      {
        "duration": 14,
        "start_time": "2023-09-14T21:55:39.751Z"
      },
      {
        "duration": 158,
        "start_time": "2023-09-14T21:55:39.767Z"
      },
      {
        "duration": 142,
        "start_time": "2023-09-14T21:55:39.927Z"
      },
      {
        "duration": 124,
        "start_time": "2023-09-14T21:55:40.071Z"
      },
      {
        "duration": 585,
        "start_time": "2023-09-14T21:55:40.197Z"
      },
      {
        "duration": 144,
        "start_time": "2023-09-14T21:55:40.784Z"
      },
      {
        "duration": 22,
        "start_time": "2023-09-14T21:55:40.930Z"
      },
      {
        "duration": 72,
        "start_time": "2023-09-14T21:55:40.955Z"
      },
      {
        "duration": 10,
        "start_time": "2023-09-14T21:55:41.029Z"
      },
      {
        "duration": 171,
        "start_time": "2023-09-14T21:55:41.040Z"
      },
      {
        "duration": 25,
        "start_time": "2023-09-14T21:55:41.213Z"
      },
      {
        "duration": 27,
        "start_time": "2023-09-14T21:55:41.240Z"
      },
      {
        "duration": 46,
        "start_time": "2023-09-14T21:55:41.269Z"
      },
      {
        "duration": 40,
        "start_time": "2023-09-14T21:55:41.317Z"
      },
      {
        "duration": 61,
        "start_time": "2023-09-14T21:55:41.359Z"
      },
      {
        "duration": 265,
        "start_time": "2023-09-14T21:55:41.422Z"
      },
      {
        "duration": 7,
        "start_time": "2023-09-14T21:55:41.689Z"
      },
      {
        "duration": 24,
        "start_time": "2023-09-14T21:55:41.697Z"
      },
      {
        "duration": 581,
        "start_time": "2023-09-14T21:55:41.723Z"
      },
      {
        "duration": 8,
        "start_time": "2023-09-14T21:55:42.306Z"
      },
      {
        "duration": 14,
        "start_time": "2023-09-14T21:55:42.316Z"
      },
      {
        "duration": 17,
        "start_time": "2023-09-14T21:55:42.332Z"
      },
      {
        "duration": 20,
        "start_time": "2023-09-14T21:55:42.351Z"
      },
      {
        "duration": 16,
        "start_time": "2023-09-14T21:55:42.373Z"
      },
      {
        "duration": 16,
        "start_time": "2023-09-14T21:55:42.410Z"
      },
      {
        "duration": 380,
        "start_time": "2023-09-14T21:55:42.428Z"
      },
      {
        "duration": 22,
        "start_time": "2023-09-14T21:55:42.809Z"
      },
      {
        "duration": 59,
        "start_time": "2023-09-14T21:55:42.832Z"
      },
      {
        "duration": 307,
        "start_time": "2023-09-14T21:55:42.892Z"
      },
      {
        "duration": 300,
        "start_time": "2023-09-14T21:55:43.200Z"
      },
      {
        "duration": 17,
        "start_time": "2023-09-14T21:55:43.509Z"
      },
      {
        "duration": 19,
        "start_time": "2023-09-14T21:55:43.528Z"
      },
      {
        "duration": 8,
        "start_time": "2023-09-14T21:55:43.548Z"
      },
      {
        "duration": 18,
        "start_time": "2023-09-14T21:55:43.558Z"
      },
      {
        "duration": 6,
        "start_time": "2023-09-14T21:55:43.612Z"
      },
      {
        "duration": 337,
        "start_time": "2023-09-14T21:55:43.620Z"
      },
      {
        "duration": 7,
        "start_time": "2023-09-14T21:55:43.959Z"
      },
      {
        "duration": 57,
        "start_time": "2023-09-14T21:55:43.968Z"
      },
      {
        "duration": 5,
        "start_time": "2023-09-14T21:55:44.027Z"
      },
      {
        "duration": 309,
        "start_time": "2023-09-14T21:55:44.034Z"
      },
      {
        "duration": 18,
        "start_time": "2023-09-14T21:55:44.345Z"
      },
      {
        "duration": 83,
        "start_time": "2023-09-14T21:55:44.366Z"
      },
      {
        "duration": 5,
        "start_time": "2023-09-14T21:55:44.452Z"
      },
      {
        "duration": 83,
        "start_time": "2023-09-14T21:55:44.459Z"
      },
      {
        "duration": 210,
        "start_time": "2023-09-14T21:55:44.544Z"
      },
      {
        "duration": 7,
        "start_time": "2023-09-14T21:55:44.756Z"
      },
      {
        "duration": 6,
        "start_time": "2023-09-14T21:55:44.765Z"
      },
      {
        "duration": 5,
        "start_time": "2023-09-14T21:55:44.772Z"
      },
      {
        "duration": 7,
        "start_time": "2023-09-14T21:55:44.808Z"
      },
      {
        "duration": 10,
        "start_time": "2023-09-14T21:55:44.817Z"
      },
      {
        "duration": 268,
        "start_time": "2023-09-14T21:55:44.828Z"
      },
      {
        "duration": 272,
        "start_time": "2023-09-14T21:55:45.098Z"
      },
      {
        "duration": 6,
        "start_time": "2023-09-14T21:55:45.372Z"
      },
      {
        "duration": 7,
        "start_time": "2023-09-14T21:55:45.380Z"
      },
      {
        "duration": 19,
        "start_time": "2023-09-14T21:55:45.390Z"
      },
      {
        "duration": 7,
        "start_time": "2023-09-14T21:55:45.411Z"
      },
      {
        "duration": 11,
        "start_time": "2023-09-14T21:55:45.419Z"
      },
      {
        "duration": 6,
        "start_time": "2023-09-14T21:55:45.432Z"
      },
      {
        "duration": 9,
        "start_time": "2023-09-14T21:55:45.439Z"
      },
      {
        "duration": 30,
        "start_time": "2023-09-14T21:55:45.450Z"
      },
      {
        "duration": 253,
        "start_time": "2023-09-14T21:55:45.482Z"
      },
      {
        "duration": 196,
        "start_time": "2023-09-14T21:55:45.737Z"
      },
      {
        "duration": 0,
        "start_time": "2023-09-14T21:55:45.935Z"
      },
      {
        "duration": 0,
        "start_time": "2023-09-14T21:55:45.936Z"
      },
      {
        "duration": 0,
        "start_time": "2023-09-14T21:55:45.937Z"
      },
      {
        "duration": 0,
        "start_time": "2023-09-14T21:55:45.938Z"
      },
      {
        "duration": 3,
        "start_time": "2023-09-14T21:56:50.287Z"
      },
      {
        "duration": 5,
        "start_time": "2023-09-14T21:56:50.722Z"
      },
      {
        "duration": 8,
        "start_time": "2023-09-14T21:56:51.200Z"
      },
      {
        "duration": 8,
        "start_time": "2023-09-14T21:59:35.622Z"
      },
      {
        "duration": 10,
        "start_time": "2023-09-14T21:59:51.978Z"
      },
      {
        "duration": 19,
        "start_time": "2023-09-14T22:00:21.213Z"
      },
      {
        "duration": 16,
        "start_time": "2023-09-14T22:00:33.163Z"
      },
      {
        "duration": 9,
        "start_time": "2023-09-14T22:00:38.595Z"
      },
      {
        "duration": 4,
        "start_time": "2023-09-14T22:00:58.548Z"
      },
      {
        "duration": 5,
        "start_time": "2023-09-14T22:01:03.022Z"
      },
      {
        "duration": 5,
        "start_time": "2023-09-14T22:01:32.292Z"
      },
      {
        "duration": 31,
        "start_time": "2023-09-14T22:01:43.624Z"
      },
      {
        "duration": 4,
        "start_time": "2023-09-14T22:01:50.460Z"
      },
      {
        "duration": 5,
        "start_time": "2023-09-14T22:01:58.178Z"
      },
      {
        "duration": 4,
        "start_time": "2023-09-14T22:02:01.973Z"
      },
      {
        "duration": 28,
        "start_time": "2023-09-14T22:02:18.639Z"
      },
      {
        "duration": 5,
        "start_time": "2023-09-14T22:02:24.257Z"
      },
      {
        "duration": 4,
        "start_time": "2023-09-14T22:02:28.461Z"
      },
      {
        "duration": 4,
        "start_time": "2023-09-14T22:02:31.239Z"
      },
      {
        "duration": 4,
        "start_time": "2023-09-14T22:02:36.012Z"
      },
      {
        "duration": 905,
        "start_time": "2023-09-14T22:02:57.734Z"
      },
      {
        "duration": 14,
        "start_time": "2023-09-14T22:03:09.454Z"
      },
      {
        "duration": 5,
        "start_time": "2023-09-14T22:03:14.803Z"
      },
      {
        "duration": 26,
        "start_time": "2023-09-14T22:03:48.821Z"
      },
      {
        "duration": 5,
        "start_time": "2023-09-14T22:03:55.271Z"
      },
      {
        "duration": 9,
        "start_time": "2023-09-14T22:05:12.388Z"
      },
      {
        "duration": 7,
        "start_time": "2023-09-14T22:05:19.378Z"
      },
      {
        "duration": 6,
        "start_time": "2023-09-14T22:06:13.960Z"
      },
      {
        "duration": 5,
        "start_time": "2023-09-14T22:06:53.130Z"
      },
      {
        "duration": 8,
        "start_time": "2023-09-14T22:06:58.602Z"
      },
      {
        "duration": 5,
        "start_time": "2023-09-14T22:15:03.781Z"
      },
      {
        "duration": 9,
        "start_time": "2023-09-14T22:21:02.517Z"
      },
      {
        "duration": 5,
        "start_time": "2023-09-14T22:22:14.396Z"
      },
      {
        "duration": 5,
        "start_time": "2023-09-14T22:22:38.351Z"
      },
      {
        "duration": 7,
        "start_time": "2023-09-14T22:22:38.760Z"
      },
      {
        "duration": 5,
        "start_time": "2023-09-14T22:22:59.123Z"
      },
      {
        "duration": 7,
        "start_time": "2023-09-14T22:22:59.550Z"
      },
      {
        "duration": 6,
        "start_time": "2023-09-14T22:25:24.898Z"
      },
      {
        "duration": 5,
        "start_time": "2023-09-14T22:27:03.336Z"
      },
      {
        "duration": 9,
        "start_time": "2023-09-14T22:27:04.039Z"
      },
      {
        "duration": 8,
        "start_time": "2023-09-14T22:27:28.226Z"
      },
      {
        "duration": 5,
        "start_time": "2023-09-14T22:27:58.382Z"
      },
      {
        "duration": 6,
        "start_time": "2023-09-14T22:27:58.844Z"
      },
      {
        "duration": 6,
        "start_time": "2023-09-14T22:28:04.125Z"
      },
      {
        "duration": 15,
        "start_time": "2023-09-14T22:28:04.506Z"
      },
      {
        "duration": 7,
        "start_time": "2023-09-14T22:30:03.730Z"
      },
      {
        "duration": 6,
        "start_time": "2023-09-14T22:30:22.273Z"
      },
      {
        "duration": 14,
        "start_time": "2023-09-14T22:30:56.209Z"
      },
      {
        "duration": 7,
        "start_time": "2023-09-14T22:30:57.081Z"
      },
      {
        "duration": 64,
        "start_time": "2023-09-14T22:56:55.362Z"
      },
      {
        "duration": 5,
        "start_time": "2023-09-14T22:56:55.571Z"
      },
      {
        "duration": 63,
        "start_time": "2023-09-14T22:56:55.774Z"
      },
      {
        "duration": 1334,
        "start_time": "2023-09-14T23:17:52.777Z"
      },
      {
        "duration": 6,
        "start_time": "2023-09-14T23:17:54.113Z"
      },
      {
        "duration": 17,
        "start_time": "2023-09-14T23:17:54.121Z"
      },
      {
        "duration": 708,
        "start_time": "2023-09-14T23:17:54.140Z"
      },
      {
        "duration": 26,
        "start_time": "2023-09-14T23:17:54.850Z"
      },
      {
        "duration": 57,
        "start_time": "2023-09-14T23:17:54.878Z"
      },
      {
        "duration": 14,
        "start_time": "2023-09-14T23:17:54.937Z"
      },
      {
        "duration": 146,
        "start_time": "2023-09-14T23:17:54.952Z"
      },
      {
        "duration": 146,
        "start_time": "2023-09-14T23:17:55.110Z"
      },
      {
        "duration": 137,
        "start_time": "2023-09-14T23:17:55.260Z"
      },
      {
        "duration": 595,
        "start_time": "2023-09-14T23:17:55.399Z"
      },
      {
        "duration": 145,
        "start_time": "2023-09-14T23:17:55.996Z"
      },
      {
        "duration": 22,
        "start_time": "2023-09-14T23:17:56.143Z"
      },
      {
        "duration": 74,
        "start_time": "2023-09-14T23:17:56.166Z"
      },
      {
        "duration": 11,
        "start_time": "2023-09-14T23:17:56.241Z"
      },
      {
        "duration": 163,
        "start_time": "2023-09-14T23:17:56.253Z"
      },
      {
        "duration": 26,
        "start_time": "2023-09-14T23:17:56.418Z"
      },
      {
        "duration": 28,
        "start_time": "2023-09-14T23:17:56.446Z"
      },
      {
        "duration": 46,
        "start_time": "2023-09-14T23:17:56.475Z"
      },
      {
        "duration": 66,
        "start_time": "2023-09-14T23:17:56.523Z"
      },
      {
        "duration": 43,
        "start_time": "2023-09-14T23:17:56.591Z"
      },
      {
        "duration": 261,
        "start_time": "2023-09-14T23:17:56.636Z"
      },
      {
        "duration": 14,
        "start_time": "2023-09-14T23:17:56.899Z"
      },
      {
        "duration": 14,
        "start_time": "2023-09-14T23:17:56.915Z"
      },
      {
        "duration": 576,
        "start_time": "2023-09-14T23:17:56.931Z"
      },
      {
        "duration": 9,
        "start_time": "2023-09-14T23:17:57.510Z"
      },
      {
        "duration": 23,
        "start_time": "2023-09-14T23:17:57.520Z"
      },
      {
        "duration": 8,
        "start_time": "2023-09-14T23:17:57.549Z"
      },
      {
        "duration": 17,
        "start_time": "2023-09-14T23:17:57.559Z"
      },
      {
        "duration": 40,
        "start_time": "2023-09-14T23:17:57.578Z"
      },
      {
        "duration": 13,
        "start_time": "2023-09-14T23:17:57.620Z"
      },
      {
        "duration": 328,
        "start_time": "2023-09-14T23:17:57.635Z"
      },
      {
        "duration": 22,
        "start_time": "2023-09-14T23:17:57.964Z"
      },
      {
        "duration": 75,
        "start_time": "2023-09-14T23:17:57.988Z"
      },
      {
        "duration": 296,
        "start_time": "2023-09-14T23:17:58.065Z"
      },
      {
        "duration": 304,
        "start_time": "2023-09-14T23:17:58.363Z"
      },
      {
        "duration": 19,
        "start_time": "2023-09-14T23:17:58.669Z"
      },
      {
        "duration": 36,
        "start_time": "2023-09-14T23:17:58.690Z"
      },
      {
        "duration": 8,
        "start_time": "2023-09-14T23:17:58.728Z"
      },
      {
        "duration": 7,
        "start_time": "2023-09-14T23:17:58.738Z"
      },
      {
        "duration": 350,
        "start_time": "2023-09-14T23:17:58.747Z"
      },
      {
        "duration": 7,
        "start_time": "2023-09-14T23:17:59.109Z"
      },
      {
        "duration": 32,
        "start_time": "2023-09-14T23:17:59.118Z"
      },
      {
        "duration": 4,
        "start_time": "2023-09-14T23:17:59.152Z"
      },
      {
        "duration": 318,
        "start_time": "2023-09-14T23:17:59.158Z"
      },
      {
        "duration": 68,
        "start_time": "2023-09-14T23:17:59.478Z"
      },
      {
        "duration": 5,
        "start_time": "2023-09-14T23:17:59.548Z"
      },
      {
        "duration": 88,
        "start_time": "2023-09-14T23:17:59.555Z"
      },
      {
        "duration": 186,
        "start_time": "2023-09-14T23:17:59.645Z"
      },
      {
        "duration": 7,
        "start_time": "2023-09-14T23:17:59.833Z"
      },
      {
        "duration": 6,
        "start_time": "2023-09-14T23:17:59.841Z"
      },
      {
        "duration": 5,
        "start_time": "2023-09-14T23:17:59.848Z"
      },
      {
        "duration": 23,
        "start_time": "2023-09-14T23:17:59.854Z"
      },
      {
        "duration": 18,
        "start_time": "2023-09-14T23:17:59.879Z"
      },
      {
        "duration": 256,
        "start_time": "2023-09-14T23:17:59.908Z"
      },
      {
        "duration": 246,
        "start_time": "2023-09-14T23:18:00.166Z"
      },
      {
        "duration": 29,
        "start_time": "2023-09-14T23:18:00.414Z"
      },
      {
        "duration": 175,
        "start_time": "2023-09-14T23:18:00.445Z"
      },
      {
        "duration": 7,
        "start_time": "2023-09-14T23:18:00.622Z"
      },
      {
        "duration": 85,
        "start_time": "2023-09-14T23:18:00.630Z"
      },
      {
        "duration": 36,
        "start_time": "2023-09-14T23:18:00.717Z"
      },
      {
        "duration": 45,
        "start_time": "2023-09-14T23:18:00.755Z"
      },
      {
        "duration": 26,
        "start_time": "2023-09-14T23:18:00.802Z"
      },
      {
        "duration": 43,
        "start_time": "2023-09-14T23:18:00.830Z"
      },
      {
        "duration": 31,
        "start_time": "2023-09-14T23:18:00.875Z"
      },
      {
        "duration": 46,
        "start_time": "2023-09-14T23:18:00.907Z"
      },
      {
        "duration": 1515,
        "start_time": "2023-09-16T06:35:47.039Z"
      },
      {
        "duration": 5,
        "start_time": "2023-09-16T06:35:48.557Z"
      },
      {
        "duration": 28,
        "start_time": "2023-09-16T06:35:48.564Z"
      },
      {
        "duration": 1129,
        "start_time": "2023-09-16T06:35:48.593Z"
      },
      {
        "duration": 31,
        "start_time": "2023-09-16T06:35:49.725Z"
      },
      {
        "duration": 60,
        "start_time": "2023-09-16T06:35:49.758Z"
      },
      {
        "duration": 16,
        "start_time": "2023-09-16T06:35:49.846Z"
      },
      {
        "duration": 240,
        "start_time": "2023-09-16T06:35:49.865Z"
      },
      {
        "duration": 196,
        "start_time": "2023-09-16T06:35:50.108Z"
      },
      {
        "duration": 151,
        "start_time": "2023-09-16T06:35:50.307Z"
      },
      {
        "duration": 646,
        "start_time": "2023-09-16T06:35:50.460Z"
      },
      {
        "duration": 205,
        "start_time": "2023-09-16T06:35:51.108Z"
      },
      {
        "duration": 51,
        "start_time": "2023-09-16T06:35:51.315Z"
      },
      {
        "duration": 77,
        "start_time": "2023-09-16T06:35:51.371Z"
      },
      {
        "duration": 11,
        "start_time": "2023-09-16T06:35:51.450Z"
      },
      {
        "duration": 182,
        "start_time": "2023-09-16T06:35:51.464Z"
      },
      {
        "duration": 27,
        "start_time": "2023-09-16T06:35:51.648Z"
      },
      {
        "duration": 40,
        "start_time": "2023-09-16T06:35:51.677Z"
      },
      {
        "duration": 33,
        "start_time": "2023-09-16T06:35:51.720Z"
      },
      {
        "duration": 95,
        "start_time": "2023-09-16T06:35:51.756Z"
      },
      {
        "duration": 69,
        "start_time": "2023-09-16T06:35:51.853Z"
      },
      {
        "duration": 303,
        "start_time": "2023-09-16T06:35:51.924Z"
      },
      {
        "duration": 17,
        "start_time": "2023-09-16T06:35:52.229Z"
      },
      {
        "duration": 55,
        "start_time": "2023-09-16T06:35:52.248Z"
      },
      {
        "duration": 720,
        "start_time": "2023-09-16T06:35:52.305Z"
      },
      {
        "duration": 9,
        "start_time": "2023-09-16T06:35:53.027Z"
      },
      {
        "duration": 42,
        "start_time": "2023-09-16T06:35:53.047Z"
      },
      {
        "duration": 42,
        "start_time": "2023-09-16T06:35:53.091Z"
      },
      {
        "duration": 48,
        "start_time": "2023-09-16T06:35:53.136Z"
      },
      {
        "duration": 34,
        "start_time": "2023-09-16T06:35:53.187Z"
      },
      {
        "duration": 15,
        "start_time": "2023-09-16T06:35:53.223Z"
      },
      {
        "duration": 302,
        "start_time": "2023-09-16T06:35:53.240Z"
      },
      {
        "duration": 25,
        "start_time": "2023-09-16T06:35:53.544Z"
      },
      {
        "duration": 81,
        "start_time": "2023-09-16T06:35:53.571Z"
      },
      {
        "duration": 303,
        "start_time": "2023-09-16T06:35:53.654Z"
      },
      {
        "duration": 320,
        "start_time": "2023-09-16T06:35:53.959Z"
      },
      {
        "duration": 19,
        "start_time": "2023-09-16T06:35:54.281Z"
      },
      {
        "duration": 45,
        "start_time": "2023-09-16T06:35:54.303Z"
      },
      {
        "duration": 8,
        "start_time": "2023-09-16T06:35:54.351Z"
      },
      {
        "duration": 20,
        "start_time": "2023-09-16T06:35:54.361Z"
      },
      {
        "duration": 374,
        "start_time": "2023-09-16T06:35:54.386Z"
      },
      {
        "duration": 9,
        "start_time": "2023-09-16T06:35:54.762Z"
      },
      {
        "duration": 46,
        "start_time": "2023-09-16T06:35:54.773Z"
      },
      {
        "duration": 26,
        "start_time": "2023-09-16T06:35:54.821Z"
      },
      {
        "duration": 325,
        "start_time": "2023-09-16T06:35:54.850Z"
      },
      {
        "duration": 94,
        "start_time": "2023-09-16T06:35:55.177Z"
      },
      {
        "duration": 6,
        "start_time": "2023-09-16T06:35:55.274Z"
      },
      {
        "duration": 104,
        "start_time": "2023-09-16T06:35:55.282Z"
      },
      {
        "duration": 205,
        "start_time": "2023-09-16T06:35:55.388Z"
      },
      {
        "duration": 8,
        "start_time": "2023-09-16T06:35:55.595Z"
      },
      {
        "duration": 26,
        "start_time": "2023-09-16T06:35:55.604Z"
      },
      {
        "duration": 5,
        "start_time": "2023-09-16T06:35:55.647Z"
      },
      {
        "duration": 43,
        "start_time": "2023-09-16T06:35:55.653Z"
      },
      {
        "duration": 45,
        "start_time": "2023-09-16T06:35:55.698Z"
      },
      {
        "duration": 277,
        "start_time": "2023-09-16T06:35:55.745Z"
      },
      {
        "duration": 276,
        "start_time": "2023-09-16T06:35:56.024Z"
      },
      {
        "duration": 27,
        "start_time": "2023-09-16T06:35:56.302Z"
      },
      {
        "duration": 380,
        "start_time": "2023-09-16T06:35:56.347Z"
      },
      {
        "duration": 18,
        "start_time": "2023-09-16T06:35:56.729Z"
      },
      {
        "duration": 32,
        "start_time": "2023-09-16T06:35:56.749Z"
      },
      {
        "duration": 20,
        "start_time": "2023-09-16T06:35:56.783Z"
      },
      {
        "duration": 54,
        "start_time": "2023-09-16T06:35:56.805Z"
      },
      {
        "duration": 8,
        "start_time": "2023-09-16T06:35:56.861Z"
      },
      {
        "duration": 32,
        "start_time": "2023-09-16T06:35:56.871Z"
      },
      {
        "duration": 45,
        "start_time": "2023-09-16T06:35:56.904Z"
      },
      {
        "duration": 25,
        "start_time": "2023-09-16T06:35:56.952Z"
      },
      {
        "duration": 6,
        "start_time": "2023-09-16T06:36:40.031Z"
      },
      {
        "duration": 8,
        "start_time": "2023-09-16T06:38:04.183Z"
      },
      {
        "duration": 1456,
        "start_time": "2023-09-16T12:00:02.092Z"
      },
      {
        "duration": 5,
        "start_time": "2023-09-16T12:00:03.550Z"
      },
      {
        "duration": 126,
        "start_time": "2023-09-16T12:00:03.557Z"
      },
      {
        "duration": 1102,
        "start_time": "2023-09-16T12:00:03.685Z"
      },
      {
        "duration": 25,
        "start_time": "2023-09-16T12:00:04.789Z"
      },
      {
        "duration": 40,
        "start_time": "2023-09-16T12:00:04.816Z"
      },
      {
        "duration": 25,
        "start_time": "2023-09-16T12:00:04.858Z"
      },
      {
        "duration": 162,
        "start_time": "2023-09-16T12:00:04.885Z"
      },
      {
        "duration": 226,
        "start_time": "2023-09-16T12:00:05.049Z"
      },
      {
        "duration": 136,
        "start_time": "2023-09-16T12:00:05.278Z"
      },
      {
        "duration": 571,
        "start_time": "2023-09-16T12:00:05.416Z"
      },
      {
        "duration": 158,
        "start_time": "2023-09-16T12:00:05.989Z"
      },
      {
        "duration": 21,
        "start_time": "2023-09-16T12:00:06.149Z"
      },
      {
        "duration": 74,
        "start_time": "2023-09-16T12:00:06.172Z"
      },
      {
        "duration": 147,
        "start_time": "2023-09-16T12:00:06.248Z"
      },
      {
        "duration": 25,
        "start_time": "2023-09-16T12:00:06.397Z"
      },
      {
        "duration": 41,
        "start_time": "2023-09-16T12:00:06.424Z"
      },
      {
        "duration": 19,
        "start_time": "2023-09-16T12:00:06.468Z"
      },
      {
        "duration": 59,
        "start_time": "2023-09-16T12:00:06.489Z"
      },
      {
        "duration": 46,
        "start_time": "2023-09-16T12:00:06.550Z"
      },
      {
        "duration": 279,
        "start_time": "2023-09-16T12:00:06.598Z"
      },
      {
        "duration": 7,
        "start_time": "2023-09-16T12:00:06.878Z"
      },
      {
        "duration": 22,
        "start_time": "2023-09-16T12:00:06.887Z"
      },
      {
        "duration": 594,
        "start_time": "2023-09-16T12:00:06.911Z"
      },
      {
        "duration": 8,
        "start_time": "2023-09-16T12:00:07.507Z"
      },
      {
        "duration": 16,
        "start_time": "2023-09-16T12:00:07.517Z"
      },
      {
        "duration": 10,
        "start_time": "2023-09-16T12:00:07.548Z"
      },
      {
        "duration": 53,
        "start_time": "2023-09-16T12:00:07.562Z"
      },
      {
        "duration": 26,
        "start_time": "2023-09-16T12:00:07.617Z"
      },
      {
        "duration": 9,
        "start_time": "2023-09-16T12:02:41.936Z"
      },
      {
        "duration": 16,
        "start_time": "2023-09-16T12:02:42.330Z"
      },
      {
        "duration": 16,
        "start_time": "2023-09-16T12:02:42.697Z"
      },
      {
        "duration": 7,
        "start_time": "2023-09-16T12:03:49.105Z"
      },
      {
        "duration": 15,
        "start_time": "2023-09-16T12:03:49.589Z"
      },
      {
        "duration": 17,
        "start_time": "2023-09-16T12:03:49.976Z"
      },
      {
        "duration": 10,
        "start_time": "2023-09-16T12:04:26.802Z"
      },
      {
        "duration": 15,
        "start_time": "2023-09-16T12:04:27.367Z"
      },
      {
        "duration": 25,
        "start_time": "2023-09-16T12:04:28.125Z"
      },
      {
        "duration": 7,
        "start_time": "2023-09-16T12:05:09.658Z"
      },
      {
        "duration": 8,
        "start_time": "2023-09-16T12:05:22.663Z"
      },
      {
        "duration": 16,
        "start_time": "2023-09-16T12:05:23.221Z"
      },
      {
        "duration": 17,
        "start_time": "2023-09-16T12:05:24.117Z"
      },
      {
        "duration": 9,
        "start_time": "2023-09-16T12:05:32.376Z"
      },
      {
        "duration": 17,
        "start_time": "2023-09-16T12:05:32.714Z"
      },
      {
        "duration": 16,
        "start_time": "2023-09-16T12:05:33.071Z"
      },
      {
        "duration": 3,
        "start_time": "2023-09-16T12:08:25.440Z"
      },
      {
        "duration": 18,
        "start_time": "2023-09-16T12:08:25.445Z"
      },
      {
        "duration": 18,
        "start_time": "2023-09-16T12:08:25.466Z"
      },
      {
        "duration": 633,
        "start_time": "2023-09-16T12:08:25.485Z"
      },
      {
        "duration": 24,
        "start_time": "2023-09-16T12:08:26.121Z"
      },
      {
        "duration": 58,
        "start_time": "2023-09-16T12:08:26.148Z"
      },
      {
        "duration": 39,
        "start_time": "2023-09-16T12:08:26.208Z"
      },
      {
        "duration": 131,
        "start_time": "2023-09-16T12:08:26.248Z"
      },
      {
        "duration": 143,
        "start_time": "2023-09-16T12:08:26.381Z"
      },
      {
        "duration": 121,
        "start_time": "2023-09-16T12:08:26.525Z"
      },
      {
        "duration": 525,
        "start_time": "2023-09-16T12:08:26.648Z"
      },
      {
        "duration": 137,
        "start_time": "2023-09-16T12:08:27.176Z"
      },
      {
        "duration": 44,
        "start_time": "2023-09-16T12:08:27.315Z"
      },
      {
        "duration": 86,
        "start_time": "2023-09-16T12:08:27.362Z"
      },
      {
        "duration": 159,
        "start_time": "2023-09-16T12:08:27.450Z"
      },
      {
        "duration": 26,
        "start_time": "2023-09-16T12:08:27.611Z"
      },
      {
        "duration": 35,
        "start_time": "2023-09-16T12:08:27.647Z"
      },
      {
        "duration": 24,
        "start_time": "2023-09-16T12:08:27.684Z"
      },
      {
        "duration": 64,
        "start_time": "2023-09-16T12:08:27.709Z"
      },
      {
        "duration": 44,
        "start_time": "2023-09-16T12:08:27.775Z"
      },
      {
        "duration": 266,
        "start_time": "2023-09-16T12:08:27.821Z"
      },
      {
        "duration": 7,
        "start_time": "2023-09-16T12:08:28.089Z"
      },
      {
        "duration": 19,
        "start_time": "2023-09-16T12:08:28.097Z"
      },
      {
        "duration": 509,
        "start_time": "2023-09-16T12:08:28.118Z"
      },
      {
        "duration": 16,
        "start_time": "2023-09-16T12:08:28.630Z"
      },
      {
        "duration": 26,
        "start_time": "2023-09-16T12:08:28.648Z"
      },
      {
        "duration": 28,
        "start_time": "2023-09-16T12:08:28.676Z"
      },
      {
        "duration": 16,
        "start_time": "2023-09-16T12:08:28.705Z"
      },
      {
        "duration": 16,
        "start_time": "2023-09-16T12:08:28.722Z"
      },
      {
        "duration": 16,
        "start_time": "2023-09-16T12:08:28.740Z"
      },
      {
        "duration": 16,
        "start_time": "2023-09-16T12:08:28.758Z"
      },
      {
        "duration": 14,
        "start_time": "2023-09-16T12:08:28.776Z"
      },
      {
        "duration": 12,
        "start_time": "2023-09-16T12:08:28.794Z"
      },
      {
        "duration": 338,
        "start_time": "2023-09-16T12:08:28.808Z"
      },
      {
        "duration": 23,
        "start_time": "2023-09-16T12:08:29.149Z"
      },
      {
        "duration": 85,
        "start_time": "2023-09-16T12:08:29.173Z"
      },
      {
        "duration": 297,
        "start_time": "2023-09-16T12:08:29.260Z"
      },
      {
        "duration": 376,
        "start_time": "2023-09-16T12:08:29.558Z"
      },
      {
        "duration": 23,
        "start_time": "2023-09-16T12:08:29.935Z"
      },
      {
        "duration": 25,
        "start_time": "2023-09-16T12:08:29.960Z"
      },
      {
        "duration": 48,
        "start_time": "2023-09-16T12:08:29.987Z"
      },
      {
        "duration": 37,
        "start_time": "2023-09-16T12:08:30.037Z"
      },
      {
        "duration": 359,
        "start_time": "2023-09-16T12:08:30.076Z"
      },
      {
        "duration": 15,
        "start_time": "2023-09-16T12:08:30.437Z"
      },
      {
        "duration": 103,
        "start_time": "2023-09-16T12:10:59.513Z"
      },
      {
        "duration": 5,
        "start_time": "2023-09-16T12:11:05.599Z"
      },
      {
        "duration": 7,
        "start_time": "2023-09-16T12:11:05.613Z"
      },
      {
        "duration": 30,
        "start_time": "2023-09-16T12:11:05.634Z"
      },
      {
        "duration": 681,
        "start_time": "2023-09-16T12:11:05.667Z"
      },
      {
        "duration": 19,
        "start_time": "2023-09-16T12:11:06.350Z"
      },
      {
        "duration": 41,
        "start_time": "2023-09-16T12:11:06.370Z"
      },
      {
        "duration": 36,
        "start_time": "2023-09-16T12:11:06.413Z"
      },
      {
        "duration": 153,
        "start_time": "2023-09-16T12:11:06.451Z"
      },
      {
        "duration": 156,
        "start_time": "2023-09-16T12:11:06.606Z"
      },
      {
        "duration": 108,
        "start_time": "2023-09-16T12:11:06.763Z"
      },
      {
        "duration": 545,
        "start_time": "2023-09-16T12:11:06.873Z"
      },
      {
        "duration": 152,
        "start_time": "2023-09-16T12:11:07.419Z"
      },
      {
        "duration": 34,
        "start_time": "2023-09-16T12:11:07.573Z"
      },
      {
        "duration": 72,
        "start_time": "2023-09-16T12:11:07.609Z"
      },
      {
        "duration": 167,
        "start_time": "2023-09-16T12:11:07.682Z"
      },
      {
        "duration": 29,
        "start_time": "2023-09-16T12:11:07.853Z"
      },
      {
        "duration": 45,
        "start_time": "2023-09-16T12:11:07.883Z"
      },
      {
        "duration": 24,
        "start_time": "2023-09-16T12:11:07.929Z"
      },
      {
        "duration": 47,
        "start_time": "2023-09-16T12:11:07.955Z"
      },
      {
        "duration": 58,
        "start_time": "2023-09-16T12:11:08.004Z"
      },
      {
        "duration": 271,
        "start_time": "2023-09-16T12:11:08.064Z"
      },
      {
        "duration": 13,
        "start_time": "2023-09-16T12:11:08.337Z"
      },
      {
        "duration": 41,
        "start_time": "2023-09-16T12:11:08.351Z"
      },
      {
        "duration": 536,
        "start_time": "2023-09-16T12:11:08.393Z"
      },
      {
        "duration": 16,
        "start_time": "2023-09-16T12:11:08.932Z"
      },
      {
        "duration": 37,
        "start_time": "2023-09-16T12:11:08.949Z"
      },
      {
        "duration": 29,
        "start_time": "2023-09-16T12:11:08.988Z"
      },
      {
        "duration": 34,
        "start_time": "2023-09-16T12:11:09.019Z"
      },
      {
        "duration": 27,
        "start_time": "2023-09-16T12:11:09.055Z"
      },
      {
        "duration": 28,
        "start_time": "2023-09-16T12:11:09.084Z"
      },
      {
        "duration": 42,
        "start_time": "2023-09-16T12:11:09.114Z"
      },
      {
        "duration": 24,
        "start_time": "2023-09-16T12:11:09.158Z"
      },
      {
        "duration": 44,
        "start_time": "2023-09-16T12:11:09.184Z"
      },
      {
        "duration": 316,
        "start_time": "2023-09-16T12:11:09.230Z"
      },
      {
        "duration": 22,
        "start_time": "2023-09-16T12:11:09.548Z"
      },
      {
        "duration": 79,
        "start_time": "2023-09-16T12:11:09.572Z"
      },
      {
        "duration": 298,
        "start_time": "2023-09-16T12:11:09.653Z"
      },
      {
        "duration": 298,
        "start_time": "2023-09-16T12:11:09.953Z"
      },
      {
        "duration": 17,
        "start_time": "2023-09-16T12:11:10.252Z"
      },
      {
        "duration": 26,
        "start_time": "2023-09-16T12:11:10.271Z"
      },
      {
        "duration": 11,
        "start_time": "2023-09-16T12:11:10.299Z"
      },
      {
        "duration": 32,
        "start_time": "2023-09-16T12:11:10.311Z"
      },
      {
        "duration": 366,
        "start_time": "2023-09-16T12:11:10.349Z"
      },
      {
        "duration": 7,
        "start_time": "2023-09-16T12:11:10.717Z"
      },
      {
        "duration": 53,
        "start_time": "2023-09-16T12:11:10.726Z"
      },
      {
        "duration": 5,
        "start_time": "2023-09-16T12:11:10.781Z"
      },
      {
        "duration": 235,
        "start_time": "2023-09-16T12:11:10.788Z"
      },
      {
        "duration": 72,
        "start_time": "2023-09-16T12:11:11.025Z"
      },
      {
        "duration": 5,
        "start_time": "2023-09-16T12:11:11.099Z"
      },
      {
        "duration": 74,
        "start_time": "2023-09-16T12:11:11.105Z"
      },
      {
        "duration": 282,
        "start_time": "2023-09-16T12:11:11.180Z"
      },
      {
        "duration": 7,
        "start_time": "2023-09-16T12:11:11.464Z"
      },
      {
        "duration": 11,
        "start_time": "2023-09-16T12:11:11.472Z"
      },
      {
        "duration": 9,
        "start_time": "2023-09-16T12:11:11.484Z"
      },
      {
        "duration": 8,
        "start_time": "2023-09-16T12:11:11.495Z"
      },
      {
        "duration": 13,
        "start_time": "2023-09-16T12:11:11.505Z"
      },
      {
        "duration": 290,
        "start_time": "2023-09-16T12:11:11.519Z"
      },
      {
        "duration": 258,
        "start_time": "2023-09-16T12:11:11.811Z"
      },
      {
        "duration": 10,
        "start_time": "2023-09-16T12:11:15.667Z"
      },
      {
        "duration": 280,
        "start_time": "2023-09-16T12:11:17.993Z"
      },
      {
        "duration": 9,
        "start_time": "2023-09-16T12:11:53.823Z"
      },
      {
        "duration": 260,
        "start_time": "2023-09-16T12:11:54.143Z"
      },
      {
        "duration": 5,
        "start_time": "2023-09-16T12:18:14.099Z"
      },
      {
        "duration": 9,
        "start_time": "2023-09-16T12:18:14.106Z"
      },
      {
        "duration": 21,
        "start_time": "2023-09-16T12:18:14.117Z"
      },
      {
        "duration": 636,
        "start_time": "2023-09-16T12:18:14.140Z"
      },
      {
        "duration": 19,
        "start_time": "2023-09-16T12:18:14.778Z"
      },
      {
        "duration": 57,
        "start_time": "2023-09-16T12:18:14.799Z"
      },
      {
        "duration": 14,
        "start_time": "2023-09-16T12:18:14.857Z"
      },
      {
        "duration": 148,
        "start_time": "2023-09-16T12:18:14.872Z"
      },
      {
        "duration": 156,
        "start_time": "2023-09-16T12:18:15.021Z"
      },
      {
        "duration": 108,
        "start_time": "2023-09-16T12:18:15.179Z"
      },
      {
        "duration": 618,
        "start_time": "2023-09-16T12:18:15.290Z"
      },
      {
        "duration": 149,
        "start_time": "2023-09-16T12:18:15.910Z"
      },
      {
        "duration": 24,
        "start_time": "2023-09-16T12:18:16.061Z"
      },
      {
        "duration": 78,
        "start_time": "2023-09-16T12:18:16.087Z"
      },
      {
        "duration": 177,
        "start_time": "2023-09-16T12:18:16.166Z"
      },
      {
        "duration": 25,
        "start_time": "2023-09-16T12:18:16.344Z"
      },
      {
        "duration": 29,
        "start_time": "2023-09-16T12:18:16.371Z"
      },
      {
        "duration": 45,
        "start_time": "2023-09-16T12:18:16.402Z"
      },
      {
        "duration": 41,
        "start_time": "2023-09-16T12:18:16.448Z"
      },
      {
        "duration": 59,
        "start_time": "2023-09-16T12:18:16.491Z"
      },
      {
        "duration": 253,
        "start_time": "2023-09-16T12:18:16.551Z"
      },
      {
        "duration": 7,
        "start_time": "2023-09-16T12:18:16.806Z"
      },
      {
        "duration": 38,
        "start_time": "2023-09-16T12:18:16.815Z"
      },
      {
        "duration": 508,
        "start_time": "2023-09-16T12:18:16.854Z"
      },
      {
        "duration": 8,
        "start_time": "2023-09-16T12:18:17.363Z"
      },
      {
        "duration": 14,
        "start_time": "2023-09-16T12:18:17.373Z"
      },
      {
        "duration": 9,
        "start_time": "2023-09-16T12:18:17.389Z"
      },
      {
        "duration": 27,
        "start_time": "2023-09-16T12:18:17.399Z"
      },
      {
        "duration": 36,
        "start_time": "2023-09-16T12:18:17.430Z"
      },
      {
        "duration": 16,
        "start_time": "2023-09-16T12:18:17.468Z"
      },
      {
        "duration": 32,
        "start_time": "2023-09-16T12:18:17.485Z"
      },
      {
        "duration": 31,
        "start_time": "2023-09-16T12:18:17.519Z"
      },
      {
        "duration": 19,
        "start_time": "2023-09-16T12:18:17.552Z"
      },
      {
        "duration": 290,
        "start_time": "2023-09-16T12:18:17.573Z"
      },
      {
        "duration": 20,
        "start_time": "2023-09-16T12:18:17.865Z"
      },
      {
        "duration": 88,
        "start_time": "2023-09-16T12:18:17.886Z"
      },
      {
        "duration": 319,
        "start_time": "2023-09-16T12:18:17.976Z"
      },
      {
        "duration": 289,
        "start_time": "2023-09-16T12:18:18.297Z"
      },
      {
        "duration": 17,
        "start_time": "2023-09-16T12:18:18.588Z"
      },
      {
        "duration": 42,
        "start_time": "2023-09-16T12:18:18.607Z"
      },
      {
        "duration": 11,
        "start_time": "2023-09-16T12:18:18.651Z"
      },
      {
        "duration": 22,
        "start_time": "2023-09-16T12:18:18.664Z"
      },
      {
        "duration": 463,
        "start_time": "2023-09-16T12:18:18.688Z"
      },
      {
        "duration": 6,
        "start_time": "2023-09-16T12:18:19.153Z"
      },
      {
        "duration": 42,
        "start_time": "2023-09-16T12:18:19.160Z"
      },
      {
        "duration": 4,
        "start_time": "2023-09-16T12:18:19.204Z"
      },
      {
        "duration": 230,
        "start_time": "2023-09-16T12:18:19.210Z"
      },
      {
        "duration": 65,
        "start_time": "2023-09-16T12:18:19.442Z"
      },
      {
        "duration": 4,
        "start_time": "2023-09-16T12:18:19.509Z"
      },
      {
        "duration": 77,
        "start_time": "2023-09-16T12:18:19.515Z"
      },
      {
        "duration": 200,
        "start_time": "2023-09-16T12:18:19.594Z"
      },
      {
        "duration": 8,
        "start_time": "2023-09-16T12:18:19.796Z"
      },
      {
        "duration": 5,
        "start_time": "2023-09-16T12:18:19.806Z"
      },
      {
        "duration": 35,
        "start_time": "2023-09-16T12:18:19.813Z"
      },
      {
        "duration": 6,
        "start_time": "2023-09-16T12:18:19.850Z"
      },
      {
        "duration": 17,
        "start_time": "2023-09-16T12:18:19.858Z"
      },
      {
        "duration": 271,
        "start_time": "2023-09-16T12:18:19.877Z"
      },
      {
        "duration": 268,
        "start_time": "2023-09-16T12:18:20.149Z"
      },
      {
        "duration": 8,
        "start_time": "2023-09-16T12:18:20.419Z"
      },
      {
        "duration": 276,
        "start_time": "2023-09-16T12:18:20.428Z"
      },
      {
        "duration": 29,
        "start_time": "2023-09-16T12:20:06.706Z"
      },
      {
        "duration": 39,
        "start_time": "2023-09-16T12:20:22.229Z"
      },
      {
        "duration": 45,
        "start_time": "2023-09-16T12:21:58.916Z"
      },
      {
        "duration": 34,
        "start_time": "2023-09-16T12:22:26.616Z"
      },
      {
        "duration": 26,
        "start_time": "2023-09-16T12:24:07.363Z"
      },
      {
        "duration": 29,
        "start_time": "2023-09-16T12:24:11.762Z"
      },
      {
        "duration": 29,
        "start_time": "2023-09-16T12:24:47.950Z"
      },
      {
        "duration": 6,
        "start_time": "2023-09-16T12:25:05.784Z"
      },
      {
        "duration": 30,
        "start_time": "2023-09-16T12:25:13.073Z"
      },
      {
        "duration": 7,
        "start_time": "2023-09-16T12:25:36.709Z"
      },
      {
        "duration": 7,
        "start_time": "2023-09-16T12:25:53.019Z"
      },
      {
        "duration": 7,
        "start_time": "2023-09-16T12:25:58.591Z"
      },
      {
        "duration": 42,
        "start_time": "2023-09-16T12:26:31.358Z"
      },
      {
        "duration": 76,
        "start_time": "2023-09-16T12:27:24.640Z"
      },
      {
        "duration": 36,
        "start_time": "2023-09-16T12:27:32.627Z"
      },
      {
        "duration": 38,
        "start_time": "2023-09-16T12:28:02.374Z"
      },
      {
        "duration": 31,
        "start_time": "2023-09-16T12:28:11.585Z"
      },
      {
        "duration": 32,
        "start_time": "2023-09-16T12:28:33.476Z"
      },
      {
        "duration": 20,
        "start_time": "2023-09-16T12:33:10.819Z"
      },
      {
        "duration": 8,
        "start_time": "2023-09-16T12:33:26.747Z"
      },
      {
        "duration": 7,
        "start_time": "2023-09-16T12:34:12.841Z"
      },
      {
        "duration": 9,
        "start_time": "2023-09-16T12:34:15.656Z"
      },
      {
        "duration": 7,
        "start_time": "2023-09-16T12:34:20.644Z"
      },
      {
        "duration": 10,
        "start_time": "2023-09-16T12:35:37.989Z"
      },
      {
        "duration": 8,
        "start_time": "2023-09-16T12:36:07.549Z"
      },
      {
        "duration": 8,
        "start_time": "2023-09-16T12:36:30.404Z"
      },
      {
        "duration": 7,
        "start_time": "2023-09-16T12:36:43.810Z"
      },
      {
        "duration": 13,
        "start_time": "2023-09-16T12:37:59.723Z"
      },
      {
        "duration": 12,
        "start_time": "2023-09-16T12:38:04.457Z"
      },
      {
        "duration": 84,
        "start_time": "2023-09-16T12:38:56.633Z"
      },
      {
        "duration": 10,
        "start_time": "2023-09-16T12:39:02.061Z"
      },
      {
        "duration": 1634,
        "start_time": "2023-09-16T12:39:24.309Z"
      },
      {
        "duration": 10,
        "start_time": "2023-09-16T12:39:40.716Z"
      },
      {
        "duration": 9,
        "start_time": "2023-09-16T12:40:03.247Z"
      },
      {
        "duration": 1677,
        "start_time": "2023-09-16T12:40:15.217Z"
      },
      {
        "duration": 49,
        "start_time": "2023-09-16T12:40:40.623Z"
      },
      {
        "duration": 38,
        "start_time": "2023-09-16T12:41:01.573Z"
      },
      {
        "duration": 35,
        "start_time": "2023-09-16T12:43:35.077Z"
      },
      {
        "duration": 40,
        "start_time": "2023-09-16T12:43:41.721Z"
      },
      {
        "duration": 42,
        "start_time": "2023-09-16T12:44:28.343Z"
      },
      {
        "duration": 40,
        "start_time": "2023-09-16T12:45:29.814Z"
      },
      {
        "duration": 209,
        "start_time": "2023-09-16T12:46:08.392Z"
      },
      {
        "duration": 42,
        "start_time": "2023-09-16T12:47:52.409Z"
      },
      {
        "duration": 19,
        "start_time": "2023-09-16T12:52:08.085Z"
      },
      {
        "duration": 13,
        "start_time": "2023-09-16T12:52:50.460Z"
      },
      {
        "duration": 12,
        "start_time": "2023-09-16T12:53:47.655Z"
      },
      {
        "duration": 12,
        "start_time": "2023-09-16T12:54:04.505Z"
      },
      {
        "duration": 13,
        "start_time": "2023-09-16T12:54:21.918Z"
      },
      {
        "duration": 14,
        "start_time": "2023-09-16T12:54:26.559Z"
      },
      {
        "duration": 6,
        "start_time": "2023-09-16T13:14:42.886Z"
      },
      {
        "duration": 24,
        "start_time": "2023-09-16T13:14:45.603Z"
      },
      {
        "duration": 5,
        "start_time": "2023-09-16T13:14:50.841Z"
      },
      {
        "duration": 5,
        "start_time": "2023-09-16T13:14:53.873Z"
      },
      {
        "duration": 7,
        "start_time": "2023-09-16T13:14:55.461Z"
      },
      {
        "duration": 5,
        "start_time": "2023-09-16T13:14:59.223Z"
      },
      {
        "duration": 7,
        "start_time": "2023-09-16T13:14:59.857Z"
      },
      {
        "duration": 5,
        "start_time": "2023-09-16T13:15:02.376Z"
      },
      {
        "duration": 6,
        "start_time": "2023-09-16T13:15:02.862Z"
      }
    ],
    "kernelspec": {
      "display_name": "Python 3 (ipykernel)",
      "language": "python",
      "name": "python3"
    },
    "language_info": {
      "codemirror_mode": {
        "name": "ipython",
        "version": 3
      },
      "file_extension": ".py",
      "mimetype": "text/x-python",
      "name": "python",
      "nbconvert_exporter": "python",
      "pygments_lexer": "ipython3",
      "version": "3.9.5"
    },
    "toc": {
      "base_numbering": 1,
      "nav_menu": {},
      "number_sections": true,
      "sideBar": true,
      "skip_h1_title": true,
      "title_cell": "Table of Contents",
      "title_sidebar": "Contents",
      "toc_cell": false,
      "toc_position": {
        "height": "calc(100% - 180px)",
        "left": "10px",
        "top": "150px",
        "width": "239.797px"
      },
      "toc_section_display": true,
      "toc_window_display": true
    },
    "colab": {
      "provenance": [],
      "toc_visible": true,
      "include_colab_link": true
    }
  },
  "nbformat": 4,
  "nbformat_minor": 0
}